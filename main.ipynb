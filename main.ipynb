{
  "nbformat": 4,
  "nbformat_minor": 0,
  "metadata": {
    "colab": {
      "name": "main.ipynb",
      "provenance": [],
      "collapsed_sections": [
        "-lB-uaPoeMLW",
        "lAWnmTs7aKf7",
        "3Qbs5AWOa7Ww"
      ],
      "toc_visible": true,
      "include_colab_link": true
    },
    "kernelspec": {
      "name": "python3",
      "display_name": "Python 3"
    },
    "accelerator": "GPU"
  },
  "cells": [
    {
      "cell_type": "markdown",
      "metadata": {
        "id": "view-in-github",
        "colab_type": "text"
      },
      "source": [
        "<a href=\"https://colab.research.google.com/github/monicafar147/unsupervised-predict-streamlit-template/blob/modelling/main.ipynb\" target=\"_parent\"><img src=\"https://colab.research.google.com/assets/colab-badge.svg\" alt=\"Open In Colab\"/></a>"
      ]
    },
    {
      "cell_type": "markdown",
      "metadata": {
        "id": "n5VmKTRAaSUB",
        "colab_type": "text"
      },
      "source": [
        "# EDSA Movie Recommendation Challenge"
      ]
    },
    {
      "cell_type": "markdown",
      "metadata": {
        "id": "NjRjQUdXLFsq",
        "colab_type": "text"
      },
      "source": [
        "This notebook was created to enter the private kaggle competition of EDSA on creating a movie recommendation predictor.\n",
        "\n",
        "In today’s technology driven world, recommender systems are socially and economically critical for ensuring that individuals can make appropriate choices surrounding the content they engage with on a daily basis.\n",
        "\n",
        "One application where this is especially true surrounds movie content recommendations; where intelligent algorithms can help viewers find great titles from tens of thousands of options.\n",
        "\n",
        "This notebook will construct a recommendation algorithm based on content and collaborative filtering in order to accurately predict how a user will rate a movie they have not yet viewed based on their historical preferences.\n",
        "\n",
        "Providing an accurate and robust solution to this challenge has immense economic potential, with users of the system being exposed to content they would like to view or purchase generating revenue and platform affinity."
      ]
    },
    {
      "cell_type": "markdown",
      "metadata": {
        "id": "JfbmtXKoeTej",
        "colab_type": "text"
      },
      "source": [
        "# Table of Contents\n",
        "\n",
        "1. Imports\n",
        "    - 1.1. Launching Comet Experiment\n",
        "    - 1.2. Importing modules\n",
        "    - 1.3. Import datasets\n",
        "2. Confirmatory Data Analysis\n",
        "    - 2.1. Data Info\n",
        "    - 2.2. Missing Values\n",
        "3. Exploratory Data Analysis\n",
        "    - 3.1 What is the highest rated movie?\n",
        "    - 3.2 Which genre has the highest release of movies?\n",
        "    - 3.3 Who is the most frequent actor?\n",
        "    - 3.4 Top directors\n",
        "    - 3.5 Popular keywords in movie data\n",
        "    - 3.6 How is the target label distributed?\n",
        "4. Modelling\n",
        "    - 4.1 Collaborative based prediction\n",
        "    - 4.2 Content based prediction \n",
        "5. Performance evaluation\n",
        "    - 5.1 Recommender comparison\n",
        "6. Comet version control"
      ]
    },
    {
      "cell_type": "markdown",
      "metadata": {
        "id": "7eGRs20waqtn",
        "colab_type": "text"
      },
      "source": [
        "# Imports"
      ]
    },
    {
      "cell_type": "markdown",
      "metadata": {
        "id": "2XQBQron13Op",
        "colab_type": "text"
      },
      "source": [
        "## Launching Comet Experiment"
      ]
    },
    {
      "cell_type": "code",
      "metadata": {
        "id": "nnZCqWpcLVl_",
        "colab_type": "code",
        "colab": {}
      },
      "source": [
        "#pip install comet_ml"
      ],
      "execution_count": 1,
      "outputs": []
    },
    {
      "cell_type": "code",
      "metadata": {
        "id": "SBdkuACt13Oq",
        "colab_type": "code",
        "colab": {}
      },
      "source": [
        "# import comet_ml in the top of your file\n",
        "#from comet_ml import Experiment\n",
        "    \n",
        "# Add the following code anywhere in your machine learning file\n",
        "#experiment = Experiment(api_key=\"cFwBSBV5CDhaL3B3LHdwF7O3M\",\n",
        "#                        project_name=\"recommender-systems\", workspace=\"jonnybegreat\")"
      ],
      "execution_count": 2,
      "outputs": []
    },
    {
      "cell_type": "markdown",
      "metadata": {
        "id": "wTOSQ0jGaxx5",
        "colab_type": "text"
      },
      "source": [
        "## Importing modules"
      ]
    },
    {
      "cell_type": "code",
      "metadata": {
        "id": "2QWlsf8Tasgq",
        "colab_type": "code",
        "colab": {
          "base_uri": "https://localhost:8080/",
          "height": 17
        },
        "outputId": "d23e7da2-50b0-48f7-cf2d-00f6232b9668"
      },
      "source": [
        "# Import essential packages\n",
        "import pandas as pd\n",
        "import numpy as np\n",
        "\n",
        "#visualising the data\n",
        "import seaborn as sns\n",
        "import matplotlib.pyplot as plt\n",
        "plt.style.use('seaborn-deep')\n",
        "import plotly as py\n",
        "import plotly.graph_objs as go\n",
        "import ipywidgets as widgets\n",
        "import datetime\n",
        "from plotly.offline import download_plotlyjs, init_notebook_mode, plot, iplot\n",
        "import plotly.figure_factory as ff\n",
        "py.offline.init_notebook_mode(connected=True)\n",
        "from math import floor\n",
        "from plotly import tools\n",
        "from plotly.graph_objs import *\n",
        "from IPython.display import display\n",
        "init_notebook_mode(connected=True)\n",
        "import missingno\n",
        "\n",
        "# Import surprise packages\n",
        "from surprise import BaselineOnly\n",
        "from surprise import Dataset\n",
        "from surprise import Reader\n",
        "from surprise.model_selection import cross_validate\n",
        "\n",
        "# Import models\n",
        "from surprise import NormalPredictor\n",
        "from surprise import KNNBasic\n",
        "from surprise import SVD\n",
        "from surprise.model_selection import GridSearchCV\n",
        "from sklearn.metrics.pairwise import cosine_similarity\n",
        "from sklearn.feature_extraction.text import TfidfVectorizer\n",
        "\n",
        "# Import utilities\n",
        "import os\n",
        "import dill as pickle\n",
        "import heapq"
      ],
      "execution_count": 1,
      "outputs": [
        {
          "output_type": "display_data",
          "data": {
            "text/html": [
              "        <script type=\"text/javascript\">\n",
              "        window.PlotlyConfig = {MathJaxConfig: 'local'};\n",
              "        if (window.MathJax) {MathJax.Hub.Config({SVG: {font: \"STIX-Web\"}});}\n",
              "        if (typeof require !== 'undefined') {\n",
              "        require.undef(\"plotly\");\n",
              "        requirejs.config({\n",
              "            paths: {\n",
              "                'plotly': ['https://cdn.plot.ly/plotly-latest.min']\n",
              "            }\n",
              "        });\n",
              "        require(['plotly'], function(Plotly) {\n",
              "            window._Plotly = Plotly;\n",
              "        });\n",
              "        }\n",
              "        </script>\n",
              "        "
            ]
          },
          "metadata": {
            "tags": []
          }
        },
        {
          "output_type": "display_data",
          "data": {
            "text/html": [
              "        <script type=\"text/javascript\">\n",
              "        window.PlotlyConfig = {MathJaxConfig: 'local'};\n",
              "        if (window.MathJax) {MathJax.Hub.Config({SVG: {font: \"STIX-Web\"}});}\n",
              "        if (typeof require !== 'undefined') {\n",
              "        require.undef(\"plotly\");\n",
              "        requirejs.config({\n",
              "            paths: {\n",
              "                'plotly': ['https://cdn.plot.ly/plotly-latest.min']\n",
              "            }\n",
              "        });\n",
              "        require(['plotly'], function(Plotly) {\n",
              "            window._Plotly = Plotly;\n",
              "        });\n",
              "        }\n",
              "        </script>\n",
              "        "
            ]
          },
          "metadata": {
            "tags": []
          }
        }
      ]
    },
    {
      "cell_type": "markdown",
      "metadata": {
        "id": "8ZT8hjega1z0",
        "colab_type": "text"
      },
      "source": [
        "## Importing the raw data"
      ]
    },
    {
      "cell_type": "markdown",
      "metadata": {
        "id": "Y_jbQsjyD0By",
        "colab_type": "text"
      },
      "source": [
        "**What information is available in the data?**\n",
        "\n",
        "The dataset consists of 9 951 829 ratings (5 star based) obtained from users using the online MovieLens movie recommendation service. \n",
        "\n",
        "The MovieLens dataset has long been used by industry and academic researchers to improve the performance of explicitly-based recommender systems.\n",
        "\n",
        "- genome_scores.csv - a score mapping the strength between movies and tag-related properties\n",
        "- genome_tags.csv - user assigned tags for genome-related scores\n",
        "imdb_data.csv - Additional movie metadata scraped from IMDB using the links.csv file.\n",
        "- links.csv - File providing a mapping between a MovieLens ID and associated IMDB and TMDB IDs.\n",
        "- tags.csv - User assigned for the movies within the dataset.\n",
        "- test.csv - The test split of the dataset. Contains user and movie IDs with no rating data.\n",
        "- train.csv - The training split of the dataset. Contains user and movie IDs with associated rating data."
      ]
    },
    {
      "cell_type": "code",
      "metadata": {
        "id": "5JoU3UNKZJb9",
        "colab_type": "code",
        "colab": {
          "base_uri": "https://localhost:8080/",
          "height": 33
        },
        "outputId": "daec2286-d1da-4a78-fe6b-7783835148c6"
      },
      "source": [
        "imdb = pd.read_csv('Documents/movies/imdb_data.csv')\n",
        "train = pd.read_csv('Documents/movies/train.csv')\n",
        "movies = pd.read_csv('Documents/movies/movies.csv')\n",
        "g_tags = pd.read_csv('Documents/movies/genome_tags.csv')\n",
        "g_scores = pd.read_csv('Documents/movies/genome_scores.csv')\n",
        "tags = pd.read_csv('Documents/movies/tags.csv')\n",
        "links = pd.read_csv('Documents/movies/links.csv')\n",
        "print('Data Successfully imported!')"
      ],
      "execution_count": 2,
      "outputs": [
        {
          "output_type": "stream",
          "text": [
            "Data Successfully imported!\n"
          ],
          "name": "stdout"
        }
      ]
    },
    {
      "cell_type": "markdown",
      "metadata": {
        "id": "IdLdwE40eMLQ",
        "colab_type": "text"
      },
      "source": [
        "Merge the movies and imdb datasets into one dataframe and drop the 'timestamp' column as it plays no role in the upcoming analysis."
      ]
    },
    {
      "cell_type": "code",
      "metadata": {
        "trusted": true,
        "id": "7XbXTgg3eMLR",
        "colab_type": "code",
        "colab": {
          "base_uri": "https://localhost:8080/",
          "height": 33
        },
        "outputId": "9a09c497-d992-47a2-b466-e3704ed41d04"
      },
      "source": [
        "#genome_df = g_scores.merge(g_tags, on='tagId')\n",
        "data = train.drop('timestamp', axis=1).merge(movies.\n",
        "                                             merge(imdb, on ='movieId'),\n",
        "                                             on='movieId')\n",
        "print('Merges Successfull!')"
      ],
      "execution_count": 3,
      "outputs": [
        {
          "output_type": "stream",
          "text": [
            "Merges Successfull!\n"
          ],
          "name": "stdout"
        }
      ]
    },
    {
      "cell_type": "code",
      "metadata": {
        "trusted": true,
        "id": "Yql2Q1aEeMLT",
        "colab_type": "code",
        "colab": {
          "base_uri": "https://localhost:8080/",
          "height": 191
        },
        "outputId": "85b847b3-5f3c-42d0-f8e6-39646c532c2c"
      },
      "source": [
        "data.head()"
      ],
      "execution_count": 6,
      "outputs": [
        {
          "output_type": "execute_result",
          "data": {
            "text/plain": [
              "   userId  movieId  rating             title                       genres  \\\n",
              "0    5163    57669     4.0  In Bruges (2008)  Comedy|Crime|Drama|Thriller   \n",
              "1   87388    57669     3.5  In Bruges (2008)  Comedy|Crime|Drama|Thriller   \n",
              "2  137050    57669     4.0  In Bruges (2008)  Comedy|Crime|Drama|Thriller   \n",
              "3  120490    57669     4.5  In Bruges (2008)  Comedy|Crime|Drama|Thriller   \n",
              "4   50616    57669     4.5  In Bruges (2008)  Comedy|Crime|Drama|Thriller   \n",
              "\n",
              "                                          title_cast         director  \\\n",
              "0  Elizabeth Berrington|Rudy Blomme|Olivier Bonjo...  Martin McDonagh   \n",
              "1  Elizabeth Berrington|Rudy Blomme|Olivier Bonjo...  Martin McDonagh   \n",
              "2  Elizabeth Berrington|Rudy Blomme|Olivier Bonjo...  Martin McDonagh   \n",
              "3  Elizabeth Berrington|Rudy Blomme|Olivier Bonjo...  Martin McDonagh   \n",
              "4  Elizabeth Berrington|Rudy Blomme|Olivier Bonjo...  Martin McDonagh   \n",
              "\n",
              "   runtime       budget              plot_keywords  \n",
              "0    107.0  $15,000,000  dwarf|bruges|irish|hitman  \n",
              "1    107.0  $15,000,000  dwarf|bruges|irish|hitman  \n",
              "2    107.0  $15,000,000  dwarf|bruges|irish|hitman  \n",
              "3    107.0  $15,000,000  dwarf|bruges|irish|hitman  \n",
              "4    107.0  $15,000,000  dwarf|bruges|irish|hitman  "
            ],
            "text/html": [
              "<div>\n",
              "<style scoped>\n",
              "    .dataframe tbody tr th:only-of-type {\n",
              "        vertical-align: middle;\n",
              "    }\n",
              "\n",
              "    .dataframe tbody tr th {\n",
              "        vertical-align: top;\n",
              "    }\n",
              "\n",
              "    .dataframe thead th {\n",
              "        text-align: right;\n",
              "    }\n",
              "</style>\n",
              "<table border=\"1\" class=\"dataframe\">\n",
              "  <thead>\n",
              "    <tr style=\"text-align: right;\">\n",
              "      <th></th>\n",
              "      <th>userId</th>\n",
              "      <th>movieId</th>\n",
              "      <th>rating</th>\n",
              "      <th>title</th>\n",
              "      <th>genres</th>\n",
              "      <th>title_cast</th>\n",
              "      <th>director</th>\n",
              "      <th>runtime</th>\n",
              "      <th>budget</th>\n",
              "      <th>plot_keywords</th>\n",
              "    </tr>\n",
              "  </thead>\n",
              "  <tbody>\n",
              "    <tr>\n",
              "      <th>0</th>\n",
              "      <td>5163</td>\n",
              "      <td>57669</td>\n",
              "      <td>4.0</td>\n",
              "      <td>In Bruges (2008)</td>\n",
              "      <td>Comedy|Crime|Drama|Thriller</td>\n",
              "      <td>Elizabeth Berrington|Rudy Blomme|Olivier Bonjo...</td>\n",
              "      <td>Martin McDonagh</td>\n",
              "      <td>107.0</td>\n",
              "      <td>$15,000,000</td>\n",
              "      <td>dwarf|bruges|irish|hitman</td>\n",
              "    </tr>\n",
              "    <tr>\n",
              "      <th>1</th>\n",
              "      <td>87388</td>\n",
              "      <td>57669</td>\n",
              "      <td>3.5</td>\n",
              "      <td>In Bruges (2008)</td>\n",
              "      <td>Comedy|Crime|Drama|Thriller</td>\n",
              "      <td>Elizabeth Berrington|Rudy Blomme|Olivier Bonjo...</td>\n",
              "      <td>Martin McDonagh</td>\n",
              "      <td>107.0</td>\n",
              "      <td>$15,000,000</td>\n",
              "      <td>dwarf|bruges|irish|hitman</td>\n",
              "    </tr>\n",
              "    <tr>\n",
              "      <th>2</th>\n",
              "      <td>137050</td>\n",
              "      <td>57669</td>\n",
              "      <td>4.0</td>\n",
              "      <td>In Bruges (2008)</td>\n",
              "      <td>Comedy|Crime|Drama|Thriller</td>\n",
              "      <td>Elizabeth Berrington|Rudy Blomme|Olivier Bonjo...</td>\n",
              "      <td>Martin McDonagh</td>\n",
              "      <td>107.0</td>\n",
              "      <td>$15,000,000</td>\n",
              "      <td>dwarf|bruges|irish|hitman</td>\n",
              "    </tr>\n",
              "    <tr>\n",
              "      <th>3</th>\n",
              "      <td>120490</td>\n",
              "      <td>57669</td>\n",
              "      <td>4.5</td>\n",
              "      <td>In Bruges (2008)</td>\n",
              "      <td>Comedy|Crime|Drama|Thriller</td>\n",
              "      <td>Elizabeth Berrington|Rudy Blomme|Olivier Bonjo...</td>\n",
              "      <td>Martin McDonagh</td>\n",
              "      <td>107.0</td>\n",
              "      <td>$15,000,000</td>\n",
              "      <td>dwarf|bruges|irish|hitman</td>\n",
              "    </tr>\n",
              "    <tr>\n",
              "      <th>4</th>\n",
              "      <td>50616</td>\n",
              "      <td>57669</td>\n",
              "      <td>4.5</td>\n",
              "      <td>In Bruges (2008)</td>\n",
              "      <td>Comedy|Crime|Drama|Thriller</td>\n",
              "      <td>Elizabeth Berrington|Rudy Blomme|Olivier Bonjo...</td>\n",
              "      <td>Martin McDonagh</td>\n",
              "      <td>107.0</td>\n",
              "      <td>$15,000,000</td>\n",
              "      <td>dwarf|bruges|irish|hitman</td>\n",
              "    </tr>\n",
              "  </tbody>\n",
              "</table>\n",
              "</div>"
            ]
          },
          "metadata": {
            "tags": []
          },
          "execution_count": 6
        }
      ]
    },
    {
      "cell_type": "markdown",
      "metadata": {
        "id": "WrmUaCUReMLW",
        "colab_type": "text"
      },
      "source": [
        "# Confirmatory Data Analysis\n",
        "Confirm that everything is as should be.\n",
        "  - Data Info\n",
        "    - The first few rows of the data\n",
        "    - The shape of the dataframe, this includes the number of columns and rows\n",
        "    - The names of the columns in the dataframe and their respective data types\n",
        "    - The statistical summary of the numerical columns\n",
        "  - Null values : number of cells with NaN values\n",
        "   "
      ]
    },
    {
      "cell_type": "markdown",
      "metadata": {
        "id": "-lB-uaPoeMLW",
        "colab_type": "text"
      },
      "source": [
        "## Data Info"
      ]
    },
    {
      "cell_type": "code",
      "metadata": {
        "trusted": true,
        "id": "MYR8-CBaeMLZ",
        "colab_type": "code",
        "colab": {
          "base_uri": "https://localhost:8080/",
          "height": 33
        },
        "outputId": "09c2b1a2-558a-4431-f3d6-a384b643d27c"
      },
      "source": [
        "data.shape"
      ],
      "execution_count": 7,
      "outputs": [
        {
          "output_type": "execute_result",
          "data": {
            "text/plain": [
              "(9633031, 10)"
            ]
          },
          "metadata": {
            "tags": []
          },
          "execution_count": 7
        }
      ]
    },
    {
      "cell_type": "code",
      "metadata": {
        "trusted": true,
        "id": "HNULjm_TeMLb",
        "colab_type": "code",
        "colab": {
          "base_uri": "https://localhost:8080/",
          "height": 293
        },
        "outputId": "87d105b5-fc09-458c-ae36-06b0f7e00166"
      },
      "source": [
        "data.info()"
      ],
      "execution_count": 8,
      "outputs": [
        {
          "output_type": "stream",
          "text": [
            "<class 'pandas.core.frame.DataFrame'>\n",
            "Int64Index: 9633031 entries, 0 to 9633030\n",
            "Data columns (total 10 columns):\n",
            " #   Column         Dtype  \n",
            "---  ------         -----  \n",
            " 0   userId         int64  \n",
            " 1   movieId        int64  \n",
            " 2   rating         float64\n",
            " 3   title          object \n",
            " 4   genres         object \n",
            " 5   title_cast     object \n",
            " 6   director       object \n",
            " 7   runtime        float64\n",
            " 8   budget         object \n",
            " 9   plot_keywords  object \n",
            "dtypes: float64(2), int64(2), object(6)\n",
            "memory usage: 808.4+ MB\n"
          ],
          "name": "stdout"
        }
      ]
    },
    {
      "cell_type": "code",
      "metadata": {
        "trusted": true,
        "id": "SULUTqajeMLd",
        "colab_type": "code",
        "colab": {
          "base_uri": "https://localhost:8080/",
          "height": 277
        },
        "outputId": "81db974d-9e14-4961-9f1a-b13df8cffe7d"
      },
      "source": [
        "pd.options.display.float_format = \"{:.2f}\".format\n",
        "data[['rating','runtime']].describe()"
      ],
      "execution_count": 9,
      "outputs": [
        {
          "output_type": "execute_result",
          "data": {
            "text/plain": [
              "          rating    runtime\n",
              "count 9633031.00 6979973.00\n",
              "mean        3.53     116.10\n",
              "std         1.06      24.09\n",
              "min         0.50       1.00\n",
              "25%         3.00     100.00\n",
              "50%         3.50     113.00\n",
              "75%         4.00     128.00\n",
              "max         5.00     877.00"
            ],
            "text/html": [
              "<div>\n",
              "<style scoped>\n",
              "    .dataframe tbody tr th:only-of-type {\n",
              "        vertical-align: middle;\n",
              "    }\n",
              "\n",
              "    .dataframe tbody tr th {\n",
              "        vertical-align: top;\n",
              "    }\n",
              "\n",
              "    .dataframe thead th {\n",
              "        text-align: right;\n",
              "    }\n",
              "</style>\n",
              "<table border=\"1\" class=\"dataframe\">\n",
              "  <thead>\n",
              "    <tr style=\"text-align: right;\">\n",
              "      <th></th>\n",
              "      <th>rating</th>\n",
              "      <th>runtime</th>\n",
              "    </tr>\n",
              "  </thead>\n",
              "  <tbody>\n",
              "    <tr>\n",
              "      <th>count</th>\n",
              "      <td>9633031.00</td>\n",
              "      <td>6979973.00</td>\n",
              "    </tr>\n",
              "    <tr>\n",
              "      <th>mean</th>\n",
              "      <td>3.53</td>\n",
              "      <td>116.10</td>\n",
              "    </tr>\n",
              "    <tr>\n",
              "      <th>std</th>\n",
              "      <td>1.06</td>\n",
              "      <td>24.09</td>\n",
              "    </tr>\n",
              "    <tr>\n",
              "      <th>min</th>\n",
              "      <td>0.50</td>\n",
              "      <td>1.00</td>\n",
              "    </tr>\n",
              "    <tr>\n",
              "      <th>25%</th>\n",
              "      <td>3.00</td>\n",
              "      <td>100.00</td>\n",
              "    </tr>\n",
              "    <tr>\n",
              "      <th>50%</th>\n",
              "      <td>3.50</td>\n",
              "      <td>113.00</td>\n",
              "    </tr>\n",
              "    <tr>\n",
              "      <th>75%</th>\n",
              "      <td>4.00</td>\n",
              "      <td>128.00</td>\n",
              "    </tr>\n",
              "    <tr>\n",
              "      <th>max</th>\n",
              "      <td>5.00</td>\n",
              "      <td>877.00</td>\n",
              "    </tr>\n",
              "  </tbody>\n",
              "</table>\n",
              "</div>"
            ]
          },
          "metadata": {
            "tags": []
          },
          "execution_count": 9
        }
      ]
    },
    {
      "cell_type": "markdown",
      "metadata": {
        "id": "dzfHuDoLeMLf",
        "colab_type": "text"
      },
      "source": [
        "## Missing Values\n",
        "Now, let's see if we have any missing values in our dataset. "
      ]
    },
    {
      "cell_type": "code",
      "metadata": {
        "trusted": true,
        "id": "IlCYeyhieMLf",
        "colab_type": "code",
        "colab": {
          "base_uri": "https://localhost:8080/",
          "height": 587
        },
        "outputId": "c512a1d1-2e19-4f59-bcb0-110f5294d971"
      },
      "source": [
        "missingno.matrix(data, figsize=(15,8))\n",
        "plt.xlabel('Features', fontsize=18)\n",
        "plt.ylabel('Null Occurences', fontsize=16)\n",
        "plt.show()"
      ],
      "execution_count": 10,
      "outputs": [
        {
          "output_type": "display_data",
          "data": {
            "text/plain": [
              "<Figure size 1080x576 with 2 Axes>"
            ],
            "image/png": "[encoded data removed]"
          },
          "metadata": {
            "tags": [],
            "needs_background": "light"
          }
        }
      ]
    },
    {
      "cell_type": "markdown",
      "metadata": {
        "id": "Y-XUpCWeeMLh",
        "colab_type": "text"
      },
      "source": [
        "As we can see from the visual above, the ***budget***, ***runtime***, ***title_cast*** and **director** columns have missing values. But this does not give any information on how many rows in these columns have missing values. We'll use the function defined below to show the number of missing values in each of the identified columns and what percentage of the data is missing."
      ]
    },
    {
      "cell_type": "code",
      "metadata": {
        "trusted": true,
        "id": "O3Jue0RSeMLi",
        "colab_type": "code",
        "colab": {}
      },
      "source": [
        "def missing_values_table(df):\n",
        "  '''\n",
        "  Identify and show the missing values in a data set.\n",
        "  params: df (dataframe)\n",
        "  returns: renamed_columns (dataframe)\n",
        "  '''\n",
        "\n",
        "  mis_val = df.isnull().sum()\n",
        "    \n",
        "  mis_val_percent = 100 * df.isnull().sum() / len(df)\n",
        "  \n",
        "  mis_val_table = pd.concat([mis_val, mis_val_percent], axis=1)\n",
        "  \n",
        "  renamed_columns = mis_val_table.rename(columns = \n",
        "                                         {0 : 'Missing Values',\n",
        "                                          1: '% of Total Values'})\n",
        "  \n",
        "  renamed_columns = renamed_columns[renamed_columns.iloc[:,1] != 0]\n",
        "\n",
        "  renamed_columns = renamed_columns.sort_values('% of Total Values',ascending=False)\n",
        "  \n",
        "  print (\"Your selected dataframe has \" + str(df.shape[1]) + \" columns.\\nThere are \" \n",
        "         + str(renamed_columns.shape[0]) + \" columns that have missing values.\")\n",
        "  \n",
        "  # Return the dataframe with missing information\n",
        "  return renamed_columns\n"
      ],
      "execution_count": 11,
      "outputs": []
    },
    {
      "cell_type": "code",
      "metadata": {
        "trusted": true,
        "id": "JFMvLWpgeMLk",
        "colab_type": "code",
        "colab": {
          "base_uri": "https://localhost:8080/",
          "height": 223
        },
        "outputId": "5c487c07-2a8e-4e24-9f27-0bd66616f344"
      },
      "source": [
        "missing_values_table(data)"
      ],
      "execution_count": 12,
      "outputs": [
        {
          "output_type": "stream",
          "text": [
            "Your selected dataframe has 10 columns.\n",
            "There are 5 columns that have missing values.\n"
          ],
          "name": "stdout"
        },
        {
          "output_type": "execute_result",
          "data": {
            "text/plain": [
              "               Missing Values  % of Total Values\n",
              "budget                3152276              32.72\n",
              "runtime               2653058              27.54\n",
              "plot_keywords         2610043              27.09\n",
              "title_cast            2604407              27.04\n",
              "director              2602688              27.02"
            ],
            "text/html": [
              "<div>\n",
              "<style scoped>\n",
              "    .dataframe tbody tr th:only-of-type {\n",
              "        vertical-align: middle;\n",
              "    }\n",
              "\n",
              "    .dataframe tbody tr th {\n",
              "        vertical-align: top;\n",
              "    }\n",
              "\n",
              "    .dataframe thead th {\n",
              "        text-align: right;\n",
              "    }\n",
              "</style>\n",
              "<table border=\"1\" class=\"dataframe\">\n",
              "  <thead>\n",
              "    <tr style=\"text-align: right;\">\n",
              "      <th></th>\n",
              "      <th>Missing Values</th>\n",
              "      <th>% of Total Values</th>\n",
              "    </tr>\n",
              "  </thead>\n",
              "  <tbody>\n",
              "    <tr>\n",
              "      <th>budget</th>\n",
              "      <td>3152276</td>\n",
              "      <td>32.72</td>\n",
              "    </tr>\n",
              "    <tr>\n",
              "      <th>runtime</th>\n",
              "      <td>2653058</td>\n",
              "      <td>27.54</td>\n",
              "    </tr>\n",
              "    <tr>\n",
              "      <th>plot_keywords</th>\n",
              "      <td>2610043</td>\n",
              "      <td>27.09</td>\n",
              "    </tr>\n",
              "    <tr>\n",
              "      <th>title_cast</th>\n",
              "      <td>2604407</td>\n",
              "      <td>27.04</td>\n",
              "    </tr>\n",
              "    <tr>\n",
              "      <th>director</th>\n",
              "      <td>2602688</td>\n",
              "      <td>27.02</td>\n",
              "    </tr>\n",
              "  </tbody>\n",
              "</table>\n",
              "</div>"
            ]
          },
          "metadata": {
            "tags": []
          },
          "execution_count": 12
        }
      ]
    },
    {
      "cell_type": "markdown",
      "metadata": {
        "id": "L6OvYED1eMLm",
        "colab_type": "text"
      },
      "source": [
        "The number of missing values in these columns is not so high that it could affect our analysis of the data. The only column we will be using that will be affected is the ***runtime*** column. What we will do is  impute all the missing values in this column with the mean of the data"
      ]
    },
    {
      "cell_type": "code",
      "metadata": {
        "trusted": true,
        "id": "nosVI_O_eMLn",
        "colab_type": "code",
        "colab": {}
      },
      "source": [
        "data['runtime'].fillna(data['runtime'].mean(), inplace=True)"
      ],
      "execution_count": 4,
      "outputs": []
    },
    {
      "cell_type": "markdown",
      "metadata": {
        "id": "5n5vlP7YeMLp",
        "colab_type": "text"
      },
      "source": [
        "As we can see below, the ***runtime*** column does not appear to be on the list of columns with missing values."
      ]
    },
    {
      "cell_type": "code",
      "metadata": {
        "trusted": true,
        "id": "UmjlBggpeMLq",
        "colab_type": "code",
        "colab": {
          "base_uri": "https://localhost:8080/",
          "height": 195
        },
        "outputId": "83b60864-8ab1-4ede-e9a4-de1cb5589bb9"
      },
      "source": [
        "missing_values_table(data)"
      ],
      "execution_count": 14,
      "outputs": [
        {
          "output_type": "stream",
          "text": [
            "Your selected dataframe has 10 columns.\n",
            "There are 4 columns that have missing values.\n"
          ],
          "name": "stdout"
        },
        {
          "output_type": "execute_result",
          "data": {
            "text/plain": [
              "               Missing Values  % of Total Values\n",
              "budget                3152276              32.72\n",
              "plot_keywords         2610043              27.09\n",
              "title_cast            2604407              27.04\n",
              "director              2602688              27.02"
            ],
            "text/html": [
              "<div>\n",
              "<style scoped>\n",
              "    .dataframe tbody tr th:only-of-type {\n",
              "        vertical-align: middle;\n",
              "    }\n",
              "\n",
              "    .dataframe tbody tr th {\n",
              "        vertical-align: top;\n",
              "    }\n",
              "\n",
              "    .dataframe thead th {\n",
              "        text-align: right;\n",
              "    }\n",
              "</style>\n",
              "<table border=\"1\" class=\"dataframe\">\n",
              "  <thead>\n",
              "    <tr style=\"text-align: right;\">\n",
              "      <th></th>\n",
              "      <th>Missing Values</th>\n",
              "      <th>% of Total Values</th>\n",
              "    </tr>\n",
              "  </thead>\n",
              "  <tbody>\n",
              "    <tr>\n",
              "      <th>budget</th>\n",
              "      <td>3152276</td>\n",
              "      <td>32.72</td>\n",
              "    </tr>\n",
              "    <tr>\n",
              "      <th>plot_keywords</th>\n",
              "      <td>2610043</td>\n",
              "      <td>27.09</td>\n",
              "    </tr>\n",
              "    <tr>\n",
              "      <th>title_cast</th>\n",
              "      <td>2604407</td>\n",
              "      <td>27.04</td>\n",
              "    </tr>\n",
              "    <tr>\n",
              "      <th>director</th>\n",
              "      <td>2602688</td>\n",
              "      <td>27.02</td>\n",
              "    </tr>\n",
              "  </tbody>\n",
              "</table>\n",
              "</div>"
            ]
          },
          "metadata": {
            "tags": []
          },
          "execution_count": 14
        }
      ]
    },
    {
      "cell_type": "markdown",
      "metadata": {
        "id": "Yi8Rj2X9dHG8",
        "colab_type": "text"
      },
      "source": [
        "#EDA\n",
        "In this section we look at how our features interact to and relate with each other. The features we will be using in our analysis are:\n",
        "\n",
        "- Title\n",
        "- Title Cast\n",
        "- Runtime\n",
        "- Director\n",
        "- Genres\n",
        "- Year, which we will create\n",
        "- Plot Keywords"
      ]
    },
    {
      "cell_type": "markdown",
      "metadata": {
        "id": "ciMKoNTZeMLw",
        "colab_type": "text"
      },
      "source": [
        "## What is the most rated movie?"
      ]
    },
    {
      "cell_type": "code",
      "metadata": {
        "trusted": true,
        "id": "G6UenkCDeMLw",
        "colab_type": "code",
        "colab": {
          "base_uri": "https://localhost:8080/",
          "height": 391
        },
        "outputId": "e6d5235c-ee63-455e-e676-1d579d5019b4"
      },
      "source": [
        "# check if there are multiple movies with the same title, and if so, determine if they are actually duplicates\n",
        "result = data[data['title'].isin(data[data.duplicated(['title'])]['title'])]\n",
        "result.sort_values('title')"
      ],
      "execution_count": 5,
      "outputs": [
        {
          "output_type": "execute_result",
          "data": {
            "text/plain": [
              "         userId  movieId  rating                             title   genres  \\\n",
              "9532427  156067    51372     0.5  \"Great Performances\" Cats (1998)  Musical   \n",
              "9532422   28522    51372     2.5  \"Great Performances\" Cats (1998)  Musical   \n",
              "9532423   22836    51372     5.0  \"Great Performances\" Cats (1998)  Musical   \n",
              "9532424   39162    51372     3.5  \"Great Performances\" Cats (1998)  Musical   \n",
              "9532425   47571    51372     0.5  \"Great Performances\" Cats (1998)  Musical   \n",
              "...         ...      ...     ...                               ...      ...   \n",
              "9609333   72315   130640     2.0                       貞子3D (2012)   Horror   \n",
              "9609332   71897   130640     4.0                       貞子3D (2012)   Horror   \n",
              "9609331   71265   130640     4.0                       貞子3D (2012)   Horror   \n",
              "9609330   73268   130640     1.0                       貞子3D (2012)   Horror   \n",
              "9609329   52120   130640     1.0                       貞子3D (2012)   Horror   \n",
              "\n",
              "                                                title_cast     director  \\\n",
              "9532427  Elaine Paige|John Mills|Ken Page|Rosemarie For...   T.S. Eliot   \n",
              "9532422  Elaine Paige|John Mills|Ken Page|Rosemarie For...   T.S. Eliot   \n",
              "9532423  Elaine Paige|John Mills|Ken Page|Rosemarie For...   T.S. Eliot   \n",
              "9532424  Elaine Paige|John Mills|Ken Page|Rosemarie For...   T.S. Eliot   \n",
              "9532425  Elaine Paige|John Mills|Ken Page|Rosemarie For...   T.S. Eliot   \n",
              "...                                                    ...          ...   \n",
              "9609333  Satomi Ishihara|Kôji Seto|Ryôsei Tayama|Tsutom...  Kôji Suzuki   \n",
              "9609332  Satomi Ishihara|Kôji Seto|Ryôsei Tayama|Tsutom...  Kôji Suzuki   \n",
              "9609331  Satomi Ishihara|Kôji Seto|Ryôsei Tayama|Tsutom...  Kôji Suzuki   \n",
              "9609330  Satomi Ishihara|Kôji Seto|Ryôsei Tayama|Tsutom...  Kôji Suzuki   \n",
              "9609329  Satomi Ishihara|Kôji Seto|Ryôsei Tayama|Tsutom...  Kôji Suzuki   \n",
              "\n",
              "         runtime budget                                      plot_keywords  \n",
              "9532427    120.0    NaN                   ballet|aging|kidnapping|magician  \n",
              "9532422    120.0    NaN                   ballet|aging|kidnapping|magician  \n",
              "9532423    120.0    NaN                   ballet|aging|kidnapping|magician  \n",
              "9532424    120.0    NaN                   ballet|aging|kidnapping|magician  \n",
              "9532425    120.0    NaN                   ballet|aging|kidnapping|magician  \n",
              "...          ...    ...                                                ...  \n",
              "9609333     96.0    NaN  entering tv screen|screaming woman|screaming i...  \n",
              "9609332     96.0    NaN  entering tv screen|screaming woman|screaming i...  \n",
              "9609331     96.0    NaN  entering tv screen|screaming woman|screaming i...  \n",
              "9609330     96.0    NaN  entering tv screen|screaming woman|screaming i...  \n",
              "9609329     96.0    NaN  entering tv screen|screaming woman|screaming i...  \n",
              "\n",
              "[9631134 rows x 10 columns]"
            ],
            "text/html": [
              "<div>\n",
              "<style scoped>\n",
              "    .dataframe tbody tr th:only-of-type {\n",
              "        vertical-align: middle;\n",
              "    }\n",
              "\n",
              "    .dataframe tbody tr th {\n",
              "        vertical-align: top;\n",
              "    }\n",
              "\n",
              "    .dataframe thead th {\n",
              "        text-align: right;\n",
              "    }\n",
              "</style>\n",
              "<table border=\"1\" class=\"dataframe\">\n",
              "  <thead>\n",
              "    <tr style=\"text-align: right;\">\n",
              "      <th></th>\n",
              "      <th>userId</th>\n",
              "      <th>movieId</th>\n",
              "      <th>rating</th>\n",
              "      <th>title</th>\n",
              "      <th>genres</th>\n",
              "      <th>title_cast</th>\n",
              "      <th>director</th>\n",
              "      <th>runtime</th>\n",
              "      <th>budget</th>\n",
              "      <th>plot_keywords</th>\n",
              "    </tr>\n",
              "  </thead>\n",
              "  <tbody>\n",
              "    <tr>\n",
              "      <th>9532427</th>\n",
              "      <td>156067</td>\n",
              "      <td>51372</td>\n",
              "      <td>0.5</td>\n",
              "      <td>\"Great Performances\" Cats (1998)</td>\n",
              "      <td>Musical</td>\n",
              "      <td>Elaine Paige|John Mills|Ken Page|Rosemarie For...</td>\n",
              "      <td>T.S. Eliot</td>\n",
              "      <td>120.0</td>\n",
              "      <td>NaN</td>\n",
              "      <td>ballet|aging|kidnapping|magician</td>\n",
              "    </tr>\n",
              "    <tr>\n",
              "      <th>9532422</th>\n",
              "      <td>28522</td>\n",
              "      <td>51372</td>\n",
              "      <td>2.5</td>\n",
              "      <td>\"Great Performances\" Cats (1998)</td>\n",
              "      <td>Musical</td>\n",
              "      <td>Elaine Paige|John Mills|Ken Page|Rosemarie For...</td>\n",
              "      <td>T.S. Eliot</td>\n",
              "      <td>120.0</td>\n",
              "      <td>NaN</td>\n",
              "      <td>ballet|aging|kidnapping|magician</td>\n",
              "    </tr>\n",
              "    <tr>\n",
              "      <th>9532423</th>\n",
              "      <td>22836</td>\n",
              "      <td>51372</td>\n",
              "      <td>5.0</td>\n",
              "      <td>\"Great Performances\" Cats (1998)</td>\n",
              "      <td>Musical</td>\n",
              "      <td>Elaine Paige|John Mills|Ken Page|Rosemarie For...</td>\n",
              "      <td>T.S. Eliot</td>\n",
              "      <td>120.0</td>\n",
              "      <td>NaN</td>\n",
              "      <td>ballet|aging|kidnapping|magician</td>\n",
              "    </tr>\n",
              "    <tr>\n",
              "      <th>9532424</th>\n",
              "      <td>39162</td>\n",
              "      <td>51372</td>\n",
              "      <td>3.5</td>\n",
              "      <td>\"Great Performances\" Cats (1998)</td>\n",
              "      <td>Musical</td>\n",
              "      <td>Elaine Paige|John Mills|Ken Page|Rosemarie For...</td>\n",
              "      <td>T.S. Eliot</td>\n",
              "      <td>120.0</td>\n",
              "      <td>NaN</td>\n",
              "      <td>ballet|aging|kidnapping|magician</td>\n",
              "    </tr>\n",
              "    <tr>\n",
              "      <th>9532425</th>\n",
              "      <td>47571</td>\n",
              "      <td>51372</td>\n",
              "      <td>0.5</td>\n",
              "      <td>\"Great Performances\" Cats (1998)</td>\n",
              "      <td>Musical</td>\n",
              "      <td>Elaine Paige|John Mills|Ken Page|Rosemarie For...</td>\n",
              "      <td>T.S. Eliot</td>\n",
              "      <td>120.0</td>\n",
              "      <td>NaN</td>\n",
              "      <td>ballet|aging|kidnapping|magician</td>\n",
              "    </tr>\n",
              "    <tr>\n",
              "      <th>...</th>\n",
              "      <td>...</td>\n",
              "      <td>...</td>\n",
              "      <td>...</td>\n",
              "      <td>...</td>\n",
              "      <td>...</td>\n",
              "      <td>...</td>\n",
              "      <td>...</td>\n",
              "      <td>...</td>\n",
              "      <td>...</td>\n",
              "      <td>...</td>\n",
              "    </tr>\n",
              "    <tr>\n",
              "      <th>9609333</th>\n",
              "      <td>72315</td>\n",
              "      <td>130640</td>\n",
              "      <td>2.0</td>\n",
              "      <td>貞子3D (2012)</td>\n",
              "      <td>Horror</td>\n",
              "      <td>Satomi Ishihara|Kôji Seto|Ryôsei Tayama|Tsutom...</td>\n",
              "      <td>Kôji Suzuki</td>\n",
              "      <td>96.0</td>\n",
              "      <td>NaN</td>\n",
              "      <td>entering tv screen|screaming woman|screaming i...</td>\n",
              "    </tr>\n",
              "    <tr>\n",
              "      <th>9609332</th>\n",
              "      <td>71897</td>\n",
              "      <td>130640</td>\n",
              "      <td>4.0</td>\n",
              "      <td>貞子3D (2012)</td>\n",
              "      <td>Horror</td>\n",
              "      <td>Satomi Ishihara|Kôji Seto|Ryôsei Tayama|Tsutom...</td>\n",
              "      <td>Kôji Suzuki</td>\n",
              "      <td>96.0</td>\n",
              "      <td>NaN</td>\n",
              "      <td>entering tv screen|screaming woman|screaming i...</td>\n",
              "    </tr>\n",
              "    <tr>\n",
              "      <th>9609331</th>\n",
              "      <td>71265</td>\n",
              "      <td>130640</td>\n",
              "      <td>4.0</td>\n",
              "      <td>貞子3D (2012)</td>\n",
              "      <td>Horror</td>\n",
              "      <td>Satomi Ishihara|Kôji Seto|Ryôsei Tayama|Tsutom...</td>\n",
              "      <td>Kôji Suzuki</td>\n",
              "      <td>96.0</td>\n",
              "      <td>NaN</td>\n",
              "      <td>entering tv screen|screaming woman|screaming i...</td>\n",
              "    </tr>\n",
              "    <tr>\n",
              "      <th>9609330</th>\n",
              "      <td>73268</td>\n",
              "      <td>130640</td>\n",
              "      <td>1.0</td>\n",
              "      <td>貞子3D (2012)</td>\n",
              "      <td>Horror</td>\n",
              "      <td>Satomi Ishihara|Kôji Seto|Ryôsei Tayama|Tsutom...</td>\n",
              "      <td>Kôji Suzuki</td>\n",
              "      <td>96.0</td>\n",
              "      <td>NaN</td>\n",
              "      <td>entering tv screen|screaming woman|screaming i...</td>\n",
              "    </tr>\n",
              "    <tr>\n",
              "      <th>9609329</th>\n",
              "      <td>52120</td>\n",
              "      <td>130640</td>\n",
              "      <td>1.0</td>\n",
              "      <td>貞子3D (2012)</td>\n",
              "      <td>Horror</td>\n",
              "      <td>Satomi Ishihara|Kôji Seto|Ryôsei Tayama|Tsutom...</td>\n",
              "      <td>Kôji Suzuki</td>\n",
              "      <td>96.0</td>\n",
              "      <td>NaN</td>\n",
              "      <td>entering tv screen|screaming woman|screaming i...</td>\n",
              "    </tr>\n",
              "  </tbody>\n",
              "</table>\n",
              "<p>9631134 rows × 10 columns</p>\n",
              "</div>"
            ]
          },
          "metadata": {
            "tags": []
          },
          "execution_count": 5
        }
      ]
    },
    {
      "cell_type": "code",
      "metadata": {
        "trusted": true,
        "id": "QUawnkpUeMLy",
        "colab_type": "code",
        "colab": {}
      },
      "source": [
        "# Most rated titles\n",
        "most_rated = pd.DataFrame(result.groupby('title')['rating']\n",
        "                          .count()\n",
        "                          .sort_values(ascending=False)).reset_index()"
      ],
      "execution_count": 6,
      "outputs": []
    },
    {
      "cell_type": "code",
      "metadata": {
        "trusted": true,
        "id": "ZCPqSBHueML0",
        "colab_type": "code",
        "colab": {
          "base_uri": "https://localhost:8080/",
          "height": 191
        },
        "outputId": "f7c5c872-fb22-4d80-dd75-10746c7414a2"
      },
      "source": [
        "most_rated = most_rated.rename(columns={\"rating\": \"num_of_ratings\"})\n",
        "most_rated.reindex()\n",
        "most_rated.head()"
      ],
      "execution_count": 7,
      "outputs": [
        {
          "output_type": "execute_result",
          "data": {
            "text/plain": [
              "                              title  num_of_ratings\n",
              "0  Shawshank Redemption, The (1994)           32831\n",
              "1               Forrest Gump (1994)           32383\n",
              "2               Pulp Fiction (1994)           31697\n",
              "3  Silence of the Lambs, The (1991)           29444\n",
              "4                Matrix, The (1999)           29014"
            ],
            "text/html": [
              "<div>\n",
              "<style scoped>\n",
              "    .dataframe tbody tr th:only-of-type {\n",
              "        vertical-align: middle;\n",
              "    }\n",
              "\n",
              "    .dataframe tbody tr th {\n",
              "        vertical-align: top;\n",
              "    }\n",
              "\n",
              "    .dataframe thead th {\n",
              "        text-align: right;\n",
              "    }\n",
              "</style>\n",
              "<table border=\"1\" class=\"dataframe\">\n",
              "  <thead>\n",
              "    <tr style=\"text-align: right;\">\n",
              "      <th></th>\n",
              "      <th>title</th>\n",
              "      <th>num_of_ratings</th>\n",
              "    </tr>\n",
              "  </thead>\n",
              "  <tbody>\n",
              "    <tr>\n",
              "      <th>0</th>\n",
              "      <td>Shawshank Redemption, The (1994)</td>\n",
              "      <td>32831</td>\n",
              "    </tr>\n",
              "    <tr>\n",
              "      <th>1</th>\n",
              "      <td>Forrest Gump (1994)</td>\n",
              "      <td>32383</td>\n",
              "    </tr>\n",
              "    <tr>\n",
              "      <th>2</th>\n",
              "      <td>Pulp Fiction (1994)</td>\n",
              "      <td>31697</td>\n",
              "    </tr>\n",
              "    <tr>\n",
              "      <th>3</th>\n",
              "      <td>Silence of the Lambs, The (1991)</td>\n",
              "      <td>29444</td>\n",
              "    </tr>\n",
              "    <tr>\n",
              "      <th>4</th>\n",
              "      <td>Matrix, The (1999)</td>\n",
              "      <td>29014</td>\n",
              "    </tr>\n",
              "  </tbody>\n",
              "</table>\n",
              "</div>"
            ]
          },
          "metadata": {
            "tags": []
          },
          "execution_count": 7
        }
      ]
    },
    {
      "cell_type": "code",
      "metadata": {
        "trusted": true,
        "id": "0ynAZvpYeML2",
        "colab_type": "code",
        "colab": {
          "base_uri": "https://localhost:8080/",
          "height": 621
        },
        "outputId": "2dff6505-dec1-4670-a653-99369d2846a3"
      },
      "source": [
        "# plot the highest rated movies\n",
        "f, ax = plt.subplots(figsize=(6, 10))\n",
        "sns.barplot(data=most_rated[0:20],y='title',x='num_of_ratings',palette = sns.color_palette(\"BrBG\", 20))\n",
        "ax.set(ylabel=\"\",\n",
        "       xlabel=\"Rating Count\")\n",
        "ax.title.set_text('The most frequent rated movies')\n",
        "sns.despine(left=True, bottom=True)"
      ],
      "execution_count": 8,
      "outputs": [
        {
          "output_type": "display_data",
          "data": {
            "text/plain": [
              "<Figure size 432x720 with 1 Axes>"
            ],
            "image/png": "[encoded data removed]"
          },
          "metadata": {
            "tags": [],
            "needs_background": "light"
          }
        }
      ]
    },
    {
      "cell_type": "code",
      "metadata": {
        "id": "hYlbF9c7MQVx",
        "colab_type": "code",
        "colab": {}
      },
      "source": [
        "rated = pd.DataFrame(result.groupby('title')['rating']\n",
        "                          .mean()\n",
        "                          .sort_values(ascending=False)).reset_index()"
      ],
      "execution_count": 9,
      "outputs": []
    },
    {
      "cell_type": "code",
      "metadata": {
        "id": "H0fbCOb5eUni",
        "colab_type": "code",
        "colab": {
          "base_uri": "https://localhost:8080/",
          "height": 391
        },
        "outputId": "64feda60-0c85-4172-d23c-5cccb8885af2"
      },
      "source": [
        "rated"
      ],
      "execution_count": 10,
      "outputs": [
        {
          "output_type": "execute_result",
          "data": {
            "text/plain": [
              "                                        title  rating\n",
              "0                                Favor (2013)    5.00\n",
              "1                 Excuse Me for Living (2012)    5.00\n",
              "2            Limuzins Janu nakts krasa (1981)    5.00\n",
              "3                           Crazy Mama (1975)    4.75\n",
              "4                     Remarkable Power (2008)    4.75\n",
              "...                                       ...     ...\n",
              "21632                      Blutzbrüdaz (2013)    0.50\n",
              "21633                     Oh, Susanna! (1936)    0.50\n",
              "21634                  Ah of Life, The (2010)    0.50\n",
              "21635  Tyler Perry's A Madea Christmas (2011)    0.50\n",
              "21636                 His Regeneration (1915)    0.50\n",
              "\n",
              "[21637 rows x 2 columns]"
            ],
            "text/html": [
              "<div>\n",
              "<style scoped>\n",
              "    .dataframe tbody tr th:only-of-type {\n",
              "        vertical-align: middle;\n",
              "    }\n",
              "\n",
              "    .dataframe tbody tr th {\n",
              "        vertical-align: top;\n",
              "    }\n",
              "\n",
              "    .dataframe thead th {\n",
              "        text-align: right;\n",
              "    }\n",
              "</style>\n",
              "<table border=\"1\" class=\"dataframe\">\n",
              "  <thead>\n",
              "    <tr style=\"text-align: right;\">\n",
              "      <th></th>\n",
              "      <th>title</th>\n",
              "      <th>rating</th>\n",
              "    </tr>\n",
              "  </thead>\n",
              "  <tbody>\n",
              "    <tr>\n",
              "      <th>0</th>\n",
              "      <td>Favor (2013)</td>\n",
              "      <td>5.00</td>\n",
              "    </tr>\n",
              "    <tr>\n",
              "      <th>1</th>\n",
              "      <td>Excuse Me for Living (2012)</td>\n",
              "      <td>5.00</td>\n",
              "    </tr>\n",
              "    <tr>\n",
              "      <th>2</th>\n",
              "      <td>Limuzins Janu nakts krasa (1981)</td>\n",
              "      <td>5.00</td>\n",
              "    </tr>\n",
              "    <tr>\n",
              "      <th>3</th>\n",
              "      <td>Crazy Mama (1975)</td>\n",
              "      <td>4.75</td>\n",
              "    </tr>\n",
              "    <tr>\n",
              "      <th>4</th>\n",
              "      <td>Remarkable Power (2008)</td>\n",
              "      <td>4.75</td>\n",
              "    </tr>\n",
              "    <tr>\n",
              "      <th>...</th>\n",
              "      <td>...</td>\n",
              "      <td>...</td>\n",
              "    </tr>\n",
              "    <tr>\n",
              "      <th>21632</th>\n",
              "      <td>Blutzbrüdaz (2013)</td>\n",
              "      <td>0.50</td>\n",
              "    </tr>\n",
              "    <tr>\n",
              "      <th>21633</th>\n",
              "      <td>Oh, Susanna! (1936)</td>\n",
              "      <td>0.50</td>\n",
              "    </tr>\n",
              "    <tr>\n",
              "      <th>21634</th>\n",
              "      <td>Ah of Life, The (2010)</td>\n",
              "      <td>0.50</td>\n",
              "    </tr>\n",
              "    <tr>\n",
              "      <th>21635</th>\n",
              "      <td>Tyler Perry's A Madea Christmas (2011)</td>\n",
              "      <td>0.50</td>\n",
              "    </tr>\n",
              "    <tr>\n",
              "      <th>21636</th>\n",
              "      <td>His Regeneration (1915)</td>\n",
              "      <td>0.50</td>\n",
              "    </tr>\n",
              "  </tbody>\n",
              "</table>\n",
              "<p>21637 rows × 2 columns</p>\n",
              "</div>"
            ]
          },
          "metadata": {
            "tags": []
          },
          "execution_count": 10
        }
      ]
    },
    {
      "cell_type": "code",
      "metadata": {
        "id": "SNZSX-PLft1z",
        "colab_type": "code",
        "colab": {}
      },
      "source": [
        "rated['count'] = rated.groupby('rating')['rating'].transform('count')"
      ],
      "execution_count": 11,
      "outputs": []
    },
    {
      "cell_type": "code",
      "metadata": {
        "id": "M4xuU17vrzMx",
        "colab_type": "code",
        "colab": {}
      },
      "source": [
        "rated"
      ],
      "execution_count": null,
      "outputs": []
    },
    {
      "cell_type": "markdown",
      "metadata": {
        "id": "hiG11QtzeML4",
        "colab_type": "text"
      },
      "source": [
        "## Which movies have the shortest and longest runtime?\n"
      ]
    },
    {
      "cell_type": "markdown",
      "metadata": {
        "id": "pRyfAU4beML5",
        "colab_type": "text"
      },
      "source": [
        "What is the average runtime for a movie in the data?"
      ]
    },
    {
      "cell_type": "code",
      "metadata": {
        "trusted": true,
        "id": "-ZJTbqL_eML6",
        "colab_type": "code",
        "colab": {}
      },
      "source": [
        "# calculate the average movie duration\n",
        "round(data['runtime'].mean(),2)"
      ],
      "execution_count": null,
      "outputs": []
    },
    {
      "cell_type": "markdown",
      "metadata": {
        "id": "2nbMzZBKeML8",
        "colab_type": "text"
      },
      "source": [
        "- The average runtime is 116.1. \n",
        "- This equates to ~1.9 hours, which is a normal runtime for movies. "
      ]
    },
    {
      "cell_type": "markdown",
      "metadata": {
        "id": "djatcx7U8qk1",
        "colab_type": "text"
      },
      "source": [
        "What is the average rating for\n",
        "- movies longer than 2 hours?\n",
        "- movies shorter than 2 hours?"
      ]
    },
    {
      "cell_type": "code",
      "metadata": {
        "trusted": true,
        "id": "Amk7qrxSeML8",
        "colab_type": "code",
        "colab": {
          "base_uri": "https://localhost:8080/",
          "height": 50
        },
        "outputId": "8123576d-d2f3-4144-d2d0-45a9a219bd88"
      },
      "source": [
        "# calculate the average star rating for movies 2 hours or longer\n",
        "# calculate the average star rating for movies shorter than 2 hours\n",
        "print('Avg. star rating for movies 2 hours or longer: ', round(data[data['runtime'] >= 120]['rating'].mean(),2), \n",
        " '\\nAvg. star rating for movies shorter than 2 hours: ', round(data[data['runtime'] < 120]['rating'].mean(),2))"
      ],
      "execution_count": 5,
      "outputs": [
        {
          "output_type": "stream",
          "text": [
            "Avg. star rating for movies 2 hours or longer:  3.66 \n",
            "Avg. star rating for movies shorter than 2 hours:  3.49\n"
          ],
          "name": "stdout"
        }
      ]
    },
    {
      "cell_type": "code",
      "metadata": {
        "trusted": true,
        "colab_type": "code",
        "id": "EtXTiRR89FSP",
        "colab": {}
      },
      "source": [
        "shorter_runtime = data[data['runtime'] <= 248] "
      ],
      "execution_count": 6,
      "outputs": []
    },
    {
      "cell_type": "code",
      "metadata": {
        "trusted": true,
        "colab_type": "code",
        "id": "Y_TEO66p9FSR",
        "colab": {
          "base_uri": "https://localhost:8080/",
          "height": 191
        },
        "outputId": "c248f0e0-0738-4fd6-80ee-fadb7cbcfeac"
      },
      "source": [
        "shorter_runtime.head()"
      ],
      "execution_count": 7,
      "outputs": [
        {
          "output_type": "execute_result",
          "data": {
            "text/plain": [
              "   userId  movieId  rating             title                       genres  \\\n",
              "0    5163    57669     4.0  In Bruges (2008)  Comedy|Crime|Drama|Thriller   \n",
              "1   87388    57669     3.5  In Bruges (2008)  Comedy|Crime|Drama|Thriller   \n",
              "2  137050    57669     4.0  In Bruges (2008)  Comedy|Crime|Drama|Thriller   \n",
              "3  120490    57669     4.5  In Bruges (2008)  Comedy|Crime|Drama|Thriller   \n",
              "4   50616    57669     4.5  In Bruges (2008)  Comedy|Crime|Drama|Thriller   \n",
              "\n",
              "                                          title_cast         director  \\\n",
              "0  Elizabeth Berrington|Rudy Blomme|Olivier Bonjo...  Martin McDonagh   \n",
              "1  Elizabeth Berrington|Rudy Blomme|Olivier Bonjo...  Martin McDonagh   \n",
              "2  Elizabeth Berrington|Rudy Blomme|Olivier Bonjo...  Martin McDonagh   \n",
              "3  Elizabeth Berrington|Rudy Blomme|Olivier Bonjo...  Martin McDonagh   \n",
              "4  Elizabeth Berrington|Rudy Blomme|Olivier Bonjo...  Martin McDonagh   \n",
              "\n",
              "   runtime       budget              plot_keywords  \n",
              "0    107.0  $15,000,000  dwarf|bruges|irish|hitman  \n",
              "1    107.0  $15,000,000  dwarf|bruges|irish|hitman  \n",
              "2    107.0  $15,000,000  dwarf|bruges|irish|hitman  \n",
              "3    107.0  $15,000,000  dwarf|bruges|irish|hitman  \n",
              "4    107.0  $15,000,000  dwarf|bruges|irish|hitman  "
            ],
            "text/html": [
              "<div>\n",
              "<style scoped>\n",
              "    .dataframe tbody tr th:only-of-type {\n",
              "        vertical-align: middle;\n",
              "    }\n",
              "\n",
              "    .dataframe tbody tr th {\n",
              "        vertical-align: top;\n",
              "    }\n",
              "\n",
              "    .dataframe thead th {\n",
              "        text-align: right;\n",
              "    }\n",
              "</style>\n",
              "<table border=\"1\" class=\"dataframe\">\n",
              "  <thead>\n",
              "    <tr style=\"text-align: right;\">\n",
              "      <th></th>\n",
              "      <th>userId</th>\n",
              "      <th>movieId</th>\n",
              "      <th>rating</th>\n",
              "      <th>title</th>\n",
              "      <th>genres</th>\n",
              "      <th>title_cast</th>\n",
              "      <th>director</th>\n",
              "      <th>runtime</th>\n",
              "      <th>budget</th>\n",
              "      <th>plot_keywords</th>\n",
              "    </tr>\n",
              "  </thead>\n",
              "  <tbody>\n",
              "    <tr>\n",
              "      <th>0</th>\n",
              "      <td>5163</td>\n",
              "      <td>57669</td>\n",
              "      <td>4.0</td>\n",
              "      <td>In Bruges (2008)</td>\n",
              "      <td>Comedy|Crime|Drama|Thriller</td>\n",
              "      <td>Elizabeth Berrington|Rudy Blomme|Olivier Bonjo...</td>\n",
              "      <td>Martin McDonagh</td>\n",
              "      <td>107.0</td>\n",
              "      <td>$15,000,000</td>\n",
              "      <td>dwarf|bruges|irish|hitman</td>\n",
              "    </tr>\n",
              "    <tr>\n",
              "      <th>1</th>\n",
              "      <td>87388</td>\n",
              "      <td>57669</td>\n",
              "      <td>3.5</td>\n",
              "      <td>In Bruges (2008)</td>\n",
              "      <td>Comedy|Crime|Drama|Thriller</td>\n",
              "      <td>Elizabeth Berrington|Rudy Blomme|Olivier Bonjo...</td>\n",
              "      <td>Martin McDonagh</td>\n",
              "      <td>107.0</td>\n",
              "      <td>$15,000,000</td>\n",
              "      <td>dwarf|bruges|irish|hitman</td>\n",
              "    </tr>\n",
              "    <tr>\n",
              "      <th>2</th>\n",
              "      <td>137050</td>\n",
              "      <td>57669</td>\n",
              "      <td>4.0</td>\n",
              "      <td>In Bruges (2008)</td>\n",
              "      <td>Comedy|Crime|Drama|Thriller</td>\n",
              "      <td>Elizabeth Berrington|Rudy Blomme|Olivier Bonjo...</td>\n",
              "      <td>Martin McDonagh</td>\n",
              "      <td>107.0</td>\n",
              "      <td>$15,000,000</td>\n",
              "      <td>dwarf|bruges|irish|hitman</td>\n",
              "    </tr>\n",
              "    <tr>\n",
              "      <th>3</th>\n",
              "      <td>120490</td>\n",
              "      <td>57669</td>\n",
              "      <td>4.5</td>\n",
              "      <td>In Bruges (2008)</td>\n",
              "      <td>Comedy|Crime|Drama|Thriller</td>\n",
              "      <td>Elizabeth Berrington|Rudy Blomme|Olivier Bonjo...</td>\n",
              "      <td>Martin McDonagh</td>\n",
              "      <td>107.0</td>\n",
              "      <td>$15,000,000</td>\n",
              "      <td>dwarf|bruges|irish|hitman</td>\n",
              "    </tr>\n",
              "    <tr>\n",
              "      <th>4</th>\n",
              "      <td>50616</td>\n",
              "      <td>57669</td>\n",
              "      <td>4.5</td>\n",
              "      <td>In Bruges (2008)</td>\n",
              "      <td>Comedy|Crime|Drama|Thriller</td>\n",
              "      <td>Elizabeth Berrington|Rudy Blomme|Olivier Bonjo...</td>\n",
              "      <td>Martin McDonagh</td>\n",
              "      <td>107.0</td>\n",
              "      <td>$15,000,000</td>\n",
              "      <td>dwarf|bruges|irish|hitman</td>\n",
              "    </tr>\n",
              "  </tbody>\n",
              "</table>\n",
              "</div>"
            ]
          },
          "metadata": {
            "tags": []
          },
          "execution_count": 7
        }
      ]
    },
    {
      "cell_type": "code",
      "metadata": {
        "trusted": true,
        "id": "S9A9PcZVeMMC",
        "colab_type": "code",
        "colab": {}
      },
      "source": [
        "def find_minmax(column_name):\n",
        "  '''\n",
        "  This function looks at the maximum and minimum profits of the movies,\n",
        "  then returns the maximum runtime.\n",
        "  The function uses the function 'idmin' to find the index of lowest profit movie.\n",
        "  and 'idmax' to find the index of Highest profit movie.\n",
        "  The function prints the row related to this index.\n",
        "  params: column name (str)\n",
        "  returns: highest and lowest runtime info (dataframe)\n",
        "  '''\n",
        "  #use the function 'idmin' to find the index of lowest profit movie.\n",
        "  min_index = shorter_runtime[column_name].idxmin()\n",
        "\n",
        "  #use the function 'idmax' to find the index of Highest profit movie.\n",
        "  high_index = shorter_runtime[column_name].idxmax()\n",
        "\n",
        "  high = pd.DataFrame(shorter_runtime.loc[high_index,:])\n",
        "  low = pd.DataFrame(shorter_runtime.loc[min_index,:])\n",
        "  \n",
        "  #print the movie with high and low profit\n",
        "  print(\"Movie Which Has Highest \"+ column_name + \" : \",shorter_runtime['title'][high_index])\n",
        "  print(\"Movie Which Has Lowest \"+ column_name + \"  : \",shorter_runtime['title'][min_index])\n",
        "  \n",
        "  output = pd.concat([high,low],axis = 1)\n",
        "  # hardcoded, needs to be changed\n",
        "  output = output.rename(columns={8148250: 'highest runtime ',9438402:'lowest runtime'})\n",
        "  return output"
      ],
      "execution_count": 9,
      "outputs": []
    },
    {
      "cell_type": "code",
      "metadata": {
        "id": "srvCgzBAGV_c",
        "colab_type": "code",
        "colab": {
          "base_uri": "https://localhost:8080/",
          "height": 367
        },
        "outputId": "787cac62-61ef-43c4-d734-88b8f02d580e"
      },
      "source": [
        "#call the find_minmax function.\n",
        "find_minmax('runtime')"
      ],
      "execution_count": 10,
      "outputs": [
        {
          "output_type": "stream",
          "text": [
            "Movie Which Has Highest runtime :  My Voyage to Italy (Il mio viaggio in Italia) (1999)\n",
            "Movie Which Has Lowest runtime  :  Stille Nacht I: Dramolet (1988)\n"
          ],
          "name": "stdout"
        },
        {
          "output_type": "execute_result",
          "data": {
            "text/plain": [
              "                                                highest runtime   \\\n",
              "userId                                                    160506   \n",
              "movieId                                                     8755   \n",
              "rating                                                         3   \n",
              "title          My Voyage to Italy (Il mio viaggio in Italia) ...   \n",
              "genres                                               Documentary   \n",
              "title_cast                                       Martin Scorsese   \n",
              "director                                     Suso Cecchi D'Amico   \n",
              "runtime                                                      246   \n",
              "budget                                                       NaN   \n",
              "plot_keywords  film history|filmmaking|italian cinema|italian...   \n",
              "\n",
              "                                lowest runtime  \n",
              "userId                                  124638  \n",
              "movieId                                 126050  \n",
              "rating                                     2.5  \n",
              "title          Stille Nacht I: Dramolet (1988)  \n",
              "genres                               Animation  \n",
              "title_cast                                 NaN  \n",
              "director                          Stephen Quay  \n",
              "runtime                                      1  \n",
              "budget                                     NaN  \n",
              "plot_keywords           magnet|doll|spoon|moth  "
            ],
            "text/html": [
              "<div>\n",
              "<style scoped>\n",
              "    .dataframe tbody tr th:only-of-type {\n",
              "        vertical-align: middle;\n",
              "    }\n",
              "\n",
              "    .dataframe tbody tr th {\n",
              "        vertical-align: top;\n",
              "    }\n",
              "\n",
              "    .dataframe thead th {\n",
              "        text-align: right;\n",
              "    }\n",
              "</style>\n",
              "<table border=\"1\" class=\"dataframe\">\n",
              "  <thead>\n",
              "    <tr style=\"text-align: right;\">\n",
              "      <th></th>\n",
              "      <th>highest runtime</th>\n",
              "      <th>lowest runtime</th>\n",
              "    </tr>\n",
              "  </thead>\n",
              "  <tbody>\n",
              "    <tr>\n",
              "      <th>userId</th>\n",
              "      <td>160506</td>\n",
              "      <td>124638</td>\n",
              "    </tr>\n",
              "    <tr>\n",
              "      <th>movieId</th>\n",
              "      <td>8755</td>\n",
              "      <td>126050</td>\n",
              "    </tr>\n",
              "    <tr>\n",
              "      <th>rating</th>\n",
              "      <td>3</td>\n",
              "      <td>2.5</td>\n",
              "    </tr>\n",
              "    <tr>\n",
              "      <th>title</th>\n",
              "      <td>My Voyage to Italy (Il mio viaggio in Italia) ...</td>\n",
              "      <td>Stille Nacht I: Dramolet (1988)</td>\n",
              "    </tr>\n",
              "    <tr>\n",
              "      <th>genres</th>\n",
              "      <td>Documentary</td>\n",
              "      <td>Animation</td>\n",
              "    </tr>\n",
              "    <tr>\n",
              "      <th>title_cast</th>\n",
              "      <td>Martin Scorsese</td>\n",
              "      <td>NaN</td>\n",
              "    </tr>\n",
              "    <tr>\n",
              "      <th>director</th>\n",
              "      <td>Suso Cecchi D'Amico</td>\n",
              "      <td>Stephen Quay</td>\n",
              "    </tr>\n",
              "    <tr>\n",
              "      <th>runtime</th>\n",
              "      <td>246</td>\n",
              "      <td>1</td>\n",
              "    </tr>\n",
              "    <tr>\n",
              "      <th>budget</th>\n",
              "      <td>NaN</td>\n",
              "      <td>NaN</td>\n",
              "    </tr>\n",
              "    <tr>\n",
              "      <th>plot_keywords</th>\n",
              "      <td>film history|filmmaking|italian cinema|italian...</td>\n",
              "      <td>magnet|doll|spoon|moth</td>\n",
              "    </tr>\n",
              "  </tbody>\n",
              "</table>\n",
              "</div>"
            ]
          },
          "metadata": {
            "tags": []
          },
          "execution_count": 10
        }
      ]
    },
    {
      "cell_type": "code",
      "metadata": {
        "trusted": true,
        "id": "1cHdCgroeMME",
        "colab_type": "code",
        "colab": {}
      },
      "source": [
        "info = pd.DataFrame(shorter_runtime['runtime'].sort_values(ascending = False))\n",
        "info['original_title'] = shorter_runtime['title']\n",
        "info.drop_duplicates(inplace = True)\n",
        "info.reset_index(drop=True, inplace=True)"
      ],
      "execution_count": 11,
      "outputs": []
    },
    {
      "cell_type": "code",
      "metadata": {
        "trusted": true,
        "id": "sTUHOwo3eMMG",
        "colab_type": "code",
        "colab": {
          "base_uri": "https://localhost:8080/",
          "height": 391
        },
        "outputId": "d8ff7b6c-723f-46c1-9898-321cbc7ed442"
      },
      "source": [
        "info"
      ],
      "execution_count": 12,
      "outputs": [
        {
          "output_type": "execute_result",
          "data": {
            "text/plain": [
              "       runtime                                     original_title\n",
              "0        246.0  My Voyage to Italy (Il mio viaggio in Italia) ...\n",
              "1        244.0                                 At Berkeley (2013)\n",
              "2        242.0                                      Hamlet (1996)\n",
              "3        240.0         Beach Boys: An American Family, The (2000)\n",
              "4        240.0                            Bonnie and Clyde (2013)\n",
              "...        ...                                                ...\n",
              "23496      1.0  Four Heads Are Better Than One (Un homme de tê...\n",
              "23497      1.0                                    The Kiss (1900)\n",
              "23498      1.0                            Dickson Greeting (1891)\n",
              "23499      1.0                                 Santa Claus (1898)\n",
              "23500      1.0  Pyramid of Triboulet, The (La pyramide de Trib...\n",
              "\n",
              "[23501 rows x 2 columns]"
            ],
            "text/html": [
              "<div>\n",
              "<style scoped>\n",
              "    .dataframe tbody tr th:only-of-type {\n",
              "        vertical-align: middle;\n",
              "    }\n",
              "\n",
              "    .dataframe tbody tr th {\n",
              "        vertical-align: top;\n",
              "    }\n",
              "\n",
              "    .dataframe thead th {\n",
              "        text-align: right;\n",
              "    }\n",
              "</style>\n",
              "<table border=\"1\" class=\"dataframe\">\n",
              "  <thead>\n",
              "    <tr style=\"text-align: right;\">\n",
              "      <th></th>\n",
              "      <th>runtime</th>\n",
              "      <th>original_title</th>\n",
              "    </tr>\n",
              "  </thead>\n",
              "  <tbody>\n",
              "    <tr>\n",
              "      <th>0</th>\n",
              "      <td>246.0</td>\n",
              "      <td>My Voyage to Italy (Il mio viaggio in Italia) ...</td>\n",
              "    </tr>\n",
              "    <tr>\n",
              "      <th>1</th>\n",
              "      <td>244.0</td>\n",
              "      <td>At Berkeley (2013)</td>\n",
              "    </tr>\n",
              "    <tr>\n",
              "      <th>2</th>\n",
              "      <td>242.0</td>\n",
              "      <td>Hamlet (1996)</td>\n",
              "    </tr>\n",
              "    <tr>\n",
              "      <th>3</th>\n",
              "      <td>240.0</td>\n",
              "      <td>Beach Boys: An American Family, The (2000)</td>\n",
              "    </tr>\n",
              "    <tr>\n",
              "      <th>4</th>\n",
              "      <td>240.0</td>\n",
              "      <td>Bonnie and Clyde (2013)</td>\n",
              "    </tr>\n",
              "    <tr>\n",
              "      <th>...</th>\n",
              "      <td>...</td>\n",
              "      <td>...</td>\n",
              "    </tr>\n",
              "    <tr>\n",
              "      <th>23496</th>\n",
              "      <td>1.0</td>\n",
              "      <td>Four Heads Are Better Than One (Un homme de tê...</td>\n",
              "    </tr>\n",
              "    <tr>\n",
              "      <th>23497</th>\n",
              "      <td>1.0</td>\n",
              "      <td>The Kiss (1900)</td>\n",
              "    </tr>\n",
              "    <tr>\n",
              "      <th>23498</th>\n",
              "      <td>1.0</td>\n",
              "      <td>Dickson Greeting (1891)</td>\n",
              "    </tr>\n",
              "    <tr>\n",
              "      <th>23499</th>\n",
              "      <td>1.0</td>\n",
              "      <td>Santa Claus (1898)</td>\n",
              "    </tr>\n",
              "    <tr>\n",
              "      <th>23500</th>\n",
              "      <td>1.0</td>\n",
              "      <td>Pyramid of Triboulet, The (La pyramide de Trib...</td>\n",
              "    </tr>\n",
              "  </tbody>\n",
              "</table>\n",
              "<p>23501 rows × 2 columns</p>\n",
              "</div>"
            ]
          },
          "metadata": {
            "tags": []
          },
          "execution_count": 12
        }
      ]
    },
    {
      "cell_type": "code",
      "metadata": {
        "id": "N-TlafH0ES3Q",
        "colab_type": "code",
        "colab": {
          "base_uri": "https://localhost:8080/",
          "height": 295
        },
        "outputId": "d0341e1a-91c7-41e0-85bb-15dbe9d8abcb"
      },
      "source": [
        "#histogram of the runtimes\n",
        "plt.hist(info['runtime'], bins = 100, edgecolor = 'k')\n",
        "plt.xlabel('runtime') \n",
        "plt.title('Distribution of runtime in data')\n",
        "plt.xlim([0,247])\n",
        "plt.show()"
      ],
      "execution_count": 13,
      "outputs": [
        {
          "output_type": "display_data",
          "data": {
            "text/plain": [
              "<Figure size 432x288 with 1 Axes>"
            ],
            "image/png": "[encoded data removed]"
          },
          "metadata": {
            "tags": [],
            "needs_background": "light"
          }
        }
      ]
    },
    {
      "cell_type": "code",
      "metadata": {
        "trusted": true,
        "id": "2Mf8uMFreMMI",
        "colab_type": "code",
        "colab": {
          "base_uri": "https://localhost:8080/",
          "height": 518
        },
        "outputId": "323b810b-11c2-4644-99f4-ea790a62f3c2"
      },
      "source": [
        "info_list = list(map(str,(info['original_title'])))\n",
        "movie_titles = list(info_list[:10])\n",
        "movie_runtimes = list(info['runtime'][:10])\n",
        "\n",
        "#setup the figure size\n",
        "sns.set(rc={'figure.figsize':(10,8)})\n",
        "\n",
        "ax = sns.pointplot(x=movie_runtimes,y=movie_titles)\n",
        "#setup the title and labels of the plot.\n",
        "ax.set_title(\"Top 10 Longest Movies\",fontsize = 15)\n",
        "ax.set_xlabel(\"Runtime (minutes)\",fontsize = 13)\n",
        "sns.set_style(\"darkgrid\")"
      ],
      "execution_count": 19,
      "outputs": [
        {
          "output_type": "display_data",
          "data": {
            "text/plain": [
              "<Figure size 720x576 with 1 Axes>"
            ],
            "image/png": "[encoded data removed]"
          },
          "metadata": {
            "tags": []
          }
        }
      ]
    },
    {
      "cell_type": "markdown",
      "metadata": {
        "id": "M3CfjDZceMMc",
        "colab_type": "text"
      },
      "source": [
        "## Which year has the highest release of movies?"
      ]
    },
    {
      "cell_type": "markdown",
      "metadata": {
        "id": "igf_FeVKtbLP",
        "colab_type": "text"
      },
      "source": [
        "Before we can do our analysis, we have to extract the year each movie was released from the titles and save them in a new column."
      ]
    },
    {
      "cell_type": "code",
      "metadata": {
        "trusted": true,
        "id": "TPVPc4nCeMMd",
        "colab_type": "code",
        "colab": {}
      },
      "source": [
        "#Using regular expressions to find a year stored between parentheses\n",
        "#We specify the parantheses so we don’t conflict with movies that have years in their titles\n",
        "movies['year'] = movies['title'].str.extract(\"(\\(\\d\\d\\d\\d\\))\",expand=False)\n",
        "#Removing the parentheses\n",
        "movies['year'] = movies['year'].str.extract(\"(\\d\\d\\d\\d)\",expand=False)\n",
        "#Removing the years from the ‘title’ column\n",
        "movies['title'] = movies['title'].str.replace(\"(\\(\\d\\d\\d\\d\\))\", \"\")\n",
        "#Applying the strip function to get rid of any ending whitespace characters that may have appeared\n",
        "movies['title'] = movies['title'].apply(lambda x: x.strip())"
      ],
      "execution_count": 20,
      "outputs": []
    },
    {
      "cell_type": "code",
      "metadata": {
        "trusted": true,
        "id": "xBrWxzE0eMMf",
        "colab_type": "code",
        "colab": {
          "base_uri": "https://localhost:8080/",
          "height": 212
        },
        "outputId": "8d25aaf9-79e1-4329-bbbe-18ca9687e2b6"
      },
      "source": [
        "pd.to_datetime(movies.year, format='%Y')"
      ],
      "execution_count": 21,
      "outputs": [
        {
          "output_type": "execute_result",
          "data": {
            "text/plain": [
              "0       1995-01-01\n",
              "1       1995-01-01\n",
              "2       1995-01-01\n",
              "3       1995-01-01\n",
              "4       1995-01-01\n",
              "           ...    \n",
              "62418   2018-01-01\n",
              "62419   2001-01-01\n",
              "62420   2018-01-01\n",
              "62421   2001-01-01\n",
              "62422   1962-01-01\n",
              "Name: year, Length: 62423, dtype: datetime64[ns]"
            ]
          },
          "metadata": {
            "tags": []
          },
          "execution_count": 21
        }
      ]
    },
    {
      "cell_type": "code",
      "metadata": {
        "trusted": true,
        "id": "NNR-uuVCeMMh",
        "colab_type": "code",
        "colab": {
          "base_uri": "https://localhost:8080/",
          "height": 391
        },
        "outputId": "88dca78b-35ae-4829-9219-befa5609a834"
      },
      "source": [
        "year_df = pd.DataFrame(movies.groupby('year')['title'].count()).reset_index()\n",
        "year_df.rename(columns={'title': 'num_of_titles'}, inplace=True)\n",
        "year_df = year_df.sort_values(by='year', ascending=False)\n",
        "year_df"
      ],
      "execution_count": 26,
      "outputs": [
        {
          "output_type": "execute_result",
          "data": {
            "text/plain": [
              "     year  num_of_titles\n",
              "134  2019            994\n",
              "133  2018           2034\n",
              "132  2017           2374\n",
              "131  2016           2488\n",
              "130  2015           2513\n",
              "..    ...            ...\n",
              "4    1887              1\n",
              "3    1883              1\n",
              "2    1880              1\n",
              "1    1878              1\n",
              "0    1874              1\n",
              "\n",
              "[135 rows x 2 columns]"
            ],
            "text/html": [
              "<div>\n",
              "<style scoped>\n",
              "    .dataframe tbody tr th:only-of-type {\n",
              "        vertical-align: middle;\n",
              "    }\n",
              "\n",
              "    .dataframe tbody tr th {\n",
              "        vertical-align: top;\n",
              "    }\n",
              "\n",
              "    .dataframe thead th {\n",
              "        text-align: right;\n",
              "    }\n",
              "</style>\n",
              "<table border=\"1\" class=\"dataframe\">\n",
              "  <thead>\n",
              "    <tr style=\"text-align: right;\">\n",
              "      <th></th>\n",
              "      <th>year</th>\n",
              "      <th>num_of_titles</th>\n",
              "    </tr>\n",
              "  </thead>\n",
              "  <tbody>\n",
              "    <tr>\n",
              "      <th>134</th>\n",
              "      <td>2019</td>\n",
              "      <td>994</td>\n",
              "    </tr>\n",
              "    <tr>\n",
              "      <th>133</th>\n",
              "      <td>2018</td>\n",
              "      <td>2034</td>\n",
              "    </tr>\n",
              "    <tr>\n",
              "      <th>132</th>\n",
              "      <td>2017</td>\n",
              "      <td>2374</td>\n",
              "    </tr>\n",
              "    <tr>\n",
              "      <th>131</th>\n",
              "      <td>2016</td>\n",
              "      <td>2488</td>\n",
              "    </tr>\n",
              "    <tr>\n",
              "      <th>130</th>\n",
              "      <td>2015</td>\n",
              "      <td>2513</td>\n",
              "    </tr>\n",
              "    <tr>\n",
              "      <th>...</th>\n",
              "      <td>...</td>\n",
              "      <td>...</td>\n",
              "    </tr>\n",
              "    <tr>\n",
              "      <th>4</th>\n",
              "      <td>1887</td>\n",
              "      <td>1</td>\n",
              "    </tr>\n",
              "    <tr>\n",
              "      <th>3</th>\n",
              "      <td>1883</td>\n",
              "      <td>1</td>\n",
              "    </tr>\n",
              "    <tr>\n",
              "      <th>2</th>\n",
              "      <td>1880</td>\n",
              "      <td>1</td>\n",
              "    </tr>\n",
              "    <tr>\n",
              "      <th>1</th>\n",
              "      <td>1878</td>\n",
              "      <td>1</td>\n",
              "    </tr>\n",
              "    <tr>\n",
              "      <th>0</th>\n",
              "      <td>1874</td>\n",
              "      <td>1</td>\n",
              "    </tr>\n",
              "  </tbody>\n",
              "</table>\n",
              "<p>135 rows × 2 columns</p>\n",
              "</div>"
            ]
          },
          "metadata": {
            "tags": []
          },
          "execution_count": 26
        }
      ]
    },
    {
      "cell_type": "code",
      "metadata": {
        "id": "i1l2FsPItzLX",
        "colab_type": "code",
        "colab": {
          "base_uri": "https://localhost:8080/",
          "height": 405
        },
        "outputId": "111dcfac-2151-4016-af64-2d02345aee76"
      },
      "source": [
        "# plot the highest rated movies\n",
        "f, ax = plt.subplots(figsize=(15, 6))\n",
        "sns.barplot(data=year_df[0:30],y='num_of_titles',x='year',palette = sns.color_palette(\"BrBG\", 30))\n",
        "ax.set(ylabel=\"\",\n",
        "       xlabel=\"Rating Count\")\n",
        "ax.title.set_text('Amount of movies released per year')\n",
        "sns.despine(left=True, bottom=True)"
      ],
      "execution_count": 33,
      "outputs": [
        {
          "output_type": "display_data",
          "data": {
            "text/plain": [
              "<Figure size 1080x432 with 1 Axes>"
            ],
            "image/png": "[encoded data removed]"
          },
          "metadata": {
            "tags": []
          }
        }
      ]
    },
    {
      "cell_type": "code",
      "metadata": {
        "trusted": true,
        "id": "YZ-XHnaZeMMo",
        "colab_type": "code",
        "colab": {}
      },
      "source": [
        "def decades(year):\n",
        "  '''\n",
        "  This function defines the year based on the decade that it is released.\n",
        "  params: year (int)\n",
        "  returns: decade (str)\n",
        "  '''\n",
        "  decade = str(floor(year/10))\n",
        "  return decade+\"0s\""
      ],
      "execution_count": 63,
      "outputs": []
    },
    {
      "cell_type": "code",
      "metadata": {
        "id": "RmG7wxToxU0t",
        "colab_type": "code",
        "colab": {
          "base_uri": "https://localhost:8080/",
          "height": 391
        },
        "outputId": "9298e263-b3ae-4874-e70a-7952155e2f39"
      },
      "source": [
        "year_df['decade'] = year_df['year'].astype(int)\n",
        "year_df['decade'] = year_df['decade'].apply(decades)\n",
        "year_df"
      ],
      "execution_count": 68,
      "outputs": [
        {
          "output_type": "execute_result",
          "data": {
            "text/plain": [
              "     year  num_of_titles decade\n",
              "134  2019            994  2010s\n",
              "133  2018           2034  2010s\n",
              "132  2017           2374  2010s\n",
              "131  2016           2488  2010s\n",
              "130  2015           2513  2010s\n",
              "..    ...            ...    ...\n",
              "4    1887              1  1880s\n",
              "3    1883              1  1880s\n",
              "2    1880              1  1880s\n",
              "1    1878              1  1870s\n",
              "0    1874              1  1870s\n",
              "\n",
              "[135 rows x 3 columns]"
            ],
            "text/html": [
              "<div>\n",
              "<style scoped>\n",
              "    .dataframe tbody tr th:only-of-type {\n",
              "        vertical-align: middle;\n",
              "    }\n",
              "\n",
              "    .dataframe tbody tr th {\n",
              "        vertical-align: top;\n",
              "    }\n",
              "\n",
              "    .dataframe thead th {\n",
              "        text-align: right;\n",
              "    }\n",
              "</style>\n",
              "<table border=\"1\" class=\"dataframe\">\n",
              "  <thead>\n",
              "    <tr style=\"text-align: right;\">\n",
              "      <th></th>\n",
              "      <th>year</th>\n",
              "      <th>num_of_titles</th>\n",
              "      <th>decade</th>\n",
              "    </tr>\n",
              "  </thead>\n",
              "  <tbody>\n",
              "    <tr>\n",
              "      <th>134</th>\n",
              "      <td>2019</td>\n",
              "      <td>994</td>\n",
              "      <td>2010s</td>\n",
              "    </tr>\n",
              "    <tr>\n",
              "      <th>133</th>\n",
              "      <td>2018</td>\n",
              "      <td>2034</td>\n",
              "      <td>2010s</td>\n",
              "    </tr>\n",
              "    <tr>\n",
              "      <th>132</th>\n",
              "      <td>2017</td>\n",
              "      <td>2374</td>\n",
              "      <td>2010s</td>\n",
              "    </tr>\n",
              "    <tr>\n",
              "      <th>131</th>\n",
              "      <td>2016</td>\n",
              "      <td>2488</td>\n",
              "      <td>2010s</td>\n",
              "    </tr>\n",
              "    <tr>\n",
              "      <th>130</th>\n",
              "      <td>2015</td>\n",
              "      <td>2513</td>\n",
              "      <td>2010s</td>\n",
              "    </tr>\n",
              "    <tr>\n",
              "      <th>...</th>\n",
              "      <td>...</td>\n",
              "      <td>...</td>\n",
              "      <td>...</td>\n",
              "    </tr>\n",
              "    <tr>\n",
              "      <th>4</th>\n",
              "      <td>1887</td>\n",
              "      <td>1</td>\n",
              "      <td>1880s</td>\n",
              "    </tr>\n",
              "    <tr>\n",
              "      <th>3</th>\n",
              "      <td>1883</td>\n",
              "      <td>1</td>\n",
              "      <td>1880s</td>\n",
              "    </tr>\n",
              "    <tr>\n",
              "      <th>2</th>\n",
              "      <td>1880</td>\n",
              "      <td>1</td>\n",
              "      <td>1880s</td>\n",
              "    </tr>\n",
              "    <tr>\n",
              "      <th>1</th>\n",
              "      <td>1878</td>\n",
              "      <td>1</td>\n",
              "      <td>1870s</td>\n",
              "    </tr>\n",
              "    <tr>\n",
              "      <th>0</th>\n",
              "      <td>1874</td>\n",
              "      <td>1</td>\n",
              "      <td>1870s</td>\n",
              "    </tr>\n",
              "  </tbody>\n",
              "</table>\n",
              "<p>135 rows × 3 columns</p>\n",
              "</div>"
            ]
          },
          "metadata": {
            "tags": []
          },
          "execution_count": 68
        }
      ]
    },
    {
      "cell_type": "code",
      "metadata": {
        "id": "OvPEta3Lzv82",
        "colab_type": "code",
        "colab": {
          "base_uri": "https://localhost:8080/",
          "height": 478
        },
        "outputId": "27bbafb9-f5aa-4b55-9449-55614333dbe1"
      },
      "source": [
        "yearly_release = year_df.groupby('decade')['num_of_titles'].sum().reset_index()\n",
        "yearly_release"
      ],
      "execution_count": 75,
      "outputs": [
        {
          "output_type": "execute_result",
          "data": {
            "text/plain": [
              "   decade  num_of_titles\n",
              "0   1870s              2\n",
              "1   1880s              7\n",
              "2   1890s            108\n",
              "3   1900s            155\n",
              "4   1910s            239\n",
              "5   1920s            576\n",
              "6   1930s           2069\n",
              "7   1940s           2326\n",
              "8   1950s           2981\n",
              "9   1960s           3586\n",
              "10  1970s           4958\n",
              "11  1980s           5182\n",
              "12  1990s           6656\n",
              "13  2000s          12679\n",
              "14  2010s          20489"
            ],
            "text/html": [
              "<div>\n",
              "<style scoped>\n",
              "    .dataframe tbody tr th:only-of-type {\n",
              "        vertical-align: middle;\n",
              "    }\n",
              "\n",
              "    .dataframe tbody tr th {\n",
              "        vertical-align: top;\n",
              "    }\n",
              "\n",
              "    .dataframe thead th {\n",
              "        text-align: right;\n",
              "    }\n",
              "</style>\n",
              "<table border=\"1\" class=\"dataframe\">\n",
              "  <thead>\n",
              "    <tr style=\"text-align: right;\">\n",
              "      <th></th>\n",
              "      <th>decade</th>\n",
              "      <th>num_of_titles</th>\n",
              "    </tr>\n",
              "  </thead>\n",
              "  <tbody>\n",
              "    <tr>\n",
              "      <th>0</th>\n",
              "      <td>1870s</td>\n",
              "      <td>2</td>\n",
              "    </tr>\n",
              "    <tr>\n",
              "      <th>1</th>\n",
              "      <td>1880s</td>\n",
              "      <td>7</td>\n",
              "    </tr>\n",
              "    <tr>\n",
              "      <th>2</th>\n",
              "      <td>1890s</td>\n",
              "      <td>108</td>\n",
              "    </tr>\n",
              "    <tr>\n",
              "      <th>3</th>\n",
              "      <td>1900s</td>\n",
              "      <td>155</td>\n",
              "    </tr>\n",
              "    <tr>\n",
              "      <th>4</th>\n",
              "      <td>1910s</td>\n",
              "      <td>239</td>\n",
              "    </tr>\n",
              "    <tr>\n",
              "      <th>5</th>\n",
              "      <td>1920s</td>\n",
              "      <td>576</td>\n",
              "    </tr>\n",
              "    <tr>\n",
              "      <th>6</th>\n",
              "      <td>1930s</td>\n",
              "      <td>2069</td>\n",
              "    </tr>\n",
              "    <tr>\n",
              "      <th>7</th>\n",
              "      <td>1940s</td>\n",
              "      <td>2326</td>\n",
              "    </tr>\n",
              "    <tr>\n",
              "      <th>8</th>\n",
              "      <td>1950s</td>\n",
              "      <td>2981</td>\n",
              "    </tr>\n",
              "    <tr>\n",
              "      <th>9</th>\n",
              "      <td>1960s</td>\n",
              "      <td>3586</td>\n",
              "    </tr>\n",
              "    <tr>\n",
              "      <th>10</th>\n",
              "      <td>1970s</td>\n",
              "      <td>4958</td>\n",
              "    </tr>\n",
              "    <tr>\n",
              "      <th>11</th>\n",
              "      <td>1980s</td>\n",
              "      <td>5182</td>\n",
              "    </tr>\n",
              "    <tr>\n",
              "      <th>12</th>\n",
              "      <td>1990s</td>\n",
              "      <td>6656</td>\n",
              "    </tr>\n",
              "    <tr>\n",
              "      <th>13</th>\n",
              "      <td>2000s</td>\n",
              "      <td>12679</td>\n",
              "    </tr>\n",
              "    <tr>\n",
              "      <th>14</th>\n",
              "      <td>2010s</td>\n",
              "      <td>20489</td>\n",
              "    </tr>\n",
              "  </tbody>\n",
              "</table>\n",
              "</div>"
            ]
          },
          "metadata": {
            "tags": []
          },
          "execution_count": 75
        }
      ]
    },
    {
      "cell_type": "code",
      "metadata": {
        "id": "ufIc-_86y6Jz",
        "colab_type": "code",
        "colab": {
          "base_uri": "https://localhost:8080/",
          "height": 350
        },
        "outputId": "c06b4436-0da4-40d6-8e80-b659838d3e81"
      },
      "source": [
        "# plot the highest rated movies\n",
        "f, ax = plt.subplots(figsize=(10, 5))\n",
        "sns.barplot(data=yearly_release,y='num_of_titles',x='decade',palette = sns.color_palette(\"BrBG\", 16))\n",
        "ax.set(ylabel=\"\",\n",
        "       xlabel=\"decade\")\n",
        "ax.title.set_text('Amount of movies released per decade')\n",
        "sns.despine(left=True, bottom=True)"
      ],
      "execution_count": 86,
      "outputs": [
        {
          "output_type": "display_data",
          "data": {
            "text/plain": [
              "<Figure size 720x360 with 1 Axes>"
            ],
            "image/png": "[encoded data removed]"
          },
          "metadata": {
            "tags": []
          }
        }
      ]
    },
    {
      "cell_type": "markdown",
      "metadata": {
        "id": "tQIvNRjdeMMy",
        "colab_type": "text"
      },
      "source": [
        "## Which Genre Has The Highest Release Of Movies?"
      ]
    },
    {
      "cell_type": "code",
      "metadata": {
        "trusted": true,
        "id": "AEPkt8XteMMy",
        "colab_type": "code",
        "colab": {}
      },
      "source": [
        "#make a function that will split the string and return the count of each genre.\n",
        "def count_genre(string):\n",
        "  '''\n",
        "  This function will split a string based on '|' and \n",
        "  return the count of each genre.\n",
        "  params: string (str)\n",
        "  return: counter\n",
        "  '''\n",
        "  #concatenate all the rows of the genres.\n",
        "  data_plot = data[string].str.cat(sep = '|')\n",
        "  df = pd.Series(data_plot.split('|'))\n",
        "\n",
        "  #counts each of the genre and return.\n",
        "  counter = df.value_counts(ascending=False)\n",
        "  return counter"
      ],
      "execution_count": 87,
      "outputs": []
    },
    {
      "cell_type": "code",
      "metadata": {
        "id": "4TQ7_QIE2NKN",
        "colab_type": "code",
        "colab": {
          "base_uri": "https://localhost:8080/",
          "height": 622
        },
        "outputId": "6d23dc1b-3131-4aea-c03d-060329a5349b"
      },
      "source": [
        "#call the function for counting the movies of each genre.\n",
        "total_genre_movies = pd.DataFrame(count_genre('genres'))\n",
        "total_genre_movies = total_genre_movies.reset_index()\n",
        "total_genre_movies =  total_genre_movies.rename(columns={'index': 'genre',0:'count'})\n",
        "total_genre_movies"
      ],
      "execution_count": 101,
      "outputs": [
        {
          "output_type": "execute_result",
          "data": {
            "text/plain": [
              "                 genre    count\n",
              "0                Drama  4256763\n",
              "1               Comedy  3480397\n",
              "2               Action  2856958\n",
              "3             Thriller  2622343\n",
              "4            Adventure  2221248\n",
              "5              Romance  1775419\n",
              "6                Crime  1642048\n",
              "7               Sci-Fi  1622841\n",
              "8              Fantasy  1090191\n",
              "9             Children   819479\n",
              "10             Mystery   788236\n",
              "11              Horror   724381\n",
              "12           Animation   614146\n",
              "13                 War   499991\n",
              "14                IMAX   419739\n",
              "15             Musical   385613\n",
              "16             Western   188231\n",
              "17         Documentary   115577\n",
              "18           Film-Noir    99136\n",
              "19  (no genres listed)      408"
            ],
            "text/html": [
              "<div>\n",
              "<style scoped>\n",
              "    .dataframe tbody tr th:only-of-type {\n",
              "        vertical-align: middle;\n",
              "    }\n",
              "\n",
              "    .dataframe tbody tr th {\n",
              "        vertical-align: top;\n",
              "    }\n",
              "\n",
              "    .dataframe thead th {\n",
              "        text-align: right;\n",
              "    }\n",
              "</style>\n",
              "<table border=\"1\" class=\"dataframe\">\n",
              "  <thead>\n",
              "    <tr style=\"text-align: right;\">\n",
              "      <th></th>\n",
              "      <th>genre</th>\n",
              "      <th>count</th>\n",
              "    </tr>\n",
              "  </thead>\n",
              "  <tbody>\n",
              "    <tr>\n",
              "      <th>0</th>\n",
              "      <td>Drama</td>\n",
              "      <td>4256763</td>\n",
              "    </tr>\n",
              "    <tr>\n",
              "      <th>1</th>\n",
              "      <td>Comedy</td>\n",
              "      <td>3480397</td>\n",
              "    </tr>\n",
              "    <tr>\n",
              "      <th>2</th>\n",
              "      <td>Action</td>\n",
              "      <td>2856958</td>\n",
              "    </tr>\n",
              "    <tr>\n",
              "      <th>3</th>\n",
              "      <td>Thriller</td>\n",
              "      <td>2622343</td>\n",
              "    </tr>\n",
              "    <tr>\n",
              "      <th>4</th>\n",
              "      <td>Adventure</td>\n",
              "      <td>2221248</td>\n",
              "    </tr>\n",
              "    <tr>\n",
              "      <th>5</th>\n",
              "      <td>Romance</td>\n",
              "      <td>1775419</td>\n",
              "    </tr>\n",
              "    <tr>\n",
              "      <th>6</th>\n",
              "      <td>Crime</td>\n",
              "      <td>1642048</td>\n",
              "    </tr>\n",
              "    <tr>\n",
              "      <th>7</th>\n",
              "      <td>Sci-Fi</td>\n",
              "      <td>1622841</td>\n",
              "    </tr>\n",
              "    <tr>\n",
              "      <th>8</th>\n",
              "      <td>Fantasy</td>\n",
              "      <td>1090191</td>\n",
              "    </tr>\n",
              "    <tr>\n",
              "      <th>9</th>\n",
              "      <td>Children</td>\n",
              "      <td>819479</td>\n",
              "    </tr>\n",
              "    <tr>\n",
              "      <th>10</th>\n",
              "      <td>Mystery</td>\n",
              "      <td>788236</td>\n",
              "    </tr>\n",
              "    <tr>\n",
              "      <th>11</th>\n",
              "      <td>Horror</td>\n",
              "      <td>724381</td>\n",
              "    </tr>\n",
              "    <tr>\n",
              "      <th>12</th>\n",
              "      <td>Animation</td>\n",
              "      <td>614146</td>\n",
              "    </tr>\n",
              "    <tr>\n",
              "      <th>13</th>\n",
              "      <td>War</td>\n",
              "      <td>499991</td>\n",
              "    </tr>\n",
              "    <tr>\n",
              "      <th>14</th>\n",
              "      <td>IMAX</td>\n",
              "      <td>419739</td>\n",
              "    </tr>\n",
              "    <tr>\n",
              "      <th>15</th>\n",
              "      <td>Musical</td>\n",
              "      <td>385613</td>\n",
              "    </tr>\n",
              "    <tr>\n",
              "      <th>16</th>\n",
              "      <td>Western</td>\n",
              "      <td>188231</td>\n",
              "    </tr>\n",
              "    <tr>\n",
              "      <th>17</th>\n",
              "      <td>Documentary</td>\n",
              "      <td>115577</td>\n",
              "    </tr>\n",
              "    <tr>\n",
              "      <th>18</th>\n",
              "      <td>Film-Noir</td>\n",
              "      <td>99136</td>\n",
              "    </tr>\n",
              "    <tr>\n",
              "      <th>19</th>\n",
              "      <td>(no genres listed)</td>\n",
              "      <td>408</td>\n",
              "    </tr>\n",
              "  </tbody>\n",
              "</table>\n",
              "</div>"
            ]
          },
          "metadata": {
            "tags": []
          },
          "execution_count": 101
        }
      ]
    },
    {
      "cell_type": "code",
      "metadata": {
        "id": "vw3bXUmV2hYX",
        "colab_type": "code",
        "colab": {
          "base_uri": "https://localhost:8080/",
          "height": 622
        },
        "outputId": "3b86c006-650d-4ce0-f9e4-df55f946c194"
      },
      "source": [
        "# plot the distribution of genres\n",
        "f, ax = plt.subplots(figsize=(20, 10))\n",
        "sns.barplot(data=total_genre_movies[:-1],y='count',x='genre',palette = sns.color_palette(\"BrBG\", 19))\n",
        "ax.set(ylabel=\"\",\n",
        "       xlabel=\"Rating Count\")\n",
        "ax.title.set_text('Genre distribution')\n",
        "sns.despine(left=True, bottom=True)"
      ],
      "execution_count": 114,
      "outputs": [
        {
          "output_type": "display_data",
          "data": {
            "text/plain": [
              "<Figure size 1440x720 with 1 Axes>"
            ],
            "image/png": "[encoded data removed]"
          },
          "metadata": {
            "tags": []
          }
        }
      ]
    },
    {
      "cell_type": "code",
      "metadata": {
        "id": "f7nl865g5T9p",
        "colab_type": "code",
        "colab": {
          "base_uri": "https://localhost:8080/",
          "height": 472
        },
        "outputId": "faf62ae9-6769-41df-caa2-f214cc8c2cf8"
      },
      "source": [
        "fig1, ax1 = plt.subplots()\n",
        "ax1.pie(total_genre_movies['count'][:-1], labels=total_genre_movies['genre'][:-1], autopct='%1.1f%%', shadow=True,colors=sns.color_palette(\"Blues\",19))\n",
        "ax1.axis('equal')\n",
        "plt.show()"
      ],
      "execution_count": 161,
      "outputs": [
        {
          "output_type": "display_data",
          "data": {
            "text/plain": [
              "<Figure size 720x576 with 1 Axes>"
            ],
            "image/png": "[encoded data removed]"
          },
          "metadata": {
            "tags": []
          }
        }
      ]
    },
    {
      "cell_type": "markdown",
      "metadata": {
        "id": "lITxayiJeMM5",
        "colab_type": "text"
      },
      "source": [
        "### Most Frequent Actor?"
      ]
    },
    {
      "cell_type": "code",
      "metadata": {
        "trusted": true,
        "id": "Md93DmRceMM5",
        "colab_type": "code",
        "colab": {}
      },
      "source": [
        "def count_genre(x):\n",
        "    #concatenate all the rows of the genres.\n",
        "    data_plot = imdb[x].str.cat(sep = '|')\n",
        "    df = pd.Series(data_plot.split('|'))\n",
        "    #conts each of the genre and return.\n",
        "    info = df.value_counts(ascending=False)\n",
        "    return info"
      ],
      "execution_count": null,
      "outputs": []
    },
    {
      "cell_type": "code",
      "metadata": {
        "trusted": true,
        "id": "A3MmHpGpeMM8",
        "colab_type": "code",
        "colab": {}
      },
      "source": [
        "#call the 'count_genre' function which we made earlier for spiliing and counting genres.\n",
        "#it wiil count number of movies done by each actor.\n",
        "count_actor_films = count_genre('title_cast')\n",
        "\n",
        "#plot the barh plot.\n",
        "count_actor_films.iloc[:20].plot.bar(figsize=(13,6),colormap= 'tab20c',fontsize=12)\n",
        "\n",
        "#setup the title and the labels of the plot.\n",
        "plt.title(\"Most Frequent Actor\",fontsize=15)\n",
        "plt.xticks(rotation = 70)\n",
        "plt.xlabel('Actor',fontsize=13)\n",
        "plt.ylabel(\"Number Of Movies\",fontsize= 13)\n",
        "sns.set_style(\"whitegrid\")"
      ],
      "execution_count": null,
      "outputs": []
    },
    {
      "cell_type": "markdown",
      "metadata": {
        "id": "5GhPf8B-eMM_",
        "colab_type": "text"
      },
      "source": [
        "### Top 20 Director Who Directs Maximum Movies?"
      ]
    },
    {
      "cell_type": "code",
      "metadata": {
        "trusted": true,
        "id": "4yktZmLneMM_",
        "colab_type": "code",
        "colab": {}
      },
      "source": [
        "def count_genre(x):\n",
        "    #concatenate all the rows of the genres.\n",
        "    data_plot = imdb[x].str.cat(sep = '|')\n",
        "    df = pd.Series(data_plot.split('|'))\n",
        "    #conts each of the genre and return.\n",
        "    info = df.value_counts(ascending=False)\n",
        "    return info"
      ],
      "execution_count": null,
      "outputs": []
    },
    {
      "cell_type": "code",
      "metadata": {
        "trusted": true,
        "id": "zJ2PwIjVeMNE",
        "colab_type": "code",
        "colab": {}
      },
      "source": [
        "#call the 'count_genre' function which we made earlier for spiliing and counting genres.\n",
        "#it wiil count number of movies directed by each diretor.\n",
        "count_director_movies = count_genre('director')\n",
        "\n",
        "#plot a barh graph\n",
        "count_director_movies.iloc[:20].plot(kind='bar',figsize=(13,6),fontsize=12)\n",
        "\n",
        "#setup the title and the labels \n",
        "plt.title(\"Director Vs Number Of Movies\",fontsize=15)\n",
        "plt.xticks(rotation=70)\n",
        "plt.ylabel(\"Number Of Movies\",fontsize= 13)\n",
        "sns.set_style(\"whitegrid\")"
      ],
      "execution_count": null,
      "outputs": []
    },
    {
      "cell_type": "markdown",
      "metadata": {
        "id": "qaah6tf-eMNG",
        "colab_type": "text"
      },
      "source": [
        "### Most Popular Keyword?"
      ]
    },
    {
      "cell_type": "code",
      "metadata": {
        "trusted": true,
        "id": "iwzw69-PeMNG",
        "colab_type": "code",
        "colab": {}
      },
      "source": [
        "#imdb['plot_keywords'] = imdb['plot_keywords'].fillna(imdb['plot_keywords'].mode(), inplace=True)\n",
        "keywords = count_genre('plot_keywords')\n",
        "\n",
        "i = 0\n",
        "keyword_occurences = []\n",
        "for p in keywords.index:\n",
        "    keyword_occurences.append([p, keywords[i]])\n",
        "    i = i+1"
      ],
      "execution_count": null,
      "outputs": []
    },
    {
      "cell_type": "code",
      "metadata": {
        "trusted": true,
        "id": "97HLAEWmeMNI",
        "colab_type": "code",
        "colab": {}
      },
      "source": [
        "def random_color_func(word=None, font_size=None, position=None,\n",
        "                      orientation=None, font_path=None, random_state=None):\n",
        "    h = int(360.0 * tone / 255.0)\n",
        "    s = int(100.0 * 255.0 / 255.0)\n",
        "    l = int(100.0 * float(random_state.randint(70, 120)) / 255.0)\n",
        "    return \"hsl({}, {}%, {}%)\".format(h, s, l)\n"
      ],
      "execution_count": null,
      "outputs": []
    },
    {
      "cell_type": "code",
      "metadata": {
        "trusted": true,
        "id": "k8hiPmOGeMNK",
        "colab_type": "code",
        "colab": {}
      },
      "source": [
        "from wordcloud import WordCloud, STOPWORDS\n",
        "#_____________________________________________\n",
        "# UPPER PANEL: WORDCLOUD\n",
        "fig = plt.figure(1, figsize=(18,13))\n",
        "ax1 = fig.add_subplot(2,1,1)\n",
        "#_______________________________________________________\n",
        "# I define the dictionary used to produce the wordcloud\n",
        "words = dict()\n",
        "trunc_occurences = keyword_occurences[0:100]\n",
        "for s in trunc_occurences:\n",
        "    words[s[0]] = s[1]\n",
        "tone = 55.0 # define the color of the words\n",
        "#________________________________________________________\n",
        "wordcloud = WordCloud(width=1000,height=300, background_color='white', \n",
        "                      max_words=1628,relative_scaling=1,\n",
        "                      color_func = random_color_func,\n",
        "                      normalize_plurals=False)\n",
        "wordcloud.generate_from_frequencies(words)\n",
        "ax1.imshow(wordcloud, interpolation=\"bilinear\")\n",
        "ax1.axis('off')"
      ],
      "execution_count": null,
      "outputs": []
    },
    {
      "cell_type": "code",
      "metadata": {
        "trusted": true,
        "id": "NfXOUzfCeMNL",
        "colab_type": "code",
        "colab": {}
      },
      "source": [
        ""
      ],
      "execution_count": null,
      "outputs": []
    },
    {
      "cell_type": "code",
      "metadata": {
        "trusted": true,
        "id": "jFwQJ_lKeMNM",
        "colab_type": "code",
        "colab": {}
      },
      "source": [
        ""
      ],
      "execution_count": null,
      "outputs": []
    },
    {
      "cell_type": "code",
      "metadata": {
        "trusted": true,
        "id": "91hX8K7weMNO",
        "colab_type": "code",
        "colab": {}
      },
      "source": [
        ""
      ],
      "execution_count": null,
      "outputs": []
    },
    {
      "cell_type": "code",
      "metadata": {
        "trusted": true,
        "id": "e2QAlIN3eMNP",
        "colab_type": "code",
        "colab": {}
      },
      "source": [
        ""
      ],
      "execution_count": null,
      "outputs": []
    },
    {
      "cell_type": "code",
      "metadata": {
        "trusted": true,
        "id": "j-rLsCdIeMNR",
        "colab_type": "code",
        "colab": {}
      },
      "source": [
        ""
      ],
      "execution_count": null,
      "outputs": []
    },
    {
      "cell_type": "code",
      "metadata": {
        "trusted": true,
        "id": "L82hV3nkeMNS",
        "colab_type": "code",
        "colab": {}
      },
      "source": [
        ""
      ],
      "execution_count": null,
      "outputs": []
    },
    {
      "cell_type": "code",
      "metadata": {
        "trusted": true,
        "id": "vZyDIti1eMNV",
        "colab_type": "code",
        "colab": {}
      },
      "source": [
        ""
      ],
      "execution_count": null,
      "outputs": []
    },
    {
      "cell_type": "code",
      "metadata": {
        "trusted": true,
        "id": "lpMSJ2NCeMNW",
        "colab_type": "code",
        "colab": {}
      },
      "source": [
        ""
      ],
      "execution_count": null,
      "outputs": []
    },
    {
      "cell_type": "markdown",
      "metadata": {
        "id": "JQ00bN6fBL5t",
        "colab_type": "text"
      },
      "source": [
        "##How is the training data distributed?"
      ]
    },
    {
      "cell_type": "code",
      "metadata": {
        "id": "WhwPIf0NBd1L",
        "colab_type": "code",
        "colab": {}
      },
      "source": [
        "with sns.axes_style('whitegrid'):\n",
        "    g = sns.catplot(\"rating\", data=train, aspect=2.0,kind='count', palette = sns.color_palette(\"BrBG\", 10))\n",
        "    g.set_ylabels(\"Total number of ratings\")\n",
        "    plt.title('Distribution of the ratings in training data')\n",
        "print (f'Average rating in dataset: {np.mean(train[\"rating\"])}')"
      ],
      "execution_count": null,
      "outputs": []
    },
    {
      "cell_type": "code",
      "metadata": {
        "id": "00S3N6ncHJ7Q",
        "colab_type": "code",
        "colab": {}
      },
      "source": [
        "# The minimum and maximum ratings given by the users\n",
        "print('The minimum rating given is:',data['rating'].min())\n",
        "print('The maximum rating given is:',data['rating'].max())"
      ],
      "execution_count": null,
      "outputs": []
    },
    {
      "cell_type": "code",
      "metadata": {
        "id": "_1oErfz5LLX8",
        "colab_type": "code",
        "colab": {}
      },
      "source": [
        "# Define a function that creates ranges for ratings\n",
        "def rating_range(rating):\n",
        "  '''Takes a rating as input and returns the range that the rating is in.\n",
        "     params: rating (str)\n",
        "     return: rating range (str)\n",
        "  '''\n",
        "  rating = int(rating)\n",
        "  if rating < 1:    \n",
        "    return '0-1'\n",
        "  elif rating <2:\n",
        "    return'1-2'\n",
        "  elif rating <3:\n",
        "    return '2-3'\n",
        "  elif rating <4:\n",
        "    return '3-4'\n",
        "  else:\n",
        "    return '4-5'"
      ],
      "execution_count": null,
      "outputs": []
    },
    {
      "cell_type": "code",
      "metadata": {
        "id": "fdr8Np7-JEDc",
        "colab_type": "code",
        "colab": {}
      },
      "source": [
        "movie_rating=data.groupby(['title'])['rating'].mean() # agg rating by mean\n",
        "movie_rating=pd.DataFrame(movie_rating)\n",
        "movie_rating"
      ],
      "execution_count": null,
      "outputs": []
    },
    {
      "cell_type": "code",
      "metadata": {
        "id": "PkSWcUZ6jl9k",
        "colab_type": "code",
        "colab": {}
      },
      "source": [
        "# Generate column to sum number of ratings per title\n",
        "movie_rating['num of ratings'] = pd.DataFrame(data.groupby('title')['rating'].count())"
      ],
      "execution_count": null,
      "outputs": []
    },
    {
      "cell_type": "code",
      "metadata": {
        "id": "r3VbadbCIxl-",
        "colab_type": "code",
        "colab": {}
      },
      "source": [
        "movie_rating['range']=movie_rating['rating'].apply(rating_range)"
      ],
      "execution_count": null,
      "outputs": []
    },
    {
      "cell_type": "code",
      "metadata": {
        "id": "OdJc5hOZ7r86",
        "colab_type": "code",
        "colab": {}
      },
      "source": [
        "# Plot scatter plot illustrating the relationship between ratings and number of ratings\n",
        "sns.set(style=\"whitegrid\", context=\"talk\")\n",
        "f, ax = plt.subplots(figsize=(15, 8))\n",
        "hue_legend=['0-1','1-2','2-3','3-4','4-5']\n",
        "sns.scatterplot(x=movie_rating['rating'], y=movie_rating['num of ratings'],hue_order=hue_legend,\n",
        "                hue = movie_rating['range'],palette=\"husl\",sizes=(1, 8),linewidth=0.5,\n",
        "                data=movie_rating, ax=ax)\n",
        "plt.xlabel('Ratings') \n",
        "plt.ylabel('Total Ratings')\n",
        "plt.title('Clustered ratings based on the amount of ratings') \n",
        "plt.show()"
      ],
      "execution_count": null,
      "outputs": []
    },
    {
      "cell_type": "markdown",
      "metadata": {
        "id": "1e9lXQ-YaC1Z",
        "colab_type": "text"
      },
      "source": [
        "#Modelling"
      ]
    },
    {
      "cell_type": "markdown",
      "metadata": {
        "id": "d73gTcmmSZ0L",
        "colab_type": "text"
      },
      "source": [
        "A recommender system functions by predicting a user's rating or preference for an item.\n",
        "\n",
        "There are two primary sets of entities:\n",
        "- the Users ( individuals who interact with the items)\n",
        "- the Items (a thing which is consumed)\n",
        "\n",
        "\n",
        "Items can be:\n",
        "- watched\n",
        "- read\n",
        "- bought\n",
        "- clicked-on\n",
        "- considered.\n",
        "\n",
        "\n",
        "Items are passive, meaning that their properties or nature does not change.\n",
        "\n",
        "Users create ratings for specific items within a recommendation system.\n",
        "\n",
        "There are two approaches to recommending movies:\n",
        " - collaborative based filtering\n",
        " - content based filtering"
      ]
    },
    {
      "cell_type": "markdown",
      "metadata": {
        "id": "lAWnmTs7aKf7",
        "colab_type": "text"
      },
      "source": [
        "## Collaborative based prediction\n",
        "A reader is needed in order to input `rating_scale` parameter"
      ]
    },
    {
      "cell_type": "code",
      "metadata": {
        "id": "pZc3Z3okaEPb",
        "colab_type": "code",
        "colab": {}
      },
      "source": [
        "reader = Reader(rating_scale=(1, 5))"
      ],
      "execution_count": null,
      "outputs": []
    },
    {
      "cell_type": "markdown",
      "metadata": {
        "id": "x78UyrP8aT9M",
        "colab_type": "text"
      },
      "source": [
        " - Load data into format that Surprise understands using Dataset class from surprise\n",
        " - The columns must correspond to user id, item id and ratings (in that order)."
      ]
    },
    {
      "cell_type": "code",
      "metadata": {
        "id": "14BhUr8MaYt4",
        "colab_type": "code",
        "colab": {}
      },
      "source": [
        "data = Dataset.load_from_df(train[['userId', 'movieId', 'rating']], reader)"
      ],
      "execution_count": null,
      "outputs": []
    },
    {
      "cell_type": "markdown",
      "metadata": {
        "id": "chKy6J51adwE",
        "colab_type": "text"
      },
      "source": [
        "We can now use this dataset as we please, e.g. calling cross_validate"
      ]
    },
    {
      "cell_type": "code",
      "metadata": {
        "id": "WoIwEuXIa52G",
        "colab_type": "code",
        "colab": {}
      },
      "source": [
        "# We are using the full train dataset to train the model here - should use test and train split in order to evaluate\n",
        "trainset = data.build_full_trainset()"
      ],
      "execution_count": null,
      "outputs": []
    },
    {
      "cell_type": "markdown",
      "metadata": {
        "id": "3Qbs5AWOa7Ww",
        "colab_type": "text"
      },
      "source": [
        "### SVD model"
      ]
    },
    {
      "cell_type": "code",
      "metadata": {
        "id": "sfGeWr4yafIq",
        "colab_type": "code",
        "colab": {}
      },
      "source": [
        "# Build an algorithm, and train it.\n",
        "algo = SVD()\n",
        "algo.fit(trainset)"
      ],
      "execution_count": null,
      "outputs": []
    },
    {
      "cell_type": "code",
      "metadata": {
        "id": "Q8zbvQvO4OO2",
        "colab_type": "code",
        "colab": {}
      },
      "source": [
        "# Pickle model\n",
        "model_save_path = \"SVD_full_dataset.pkl\"\n",
        "with open(model_save_path,'wb') as file:\n",
        "    pickle.dump(algo,file)"
      ],
      "execution_count": null,
      "outputs": []
    },
    {
      "cell_type": "markdown",
      "metadata": {
        "id": "6vS8cw_HbVH8",
        "colab_type": "text"
      },
      "source": [
        "Example on how to predict using the SVD algorithm"
      ]
    },
    {
      "cell_type": "code",
      "metadata": {
        "id": "JV1IsBdQbLIk",
        "colab_type": "code",
        "colab": {}
      },
      "source": [
        "# raw user id (as in the ratings file). They are **strings**!\n",
        "uid = str(1)\n",
        "# raw item id (as in the ratings file). They are **strings**!\n",
        "iid = str(2011)"
      ],
      "execution_count": null,
      "outputs": []
    },
    {
      "cell_type": "markdown",
      "metadata": {
        "id": "-L_dZxmZbqMa",
        "colab_type": "text"
      },
      "source": [
        "Get a prediction for specific users and items."
      ]
    },
    {
      "cell_type": "code",
      "metadata": {
        "id": "nu3P8kaVbt0v",
        "colab_type": "code",
        "colab": {}
      },
      "source": [
        "pred = algo.predict(uid, iid, r_ui=4, verbose=True)"
      ],
      "execution_count": null,
      "outputs": []
    },
    {
      "cell_type": "markdown",
      "metadata": {
        "id": "ORPpFLexb8SD",
        "colab_type": "text"
      },
      "source": [
        "Get a prediction for the test data"
      ]
    },
    {
      "cell_type": "code",
      "metadata": {
        "id": "qtAc_TKlXaPn",
        "colab_type": "code",
        "colab": {}
      },
      "source": [
        "test_df = pd.read_csv('Documents/movies/test.csv')"
      ],
      "execution_count": null,
      "outputs": []
    },
    {
      "cell_type": "code",
      "metadata": {
        "id": "6EwfDnU-cA9z",
        "colab_type": "code",
        "colab": {}
      },
      "source": [
        "# Predict on our test data\n",
        "predcol = []\n",
        "for _, row in test_df.iterrows():\n",
        "    x = (algo.predict(row.userId, row.movieId))\n",
        "    pred = x[3]\n",
        "    predcol.append(pred)"
      ],
      "execution_count": null,
      "outputs": []
    },
    {
      "cell_type": "code",
      "metadata": {
        "id": "xNbesfAmcKzD",
        "colab_type": "code",
        "colab": {}
      },
      "source": [
        "# check if the prediction length is the same as input length\n",
        "len(predcol) == len(test_df)"
      ],
      "execution_count": null,
      "outputs": []
    },
    {
      "cell_type": "code",
      "metadata": {
        "id": "0LpF6liqcP5J",
        "colab_type": "code",
        "colab": {}
      },
      "source": [
        "# Convert columns to string in order to prep for concatenating\n",
        "test_df['userId'] = test_df['userId'].astype(str)\n",
        "test_df['movieId'] = test_df['movieId'].astype(str)"
      ],
      "execution_count": null,
      "outputs": []
    },
    {
      "cell_type": "code",
      "metadata": {
        "id": "2d1EB6vMcYQv",
        "colab_type": "code",
        "colab": {}
      },
      "source": [
        "# Create submission column ID\n",
        "test_df['Id'] =test_df['userId']+'_'+test_df['movieId']"
      ],
      "execution_count": null,
      "outputs": []
    },
    {
      "cell_type": "code",
      "metadata": {
        "id": "PeQdUSV4cbrO",
        "colab_type": "code",
        "colab": {}
      },
      "source": [
        "kaggle_df = pd.DataFrame(\n",
        "    {'Id': test_df['Id'],\n",
        "     'rating': predcol\n",
        "    })"
      ],
      "execution_count": null,
      "outputs": []
    },
    {
      "cell_type": "code",
      "metadata": {
        "id": "Xkc4Y6TSccEd",
        "colab_type": "code",
        "colab": {}
      },
      "source": [
        "kaggle_df.shape"
      ],
      "execution_count": null,
      "outputs": []
    },
    {
      "cell_type": "code",
      "metadata": {
        "id": "IrqCZzcKckn5",
        "colab_type": "code",
        "colab": {}
      },
      "source": [
        "kaggle_df.head()"
      ],
      "execution_count": null,
      "outputs": []
    },
    {
      "cell_type": "code",
      "metadata": {
        "id": "z6Uh5V7Acn-p",
        "colab_type": "code",
        "colab": {}
      },
      "source": [
        "# Export to csv\n",
        "kaggle_df.to_csv(\"SVD_base.csv\",index=False)"
      ],
      "execution_count": null,
      "outputs": []
    },
    {
      "cell_type": "markdown",
      "metadata": {
        "id": "negzflf0TUjh",
        "colab_type": "text"
      },
      "source": [
        "## Content based prediction\n",
        "In Content-based Filtering, we seek to make recommendations based on how similar the properties or features of an item are to other items."
      ]
    },
    {
      "cell_type": "code",
      "metadata": {
        "id": "tUFA7o324YgV",
        "colab_type": "code",
        "colab": {}
      },
      "source": [
        "# Not sure where df is created in notebook\n",
        "# will create it again\n",
        "# need to just recheck the flow of notebook"
      ],
      "execution_count": null,
      "outputs": []
    },
    {
      "cell_type": "code",
      "metadata": {
        "id": "FKI-aAjT4qK5",
        "colab_type": "code",
        "colab": {}
      },
      "source": [
        "# Generate a dataframe df by mergin the train, movies and imdb datsets on movieId\n",
        "df=pd.merge(movies,train,how='outer',on='movieId') # movies and train outer join\n",
        "df=pd.merge(df,imdb,how='left',on='movieId') # movies and train left join"
      ],
      "execution_count": null,
      "outputs": []
    },
    {
      "cell_type": "code",
      "metadata": {
        "id": "4_rvKOnu7UPb",
        "colab_type": "code",
        "colab": {}
      },
      "source": [
        "del movies\n",
        "del imdb"
      ],
      "execution_count": null,
      "outputs": []
    },
    {
      "cell_type": "code",
      "metadata": {
        "id": "tmIHWuPyTcDe",
        "colab_type": "code",
        "colab": {}
      },
      "source": [
        "column_list=['timestamp','runtime','budget','plot_keywords']\n",
        "df.drop(column_list,axis=1,inplace=True)"
      ],
      "execution_count": null,
      "outputs": []
    },
    {
      "cell_type": "code",
      "metadata": {
        "id": "j9Qz-kYKUfES",
        "colab_type": "code",
        "colab": {}
      },
      "source": [
        "# Check df shape\n",
        "row,column=df.shape\n",
        "print('The dataframe has {} rows and {} columns.'.format(row, column))"
      ],
      "execution_count": null,
      "outputs": []
    },
    {
      "cell_type": "code",
      "metadata": {
        "id": "Ha1MTkAyUgxQ",
        "colab_type": "code",
        "colab": {}
      },
      "source": [
        "df.head(5)"
      ],
      "execution_count": null,
      "outputs": []
    },
    {
      "cell_type": "code",
      "metadata": {
        "id": "6P-U_DeIUmnp",
        "colab_type": "code",
        "colab": {}
      },
      "source": [
        "# Function takes in text as input and removes pipe\n",
        "def remove_pipe(text):\n",
        "  text=str (text)\n",
        "  text=text.replace(\"|\",\",\")\n",
        "  return text"
      ],
      "execution_count": null,
      "outputs": []
    },
    {
      "cell_type": "code",
      "metadata": {
        "id": "uA-MXUagUwOU",
        "colab_type": "code",
        "colab": {}
      },
      "source": [
        "# Apply remove_pipe to columns title_cast and genres\n",
        "df['genres']=df['genres'].fillna('') #fill missing values with blanks\n",
        "df['title_cast']=df['title_cast'].fillna('') #fill missing values with blanks\n",
        "\n",
        "df['title_cast']=df['title_cast'].apply(remove_pipe) #apply remove_pipe sunction\n",
        "df['genres']=df['genres'].apply(remove_pipe)\n",
        "df.head()"
      ],
      "execution_count": null,
      "outputs": []
    },
    {
      "cell_type": "markdown",
      "metadata": {
        "id": "skxxiIZ_U37n",
        "colab_type": "text"
      },
      "source": [
        "Taking the df dataframe. A filtered dataframe with unique movie titles can be generated to remove duplicate movie titles due to multiple user ratings."
      ]
    },
    {
      "cell_type": "code",
      "metadata": {
        "id": "kd88IeZYVCyJ",
        "colab_type": "code",
        "colab": {}
      },
      "source": [
        "# A content column can be generated from the title_cast and genres columns\n",
        "# This column will be used to build the content recommender\n",
        "\n",
        "df['content']=df['genres']+' '+ df['title_cast'] \n",
        "df['content'][0]"
      ],
      "execution_count": null,
      "outputs": []
    },
    {
      "cell_type": "code",
      "metadata": {
        "id": "jCZrrQXyVIlJ",
        "colab_type": "code",
        "colab": {}
      },
      "source": [
        "# A ratings dataframe can be generated from uniw\\que movie titles and their average ratings across all users\n",
        "ratings=df.groupby(['title'])['rating'].mean() #group by title and aggregate ratings\n",
        "ratings=pd.DataFrame(ratings)\n",
        "ratings=ratings.fillna(2) # fill missing values with generic score of 2 (40%)\n",
        "ratings['num of ratings']=df.groupby(['title'])['rating'].count() #generate a column witht the total number of ratings\n",
        "ratings.head(5)"
      ],
      "execution_count": null,
      "outputs": []
    },
    {
      "cell_type": "code",
      "metadata": {
        "id": "hYUyQPPIVPOX",
        "colab_type": "code",
        "colab": {}
      },
      "source": [
        "content=df.groupby(['title'])['content'].unique() #group by title and display unique values in a list\n",
        "content=pd.DataFrame(content)\n",
        "content.head(5)"
      ],
      "execution_count": null,
      "outputs": []
    },
    {
      "cell_type": "code",
      "metadata": {
        "id": "6HePysEtVTSh",
        "colab_type": "code",
        "colab": {}
      },
      "source": [
        "# Generate single dataframe\n",
        "movie_df=pd.merge(ratings,content,on='title') #join on index\n",
        "row,column=movie_df.shape\n",
        "print('The dataframe has {} rows (representing unique movie titles) and {} columns.'.format(row, column))\n",
        "movie_df.head(5)"
      ],
      "execution_count": null,
      "outputs": []
    },
    {
      "cell_type": "code",
      "metadata": {
        "id": "CbUpnpnX8Hs2",
        "colab_type": "code",
        "colab": {}
      },
      "source": [
        "del content\n",
        "del ratings"
      ],
      "execution_count": null,
      "outputs": []
    },
    {
      "cell_type": "code",
      "metadata": {
        "id": "NNds6TjdVW8o",
        "colab_type": "code",
        "colab": {}
      },
      "source": [
        "# Sort move_df from highest to lowest num of ratings\n",
        "movie_df=movie_df.sort_values('num of ratings',ascending=False)\n",
        "movie_df.head(5)"
      ],
      "execution_count": null,
      "outputs": []
    },
    {
      "cell_type": "code",
      "metadata": {
        "id": "H8hjneC6Vahw",
        "colab_type": "code",
        "colab": {}
      },
      "source": [
        "# Function will remove items from lists into strings\n",
        "def string(input):\n",
        "  string=' '\n",
        "  for i in input:\n",
        "    string=string+str (i)\n",
        "  return string"
      ],
      "execution_count": null,
      "outputs": []
    },
    {
      "cell_type": "code",
      "metadata": {
        "id": "M9HTuRgwVc_x",
        "colab_type": "code",
        "colab": {}
      },
      "source": [
        "# Generate strings from lists\n",
        "movie_df['content']=movie_df['content'].apply(string) #generate strings\n",
        "movie_df['content'][1]"
      ],
      "execution_count": null,
      "outputs": []
    },
    {
      "cell_type": "markdown",
      "metadata": {
        "id": "JWRiTQZcViNh",
        "colab_type": "text"
      },
      "source": [
        "The movie_df dataframe is the base from which the recommender is built. \n",
        "\n",
        "The content column will be the feature used, which will be vectorized and converted to a similarity matrix mxm"
      ]
    },
    {
      "cell_type": "code",
      "metadata": {
        "id": "lBdaPv0gVhUg",
        "colab_type": "code",
        "colab": {}
      },
      "source": [
        "# A subset of the movies will be used. The greater the subset, the more memory is committed\n",
        "# The cosine similiarity size is proportional to feature size\n",
        "#First 15000 movies are selected\n",
        "feature=movie_df['content'][0:15000]"
      ],
      "execution_count": null,
      "outputs": []
    },
    {
      "cell_type": "code",
      "metadata": {
        "id": "gGptJYArVrGQ",
        "colab_type": "code",
        "colab": {}
      },
      "source": [
        "# Set up vectorizer\n",
        "vec=TfidfVectorizer(stop_words='english') # term frequency inverse document frequency"
      ],
      "execution_count": null,
      "outputs": []
    },
    {
      "cell_type": "code",
      "metadata": {
        "id": "SU--z0UkVvIB",
        "colab_type": "code",
        "colab": {}
      },
      "source": [
        "# Vectorize combined column\n",
        "feature_vec=vec.fit_transform(feature)\n",
        "row,column=feature_vec.shape\n",
        "print('feature_vec is a sparse matrix with {} rows (representing unique movie titles) and {} columns.'.format(row, column))"
      ],
      "execution_count": null,
      "outputs": []
    },
    {
      "cell_type": "markdown",
      "metadata": {
        "id": "vRfwZFT8VxmH",
        "colab_type": "text"
      },
      "source": [
        "\n",
        "The cosine similarity will be used to determine how similar two entities are based off the angle between their two vectors formed. The closer a value is to 1, to higher the similarity\n",
        "\n",
        "The cosine similarity is formed from the dot product of the feature_vec matrix and its transpose divided by the product of their magniudes."
      ]
    },
    {
      "cell_type": "code",
      "metadata": {
        "id": "Ikn57h7YV2YV",
        "colab_type": "code",
        "colab": {}
      },
      "source": [
        "# Use cosine similarity to get similarity matrix\n",
        "sim_matrix =cosine_similarity(feature_vec,feature_vec)\n",
        "row,column=sim_matrix.shape\n",
        "print('The sim_mat matrix has {} rows and {} columns.'.format(row, column))"
      ],
      "execution_count": null,
      "outputs": []
    },
    {
      "cell_type": "code",
      "metadata": {
        "id": "BQi3blJOV685",
        "colab_type": "code",
        "colab": {}
      },
      "source": [
        "# Double check\n",
        "# Reset the move_df index as it will be used to generate a Series that will map sim_mat\n",
        "movie_df=movie_df.reset_index()\n",
        "movie_df.head(5)"
      ],
      "execution_count": null,
      "outputs": []
    },
    {
      "cell_type": "code",
      "metadata": {
        "id": "KaY4k-hTV9dA",
        "colab_type": "code",
        "colab": {}
      },
      "source": [
        "# Index mapping\n",
        "index_map = pd.Series(movie_df.index,index = movie_df['title']) # contains a series of the movie titles in movie_df\n",
        "index_map"
      ],
      "execution_count": null,
      "outputs": []
    },
    {
      "cell_type": "code",
      "metadata": {
        "id": "RKe7n9MNWDJZ",
        "colab_type": "code",
        "colab": {}
      },
      "source": [
        "# Function takes in a movie title as an input and returns 10 movie title recommendations\n",
        "\n",
        "def recommendation(title):\n",
        "  index = index_map[title] # returns the index of the argument title in index_map\n",
        "  similarity = list(enumerate(sim_matrix[index])) # returns a list of with index and similarity\n",
        "  similarity = sorted(similarity, key=lambda x: x[1], reverse=True) # sorts list in descending order\n",
        "  similarity = similarity[1:11] # top 10 recommendations\n",
        "  #return movie names using the mapping series\n",
        "  movie_indices = [i[0] for i in similarity] # obtain indices for recommended movies\n",
        "  return (movie_df['title'].iloc[movie_indices]) # filter movie_df for titles"
      ],
      "execution_count": null,
      "outputs": []
    },
    {
      "cell_type": "markdown",
      "metadata": {
        "id": "JXqVR_NZWHo2",
        "colab_type": "text"
      },
      "source": [
        "Using the animated movie Aladin from 1992. The recommender returns viewing options consisting of animated movies such as Moana, Minions and Dragons: Dawn Of The Dragon Racers.\n",
        "\n"
      ]
    },
    {
      "cell_type": "code",
      "metadata": {
        "id": "H7bsVi7CWKTx",
        "colab_type": "code",
        "colab": {}
      },
      "source": [
        "# Lets search for recommendations based off Aladdin\n",
        "recommendations=recommendation('Aladdin (1992)')\n",
        "recommend_list=list(recommendations)\n",
        "recommend_list"
      ],
      "execution_count": null,
      "outputs": []
    },
    {
      "cell_type": "code",
      "metadata": {
        "id": "BlJISFeyXlQy",
        "colab_type": "code",
        "colab": {}
      },
      "source": [
        "# pickle recommendation function\n",
        "model_save_path = \"content_based.pkl\"\n",
        "with open(model_save_path,'wb') as file:\n",
        "  pickle.dump(recommendation,file)"
      ],
      "execution_count": null,
      "outputs": []
    },
    {
      "cell_type": "code",
      "metadata": {
        "id": "YFwz60oLYNFc",
        "colab_type": "code",
        "colab": {}
      },
      "source": [
        "#test content-based predictor\n",
        "print(\"testing content based recommender\")\n",
        "model_load_path = \"content_based.pkl\"\n",
        "with open(model_load_path,'rb') as file:\n",
        "  content_based_predict = pickle.load(file)\n",
        "  print(content_based_predict('Aladdin (1992)'))   "
      ],
      "execution_count": null,
      "outputs": []
    },
    {
      "cell_type": "markdown",
      "metadata": {
        "id": "RuWhpN-rUjP5",
        "colab_type": "text"
      },
      "source": [
        "In addtion. We can predict what a user would rate the movie watched based off previous ratings given.\n"
      ]
    },
    {
      "cell_type": "code",
      "metadata": {
        "id": "6Oq0DaaZ_FQo",
        "colab_type": "code",
        "colab": {}
      },
      "source": [
        "# Recall df and sort based in descending order of movie rating\n",
        "df=df.sort_values('rating',ascending=False)\n",
        "df.head()"
      ],
      "execution_count": null,
      "outputs": []
    },
    {
      "cell_type": "code",
      "metadata": {
        "id": "ztM6jDw1_2aY",
        "colab_type": "code",
        "colab": {}
      },
      "source": [
        "# Function predict a user rating for a particular title\n",
        "\n",
        "def user_rating(title, userId, df, k=20, threshold=0.0):\n",
        "    \n",
        "\n",
        "    index = index_map[title] # returns the index of the argument title in index_map\n",
        "\n",
        "    similar_titles = [] # List to append similar titles to \n",
        "\n",
        "    # Collect the similarity ratings between the movies rated by userid\n",
        "    \n",
        "    for idx, row in df[df['userId']==userId].iterrows():\n",
        "        similarity = sim_matrix[index-1, index_map[row['title']]-1]\n",
        "        similar_titles.append((similarity, row['rating']))\n",
        "        \n",
        "    # Select the top-N values from our collection\n",
        "    k_neighbors = heapq.nlargest(k,similar_titles, key=lambda t: t[0])\n",
        "\n",
        "    # Compute the weighted average similarity and user ratings\n",
        "    Total, weight = 0, 0\n",
        "    for (sim_score, rating) in k_neighbors:\n",
        "        # Ensure that similarity ratings are above a given threshold\n",
        "        if (sim_score > threshold):\n",
        "            Total += sim_score\n",
        "            weight += sim_score * rating\n",
        "            \n",
        "        prediction = weight/Total\n",
        "\n",
        "    return round(prediction,1)"
      ],
      "execution_count": null,
      "outputs": []
    },
    {
      "cell_type": "markdown",
      "metadata": {
        "id": "ci3vXEAZBdpB",
        "colab_type": "text"
      },
      "source": [
        "Testing the above function for user 137780 and the movie Toy Story, we obtain a predicted rating of 4.6"
      ]
    },
    {
      "cell_type": "code",
      "metadata": {
        "id": "uPjwF41mBiMf",
        "colab_type": "code",
        "colab": {}
      },
      "source": [
        "user_rating('Jerry Maguire (1996)',4224.0,df)"
      ],
      "execution_count": null,
      "outputs": []
    },
    {
      "cell_type": "markdown",
      "metadata": {
        "id": "R3RyE_qXCVTP",
        "colab_type": "text"
      },
      "source": [
        "# Recommender Comparison"
      ]
    },
    {
      "cell_type": "markdown",
      "metadata": {
        "id": "w8N1xpcUCa-t",
        "colab_type": "text"
      },
      "source": [
        "Both recommenders have the ability to provide recommendations to users as well as predict a rating that a user would give, but when comparing the difference in output for the same inputs we get the following"
      ]
    },
    {
      "cell_type": "code",
      "metadata": {
        "id": "c6gSDjgFCaU0",
        "colab_type": "code",
        "colab": {}
      },
      "source": [
        "users=list(df.iloc[2:10,3]) # List of users for comparison\n",
        "users"
      ],
      "execution_count": null,
      "outputs": []
    },
    {
      "cell_type": "markdown",
      "metadata": {
        "id": "Hqwr0TiJDSjz",
        "colab_type": "text"
      },
      "source": [
        "The dataframe below illustrates the difference in movie recommendations for the collaborative and content based models. The movie selected is '' and the top 10 recommendations given by the recommenders are shown"
      ]
    },
    {
      "cell_type": "code",
      "metadata": {
        "id": "lSsSvAaaDMbA",
        "colab_type": "code",
        "colab": {}
      },
      "source": [
        "ratings_list=[]\n",
        "\n",
        "#delete filler. This is to fill in the dataframe while we wait for collab information \n",
        "# Colab code must be added\n",
        "from numpy import random\n",
        "filler=random.randint(5, size=(8))\n",
        "\n",
        "for i in users:\n",
        "  \n",
        "  ratings_list.append(user_rating('Forrest Gump (1994)',i,df))\n",
        "\n",
        "user_dataframe=pd.DataFrame(data={'user':users,'content based ratings':ratings_list,'collaborative based ratings':filler})\n",
        "user_dataframe"
      ],
      "execution_count": null,
      "outputs": []
    },
    {
      "cell_type": "code",
      "metadata": {
        "id": "SuDgdBB4Ga3W",
        "colab_type": "code",
        "colab": {}
      },
      "source": [
        "# Plot comparison\n",
        "\n",
        "X=range(0,8) # Use range to represent number of users\n",
        "\n",
        "sns.set(style=\"whitegrid\", context=\"talk\")\n",
        "f, ax = plt.subplots(figsize=(15, 8))\n",
        "sns.lineplot(x=X, y=\"content based ratings\", data=user_dataframe,color=\"coral\", label=\"Content based\") # Content based plot\n",
        "sns.lineplot(x=X, y=\"collaborative based ratings\", data=user_dataframe,color=\"blue\", label=\"Colab based\") # Collaborative based plot\n",
        "plt.xlabel('Users') \n",
        "plt.ylabel('Ratings')\n",
        "plt.title('Recommender System Prediction Comparison') \n",
        "\n",
        "plt.show()"
      ],
      "execution_count": null,
      "outputs": []
    },
    {
      "cell_type": "markdown",
      "metadata": {
        "id": "Meh9XCemEueI",
        "colab_type": "text"
      },
      "source": [
        "Similary when getting recommendations for the action movieDouble Team, the two systems provide the following."
      ]
    },
    {
      "cell_type": "code",
      "metadata": {
        "id": "D7Y6KdsQE_F4",
        "colab_type": "code",
        "colab": {}
      },
      "source": [
        "# Recommendation code for each model\n",
        "\n",
        "# Colab code must be added\n",
        "\n",
        "\n",
        "recommendations=list(recommendation('Double Team (1997)')) # Content system recommendations\n",
        "\n"
      ],
      "execution_count": null,
      "outputs": []
    },
    {
      "cell_type": "code",
      "metadata": {
        "id": "iXJ0t8cDDMn7",
        "colab_type": "code",
        "colab": {}
      },
      "source": [
        "recommendation_comparison=pd.DataFrame(data={'content based recommedations':recommendations,'collaborative based model':recommendations})\n",
        "recommendation_comparison"
      ],
      "execution_count": null,
      "outputs": []
    },
    {
      "cell_type": "markdown",
      "metadata": {
        "id": "Ab6Vupk_VDig",
        "colab_type": "text"
      },
      "source": [
        "# Comet version control"
      ]
    },
    {
      "cell_type": "code",
      "metadata": {
        "id": "f_IDTGqC13P3",
        "colab_type": "code",
        "colab": {}
      },
      "source": [
        "# Comet logging\n",
        "\n",
        "params = {\"random_state\": 'none',\n",
        "          \"model_type\": \"SVD\",\n",
        "          \"scaler\": \"none\",\n",
        "          \"param_grid\": str(param_grid)\n",
        "          }\n",
        "metrics = {\"RMSE\": 'none',\n",
        "           \"top n\": 'none',\n",
        "           \"MAE\": 'none'\n",
        "           }\n",
        "\n",
        "# Log parameters and results\n",
        "experiment.log_parameters(params)\n",
        "experiment.log_metrics(metrics)\n",
        "\n",
        "# End Experiment# Create dictionaries for comet\n",
        "\n",
        "params = {\"random_state\": 'none',\n",
        "          \"model_type\": \"SVD\",\n",
        "          \"scaler\": \"none\",\n",
        "          \"param_grid\": str(param_grid)\n",
        "          }\n",
        "metrics = {\"RMSE\": 'none',\n",
        "           \"top n\": 'none',\n",
        "           \"MAE\": 'none'\n",
        "           }\n",
        "\n",
        "# Log parameters and results\n",
        "experiment.log_parameters(params)\n",
        "experiment.log_metrics(metrics)\n",
        "\n",
        "# End Experiment"
      ],
      "execution_count": null,
      "outputs": []
    },
    {
      "cell_type": "code",
      "metadata": {
        "id": "kUobeaHoTX8e",
        "colab_type": "code",
        "colab": {}
      },
      "source": [
        ""
      ],
      "execution_count": null,
      "outputs": []
    }
  ]
}