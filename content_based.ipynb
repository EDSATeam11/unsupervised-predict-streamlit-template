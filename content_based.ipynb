{
  "nbformat": 4,
  "nbformat_minor": 0,
  "metadata": {
    "colab": {
      "name": "content_based.ipynb",
      "provenance": [],
      "toc_visible": true,
      "authorship_tag": "ABX9TyMx0xo5Unpl5dY/Bc3Wg6E1",
      "include_colab_link": true
    },
    "kernelspec": {
      "name": "python3",
      "display_name": "Python 3"
    },
    "accelerator": "GPU"
  },
  "cells": [
    {
      "cell_type": "markdown",
      "metadata": {
        "id": "view-in-github",
        "colab_type": "text"
      },
      "source": [
        "<a href=\"https://colab.research.google.com/github/monicafar147/unsupervised-predict-streamlit-template/blob/modelling/content_based.ipynb\" target=\"_parent\"><img src=\"https://colab.research.google.com/assets/colab-badge.svg\" alt=\"Open In Colab\"/></a>"
      ]
    },
    {
      "cell_type": "markdown",
      "metadata": {
        "id": "negzflf0TUjh",
        "colab_type": "text"
      },
      "source": [
        "## Content based prediction\n",
        "In Content-based Filtering, we seek to make recommendations based on how similar the properties or features of an item are to other items."
      ]
    },
    {
      "cell_type": "code",
      "metadata": {
        "id": "X60Cr3T6euXU",
        "colab_type": "code",
        "colab": {}
      },
      "source": [
        "import pandas as pd\n",
        "import numpy as np\n",
        "# Import models\n",
        "from surprise import NormalPredictor\n",
        "from surprise import KNNBasic\n",
        "from surprise import SVD\n",
        "from surprise.model_selection import GridSearchCV\n",
        "from sklearn.metrics.pairwise import cosine_similarity\n",
        "from sklearn.feature_extraction.text import TfidfVectorizer"
      ],
      "execution_count": 1,
      "outputs": []
    },
    {
      "cell_type": "code",
      "metadata": {
        "id": "j_P2LXX4e69P",
        "colab_type": "code",
        "colab": {}
      },
      "source": [
        "imdb = pd.read_csv('Documents/movies/imdb_data.csv')\n",
        "train = pd.read_csv('Documents/movies/train.csv')\n",
        "movies = pd.read_csv('Documents/movies/movies.csv')"
      ],
      "execution_count": 2,
      "outputs": []
    },
    {
      "cell_type": "code",
      "metadata": {
        "id": "FKI-aAjT4qK5",
        "colab_type": "code",
        "colab": {}
      },
      "source": [
        "# Generate a dataframe df by mergin the train, movies and imdb datsets on movieId\n",
        "df=pd.merge(movies,train,how='outer',on='movieId') # movies and train outer join\n",
        "df=pd.merge(df,imdb,how='left',on='movieId') # movies and train left join"
      ],
      "execution_count": 3,
      "outputs": []
    },
    {
      "cell_type": "code",
      "metadata": {
        "id": "tmIHWuPyTcDe",
        "colab_type": "code",
        "colab": {}
      },
      "source": [
        "column_list=['timestamp','runtime','budget']\n",
        "df.drop(column_list,axis=1,inplace=True)"
      ],
      "execution_count": 4,
      "outputs": []
    },
    {
      "cell_type": "code",
      "metadata": {
        "id": "j9Qz-kYKUfES",
        "colab_type": "code",
        "colab": {
          "base_uri": "https://localhost:8080/",
          "height": 33
        },
        "outputId": "54747564-f81c-467e-c698-91147965ac89"
      },
      "source": [
        "# Check df shape\n",
        "row,column=df.shape\n",
        "print('The dataframe has {} rows and {} columns.'.format(row, column))"
      ],
      "execution_count": null,
      "outputs": [
        {
          "output_type": "stream",
          "text": [
            "The dataframe has 10014248 rows and 7 columns.\n"
          ],
          "name": "stdout"
        }
      ]
    },
    {
      "cell_type": "code",
      "metadata": {
        "id": "Ha1MTkAyUgxQ",
        "colab_type": "code",
        "colab": {
          "base_uri": "https://localhost:8080/",
          "height": 191
        },
        "outputId": "939d19a7-a774-4827-f90a-4a7dff1d3e4c"
      },
      "source": [
        "df.head(5)"
      ],
      "execution_count": null,
      "outputs": [
        {
          "output_type": "execute_result",
          "data": {
            "text/plain": [
              "   movieId             title                                       genres  \\\n",
              "0        1  Toy Story (1995)  Adventure|Animation|Children|Comedy|Fantasy   \n",
              "1        1  Toy Story (1995)  Adventure|Animation|Children|Comedy|Fantasy   \n",
              "2        1  Toy Story (1995)  Adventure|Animation|Children|Comedy|Fantasy   \n",
              "3        1  Toy Story (1995)  Adventure|Animation|Children|Comedy|Fantasy   \n",
              "4        1  Toy Story (1995)  Adventure|Animation|Children|Comedy|Fantasy   \n",
              "\n",
              "     userId  rating                                         title_cast  \\\n",
              "0  158849.0     5.0  Tom Hanks|Tim Allen|Don Rickles|Jim Varney|Wal...   \n",
              "1   97203.0     5.0  Tom Hanks|Tim Allen|Don Rickles|Jim Varney|Wal...   \n",
              "2  161871.0     3.0  Tom Hanks|Tim Allen|Don Rickles|Jim Varney|Wal...   \n",
              "3   45117.0     4.0  Tom Hanks|Tim Allen|Don Rickles|Jim Varney|Wal...   \n",
              "4   27431.0     5.0  Tom Hanks|Tim Allen|Don Rickles|Jim Varney|Wal...   \n",
              "\n",
              "        director  \n",
              "0  John Lasseter  \n",
              "1  John Lasseter  \n",
              "2  John Lasseter  \n",
              "3  John Lasseter  \n",
              "4  John Lasseter  "
            ],
            "text/html": [
              "<div>\n",
              "<style scoped>\n",
              "    .dataframe tbody tr th:only-of-type {\n",
              "        vertical-align: middle;\n",
              "    }\n",
              "\n",
              "    .dataframe tbody tr th {\n",
              "        vertical-align: top;\n",
              "    }\n",
              "\n",
              "    .dataframe thead th {\n",
              "        text-align: right;\n",
              "    }\n",
              "</style>\n",
              "<table border=\"1\" class=\"dataframe\">\n",
              "  <thead>\n",
              "    <tr style=\"text-align: right;\">\n",
              "      <th></th>\n",
              "      <th>movieId</th>\n",
              "      <th>title</th>\n",
              "      <th>genres</th>\n",
              "      <th>userId</th>\n",
              "      <th>rating</th>\n",
              "      <th>title_cast</th>\n",
              "      <th>director</th>\n",
              "    </tr>\n",
              "  </thead>\n",
              "  <tbody>\n",
              "    <tr>\n",
              "      <th>0</th>\n",
              "      <td>1</td>\n",
              "      <td>Toy Story (1995)</td>\n",
              "      <td>Adventure|Animation|Children|Comedy|Fantasy</td>\n",
              "      <td>158849.0</td>\n",
              "      <td>5.0</td>\n",
              "      <td>Tom Hanks|Tim Allen|Don Rickles|Jim Varney|Wal...</td>\n",
              "      <td>John Lasseter</td>\n",
              "    </tr>\n",
              "    <tr>\n",
              "      <th>1</th>\n",
              "      <td>1</td>\n",
              "      <td>Toy Story (1995)</td>\n",
              "      <td>Adventure|Animation|Children|Comedy|Fantasy</td>\n",
              "      <td>97203.0</td>\n",
              "      <td>5.0</td>\n",
              "      <td>Tom Hanks|Tim Allen|Don Rickles|Jim Varney|Wal...</td>\n",
              "      <td>John Lasseter</td>\n",
              "    </tr>\n",
              "    <tr>\n",
              "      <th>2</th>\n",
              "      <td>1</td>\n",
              "      <td>Toy Story (1995)</td>\n",
              "      <td>Adventure|Animation|Children|Comedy|Fantasy</td>\n",
              "      <td>161871.0</td>\n",
              "      <td>3.0</td>\n",
              "      <td>Tom Hanks|Tim Allen|Don Rickles|Jim Varney|Wal...</td>\n",
              "      <td>John Lasseter</td>\n",
              "    </tr>\n",
              "    <tr>\n",
              "      <th>3</th>\n",
              "      <td>1</td>\n",
              "      <td>Toy Story (1995)</td>\n",
              "      <td>Adventure|Animation|Children|Comedy|Fantasy</td>\n",
              "      <td>45117.0</td>\n",
              "      <td>4.0</td>\n",
              "      <td>Tom Hanks|Tim Allen|Don Rickles|Jim Varney|Wal...</td>\n",
              "      <td>John Lasseter</td>\n",
              "    </tr>\n",
              "    <tr>\n",
              "      <th>4</th>\n",
              "      <td>1</td>\n",
              "      <td>Toy Story (1995)</td>\n",
              "      <td>Adventure|Animation|Children|Comedy|Fantasy</td>\n",
              "      <td>27431.0</td>\n",
              "      <td>5.0</td>\n",
              "      <td>Tom Hanks|Tim Allen|Don Rickles|Jim Varney|Wal...</td>\n",
              "      <td>John Lasseter</td>\n",
              "    </tr>\n",
              "  </tbody>\n",
              "</table>\n",
              "</div>"
            ]
          },
          "metadata": {
            "tags": []
          },
          "execution_count": 7
        }
      ]
    },
    {
      "cell_type": "code",
      "metadata": {
        "id": "6P-U_DeIUmnp",
        "colab_type": "code",
        "colab": {}
      },
      "source": [
        "# Function takes in text as input and removes pipe\n",
        "def remove_pipe(text):\n",
        "  text=str (text)\n",
        "  text=text.replace(\"|\",\",\")\n",
        "  return text"
      ],
      "execution_count": 5,
      "outputs": []
    },
    {
      "cell_type": "code",
      "metadata": {
        "id": "uA-MXUagUwOU",
        "colab_type": "code",
        "colab": {
          "base_uri": "https://localhost:8080/",
          "height": 191
        },
        "outputId": "4a4c759a-fed8-4a7f-c789-245ba664b502"
      },
      "source": [
        "# Apply remove_pipe to columns title_cast and genres\n",
        "df['genres']=df['genres'].fillna('') #fill missing values with blanks\n",
        "df['title_cast']=df['title_cast'].fillna('') #fill missing values with blanks\n",
        "\n",
        "df['title_cast']=df['title_cast'].apply(remove_pipe) #apply remove_pipe sunction\n",
        "df['genres']=df['genres'].apply(remove_pipe)\n",
        "df['plot_keywords'] = df['plot_keywords'].apply(remove_pipe)\n",
        "df.head()"
      ],
      "execution_count": 6,
      "outputs": [
        {
          "output_type": "execute_result",
          "data": {
            "text/plain": [
              "   movieId             title                                       genres  \\\n",
              "0        1  Toy Story (1995)  Adventure,Animation,Children,Comedy,Fantasy   \n",
              "1        1  Toy Story (1995)  Adventure,Animation,Children,Comedy,Fantasy   \n",
              "2        1  Toy Story (1995)  Adventure,Animation,Children,Comedy,Fantasy   \n",
              "3        1  Toy Story (1995)  Adventure,Animation,Children,Comedy,Fantasy   \n",
              "4        1  Toy Story (1995)  Adventure,Animation,Children,Comedy,Fantasy   \n",
              "\n",
              "     userId  rating                                         title_cast  \\\n",
              "0  158849.0     5.0  Tom Hanks,Tim Allen,Don Rickles,Jim Varney,Wal...   \n",
              "1   97203.0     5.0  Tom Hanks,Tim Allen,Don Rickles,Jim Varney,Wal...   \n",
              "2  161871.0     3.0  Tom Hanks,Tim Allen,Don Rickles,Jim Varney,Wal...   \n",
              "3   45117.0     4.0  Tom Hanks,Tim Allen,Don Rickles,Jim Varney,Wal...   \n",
              "4   27431.0     5.0  Tom Hanks,Tim Allen,Don Rickles,Jim Varney,Wal...   \n",
              "\n",
              "        director                     plot_keywords  \n",
              "0  John Lasseter  toy,rivalry,cowboy,cgi animation  \n",
              "1  John Lasseter  toy,rivalry,cowboy,cgi animation  \n",
              "2  John Lasseter  toy,rivalry,cowboy,cgi animation  \n",
              "3  John Lasseter  toy,rivalry,cowboy,cgi animation  \n",
              "4  John Lasseter  toy,rivalry,cowboy,cgi animation  "
            ],
            "text/html": [
              "<div>\n",
              "<style scoped>\n",
              "    .dataframe tbody tr th:only-of-type {\n",
              "        vertical-align: middle;\n",
              "    }\n",
              "\n",
              "    .dataframe tbody tr th {\n",
              "        vertical-align: top;\n",
              "    }\n",
              "\n",
              "    .dataframe thead th {\n",
              "        text-align: right;\n",
              "    }\n",
              "</style>\n",
              "<table border=\"1\" class=\"dataframe\">\n",
              "  <thead>\n",
              "    <tr style=\"text-align: right;\">\n",
              "      <th></th>\n",
              "      <th>movieId</th>\n",
              "      <th>title</th>\n",
              "      <th>genres</th>\n",
              "      <th>userId</th>\n",
              "      <th>rating</th>\n",
              "      <th>title_cast</th>\n",
              "      <th>director</th>\n",
              "      <th>plot_keywords</th>\n",
              "    </tr>\n",
              "  </thead>\n",
              "  <tbody>\n",
              "    <tr>\n",
              "      <th>0</th>\n",
              "      <td>1</td>\n",
              "      <td>Toy Story (1995)</td>\n",
              "      <td>Adventure,Animation,Children,Comedy,Fantasy</td>\n",
              "      <td>158849.0</td>\n",
              "      <td>5.0</td>\n",
              "      <td>Tom Hanks,Tim Allen,Don Rickles,Jim Varney,Wal...</td>\n",
              "      <td>John Lasseter</td>\n",
              "      <td>toy,rivalry,cowboy,cgi animation</td>\n",
              "    </tr>\n",
              "    <tr>\n",
              "      <th>1</th>\n",
              "      <td>1</td>\n",
              "      <td>Toy Story (1995)</td>\n",
              "      <td>Adventure,Animation,Children,Comedy,Fantasy</td>\n",
              "      <td>97203.0</td>\n",
              "      <td>5.0</td>\n",
              "      <td>Tom Hanks,Tim Allen,Don Rickles,Jim Varney,Wal...</td>\n",
              "      <td>John Lasseter</td>\n",
              "      <td>toy,rivalry,cowboy,cgi animation</td>\n",
              "    </tr>\n",
              "    <tr>\n",
              "      <th>2</th>\n",
              "      <td>1</td>\n",
              "      <td>Toy Story (1995)</td>\n",
              "      <td>Adventure,Animation,Children,Comedy,Fantasy</td>\n",
              "      <td>161871.0</td>\n",
              "      <td>3.0</td>\n",
              "      <td>Tom Hanks,Tim Allen,Don Rickles,Jim Varney,Wal...</td>\n",
              "      <td>John Lasseter</td>\n",
              "      <td>toy,rivalry,cowboy,cgi animation</td>\n",
              "    </tr>\n",
              "    <tr>\n",
              "      <th>3</th>\n",
              "      <td>1</td>\n",
              "      <td>Toy Story (1995)</td>\n",
              "      <td>Adventure,Animation,Children,Comedy,Fantasy</td>\n",
              "      <td>45117.0</td>\n",
              "      <td>4.0</td>\n",
              "      <td>Tom Hanks,Tim Allen,Don Rickles,Jim Varney,Wal...</td>\n",
              "      <td>John Lasseter</td>\n",
              "      <td>toy,rivalry,cowboy,cgi animation</td>\n",
              "    </tr>\n",
              "    <tr>\n",
              "      <th>4</th>\n",
              "      <td>1</td>\n",
              "      <td>Toy Story (1995)</td>\n",
              "      <td>Adventure,Animation,Children,Comedy,Fantasy</td>\n",
              "      <td>27431.0</td>\n",
              "      <td>5.0</td>\n",
              "      <td>Tom Hanks,Tim Allen,Don Rickles,Jim Varney,Wal...</td>\n",
              "      <td>John Lasseter</td>\n",
              "      <td>toy,rivalry,cowboy,cgi animation</td>\n",
              "    </tr>\n",
              "  </tbody>\n",
              "</table>\n",
              "</div>"
            ]
          },
          "metadata": {
            "tags": []
          },
          "execution_count": 6
        }
      ]
    },
    {
      "cell_type": "markdown",
      "metadata": {
        "id": "skxxiIZ_U37n",
        "colab_type": "text"
      },
      "source": [
        "Taking the df dataframe. A filtered dataframe with unique movie titles can be generated to remove duplicate movie titles due to multiple user ratings."
      ]
    },
    {
      "cell_type": "code",
      "metadata": {
        "id": "E6EVDkhV8sbN",
        "colab_type": "code",
        "colab": {}
      },
      "source": [
        "cast = df[['title','rating','title_cast']]\n",
        "genres = df[['title','rating','genres']]\n",
        "keywords = df[['title','rating','plot_keywords']]\n",
        "directors = df[['title','rating','director']].dropna()"
      ],
      "execution_count": 25,
      "outputs": []
    },
    {
      "cell_type": "code",
      "metadata": {
        "id": "jFJ2LmJu9Xu9",
        "colab_type": "code",
        "colab": {}
      },
      "source": [
        "word = 'Christopher Nolan'"
      ],
      "execution_count": 27,
      "outputs": []
    },
    {
      "cell_type": "code",
      "metadata": {
        "id": "KwJzOq7g-YSY",
        "colab_type": "code",
        "colab": {
          "base_uri": "https://localhost:8080/",
          "height": 98
        },
        "outputId": "c5f99946-199a-418b-e900-85c64c61acc0"
      },
      "source": [
        "print(recommend(word,directors,'director'))"
      ],
      "execution_count": 28,
      "outputs": [
        {
          "output_type": "stream",
          "text": [
            "title\n",
            "Memento (2000)      0\n",
            "Inception (2010)    1\n",
            "Following (1998)    2\n",
            "dtype: int64\n"
          ],
          "name": "stdout"
        }
      ]
    },
    {
      "cell_type": "code",
      "metadata": {
        "colab_type": "code",
        "id": "OwAKA5hD9mCm",
        "colab": {}
      },
      "source": [
        "def recommend(word, df, column_name):\n",
        "  '''takes in a word as argument\n",
        "    returns a predicted movie list a user will like\n",
        "  '''\n",
        "  subset = df[df[column_name].str.contains(word)] \n",
        "  # A ratings dataframe can be generated from uniw\\que movie titles and their average ratings across all users\n",
        "  ratings=subset.groupby(['title'])['rating'].mean() #group by title and aggregate ratings\n",
        "  ratings=pd.DataFrame(ratings)\n",
        "  ratings=ratings.fillna(2) # fill missing values with generic score of 2 (40%)\n",
        "  ratings['num of ratings']=df.groupby(['title'])['rating'].count() #generate a column witht the total number of ratings\n",
        "\n",
        "  content=df.groupby(['title'])[column_name].unique() #group by title and display unique values in a list\n",
        "  content=pd.DataFrame(content)\n",
        "\n",
        "  movie_df=pd.merge(ratings,content,on='title') #join on index  \n",
        "\n",
        "  # Sort move_df from highest to lowest num of ratings\n",
        "  movie_df=movie_df.sort_values('num of ratings',ascending=False)\n",
        "\n",
        "  feature=movie_df[[column_name]][0:30000]\n",
        "\n",
        "  feature.reindex()\n",
        "  feature = feature.rename(columns={1:'column_name'})\n",
        "\n",
        "  # Set up vectorizer\n",
        "  vec=TfidfVectorizer(stop_words='english') # term frequency inverse document frequency\n",
        "\n",
        "  # Vectorize combined column\n",
        "  feature_vec=vec.fit_transform(feature)\n",
        "\n",
        "  # Use cosine similarity to get similarity matrix\n",
        "  sim_matrix =cosine_similarity(feature_vec,feature_vec)\n",
        "\n",
        "  # Reset the move_df index as it will be used to generate a Series that will map sim_mat\n",
        "  movie_df=movie_df.reset_index()\n",
        "\n",
        "  # Index mapping\n",
        "  index_map = pd.Series(movie_df.index,index = movie_df['title']) # contains a series of the movie titles in movie_df\n",
        "\n",
        "  return index_map[0:10]"
      ],
      "execution_count": 9,
      "outputs": []
    }
  ]
}