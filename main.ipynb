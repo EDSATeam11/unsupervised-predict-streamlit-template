{
  "nbformat": 4,
  "nbformat_minor": 0,
  "metadata": {
    "colab": {
      "name": "main.ipynb",
      "provenance": [],
      "toc_visible": true,
      "include_colab_link": true
    },
    "kernelspec": {
      "name": "python3",
      "display_name": "Python 3"
    },
    "accelerator": "GPU"
  },
  "cells": [
    {
      "cell_type": "markdown",
      "metadata": {
        "id": "view-in-github",
        "colab_type": "text"
      },
      "source": [
<<<<<<< HEAD
        "<a href=\"https://colab.research.google.com/github/monicafar147/unsupervised-predict-streamlit-template/blob/modelling/main.ipynb\" target=\"_parent\"><img src=\"https://colab.research.google.com/assets/colab-badge.svg\" alt=\"Open In Colab\"/></a>"
=======
        "<a href=\"https://colab.research.google.com/github/monicafar147/unsupervised-predict-streamlit-template/blob/eda/main.ipynb\" target=\"_parent\"><img src=\"https://colab.research.google.com/assets/colab-badge.svg\" alt=\"Open In Colab\"/></a>"
>>>>>>> origin/notebook
      ]
    },
    {
      "cell_type": "markdown",
      "metadata": {
        "id": "n5VmKTRAaSUB",
        "colab_type": "text"
      },
      "source": [
        "# EDSA Movie Recommendation Challenge"
      ]
    },
    {
      "cell_type": "markdown",
      "metadata": {
        "id": "NjRjQUdXLFsq",
        "colab_type": "text"
      },
      "source": [
        "This notebook was created to enter the private kaggle competition of EDSA on creating a movie recommendation predictor.\n",
        "\n",
        "In today’s technology driven world, recommender systems are socially and economically critical for ensuring that individuals can make appropriate choices surrounding the content they engage with on a daily basis.\n",
        "\n",
        "One application where this is especially true surrounds movie content recommendations; where intelligent algorithms can help viewers find great titles from tens of thousands of options.\n",
        "\n",
        "This notebook will construct a recommendation algorithm based on content or collaborative filtering in order to accurately predict how a user will rate a movie they have not yet viewed based on their historical preferences.\n",
        "\n",
        "Providing an accurate and robust solution to this challenge has immense economic potential, with users of the system being exposed to content they would like to view or purchase generating revenue and platform affinity."
      ]
    },
    {
      "cell_type": "markdown",
      "metadata": {
<<<<<<< HEAD
        "id": "JfbmtXKoeTej",
        "colab_type": "text"
      },
      "source": [
        "# Table of Contents\n",
        "\n",
        "1. Imports\n",
        "    - 1.1. Launching Comet Experiment\n",
        "    - 1.2. Importing modules\n",
        "    - 1.3. Import datasets\n",
        "2. Confirmatory Data Analysis\n",
        "    - 2.1. Data Info\n",
        "    - 2.2. Missing Values\n",
        "3. Exploratory Data Analysis\n",
        "    -\n",
        "    -\n",
        "    -\n",
        "    -\n",
        "    -"
      ]
    },
    {
      "cell_type": "markdown",
      "metadata": {
        "id": "7eGRs20waqtn",
        "colab_type": "text"
      },
      "source": [
        "# Imports"
      ]
    },
    {
      "cell_type": "markdown",
      "metadata": {
        "id": "2XQBQron13Op",
        "colab_type": "text"
      },
      "source": [
        "## Launching Comet Experiment"
      ]
    },
    {
      "cell_type": "code",
      "metadata": {
        "id": "nnZCqWpcLVl_",
        "colab_type": "code",
        "colab": {}
      },
      "source": [
        "#pip install comet_ml"
      ],
      "execution_count": null,
      "outputs": []
    },
    {
      "cell_type": "code",
      "metadata": {
        "id": "SBdkuACt13Oq",
        "colab_type": "code",
        "colab": {}
      },
      "source": [
        "# import comet_ml in the top of your file\n",
        "#from comet_ml import Experiment\n",
        "    \n",
        "# Add the following code anywhere in your machine learning file\n",
        "#experiment = Experiment(api_key=\"cFwBSBV5CDhaL3B3LHdwF7O3M\",\n",
        "#                        project_name=\"recommender-systems\", workspace=\"jonnybegreat\")"
      ],
      "execution_count": null,
      "outputs": []
    },
    {
      "cell_type": "markdown",
      "metadata": {
        "id": "wTOSQ0jGaxx5",
        "colab_type": "text"
      },
      "source": [
        "## Importing modules"
      ]
    },
    {
      "cell_type": "code",
      "metadata": {
        "id": "2QWlsf8Tasgq",
        "colab_type": "code",
        "colab": {}
      },
      "source": [
        "# Import essential packages\n",
        "import pandas as pd\n",
        "import numpy as np\n",
        "import seaborn as sns\n",
        "import matplotlib.pyplot as plt\n",
        "plt.style.use('seaborn-deep')\n",
        "\n",
        "# Import surprise packages\n",
        "from surprise import BaselineOnly\n",
        "from surprise import Dataset\n",
        "from surprise import Reader\n",
        "from surprise.model_selection import cross_validate\n",
        "\n",
        "# Import models\n",
        "from surprise import NormalPredictor\n",
        "from surprise import KNNBasic\n",
        "from surprise import SVD\n",
        "from surprise.model_selection import GridSearchCV\n",
        "from sklearn.metrics.pairwise import cosine_similarity\n",
        "from sklearn.feature_extraction.text import TfidfVectorizer\n",
        "\n",
        "# Import utilities\n",
        "import os\n",
        "import dill as pickle"
      ],
      "execution_count": 1,
      "outputs": []
    },
    {
      "cell_type": "markdown",
      "metadata": {
        "id": "8ZT8hjega1z0",
        "colab_type": "text"
      },
      "source": [
        "## Importing the raw data"
      ]
    },
    {
      "cell_type": "code",
      "metadata": {
        "id": "5JoU3UNKZJb9",
        "colab_type": "code",
        "colab": {
          "base_uri": "https://localhost:8080/",
          "height": 33
        },
        "outputId": "650e5be9-8cf8-428e-b700-5ac4aa2d276c"
      },
      "source": [
        "imdb = pd.read_csv('Documents/movies/imdb_data.csv')\n",
        "train = pd.read_csv('Documents/movies/train.csv')\n",
        "movies = pd.read_csv('Documents/movies/movies.csv')\n",
        "g_tags = pd.read_csv('Documents/movies/genome_tags.csv')\n",
        "g_scores = pd.read_csv('Documents/movies/genome_scores.csv')\n",
        "tags = pd.read_csv('Documents/movies/tags.csv')\n",
        "links = pd.read_csv('Documents/movies/links.csv')\n",
        "print('Data Successfully imported!')"
      ],
      "execution_count": 2,
      "outputs": [
        {
          "output_type": "stream",
          "text": [
            "Data Successfully imported!\n"
          ],
          "name": "stdout"
        }
      ]
    },
    {
      "cell_type": "markdown",
      "metadata": {
        "id": "IdLdwE40eMLQ",
        "colab_type": "text"
      },
      "source": [
        "The first thing we will do is merge our datasets into one dataframe. We will drop the 'timestamp' column as it plays no role in the upcoming analysis."
      ]
    },
    {
      "cell_type": "code",
      "metadata": {
        "trusted": true,
        "id": "7XbXTgg3eMLR",
        "colab_type": "code",
        "colab": {
          "base_uri": "https://localhost:8080/",
          "height": 33
        },
        "outputId": "b242aa9c-279f-42da-d9c8-9fe19bc0c869"
      },
      "source": [
        "#genome_df = g_scores.merge(g_tags, on='tagId')\n",
        "data = train.drop('timestamp', axis=1).merge(movies.\n",
        "                                             merge(imdb, on ='movieId'),\n",
        "                                             on='movieId')\n",
        "print('Merges Successfull!')"
      ],
      "execution_count": 4,
      "outputs": [
        {
          "output_type": "stream",
          "text": [
            "Merges Successfull!\n"
          ],
          "name": "stdout"
        }
      ]
    },
    {
      "cell_type": "code",
      "metadata": {
        "trusted": true,
        "id": "Yql2Q1aEeMLT",
        "colab_type": "code",
        "colab": {
          "base_uri": "https://localhost:8080/",
          "height": 191
        },
        "outputId": "bf486fb2-efa9-43dc-b323-a1505ede8d69"
      },
      "source": [
        "data.head()"
      ],
      "execution_count": 5,
      "outputs": [
        {
          "output_type": "execute_result",
          "data": {
            "text/plain": [
              "   userId  movieId  rating             title                       genres  \\\n",
              "0    5163    57669     4.0  In Bruges (2008)  Comedy|Crime|Drama|Thriller   \n",
              "1   87388    57669     3.5  In Bruges (2008)  Comedy|Crime|Drama|Thriller   \n",
              "2  137050    57669     4.0  In Bruges (2008)  Comedy|Crime|Drama|Thriller   \n",
              "3  120490    57669     4.5  In Bruges (2008)  Comedy|Crime|Drama|Thriller   \n",
              "4   50616    57669     4.5  In Bruges (2008)  Comedy|Crime|Drama|Thriller   \n",
              "\n",
              "                                          title_cast         director  \\\n",
              "0  Elizabeth Berrington|Rudy Blomme|Olivier Bonjo...  Martin McDonagh   \n",
              "1  Elizabeth Berrington|Rudy Blomme|Olivier Bonjo...  Martin McDonagh   \n",
              "2  Elizabeth Berrington|Rudy Blomme|Olivier Bonjo...  Martin McDonagh   \n",
              "3  Elizabeth Berrington|Rudy Blomme|Olivier Bonjo...  Martin McDonagh   \n",
              "4  Elizabeth Berrington|Rudy Blomme|Olivier Bonjo...  Martin McDonagh   \n",
              "\n",
              "   runtime       budget              plot_keywords  \n",
              "0    107.0  $15,000,000  dwarf|bruges|irish|hitman  \n",
              "1    107.0  $15,000,000  dwarf|bruges|irish|hitman  \n",
              "2    107.0  $15,000,000  dwarf|bruges|irish|hitman  \n",
              "3    107.0  $15,000,000  dwarf|bruges|irish|hitman  \n",
              "4    107.0  $15,000,000  dwarf|bruges|irish|hitman  "
            ],
            "text/html": [
              "<div>\n",
              "<style scoped>\n",
              "    .dataframe tbody tr th:only-of-type {\n",
              "        vertical-align: middle;\n",
              "    }\n",
              "\n",
              "    .dataframe tbody tr th {\n",
              "        vertical-align: top;\n",
              "    }\n",
              "\n",
              "    .dataframe thead th {\n",
              "        text-align: right;\n",
              "    }\n",
              "</style>\n",
              "<table border=\"1\" class=\"dataframe\">\n",
              "  <thead>\n",
              "    <tr style=\"text-align: right;\">\n",
              "      <th></th>\n",
              "      <th>userId</th>\n",
              "      <th>movieId</th>\n",
              "      <th>rating</th>\n",
              "      <th>title</th>\n",
              "      <th>genres</th>\n",
              "      <th>title_cast</th>\n",
              "      <th>director</th>\n",
              "      <th>runtime</th>\n",
              "      <th>budget</th>\n",
              "      <th>plot_keywords</th>\n",
              "    </tr>\n",
              "  </thead>\n",
              "  <tbody>\n",
              "    <tr>\n",
              "      <th>0</th>\n",
              "      <td>5163</td>\n",
              "      <td>57669</td>\n",
              "      <td>4.0</td>\n",
              "      <td>In Bruges (2008)</td>\n",
              "      <td>Comedy|Crime|Drama|Thriller</td>\n",
              "      <td>Elizabeth Berrington|Rudy Blomme|Olivier Bonjo...</td>\n",
              "      <td>Martin McDonagh</td>\n",
              "      <td>107.0</td>\n",
              "      <td>$15,000,000</td>\n",
              "      <td>dwarf|bruges|irish|hitman</td>\n",
              "    </tr>\n",
              "    <tr>\n",
              "      <th>1</th>\n",
              "      <td>87388</td>\n",
              "      <td>57669</td>\n",
              "      <td>3.5</td>\n",
              "      <td>In Bruges (2008)</td>\n",
              "      <td>Comedy|Crime|Drama|Thriller</td>\n",
              "      <td>Elizabeth Berrington|Rudy Blomme|Olivier Bonjo...</td>\n",
              "      <td>Martin McDonagh</td>\n",
              "      <td>107.0</td>\n",
              "      <td>$15,000,000</td>\n",
              "      <td>dwarf|bruges|irish|hitman</td>\n",
              "    </tr>\n",
              "    <tr>\n",
              "      <th>2</th>\n",
              "      <td>137050</td>\n",
              "      <td>57669</td>\n",
              "      <td>4.0</td>\n",
              "      <td>In Bruges (2008)</td>\n",
              "      <td>Comedy|Crime|Drama|Thriller</td>\n",
              "      <td>Elizabeth Berrington|Rudy Blomme|Olivier Bonjo...</td>\n",
              "      <td>Martin McDonagh</td>\n",
              "      <td>107.0</td>\n",
              "      <td>$15,000,000</td>\n",
              "      <td>dwarf|bruges|irish|hitman</td>\n",
              "    </tr>\n",
              "    <tr>\n",
              "      <th>3</th>\n",
              "      <td>120490</td>\n",
              "      <td>57669</td>\n",
              "      <td>4.5</td>\n",
              "      <td>In Bruges (2008)</td>\n",
              "      <td>Comedy|Crime|Drama|Thriller</td>\n",
              "      <td>Elizabeth Berrington|Rudy Blomme|Olivier Bonjo...</td>\n",
              "      <td>Martin McDonagh</td>\n",
              "      <td>107.0</td>\n",
              "      <td>$15,000,000</td>\n",
              "      <td>dwarf|bruges|irish|hitman</td>\n",
              "    </tr>\n",
              "    <tr>\n",
              "      <th>4</th>\n",
              "      <td>50616</td>\n",
              "      <td>57669</td>\n",
              "      <td>4.5</td>\n",
              "      <td>In Bruges (2008)</td>\n",
              "      <td>Comedy|Crime|Drama|Thriller</td>\n",
              "      <td>Elizabeth Berrington|Rudy Blomme|Olivier Bonjo...</td>\n",
              "      <td>Martin McDonagh</td>\n",
              "      <td>107.0</td>\n",
              "      <td>$15,000,000</td>\n",
              "      <td>dwarf|bruges|irish|hitman</td>\n",
              "    </tr>\n",
              "  </tbody>\n",
              "</table>\n",
              "</div>"
            ]
          },
          "metadata": {
            "tags": []
          },
          "execution_count": 5
        }
      ]
    },
    {
      "cell_type": "markdown",
      "metadata": {
        "id": "WrmUaCUReMLW",
        "colab_type": "text"
      },
      "source": [
        "# Confirmatory Data Analysis\n",
        "Confirm that everything is as should be.\n",
        "  - Data Info\n",
        "    - The first few rows of the data\n",
        "    - The shape of the dataframe, this includes the number of columns and rows\n",
        "    - The names of the columns in the dataframe and their respective data types\n",
        "    - The statistical summary of the numerical columns\n",
        "  - Null values : number of cells with NaN values\n",
        "   "
      ]
    },
    {
      "cell_type": "markdown",
      "metadata": {
        "id": "-lB-uaPoeMLW",
        "colab_type": "text"
      },
      "source": [
        "## Data Info"
      ]
    },
    {
      "cell_type": "code",
      "metadata": {
        "trusted": true,
        "id": "rzf8hFOUeMLW",
        "colab_type": "code",
        "colab": {
          "base_uri": "https://localhost:8080/",
          "height": 191
        },
        "outputId": "1dbaa11a-85cc-49a0-d8b0-d76896909473"
      },
      "source": [
        "data.head()"
      ],
      "execution_count": 6,
      "outputs": [
        {
          "output_type": "execute_result",
          "data": {
            "text/plain": [
              "   userId  movieId  rating             title                       genres  \\\n",
              "0    5163    57669     4.0  In Bruges (2008)  Comedy|Crime|Drama|Thriller   \n",
              "1   87388    57669     3.5  In Bruges (2008)  Comedy|Crime|Drama|Thriller   \n",
              "2  137050    57669     4.0  In Bruges (2008)  Comedy|Crime|Drama|Thriller   \n",
              "3  120490    57669     4.5  In Bruges (2008)  Comedy|Crime|Drama|Thriller   \n",
              "4   50616    57669     4.5  In Bruges (2008)  Comedy|Crime|Drama|Thriller   \n",
              "\n",
              "                                          title_cast         director  \\\n",
              "0  Elizabeth Berrington|Rudy Blomme|Olivier Bonjo...  Martin McDonagh   \n",
              "1  Elizabeth Berrington|Rudy Blomme|Olivier Bonjo...  Martin McDonagh   \n",
              "2  Elizabeth Berrington|Rudy Blomme|Olivier Bonjo...  Martin McDonagh   \n",
              "3  Elizabeth Berrington|Rudy Blomme|Olivier Bonjo...  Martin McDonagh   \n",
              "4  Elizabeth Berrington|Rudy Blomme|Olivier Bonjo...  Martin McDonagh   \n",
              "\n",
              "   runtime       budget              plot_keywords  \n",
              "0    107.0  $15,000,000  dwarf|bruges|irish|hitman  \n",
              "1    107.0  $15,000,000  dwarf|bruges|irish|hitman  \n",
              "2    107.0  $15,000,000  dwarf|bruges|irish|hitman  \n",
              "3    107.0  $15,000,000  dwarf|bruges|irish|hitman  \n",
              "4    107.0  $15,000,000  dwarf|bruges|irish|hitman  "
            ],
            "text/html": [
              "<div>\n",
              "<style scoped>\n",
              "    .dataframe tbody tr th:only-of-type {\n",
              "        vertical-align: middle;\n",
              "    }\n",
              "\n",
              "    .dataframe tbody tr th {\n",
              "        vertical-align: top;\n",
              "    }\n",
              "\n",
              "    .dataframe thead th {\n",
              "        text-align: right;\n",
              "    }\n",
              "</style>\n",
              "<table border=\"1\" class=\"dataframe\">\n",
              "  <thead>\n",
              "    <tr style=\"text-align: right;\">\n",
              "      <th></th>\n",
              "      <th>userId</th>\n",
              "      <th>movieId</th>\n",
              "      <th>rating</th>\n",
              "      <th>title</th>\n",
              "      <th>genres</th>\n",
              "      <th>title_cast</th>\n",
              "      <th>director</th>\n",
              "      <th>runtime</th>\n",
              "      <th>budget</th>\n",
              "      <th>plot_keywords</th>\n",
              "    </tr>\n",
              "  </thead>\n",
              "  <tbody>\n",
              "    <tr>\n",
              "      <th>0</th>\n",
              "      <td>5163</td>\n",
              "      <td>57669</td>\n",
              "      <td>4.0</td>\n",
              "      <td>In Bruges (2008)</td>\n",
              "      <td>Comedy|Crime|Drama|Thriller</td>\n",
              "      <td>Elizabeth Berrington|Rudy Blomme|Olivier Bonjo...</td>\n",
              "      <td>Martin McDonagh</td>\n",
              "      <td>107.0</td>\n",
              "      <td>$15,000,000</td>\n",
              "      <td>dwarf|bruges|irish|hitman</td>\n",
              "    </tr>\n",
              "    <tr>\n",
              "      <th>1</th>\n",
              "      <td>87388</td>\n",
              "      <td>57669</td>\n",
              "      <td>3.5</td>\n",
              "      <td>In Bruges (2008)</td>\n",
              "      <td>Comedy|Crime|Drama|Thriller</td>\n",
              "      <td>Elizabeth Berrington|Rudy Blomme|Olivier Bonjo...</td>\n",
              "      <td>Martin McDonagh</td>\n",
              "      <td>107.0</td>\n",
              "      <td>$15,000,000</td>\n",
              "      <td>dwarf|bruges|irish|hitman</td>\n",
              "    </tr>\n",
              "    <tr>\n",
              "      <th>2</th>\n",
              "      <td>137050</td>\n",
              "      <td>57669</td>\n",
              "      <td>4.0</td>\n",
              "      <td>In Bruges (2008)</td>\n",
              "      <td>Comedy|Crime|Drama|Thriller</td>\n",
              "      <td>Elizabeth Berrington|Rudy Blomme|Olivier Bonjo...</td>\n",
              "      <td>Martin McDonagh</td>\n",
              "      <td>107.0</td>\n",
              "      <td>$15,000,000</td>\n",
              "      <td>dwarf|bruges|irish|hitman</td>\n",
              "    </tr>\n",
              "    <tr>\n",
              "      <th>3</th>\n",
              "      <td>120490</td>\n",
              "      <td>57669</td>\n",
              "      <td>4.5</td>\n",
              "      <td>In Bruges (2008)</td>\n",
              "      <td>Comedy|Crime|Drama|Thriller</td>\n",
              "      <td>Elizabeth Berrington|Rudy Blomme|Olivier Bonjo...</td>\n",
              "      <td>Martin McDonagh</td>\n",
              "      <td>107.0</td>\n",
              "      <td>$15,000,000</td>\n",
              "      <td>dwarf|bruges|irish|hitman</td>\n",
              "    </tr>\n",
              "    <tr>\n",
              "      <th>4</th>\n",
              "      <td>50616</td>\n",
              "      <td>57669</td>\n",
              "      <td>4.5</td>\n",
              "      <td>In Bruges (2008)</td>\n",
              "      <td>Comedy|Crime|Drama|Thriller</td>\n",
              "      <td>Elizabeth Berrington|Rudy Blomme|Olivier Bonjo...</td>\n",
              "      <td>Martin McDonagh</td>\n",
              "      <td>107.0</td>\n",
              "      <td>$15,000,000</td>\n",
              "      <td>dwarf|bruges|irish|hitman</td>\n",
              "    </tr>\n",
              "  </tbody>\n",
              "</table>\n",
              "</div>"
            ]
          },
          "metadata": {
            "tags": []
          },
          "execution_count": 6
        }
      ]
    },
    {
      "cell_type": "code",
      "metadata": {
        "trusted": true,
        "id": "MYR8-CBaeMLZ",
        "colab_type": "code",
        "colab": {
          "base_uri": "https://localhost:8080/",
          "height": 33
        },
        "outputId": "dbbb0a0d-53c9-4e60-f767-83266744e021"
      },
      "source": [
        "data.shape"
      ],
      "execution_count": 7,
      "outputs": [
        {
          "output_type": "execute_result",
          "data": {
            "text/plain": [
              "(9633031, 10)"
            ]
          },
          "metadata": {
            "tags": []
          },
          "execution_count": 7
        }
      ]
    },
    {
      "cell_type": "code",
      "metadata": {
        "trusted": true,
        "id": "HNULjm_TeMLb",
        "colab_type": "code",
        "colab": {
          "base_uri": "https://localhost:8080/",
          "height": 293
        },
        "outputId": "2ba103c8-7ce4-4ed4-8ba6-510683a24003"
      },
      "source": [
        "data.info()"
      ],
      "execution_count": 8,
      "outputs": [
        {
          "output_type": "stream",
          "text": [
            "<class 'pandas.core.frame.DataFrame'>\n",
            "Int64Index: 9633031 entries, 0 to 9633030\n",
            "Data columns (total 10 columns):\n",
            " #   Column         Dtype  \n",
            "---  ------         -----  \n",
            " 0   userId         int64  \n",
            " 1   movieId        int64  \n",
            " 2   rating         float64\n",
            " 3   title          object \n",
            " 4   genres         object \n",
            " 5   title_cast     object \n",
            " 6   director       object \n",
            " 7   runtime        float64\n",
            " 8   budget         object \n",
            " 9   plot_keywords  object \n",
            "dtypes: float64(2), int64(2), object(6)\n",
            "memory usage: 808.4+ MB\n"
          ],
          "name": "stdout"
        }
      ]
    },
    {
      "cell_type": "code",
      "metadata": {
        "trusted": true,
        "id": "SULUTqajeMLd",
        "colab_type": "code",
        "colab": {
          "base_uri": "https://localhost:8080/",
          "height": 277
        },
        "outputId": "d1c83719-e644-479d-c827-59d5cefef7b9"
      },
      "source": [
        "data.describe()"
      ],
      "execution_count": 9,
      "outputs": [
        {
          "output_type": "execute_result",
          "data": {
            "text/plain": [
              "             userId       movieId        rating       runtime\n",
              "count  9.633031e+06  9.633031e+06  9.633031e+06  6.979973e+06\n",
              "mean   8.124516e+04  1.628712e+04  3.534708e+00  1.160965e+02\n",
              "std    4.680182e+04  2.939986e+04  1.060377e+00  2.409290e+01\n",
              "min    1.000000e+00  1.000000e+00  5.000000e-01  1.000000e+00\n",
              "25%    4.054500e+04  1.136000e+03  3.000000e+00  1.000000e+02\n",
              "50%    8.097400e+04  2.762000e+03  3.500000e+00  1.130000e+02\n",
              "75%    1.216250e+05  7.099000e+03  4.000000e+00  1.280000e+02\n",
              "max    1.625410e+05  1.312620e+05  5.000000e+00  8.770000e+02"
            ],
            "text/html": [
              "<div>\n",
              "<style scoped>\n",
              "    .dataframe tbody tr th:only-of-type {\n",
              "        vertical-align: middle;\n",
              "    }\n",
              "\n",
              "    .dataframe tbody tr th {\n",
              "        vertical-align: top;\n",
              "    }\n",
              "\n",
              "    .dataframe thead th {\n",
              "        text-align: right;\n",
              "    }\n",
              "</style>\n",
              "<table border=\"1\" class=\"dataframe\">\n",
              "  <thead>\n",
              "    <tr style=\"text-align: right;\">\n",
              "      <th></th>\n",
              "      <th>userId</th>\n",
              "      <th>movieId</th>\n",
              "      <th>rating</th>\n",
              "      <th>runtime</th>\n",
              "    </tr>\n",
              "  </thead>\n",
              "  <tbody>\n",
              "    <tr>\n",
              "      <th>count</th>\n",
              "      <td>9.633031e+06</td>\n",
              "      <td>9.633031e+06</td>\n",
              "      <td>9.633031e+06</td>\n",
              "      <td>6.979973e+06</td>\n",
              "    </tr>\n",
              "    <tr>\n",
              "      <th>mean</th>\n",
              "      <td>8.124516e+04</td>\n",
              "      <td>1.628712e+04</td>\n",
              "      <td>3.534708e+00</td>\n",
              "      <td>1.160965e+02</td>\n",
              "    </tr>\n",
              "    <tr>\n",
              "      <th>std</th>\n",
              "      <td>4.680182e+04</td>\n",
              "      <td>2.939986e+04</td>\n",
              "      <td>1.060377e+00</td>\n",
              "      <td>2.409290e+01</td>\n",
              "    </tr>\n",
              "    <tr>\n",
              "      <th>min</th>\n",
              "      <td>1.000000e+00</td>\n",
              "      <td>1.000000e+00</td>\n",
              "      <td>5.000000e-01</td>\n",
              "      <td>1.000000e+00</td>\n",
              "    </tr>\n",
              "    <tr>\n",
              "      <th>25%</th>\n",
              "      <td>4.054500e+04</td>\n",
              "      <td>1.136000e+03</td>\n",
              "      <td>3.000000e+00</td>\n",
              "      <td>1.000000e+02</td>\n",
              "    </tr>\n",
              "    <tr>\n",
              "      <th>50%</th>\n",
              "      <td>8.097400e+04</td>\n",
              "      <td>2.762000e+03</td>\n",
              "      <td>3.500000e+00</td>\n",
              "      <td>1.130000e+02</td>\n",
              "    </tr>\n",
              "    <tr>\n",
              "      <th>75%</th>\n",
              "      <td>1.216250e+05</td>\n",
              "      <td>7.099000e+03</td>\n",
              "      <td>4.000000e+00</td>\n",
              "      <td>1.280000e+02</td>\n",
              "    </tr>\n",
              "    <tr>\n",
              "      <th>max</th>\n",
              "      <td>1.625410e+05</td>\n",
              "      <td>1.312620e+05</td>\n",
              "      <td>5.000000e+00</td>\n",
              "      <td>8.770000e+02</td>\n",
              "    </tr>\n",
              "  </tbody>\n",
              "</table>\n",
              "</div>"
            ]
          },
          "metadata": {
            "tags": []
          },
          "execution_count": 9
        }
      ]
    },
    {
      "cell_type": "markdown",
      "metadata": {
        "id": "dzfHuDoLeMLf",
        "colab_type": "text"
      },
      "source": [
        "## Missing Values\n",
        "Now, let's see if we have any missing values in our dataset. "
      ]
    },
    {
      "cell_type": "code",
      "metadata": {
        "trusted": true,
        "id": "IlCYeyhieMLf",
        "colab_type": "code",
        "colab": {}
      },
      "source": [
        "import missingno\n",
        "missingno.matrix(data, figsize=(22,5))\n",
        "#plt.xlabel('Features'); \n",
        "#plt.ylabel('Null Occurences'); \n",
        "#plt.title('Columns With Missung Values');\n",
        "#fig.suptitle('Columns With Missung Values', fontsize=20)\n",
        "plt.xlabel('Features', fontsize=18)\n",
        "plt.ylabel('Null Occurences', fontsize=16)"
      ],
      "execution_count": null,
      "outputs": []
    },
    {
      "cell_type": "markdown",
      "metadata": {
        "id": "Y-XUpCWeeMLh",
        "colab_type": "text"
      },
      "source": [
        "As we can see from the visual above, the ***budget***, ***runtime***, ***title_cast*** and **director** columns have missing values. But this does not give any information on how many rows in these columns have missing values. We'll use the function defined below to show the number of missing values in each of the identified columns and what percentage of the data is missing."
=======
        "id": "7eGRs20waqtn",
        "colab_type": "text"
      },
      "source": [
        "# Imports"
      ]
    },
    {
      "cell_type": "markdown",
      "metadata": {
        "id": "2XQBQron13Op",
        "colab_type": "text"
      },
      "source": [
        "## Launching Comet Experiment"
>>>>>>> origin/notebook
      ]
    },
    {
      "cell_type": "code",
      "metadata": {
<<<<<<< HEAD
        "trusted": true,
        "id": "O3Jue0RSeMLi",
=======
        "id": "nnZCqWpcLVl_",
>>>>>>> origin/notebook
        "colab_type": "code",
        "colab": {}
      },
      "source": [
<<<<<<< HEAD
        "def missing_values_table(df):\n",
        "        mis_val = df.isnull().sum()\n",
        "        \n",
        "        mis_val_percent = 100 * df.isnull().sum() / len(df)\n",
        "        \n",
        "        mis_val_table = pd.concat([mis_val, mis_val_percent], axis=1)\n",
        "        \n",
        "        mis_val_table_ren_columns = mis_val_table.rename(\n",
        "        columns = {0 : 'Missing Values', 1 : '% of Total Values'})\n",
        "        \n",
        "        mis_val_table_ren_columns = mis_val_table_ren_columns[\n",
        "            mis_val_table_ren_columns.iloc[:,1] != 0].sort_values(\n",
        "        '% of Total Values', ascending=False).round(1)\n",
        "        \n",
        "        print (\"Your selected dataframe has \" + str(df.shape[1]) + \" columns.\\n\"      \n",
        "            \"There are \" + str(mis_val_table_ren_columns.shape[0]) +\n",
        "              \" columns that have missing values.\")\n",
        "        \n",
        "        # Return the dataframe with missing information\n",
        "        return mis_val_table_ren_columns\n"
      ],
      "execution_count": null,
=======
        "#pip install comet_ml"
      ],
      "execution_count": 1,
>>>>>>> origin/notebook
      "outputs": []
    },
    {
      "cell_type": "code",
      "metadata": {
<<<<<<< HEAD
        "trusted": true,
        "id": "JFMvLWpgeMLk",
=======
        "id": "SBdkuACt13Oq",
>>>>>>> origin/notebook
        "colab_type": "code",
        "colab": {}
      },
      "source": [
<<<<<<< HEAD
        "missing_values_table(data)"
      ],
      "execution_count": null,
=======
        "# import comet_ml in the top of your file\n",
        "#from comet_ml import Experiment\n",
        "    \n",
        "# Add the following code anywhere in your machine learning file\n",
        "#experiment = Experiment(api_key=\"cFwBSBV5CDhaL3B3LHdwF7O3M\",\n",
        "#                        project_name=\"recommender-systems\", workspace=\"jonnybegreat\")"
      ],
      "execution_count": 2,
>>>>>>> origin/notebook
      "outputs": []
    },
    {
      "cell_type": "markdown",
      "metadata": {
<<<<<<< HEAD
        "id": "L6OvYED1eMLm",
        "colab_type": "text"
      },
      "source": [
        "The number of missing values in these columns is not so high that it could affect our analysis of the data. The only column we will be using that will be affected is the ***runtime*** column. What we will do is  impute all the missing values in this column with the mean of the data"
=======
        "id": "wTOSQ0jGaxx5",
        "colab_type": "text"
      },
      "source": [
        "## Importing modules"
>>>>>>> origin/notebook
      ]
    },
    {
      "cell_type": "code",
      "metadata": {
<<<<<<< HEAD
        "trusted": true,
        "id": "nosVI_O_eMLn",
=======
        "id": "2QWlsf8Tasgq",
>>>>>>> origin/notebook
        "colab_type": "code",
        "colab": {}
      },
      "source": [
<<<<<<< HEAD
        "data['runtime'].fillna(data['runtime'].mean(), inplace=True)"
      ],
      "execution_count": null,
=======
        "# Import essential packages\n",
        "import pandas as pd\n",
        "import numpy as np\n",
        "import seaborn as sns\n",
        "import matplotlib.pyplot as plt\n",
        "plt.style.use('seaborn-deep')\n",
        "\n",
        "# Import surprise packages\n",
        "from surprise import BaselineOnly\n",
        "from surprise import Dataset\n",
        "from surprise import Reader\n",
        "from surprise.model_selection import cross_validate\n",
        "\n",
        "# Import models\n",
        "from surprise import NormalPredictor\n",
        "from surprise import KNNBasic\n",
        "from surprise import SVD\n",
        "from surprise.model_selection import GridSearchCV\n",
        "from sklearn.metrics.pairwise import cosine_similarity\n",
        "from sklearn.feature_extraction.text import TfidfVectorizer\n",
        "\n",
        "# Import utilities\n",
        "import os\n",
        "import dill as pickle"
      ],
      "execution_count": 37,
>>>>>>> origin/notebook
      "outputs": []
    },
    {
      "cell_type": "markdown",
      "metadata": {
<<<<<<< HEAD
        "id": "5n5vlP7YeMLp",
        "colab_type": "text"
      },
      "source": [
        "As we can see below, the ***runtime*** column does not appear to be on the list of columns with missing values."
=======
        "id": "8ZT8hjega1z0",
        "colab_type": "text"
      },
      "source": [
        "## Importing the raw data"
>>>>>>> origin/notebook
      ]
    },
    {
      "cell_type": "code",
      "metadata": {
<<<<<<< HEAD
        "trusted": true,
        "id": "UmjlBggpeMLq",
        "colab_type": "code",
        "colab": {}
      },
      "source": [
        "missing_values_table(data)"
      ],
      "execution_count": null,
      "outputs": []
    },
    {
      "cell_type": "code",
      "metadata": {
        "trusted": true,
        "id": "22OGF821eMLs",
        "colab_type": "code",
        "colab": {}
      },
      "source": [
        ""
      ],
      "execution_count": null,
      "outputs": []
=======
        "id": "5JoU3UNKZJb9",
        "colab_type": "code",
        "colab": {
          "base_uri": "https://localhost:8080/",
          "height": 33
        },
        "outputId": "9ffd3663-27d0-4a7a-939a-2dca07d650cb"
      },
      "source": [
        "imdb = pd.read_csv('Documents/movies/imdb_data.csv')\n",
        "train = pd.read_csv('Documents/movies/train.csv')\n",
        "movies = pd.read_csv('Documents/movies/movies.csv')\n",
        "g_tags = pd.read_csv('Documents/movies/genome_tags.csv')\n",
        "g_scores = pd.read_csv('Documents/movies/genome_scores.csv')\n",
        "tags = pd.read_csv('Documents/movies/tags.csv')\n",
        "links = pd.read_csv('Documents/movies/links.csv')\n",
        "print('Data Successfully imported!')"
      ],
      "execution_count": 4,
      "outputs": [
        {
          "output_type": "stream",
          "text": [
            "Data Successfully imported!\n"
          ],
          "name": "stdout"
        }
      ]
    },
    {
      "cell_type": "markdown",
      "metadata": {
        "id": "LiYey3zfZwDZ",
        "colab_type": "text"
      },
      "source": [
        "Due to the size of the data only a subset of the data was selected."
      ]
>>>>>>> origin/notebook
    },
    {
      "cell_type": "markdown",
      "metadata": {
        "id": "Yi8Rj2X9dHG8",
        "colab_type": "text"
      },
      "source": [
        "#EDA"
      ]
    },
    {
      "cell_type": "markdown",
      "metadata": {
        "id": "Y_jbQsjyD0By",
        "colab_type": "text"
      },
      "source": [
        "##What information is available in the data?\n",
        "The dataset consists of 9 951 829 ratings (5 star based) obtained from users using the online MovieLens movie recommendation service. The MovieLens dataset has long been used by industry and academic researchers to improve the performance of explicitly-based recommender systems.\n",
        "\n",
        "- genome_scores.csv - a score mapping the strength between movies and tag-related properties\n",
        "- genome_tags.csv - user assigned tags for genome-related scores\n",
        "imdb_data.csv - Additional movie metadata scraped from IMDB using the links.csv file.\n",
        "- links.csv - File providing a mapping between a MovieLens ID and associated IMDB and TMDB IDs.\n",
        "- tags.csv - User assigned for the movies within the dataset.\n",
        "- test.csv - The test split of the dataset. Contains user and movie IDs with no rating data.\n",
        "- train.csv - The training split of the dataset. Contains user and movie IDs with associated rating data."
      ]
    },
    {
      "cell_type": "code",
      "metadata": {
        "id": "vu8iXaYxTbC4",
        "colab_type": "code",
        "colab": {
          "base_uri": "https://localhost:8080/",
          "height": 76
        },
        "outputId": "a9d90708-7c5c-4eb1-f067-418e55af74b6"
      },
      "source": [
        "g_scores.head(1)"
      ],
<<<<<<< HEAD
      "execution_count": null,
=======
      "execution_count": 5,
>>>>>>> origin/notebook
      "outputs": [
        {
          "output_type": "execute_result",
          "data": {
            "text/plain": [
              "   movieId  tagId  relevance\n",
              "0        1      1    0.02875"
            ],
            "text/html": [
              "<div>\n",
              "<style scoped>\n",
              "    .dataframe tbody tr th:only-of-type {\n",
              "        vertical-align: middle;\n",
              "    }\n",
              "\n",
              "    .dataframe tbody tr th {\n",
              "        vertical-align: top;\n",
              "    }\n",
              "\n",
              "    .dataframe thead th {\n",
              "        text-align: right;\n",
              "    }\n",
              "</style>\n",
              "<table border=\"1\" class=\"dataframe\">\n",
              "  <thead>\n",
              "    <tr style=\"text-align: right;\">\n",
              "      <th></th>\n",
              "      <th>movieId</th>\n",
              "      <th>tagId</th>\n",
              "      <th>relevance</th>\n",
              "    </tr>\n",
              "  </thead>\n",
              "  <tbody>\n",
              "    <tr>\n",
              "      <th>0</th>\n",
              "      <td>1</td>\n",
              "      <td>1</td>\n",
              "      <td>0.02875</td>\n",
              "    </tr>\n",
              "  </tbody>\n",
              "</table>\n",
              "</div>"
            ]
          },
          "metadata": {
            "tags": []
          },
          "execution_count": 5
        }
      ]
    },
    {
      "cell_type": "code",
      "metadata": {
        "id": "tTPYSm4GTWOL",
        "colab_type": "code",
        "colab": {
          "base_uri": "https://localhost:8080/",
          "height": 76
        },
        "outputId": "cd6ab80a-28e3-4986-b741-38c66d73bf98"
      },
      "source": [
        "g_tags.head(1)"
      ],
<<<<<<< HEAD
      "execution_count": null,
=======
      "execution_count": 6,
>>>>>>> origin/notebook
      "outputs": [
        {
          "output_type": "execute_result",
          "data": {
            "text/plain": [
              "   tagId  tag\n",
              "0      1  007"
            ],
            "text/html": [
              "<div>\n",
              "<style scoped>\n",
              "    .dataframe tbody tr th:only-of-type {\n",
              "        vertical-align: middle;\n",
              "    }\n",
              "\n",
              "    .dataframe tbody tr th {\n",
              "        vertical-align: top;\n",
              "    }\n",
              "\n",
              "    .dataframe thead th {\n",
              "        text-align: right;\n",
              "    }\n",
              "</style>\n",
              "<table border=\"1\" class=\"dataframe\">\n",
              "  <thead>\n",
              "    <tr style=\"text-align: right;\">\n",
              "      <th></th>\n",
              "      <th>tagId</th>\n",
              "      <th>tag</th>\n",
              "    </tr>\n",
              "  </thead>\n",
              "  <tbody>\n",
              "    <tr>\n",
              "      <th>0</th>\n",
              "      <td>1</td>\n",
              "      <td>007</td>\n",
              "    </tr>\n",
              "  </tbody>\n",
              "</table>\n",
              "</div>"
            ]
          },
          "metadata": {
            "tags": []
          },
          "execution_count": 6
        }
      ]
    },
    {
      "cell_type": "code",
      "metadata": {
        "id": "5xHLMUyWAJTb",
        "colab_type": "code",
        "colab": {
          "base_uri": "https://localhost:8080/",
          "height": 76
        },
        "outputId": "ba08f786-042b-445f-ec24-838a884318ec"
      },
      "source": [
        "links.head(1)"
      ],
<<<<<<< HEAD
      "execution_count": null,
=======
      "execution_count": 7,
>>>>>>> origin/notebook
      "outputs": [
        {
          "output_type": "execute_result",
          "data": {
            "text/plain": [
              "   movieId  imdbId  tmdbId\n",
              "0        1  114709   862.0"
            ],
            "text/html": [
              "<div>\n",
              "<style scoped>\n",
              "    .dataframe tbody tr th:only-of-type {\n",
              "        vertical-align: middle;\n",
              "    }\n",
              "\n",
              "    .dataframe tbody tr th {\n",
              "        vertical-align: top;\n",
              "    }\n",
              "\n",
              "    .dataframe thead th {\n",
              "        text-align: right;\n",
              "    }\n",
              "</style>\n",
              "<table border=\"1\" class=\"dataframe\">\n",
              "  <thead>\n",
              "    <tr style=\"text-align: right;\">\n",
              "      <th></th>\n",
              "      <th>movieId</th>\n",
              "      <th>imdbId</th>\n",
              "      <th>tmdbId</th>\n",
              "    </tr>\n",
              "  </thead>\n",
              "  <tbody>\n",
              "    <tr>\n",
              "      <th>0</th>\n",
              "      <td>1</td>\n",
              "      <td>114709</td>\n",
              "      <td>862.0</td>\n",
              "    </tr>\n",
              "  </tbody>\n",
              "</table>\n",
              "</div>"
            ]
          },
          "metadata": {
            "tags": []
          },
          "execution_count": 7
        }
      ]
    },
    {
      "cell_type": "code",
      "metadata": {
        "id": "vTtMIBmPTnFr",
        "colab_type": "code",
        "colab": {
          "base_uri": "https://localhost:8080/",
          "height": 76
        },
        "outputId": "4c17b214-90bf-4545-fcda-1d312c966bb3"
      },
      "source": [
        "tags.head(1)"
      ],
<<<<<<< HEAD
      "execution_count": null,
=======
      "execution_count": 8,
>>>>>>> origin/notebook
      "outputs": [
        {
          "output_type": "execute_result",
          "data": {
            "text/plain": [
              "   userId  movieId      tag   timestamp\n",
              "0       3      260  classic  1439472355"
            ],
            "text/html": [
              "<div>\n",
              "<style scoped>\n",
              "    .dataframe tbody tr th:only-of-type {\n",
              "        vertical-align: middle;\n",
              "    }\n",
              "\n",
              "    .dataframe tbody tr th {\n",
              "        vertical-align: top;\n",
              "    }\n",
              "\n",
              "    .dataframe thead th {\n",
              "        text-align: right;\n",
              "    }\n",
              "</style>\n",
              "<table border=\"1\" class=\"dataframe\">\n",
              "  <thead>\n",
              "    <tr style=\"text-align: right;\">\n",
              "      <th></th>\n",
              "      <th>userId</th>\n",
              "      <th>movieId</th>\n",
              "      <th>tag</th>\n",
              "      <th>timestamp</th>\n",
              "    </tr>\n",
              "  </thead>\n",
              "  <tbody>\n",
              "    <tr>\n",
              "      <th>0</th>\n",
              "      <td>3</td>\n",
              "      <td>260</td>\n",
              "      <td>classic</td>\n",
              "      <td>1439472355</td>\n",
              "    </tr>\n",
              "  </tbody>\n",
              "</table>\n",
              "</div>"
            ]
          },
          "metadata": {
            "tags": []
          },
          "execution_count": 8
        }
      ]
    },
    {
      "cell_type": "code",
      "metadata": {
        "id": "coXEFL2xTxqk",
        "colab_type": "code",
        "colab": {
          "base_uri": "https://localhost:8080/",
          "height": 76
        },
        "outputId": "5fdd36d7-49ac-490e-ffa9-a479d6c213fc"
      },
      "source": [
        "movies.head(1)"
      ],
<<<<<<< HEAD
      "execution_count": null,
=======
      "execution_count": 9,
>>>>>>> origin/notebook
      "outputs": [
        {
          "output_type": "execute_result",
          "data": {
            "text/plain": [
              "   movieId             title                                       genres\n",
              "0        1  Toy Story (1995)  Adventure|Animation|Children|Comedy|Fantasy"
            ],
            "text/html": [
              "<div>\n",
              "<style scoped>\n",
              "    .dataframe tbody tr th:only-of-type {\n",
              "        vertical-align: middle;\n",
              "    }\n",
              "\n",
              "    .dataframe tbody tr th {\n",
              "        vertical-align: top;\n",
              "    }\n",
              "\n",
              "    .dataframe thead th {\n",
              "        text-align: right;\n",
              "    }\n",
              "</style>\n",
              "<table border=\"1\" class=\"dataframe\">\n",
              "  <thead>\n",
              "    <tr style=\"text-align: right;\">\n",
              "      <th></th>\n",
              "      <th>movieId</th>\n",
              "      <th>title</th>\n",
              "      <th>genres</th>\n",
              "    </tr>\n",
              "  </thead>\n",
              "  <tbody>\n",
              "    <tr>\n",
              "      <th>0</th>\n",
              "      <td>1</td>\n",
              "      <td>Toy Story (1995)</td>\n",
              "      <td>Adventure|Animation|Children|Comedy|Fantasy</td>\n",
              "    </tr>\n",
              "  </tbody>\n",
              "</table>\n",
              "</div>"
            ]
          },
          "metadata": {
            "tags": []
          },
          "execution_count": 9
        }
      ]
    },
    {
      "cell_type": "code",
      "metadata": {
        "id": "z-69pGr_T5Qo",
        "colab_type": "code",
        "colab": {
          "base_uri": "https://localhost:8080/",
          "height": 76
        },
        "outputId": "3ae9d271-67b4-44ae-d33d-35cc8c0a1ca0"
      },
      "source": [
        "imdb.head(1)"
      ],
<<<<<<< HEAD
      "execution_count": null,
=======
      "execution_count": 10,
>>>>>>> origin/notebook
      "outputs": [
        {
          "output_type": "execute_result",
          "data": {
            "text/plain": [
              "   movieId                                         title_cast       director  \\\n",
              "0        1  Tom Hanks|Tim Allen|Don Rickles|Jim Varney|Wal...  John Lasseter   \n",
              "\n",
              "   runtime       budget                     plot_keywords  \n",
              "0     81.0  $30,000,000  toy|rivalry|cowboy|cgi animation  "
            ],
            "text/html": [
              "<div>\n",
              "<style scoped>\n",
              "    .dataframe tbody tr th:only-of-type {\n",
              "        vertical-align: middle;\n",
              "    }\n",
              "\n",
              "    .dataframe tbody tr th {\n",
              "        vertical-align: top;\n",
              "    }\n",
              "\n",
              "    .dataframe thead th {\n",
              "        text-align: right;\n",
              "    }\n",
              "</style>\n",
              "<table border=\"1\" class=\"dataframe\">\n",
              "  <thead>\n",
              "    <tr style=\"text-align: right;\">\n",
              "      <th></th>\n",
              "      <th>movieId</th>\n",
              "      <th>title_cast</th>\n",
              "      <th>director</th>\n",
              "      <th>runtime</th>\n",
              "      <th>budget</th>\n",
              "      <th>plot_keywords</th>\n",
              "    </tr>\n",
              "  </thead>\n",
              "  <tbody>\n",
              "    <tr>\n",
              "      <th>0</th>\n",
              "      <td>1</td>\n",
              "      <td>Tom Hanks|Tim Allen|Don Rickles|Jim Varney|Wal...</td>\n",
              "      <td>John Lasseter</td>\n",
              "      <td>81.0</td>\n",
              "      <td>$30,000,000</td>\n",
              "      <td>toy|rivalry|cowboy|cgi animation</td>\n",
              "    </tr>\n",
              "  </tbody>\n",
              "</table>\n",
              "</div>"
            ]
          },
          "metadata": {
            "tags": []
          },
          "execution_count": 10
        }
      ]
    },
    {
      "cell_type": "markdown",
      "metadata": {
        "id": "JQ00bN6fBL5t",
        "colab_type": "text"
      },
      "source": [
        "How is the training data distributed?"
      ]
    },
    {
      "cell_type": "code",
      "metadata": {
        "id": "WhwPIf0NBd1L",
        "colab_type": "code",
        "colab": {
          "base_uri": "https://localhost:8080/",
          "height": 402
        },
<<<<<<< HEAD
        "outputId": "70b781b9-f0bf-4d3b-fafd-547772044a78"
=======
        "outputId": "6416a8a0-3121-4614-c1f1-9a08e595a990"
>>>>>>> origin/notebook
      },
      "source": [
        "with sns.axes_style('whitegrid'):\n",
        "    g = sns.catplot(\"rating\", data=train, aspect=2.0,kind='count')\n",
        "    g.set_ylabels(\"Total number of ratings\")\n",
        "    plt.title('Distribution of the ratings in training data')\n",
        "print (f'Average rating in dataset: {np.mean(train[\"rating\"])}')"
      ],
<<<<<<< HEAD
      "execution_count": 3,
=======
      "execution_count": 11,
>>>>>>> origin/notebook
      "outputs": [
        {
          "output_type": "stream",
          "text": [
            "Average rating in dataset: 3.5333951730983424\n"
          ],
          "name": "stdout"
        },
        {
          "output_type": "display_data",
          "data": {
            "text/plain": [
              "<Figure size 720x360 with 1 Axes>"
            ],
            "image/png": "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\n"
          },
          "metadata": {
            "tags": []
          }
        }
      ]
    },
    {
      "cell_type": "code",
      "metadata": {
        "id": "1iAkUf3WEs23",
        "colab_type": "code",
        "colab": {}
      },
      "source": [
        "# Merge train and movies datasets on movieId\n",
        "df=pd.merge(train,movies,how='left',on='movieId') # Lefft join in train to prevent data loss"
      ],
<<<<<<< HEAD
      "execution_count": null,
=======
      "execution_count": 12,
>>>>>>> origin/notebook
      "outputs": []
    },
    {
      "cell_type": "code",
      "metadata": {
        "id": "ryclgPp_EyNs",
        "colab_type": "code",
        "colab": {}
      },
      "source": [
        "# Merge imdb_data on df\n",
        "df=pd.merge(df,imdb,how='left',on='movieId')"
      ],
<<<<<<< HEAD
      "execution_count": null,
=======
      "execution_count": 13,
>>>>>>> origin/notebook
      "outputs": []
    },
    {
      "cell_type": "code",
      "metadata": {
        "id": "vJbaicAuE58k",
        "colab_type": "code",
        "colab": {
          "base_uri": "https://localhost:8080/",
          "height": 191
        },
        "outputId": "0d530d71-2625-463d-f781-0d6c8b477b2d"
      },
      "source": [
        "# Check df dataframe\n",
        "df.head()"
      ],
<<<<<<< HEAD
      "execution_count": null,
=======
      "execution_count": 14,
>>>>>>> origin/notebook
      "outputs": [
        {
          "output_type": "execute_result",
          "data": {
            "text/plain": [
              "   userId  movieId  rating   timestamp  \\\n",
              "0    5163    57669     4.0  1518349992   \n",
              "1  106343        5     4.5  1206238739   \n",
              "2  146790     5459     5.0  1076215539   \n",
              "3  106362    32296     2.0  1423042565   \n",
              "4    9041      366     3.0   833375837   \n",
              "\n",
              "                                               title  \\\n",
              "0                                   In Bruges (2008)   \n",
              "1                 Father of the Bride Part II (1995)   \n",
              "2  Men in Black II (a.k.a. MIIB) (a.k.a. MIB 2) (...   \n",
              "3     Miss Congeniality 2: Armed and Fabulous (2005)   \n",
              "4  Wes Craven's New Nightmare (Nightmare on Elm S...   \n",
              "\n",
              "                          genres  \\\n",
              "0    Comedy|Crime|Drama|Thriller   \n",
              "1                         Comedy   \n",
              "2           Action|Comedy|Sci-Fi   \n",
              "3         Adventure|Comedy|Crime   \n",
              "4  Drama|Horror|Mystery|Thriller   \n",
              "\n",
              "                                          title_cast           director  \\\n",
              "0  Elizabeth Berrington|Rudy Blomme|Olivier Bonjo...    Martin McDonagh   \n",
              "1  Steve Martin|Diane Keaton|Martin Short|Kimberl...     Albert Hackett   \n",
              "2  Tommy Lee Jones|Will Smith|Rip Torn|Lara Flynn...  Lowell Cunningham   \n",
              "3  Sandra Bullock|Regina King|Enrique Murciano|Wi...      Marc Lawrence   \n",
              "4  Jeff Davis|Heather Langenkamp|Miko Hughes|Matt...         Wes Craven   \n",
              "\n",
              "   runtime        budget                                      plot_keywords  \n",
              "0    107.0   $15,000,000                          dwarf|bruges|irish|hitman  \n",
              "1    106.0   $30,000,000                    fatherhood|doberman|dog|mansion  \n",
              "2     88.0  $140,000,000  lingerie|michael jackson character|shorthaired...  \n",
              "3    115.0   $45,000,000       female protagonist|cleave gag|good woman|fbi  \n",
              "4    112.0    $8,000,000  freddy krueger|elm street|famous director as h...  "
            ],
            "text/html": [
              "<div>\n",
              "<style scoped>\n",
              "    .dataframe tbody tr th:only-of-type {\n",
              "        vertical-align: middle;\n",
              "    }\n",
              "\n",
              "    .dataframe tbody tr th {\n",
              "        vertical-align: top;\n",
              "    }\n",
              "\n",
              "    .dataframe thead th {\n",
              "        text-align: right;\n",
              "    }\n",
              "</style>\n",
              "<table border=\"1\" class=\"dataframe\">\n",
              "  <thead>\n",
              "    <tr style=\"text-align: right;\">\n",
              "      <th></th>\n",
              "      <th>userId</th>\n",
              "      <th>movieId</th>\n",
              "      <th>rating</th>\n",
              "      <th>timestamp</th>\n",
              "      <th>title</th>\n",
              "      <th>genres</th>\n",
              "      <th>title_cast</th>\n",
              "      <th>director</th>\n",
              "      <th>runtime</th>\n",
              "      <th>budget</th>\n",
              "      <th>plot_keywords</th>\n",
              "    </tr>\n",
              "  </thead>\n",
              "  <tbody>\n",
              "    <tr>\n",
              "      <th>0</th>\n",
              "      <td>5163</td>\n",
              "      <td>57669</td>\n",
              "      <td>4.0</td>\n",
              "      <td>1518349992</td>\n",
              "      <td>In Bruges (2008)</td>\n",
              "      <td>Comedy|Crime|Drama|Thriller</td>\n",
              "      <td>Elizabeth Berrington|Rudy Blomme|Olivier Bonjo...</td>\n",
              "      <td>Martin McDonagh</td>\n",
              "      <td>107.0</td>\n",
              "      <td>$15,000,000</td>\n",
              "      <td>dwarf|bruges|irish|hitman</td>\n",
              "    </tr>\n",
              "    <tr>\n",
              "      <th>1</th>\n",
              "      <td>106343</td>\n",
              "      <td>5</td>\n",
              "      <td>4.5</td>\n",
              "      <td>1206238739</td>\n",
              "      <td>Father of the Bride Part II (1995)</td>\n",
              "      <td>Comedy</td>\n",
              "      <td>Steve Martin|Diane Keaton|Martin Short|Kimberl...</td>\n",
              "      <td>Albert Hackett</td>\n",
              "      <td>106.0</td>\n",
              "      <td>$30,000,000</td>\n",
              "      <td>fatherhood|doberman|dog|mansion</td>\n",
              "    </tr>\n",
              "    <tr>\n",
              "      <th>2</th>\n",
              "      <td>146790</td>\n",
              "      <td>5459</td>\n",
              "      <td>5.0</td>\n",
              "      <td>1076215539</td>\n",
              "      <td>Men in Black II (a.k.a. MIIB) (a.k.a. MIB 2) (...</td>\n",
              "      <td>Action|Comedy|Sci-Fi</td>\n",
              "      <td>Tommy Lee Jones|Will Smith|Rip Torn|Lara Flynn...</td>\n",
              "      <td>Lowell Cunningham</td>\n",
              "      <td>88.0</td>\n",
              "      <td>$140,000,000</td>\n",
              "      <td>lingerie|michael jackson character|shorthaired...</td>\n",
              "    </tr>\n",
              "    <tr>\n",
              "      <th>3</th>\n",
              "      <td>106362</td>\n",
              "      <td>32296</td>\n",
              "      <td>2.0</td>\n",
              "      <td>1423042565</td>\n",
              "      <td>Miss Congeniality 2: Armed and Fabulous (2005)</td>\n",
              "      <td>Adventure|Comedy|Crime</td>\n",
              "      <td>Sandra Bullock|Regina King|Enrique Murciano|Wi...</td>\n",
              "      <td>Marc Lawrence</td>\n",
              "      <td>115.0</td>\n",
              "      <td>$45,000,000</td>\n",
              "      <td>female protagonist|cleave gag|good woman|fbi</td>\n",
              "    </tr>\n",
              "    <tr>\n",
              "      <th>4</th>\n",
              "      <td>9041</td>\n",
              "      <td>366</td>\n",
              "      <td>3.0</td>\n",
              "      <td>833375837</td>\n",
              "      <td>Wes Craven's New Nightmare (Nightmare on Elm S...</td>\n",
              "      <td>Drama|Horror|Mystery|Thriller</td>\n",
              "      <td>Jeff Davis|Heather Langenkamp|Miko Hughes|Matt...</td>\n",
              "      <td>Wes Craven</td>\n",
              "      <td>112.0</td>\n",
              "      <td>$8,000,000</td>\n",
              "      <td>freddy krueger|elm street|famous director as h...</td>\n",
              "    </tr>\n",
              "  </tbody>\n",
              "</table>\n",
              "</div>"
            ]
          },
          "metadata": {
            "tags": []
          },
          "execution_count": 14
        }
      ]
    },
    {
      "cell_type": "code",
      "metadata": {
        "id": "tAIuVMgjE_Cc",
        "colab_type": "code",
        "colab": {
          "base_uri": "https://localhost:8080/",
          "height": 420
        },
        "outputId": "82145acf-4aa8-4eed-c617-e41260d469a2"
      },
      "source": [
        "# Generate a movie_rating dataframe\n",
        "movie_rating=df.groupby(['title'])['rating'].mean() # agg rating by mean\n",
        "movie_rating=pd.DataFrame(movie_rating)\n",
        "movie_rating"
      ],
<<<<<<< HEAD
      "execution_count": null,
=======
      "execution_count": 15,
>>>>>>> origin/notebook
      "outputs": [
        {
          "output_type": "execute_result",
          "data": {
            "text/plain": [
              "                                                      rating\n",
              "title                                                       \n",
              "\"BLOW THE NIGHT!\" Let's Spend the Night Togethe...  3.000000\n",
              "\"Great Performances\" Cats (1998)                    2.753731\n",
              "#1 Cheerleader Camp (2010)                          1.900000\n",
              "#Female Pleasure (2018)                             4.000000\n",
              "#FollowMe (2019)                                    2.400000\n",
              "...                                                      ...\n",
              "به نام پدر                                          3.250000\n",
              "…And the Fifth Horseman Is Fear (1965)              3.000000\n",
              "チェブラーシカ (2010)                                      2.000000\n",
              "貞子3D (2012)                                         2.562500\n",
              "줄탁동시 (2012)                                         3.000000\n",
              "\n",
              "[48151 rows x 1 columns]"
            ],
            "text/html": [
              "<div>\n",
              "<style scoped>\n",
              "    .dataframe tbody tr th:only-of-type {\n",
              "        vertical-align: middle;\n",
              "    }\n",
              "\n",
              "    .dataframe tbody tr th {\n",
              "        vertical-align: top;\n",
              "    }\n",
              "\n",
              "    .dataframe thead th {\n",
              "        text-align: right;\n",
              "    }\n",
              "</style>\n",
              "<table border=\"1\" class=\"dataframe\">\n",
              "  <thead>\n",
              "    <tr style=\"text-align: right;\">\n",
              "      <th></th>\n",
              "      <th>rating</th>\n",
              "    </tr>\n",
              "    <tr>\n",
              "      <th>title</th>\n",
              "      <th></th>\n",
              "    </tr>\n",
              "  </thead>\n",
              "  <tbody>\n",
              "    <tr>\n",
              "      <th>\"BLOW THE NIGHT!\" Let's Spend the Night Together (1983)</th>\n",
              "      <td>3.000000</td>\n",
              "    </tr>\n",
              "    <tr>\n",
              "      <th>\"Great Performances\" Cats (1998)</th>\n",
              "      <td>2.753731</td>\n",
              "    </tr>\n",
              "    <tr>\n",
              "      <th>#1 Cheerleader Camp (2010)</th>\n",
              "      <td>1.900000</td>\n",
              "    </tr>\n",
              "    <tr>\n",
              "      <th>#Female Pleasure (2018)</th>\n",
              "      <td>4.000000</td>\n",
              "    </tr>\n",
              "    <tr>\n",
              "      <th>#FollowMe (2019)</th>\n",
              "      <td>2.400000</td>\n",
              "    </tr>\n",
              "    <tr>\n",
              "      <th>...</th>\n",
              "      <td>...</td>\n",
              "    </tr>\n",
              "    <tr>\n",
              "      <th>به نام پدر</th>\n",
              "      <td>3.250000</td>\n",
              "    </tr>\n",
              "    <tr>\n",
              "      <th>…And the Fifth Horseman Is Fear (1965)</th>\n",
              "      <td>3.000000</td>\n",
              "    </tr>\n",
              "    <tr>\n",
              "      <th>チェブラーシカ (2010)</th>\n",
              "      <td>2.000000</td>\n",
              "    </tr>\n",
              "    <tr>\n",
              "      <th>貞子3D (2012)</th>\n",
              "      <td>2.562500</td>\n",
              "    </tr>\n",
              "    <tr>\n",
              "      <th>줄탁동시 (2012)</th>\n",
              "      <td>3.000000</td>\n",
              "    </tr>\n",
              "  </tbody>\n",
              "</table>\n",
              "<p>48151 rows × 1 columns</p>\n",
              "</div>"
            ]
          },
          "metadata": {
            "tags": []
          },
          "execution_count": 15
        }
      ]
    },
    {
      "cell_type": "code",
      "metadata": {
        "id": "d2Bf1CjJFgjQ",
        "colab_type": "code",
        "colab": {}
      },
      "source": [
        "# Generate column to sum number of ratings per title\n",
        "movie_rating['num of ratings'] = pd.DataFrame(df.groupby('title')['rating'].count())"
      ],
<<<<<<< HEAD
      "execution_count": null,
=======
      "execution_count": 16,
>>>>>>> origin/notebook
      "outputs": []
    },
    {
      "cell_type": "code",
      "metadata": {
        "id": "v7khSl2_Jr9Y",
        "colab_type": "code",
        "colab": {
          "base_uri": "https://localhost:8080/",
          "height": 220
        },
        "outputId": "27d0d9c0-5966-4859-d244-62c13d3675d4"
      },
      "source": [
        "movie_rating.head()"
      ],
<<<<<<< HEAD
      "execution_count": null,
=======
      "execution_count": 17,
>>>>>>> origin/notebook
      "outputs": [
        {
          "output_type": "execute_result",
          "data": {
            "text/plain": [
              "                                                      rating  num of ratings\n",
              "title                                                                       \n",
              "\"BLOW THE NIGHT!\" Let's Spend the Night Togethe...  3.000000               1\n",
              "\"Great Performances\" Cats (1998)                    2.753731              67\n",
              "#1 Cheerleader Camp (2010)                          1.900000               5\n",
              "#Female Pleasure (2018)                             4.000000               1\n",
              "#FollowMe (2019)                                    2.400000               5"
            ],
            "text/html": [
              "<div>\n",
              "<style scoped>\n",
              "    .dataframe tbody tr th:only-of-type {\n",
              "        vertical-align: middle;\n",
              "    }\n",
              "\n",
              "    .dataframe tbody tr th {\n",
              "        vertical-align: top;\n",
              "    }\n",
              "\n",
              "    .dataframe thead th {\n",
              "        text-align: right;\n",
              "    }\n",
              "</style>\n",
              "<table border=\"1\" class=\"dataframe\">\n",
              "  <thead>\n",
              "    <tr style=\"text-align: right;\">\n",
              "      <th></th>\n",
              "      <th>rating</th>\n",
              "      <th>num of ratings</th>\n",
              "    </tr>\n",
              "    <tr>\n",
              "      <th>title</th>\n",
              "      <th></th>\n",
              "      <th></th>\n",
              "    </tr>\n",
              "  </thead>\n",
              "  <tbody>\n",
              "    <tr>\n",
              "      <th>\"BLOW THE NIGHT!\" Let's Spend the Night Together (1983)</th>\n",
              "      <td>3.000000</td>\n",
              "      <td>1</td>\n",
              "    </tr>\n",
              "    <tr>\n",
              "      <th>\"Great Performances\" Cats (1998)</th>\n",
              "      <td>2.753731</td>\n",
              "      <td>67</td>\n",
              "    </tr>\n",
              "    <tr>\n",
              "      <th>#1 Cheerleader Camp (2010)</th>\n",
              "      <td>1.900000</td>\n",
              "      <td>5</td>\n",
              "    </tr>\n",
              "    <tr>\n",
              "      <th>#Female Pleasure (2018)</th>\n",
              "      <td>4.000000</td>\n",
              "      <td>1</td>\n",
              "    </tr>\n",
              "    <tr>\n",
              "      <th>#FollowMe (2019)</th>\n",
              "      <td>2.400000</td>\n",
              "      <td>5</td>\n",
              "    </tr>\n",
              "  </tbody>\n",
              "</table>\n",
              "</div>"
            ]
          },
          "metadata": {
            "tags": []
          },
          "execution_count": 17
        }
      ]
    },
    {
      "cell_type": "code",
      "metadata": {
        "id": "vEiqRjBxFl6l",
        "colab_type": "code",
        "colab": {}
      },
      "source": [
        "# Most rated titles\n",
        "most_rated = pd.DataFrame(df.groupby('title')['rating'].count().sort_values(ascending=False)).reset_index()"
      ],
<<<<<<< HEAD
      "execution_count": null,
=======
      "execution_count": 18,
>>>>>>> origin/notebook
      "outputs": []
    },
    {
      "cell_type": "code",
      "metadata": {
        "id": "KkllM8xyF32H",
        "colab_type": "code",
        "colab": {
          "base_uri": "https://localhost:8080/",
          "height": 391
        },
        "outputId": "23551e12-586b-4d80-e8b7-672f395c3b2c"
      },
      "source": [
        "most_rated"
      ],
<<<<<<< HEAD
      "execution_count": null,
=======
      "execution_count": 19,
>>>>>>> origin/notebook
      "outputs": [
        {
          "output_type": "execute_result",
          "data": {
            "text/plain": [
              "                                                   title  rating\n",
              "0                       Shawshank Redemption, The (1994)   32831\n",
              "1                                    Forrest Gump (1994)   32383\n",
              "2                                    Pulp Fiction (1994)   31697\n",
              "3                       Silence of the Lambs, The (1991)   29444\n",
              "4                                     Matrix, The (1999)   29014\n",
              "...                                                  ...     ...\n",
              "48146                            Love on the Dole (1941)       1\n",
              "48147                          Love's Abiding Joy (2006)       1\n",
              "48148                              Love's Brother (2004)       1\n",
              "48149                               Love's Coming (2014)       1\n",
              "48150  \"BLOW THE NIGHT!\" Let's Spend the Night Togeth...       1\n",
              "\n",
              "[48151 rows x 2 columns]"
            ],
            "text/html": [
              "<div>\n",
              "<style scoped>\n",
              "    .dataframe tbody tr th:only-of-type {\n",
              "        vertical-align: middle;\n",
              "    }\n",
              "\n",
              "    .dataframe tbody tr th {\n",
              "        vertical-align: top;\n",
              "    }\n",
              "\n",
              "    .dataframe thead th {\n",
              "        text-align: right;\n",
              "    }\n",
              "</style>\n",
              "<table border=\"1\" class=\"dataframe\">\n",
              "  <thead>\n",
              "    <tr style=\"text-align: right;\">\n",
              "      <th></th>\n",
              "      <th>title</th>\n",
              "      <th>rating</th>\n",
              "    </tr>\n",
              "  </thead>\n",
              "  <tbody>\n",
              "    <tr>\n",
              "      <th>0</th>\n",
              "      <td>Shawshank Redemption, The (1994)</td>\n",
              "      <td>32831</td>\n",
              "    </tr>\n",
              "    <tr>\n",
              "      <th>1</th>\n",
              "      <td>Forrest Gump (1994)</td>\n",
              "      <td>32383</td>\n",
              "    </tr>\n",
              "    <tr>\n",
              "      <th>2</th>\n",
              "      <td>Pulp Fiction (1994)</td>\n",
              "      <td>31697</td>\n",
              "    </tr>\n",
              "    <tr>\n",
              "      <th>3</th>\n",
              "      <td>Silence of the Lambs, The (1991)</td>\n",
              "      <td>29444</td>\n",
              "    </tr>\n",
              "    <tr>\n",
              "      <th>4</th>\n",
              "      <td>Matrix, The (1999)</td>\n",
              "      <td>29014</td>\n",
              "    </tr>\n",
              "    <tr>\n",
              "      <th>...</th>\n",
              "      <td>...</td>\n",
              "      <td>...</td>\n",
              "    </tr>\n",
              "    <tr>\n",
              "      <th>48146</th>\n",
              "      <td>Love on the Dole (1941)</td>\n",
              "      <td>1</td>\n",
              "    </tr>\n",
              "    <tr>\n",
              "      <th>48147</th>\n",
              "      <td>Love's Abiding Joy (2006)</td>\n",
              "      <td>1</td>\n",
              "    </tr>\n",
              "    <tr>\n",
              "      <th>48148</th>\n",
              "      <td>Love's Brother (2004)</td>\n",
              "      <td>1</td>\n",
              "    </tr>\n",
              "    <tr>\n",
              "      <th>48149</th>\n",
              "      <td>Love's Coming (2014)</td>\n",
              "      <td>1</td>\n",
              "    </tr>\n",
              "    <tr>\n",
              "      <th>48150</th>\n",
              "      <td>\"BLOW THE NIGHT!\" Let's Spend the Night Togeth...</td>\n",
              "      <td>1</td>\n",
              "    </tr>\n",
              "  </tbody>\n",
              "</table>\n",
              "<p>48151 rows × 2 columns</p>\n",
              "</div>"
            ]
          },
          "metadata": {
            "tags": []
          },
          "execution_count": 19
        }
      ]
    },
    {
      "cell_type": "code",
      "metadata": {
        "id": "413fIkEpGdox",
        "colab_type": "code",
        "colab": {
          "base_uri": "https://localhost:8080/",
          "height": 892
        },
        "outputId": "09bb58c1-5b8d-4a4f-f72b-91bd298de6fa"
      },
      "source": [
        "f, ax = plt.subplots(figsize=(6, 15))\n",
        "sns.barplot(data=most_rated[0:20],y='title',x='rating')\n",
        "# Add a legend and informative axis label\n",
        "ax.set(ylabel=\"\",\n",
        "       xlabel=\"rating\")\n",
        "ax.title.set_text('The highest rated movies')\n",
        "sns.despine(left=True, bottom=True)"
      ],
<<<<<<< HEAD
      "execution_count": null,
=======
      "execution_count": 20,
>>>>>>> origin/notebook
      "outputs": [
        {
          "output_type": "display_data",
          "data": {
            "text/plain": [
              "<Figure size 432x1080 with 1 Axes>"
            ],
            "image/png": "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\n"
          },
          "metadata": {
            "tags": [],
            "needs_background": "light"
          }
        }
      ]
    },
    {
      "cell_type": "code",
      "metadata": {
        "id": "XYQnbTdyM3Wa",
        "colab_type": "code",
        "colab": {}
      },
      "source": [
        "popular_genres = pd.DataFrame(movies[['genres','title']].groupby('genres').count())"
      ],
<<<<<<< HEAD
      "execution_count": null,
=======
      "execution_count": 21,
>>>>>>> origin/notebook
      "outputs": []
    },
    {
      "cell_type": "code",
      "metadata": {
        "id": "ZdN5ul5aOgi0",
        "colab_type": "code",
        "colab": {
          "base_uri": "https://localhost:8080/",
          "height": 220
        },
        "outputId": "b78d8167-9c91-4a7c-e263-7e2afd11a3c0"
      },
      "source": [
        "popular_genres.head()"
      ],
<<<<<<< HEAD
      "execution_count": null,
=======
      "execution_count": 27,
>>>>>>> origin/notebook
      "outputs": [
        {
          "output_type": "execute_result",
          "data": {
            "text/plain": [
              "                                     title\n",
              "genres                                    \n",
              "(no genres listed)                    5062\n",
              "Action                                 562\n",
              "Action|Adventure                       200\n",
              "Action|Adventure|Animation              30\n",
              "Action|Adventure|Animation|Children      6"
            ],
            "text/html": [
              "<div>\n",
              "<style scoped>\n",
              "    .dataframe tbody tr th:only-of-type {\n",
              "        vertical-align: middle;\n",
              "    }\n",
              "\n",
              "    .dataframe tbody tr th {\n",
              "        vertical-align: top;\n",
              "    }\n",
              "\n",
              "    .dataframe thead th {\n",
              "        text-align: right;\n",
              "    }\n",
              "</style>\n",
              "<table border=\"1\" class=\"dataframe\">\n",
              "  <thead>\n",
              "    <tr style=\"text-align: right;\">\n",
              "      <th></th>\n",
              "      <th>title</th>\n",
              "    </tr>\n",
              "    <tr>\n",
              "      <th>genres</th>\n",
              "      <th></th>\n",
              "    </tr>\n",
              "  </thead>\n",
              "  <tbody>\n",
              "    <tr>\n",
              "      <th>(no genres listed)</th>\n",
              "      <td>5062</td>\n",
              "    </tr>\n",
              "    <tr>\n",
              "      <th>Action</th>\n",
              "      <td>562</td>\n",
              "    </tr>\n",
              "    <tr>\n",
              "      <th>Action|Adventure</th>\n",
              "      <td>200</td>\n",
              "    </tr>\n",
              "    <tr>\n",
              "      <th>Action|Adventure|Animation</th>\n",
              "      <td>30</td>\n",
              "    </tr>\n",
              "    <tr>\n",
              "      <th>Action|Adventure|Animation|Children</th>\n",
              "      <td>6</td>\n",
              "    </tr>\n",
              "  </tbody>\n",
              "</table>\n",
              "</div>"
            ]
          },
          "metadata": {
            "tags": []
          },
          "execution_count": 27
        }
      ]
    },
    {
      "cell_type": "code",
      "metadata": {
        "id": "00S3N6ncHJ7Q",
        "colab_type": "code",
        "colab": {
          "base_uri": "https://localhost:8080/",
          "height": 50
        },
        "outputId": "e5b547f8-d7b1-4cd5-acb8-dad29c122af6"
      },
      "source": [
        "# The minimum and maximum ratings given by the users\n",
        "print('The minimum rating given is:',movie_rating['rating'].min())\n",
        "print('The maximum rating given is:',movie_rating['rating'].max())"
      ],
<<<<<<< HEAD
      "execution_count": null,
=======
      "execution_count": 28,
>>>>>>> origin/notebook
      "outputs": [
        {
          "output_type": "stream",
          "text": [
            "The minimum rating given is: 0.5\n",
            "The maximum rating given is: 5.0\n"
          ],
          "name": "stdout"
        }
      ]
    },
    {
      "cell_type": "code",
      "metadata": {
        "id": "_1oErfz5LLX8",
        "colab_type": "code",
        "colab": {}
      },
      "source": [
        "# Function creates ranges for ratings\n",
        "# To be used for visualisations\n",
        "\n",
        "def rating_range(text):\n",
        "  \n",
        "  if int (text) < 1:\n",
        "    return '0-1'\n",
        "  elif int (text) <2:\n",
        "    return'1-2'\n",
        "  elif int (text) <3:\n",
        "    return '2-3'\n",
        "  elif int (text) <4:\n",
        "    return '3-4'\n",
        "  else:\n",
        "    return '4-5'"
      ],
<<<<<<< HEAD
      "execution_count": null,
=======
      "execution_count": 29,
>>>>>>> origin/notebook
      "outputs": []
    },
    {
      "cell_type": "code",
      "metadata": {
        "id": "i2e4J9pjLNTx",
        "colab_type": "code",
        "colab": {}
      },
      "source": [
        "# Apply rating_range function to generate a range column\n",
        "movie_rating['range']=movie_rating['rating'].apply(rating_range)"
      ],
<<<<<<< HEAD
      "execution_count": null,
=======
      "execution_count": 30,
>>>>>>> origin/notebook
      "outputs": []
    },
    {
      "cell_type": "code",
      "metadata": {
        "id": "eB2wr-DSIVCN",
        "colab_type": "code",
        "colab": {
          "base_uri": "https://localhost:8080/",
          "height": 515
        },
        "outputId": "2920f233-38c3-4822-d459-8f1723aaef9d"
      },
      "source": [
        "# Plot scatter plot illustrating the relationship between ratings and number of ratings\n",
        "\n",
        "sns.set(style=\"whitegrid\", context=\"talk\")\n",
        "f, ax = plt.subplots(figsize=(15, 8))\n",
        "sns.scatterplot(x=movie_rating['rating'], y=movie_rating['num of ratings'],\n",
        "hue=movie_rating['range'],palette=\"husl\",sizes=(1, 8), linewidth=0.5,data=movie_rating, ax=ax) # range used to categorise ratings\n",
        "plt.xlabel('Ratings') \n",
        "plt.ylabel('Total Ratings') \n",
        "plt.show()"
      ],
<<<<<<< HEAD
      "execution_count": null,
=======
      "execution_count": 31,
>>>>>>> origin/notebook
      "outputs": [
        {
          "output_type": "display_data",
          "data": {
            "text/plain": [
              "<Figure size 1080x576 with 1 Axes>"
            ],
            "image/png": "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\n"
          },
          "metadata": {
            "tags": []
          }
        }
      ]
    },
    {
      "cell_type": "markdown",
      "metadata": {
        "id": "1e9lXQ-YaC1Z",
        "colab_type": "text"
      },
      "source": [
        "#Modelling"
      ]
    },
    {
      "cell_type": "markdown",
      "metadata": {
        "id": "d73gTcmmSZ0L",
        "colab_type": "text"
      },
      "source": [
        "A recommender system functions by predicting a user's rating or preference for an item.\n",
        "\n",
        "There are two primary sets of entities:\n",
        "- the Users ( individuals who interact with the items)\n",
        "- the Items (a thing which is consumed)\n",
        "\n",
        "\n",
        "Items can be:\n",
        "- watched\n",
        "- read\n",
        "- bought\n",
        "- clicked-on\n",
        "- considered.\n",
        "\n",
        "\n",
        "Items are passive, meaning that their properties or nature does not change.\n",
        "\n",
        "Users create ratings for specific items within a recommendation system.\n",
        "\n",
        "There are two approaches to recommending movies:\n",
        " - collaborative based filtering\n",
        " - content based filtering"
      ]
    },
    {
      "cell_type": "markdown",
      "metadata": {
        "id": "lAWnmTs7aKf7",
        "colab_type": "text"
      },
      "source": [
        "## Collaborative based prediction\n",
        "A reader is needed in order to input `rating_scale` parameter"
      ]
    },
    {
      "cell_type": "code",
      "metadata": {
        "id": "pZc3Z3okaEPb",
        "colab_type": "code",
        "colab": {}
      },
      "source": [
        "reader = Reader(rating_scale=(1, 5))"
      ],
<<<<<<< HEAD
      "execution_count": null,
=======
      "execution_count": 32,
>>>>>>> origin/notebook
      "outputs": []
    },
    {
      "cell_type": "markdown",
      "metadata": {
        "id": "x78UyrP8aT9M",
        "colab_type": "text"
      },
      "source": [
        " - Load data into format that Surprise understands using Dataset class from surprise\n",
        " - The columns must correspond to user id, item id and ratings (in that order)."
      ]
    },
    {
      "cell_type": "code",
      "metadata": {
        "id": "14BhUr8MaYt4",
        "colab_type": "code",
        "colab": {}
      },
      "source": [
        "data = Dataset.load_from_df(train[['userId', 'movieId', 'rating']], reader)"
      ],
<<<<<<< HEAD
      "execution_count": null,
=======
      "execution_count": 33,
>>>>>>> origin/notebook
      "outputs": []
    },
    {
      "cell_type": "markdown",
      "metadata": {
        "id": "chKy6J51adwE",
        "colab_type": "text"
      },
      "source": [
        "We can now use this dataset as we please, e.g. calling cross_validate"
      ]
    },
    {
      "cell_type": "code",
      "metadata": {
        "id": "WoIwEuXIa52G",
        "colab_type": "code",
        "colab": {}
      },
      "source": [
        "# We are using the full train dataset to train the model here - should use test and train split in order to evaluate\n",
        "trainset = data.build_full_trainset()"
      ],
<<<<<<< HEAD
      "execution_count": null,
=======
      "execution_count": 34,
>>>>>>> origin/notebook
      "outputs": []
    },
    {
      "cell_type": "markdown",
      "metadata": {
        "id": "3Qbs5AWOa7Ww",
        "colab_type": "text"
      },
      "source": [
        "### SVD model"
      ]
    },
    {
      "cell_type": "code",
      "metadata": {
        "id": "sfGeWr4yafIq",
        "colab_type": "code",
        "colab": {
          "base_uri": "https://localhost:8080/",
          "height": 33
        },
        "outputId": "34c0bca1-1ed9-4242-eaf7-9a8978ab7a5c"
      },
      "source": [
        "# Build an algorithm, and train it.\n",
        "algo = SVD()\n",
        "algo.fit(trainset)"
      ],
<<<<<<< HEAD
      "execution_count": null,
=======
      "execution_count": 35,
>>>>>>> origin/notebook
      "outputs": [
        {
          "output_type": "execute_result",
          "data": {
            "text/plain": [
              "<surprise.prediction_algorithms.matrix_factorization.SVD at 0x234bd260e48>"
            ]
          },
          "metadata": {
            "tags": []
          },
          "execution_count": 35
        }
      ]
    },
    {
      "cell_type": "code",
      "metadata": {
        "id": "Q8zbvQvO4OO2",
        "colab_type": "code",
        "colab": {}
      },
      "source": [
        "# Pickle model\n",
        "model_save_path = \"SVD_full_dataset.pkl\"\n",
        "with open(model_save_path,'wb') as file:\n",
        "    pickle.dump(algo,file)"
      ],
<<<<<<< HEAD
      "execution_count": null,
=======
      "execution_count": 38,
>>>>>>> origin/notebook
      "outputs": []
    },
    {
      "cell_type": "markdown",
      "metadata": {
        "id": "6vS8cw_HbVH8",
        "colab_type": "text"
      },
      "source": [
        "Example on how to predict using the SVD algorithm"
      ]
    },
    {
      "cell_type": "code",
      "metadata": {
        "id": "JV1IsBdQbLIk",
        "colab_type": "code",
        "colab": {}
      },
      "source": [
        "# raw user id (as in the ratings file). They are **strings**!\n",
        "uid = str(1)\n",
        "# raw item id (as in the ratings file). They are **strings**!\n",
        "iid = str(2011)"
      ],
<<<<<<< HEAD
      "execution_count": null,
=======
      "execution_count": 39,
>>>>>>> origin/notebook
      "outputs": []
    },
    {
      "cell_type": "markdown",
      "metadata": {
        "id": "-L_dZxmZbqMa",
        "colab_type": "text"
      },
      "source": [
        "Get a prediction for specific users and items."
      ]
    },
    {
      "cell_type": "code",
      "metadata": {
        "id": "nu3P8kaVbt0v",
        "colab_type": "code",
        "colab": {
          "base_uri": "https://localhost:8080/",
          "height": 33
        },
        "outputId": "c15ea796-4fe0-4fce-c57a-b0eb1f9b26b7"
      },
      "source": [
        "pred = algo.predict(uid, iid, r_ui=4, verbose=True)"
      ],
<<<<<<< HEAD
      "execution_count": null,
=======
      "execution_count": 40,
>>>>>>> origin/notebook
      "outputs": [
        {
          "output_type": "stream",
          "text": [
            "user: 1          item: 2011       r_ui = 4.00   est = 3.53   {'was_impossible': False}\n"
          ],
          "name": "stdout"
        }
      ]
    },
    {
      "cell_type": "markdown",
      "metadata": {
        "id": "ORPpFLexb8SD",
        "colab_type": "text"
      },
      "source": [
        "Get a prediction for the test data"
      ]
    },
    {
      "cell_type": "code",
      "metadata": {
        "id": "qtAc_TKlXaPn",
        "colab_type": "code",
        "colab": {}
      },
      "source": [
        "test_df = pd.read_csv('Documents/movies/test.csv')"
      ],
<<<<<<< HEAD
      "execution_count": null,
=======
      "execution_count": 43,
>>>>>>> origin/notebook
      "outputs": []
    },
    {
      "cell_type": "code",
      "metadata": {
        "id": "6EwfDnU-cA9z",
        "colab_type": "code",
        "colab": {}
      },
      "source": [
        "# Predict on our test data\n",
        "predcol = []\n",
        "for _, row in test_df.iterrows():\n",
        "    x = (algo.predict(row.userId, row.movieId))\n",
        "    pred = x[3]\n",
        "    predcol.append(pred)"
      ],
<<<<<<< HEAD
      "execution_count": null,
=======
      "execution_count": 44,
>>>>>>> origin/notebook
      "outputs": []
    },
    {
      "cell_type": "code",
      "metadata": {
        "id": "xNbesfAmcKzD",
        "colab_type": "code",
        "colab": {
          "base_uri": "https://localhost:8080/",
          "height": 33
        },
        "outputId": "a667595f-7f87-4598-c173-22d43cbaecae"
      },
      "source": [
        "# check if the prediction length is the same as input length\n",
        "len(predcol) == len(test_df)"
      ],
<<<<<<< HEAD
      "execution_count": null,
=======
      "execution_count": 45,
>>>>>>> origin/notebook
      "outputs": [
        {
          "output_type": "execute_result",
          "data": {
            "text/plain": [
              "True"
            ]
          },
          "metadata": {
            "tags": []
          },
          "execution_count": 45
        }
      ]
    },
    {
      "cell_type": "code",
      "metadata": {
        "id": "0LpF6liqcP5J",
        "colab_type": "code",
        "colab": {}
      },
      "source": [
        "# Convert columns to string in order to prep for concatenating\n",
        "test_df['userId'] = test_df['userId'].astype(str)\n",
        "test_df['movieId'] = test_df['movieId'].astype(str)"
      ],
<<<<<<< HEAD
      "execution_count": null,
=======
      "execution_count": 46,
>>>>>>> origin/notebook
      "outputs": []
    },
    {
      "cell_type": "code",
      "metadata": {
        "id": "2d1EB6vMcYQv",
        "colab_type": "code",
        "colab": {}
      },
      "source": [
        "# Create submission column ID\n",
        "test_df['Id'] =test_df['userId']+'_'+test_df['movieId']"
      ],
<<<<<<< HEAD
      "execution_count": null,
=======
      "execution_count": 47,
>>>>>>> origin/notebook
      "outputs": []
    },
    {
      "cell_type": "code",
      "metadata": {
        "id": "PeQdUSV4cbrO",
        "colab_type": "code",
        "colab": {}
      },
      "source": [
        "kaggle_df = pd.DataFrame(\n",
        "    {'Id': test_df['Id'],\n",
        "     'rating': predcol\n",
        "    })"
      ],
<<<<<<< HEAD
      "execution_count": null,
=======
      "execution_count": 48,
>>>>>>> origin/notebook
      "outputs": []
    },
    {
      "cell_type": "code",
      "metadata": {
        "id": "Xkc4Y6TSccEd",
        "colab_type": "code",
        "colab": {
          "base_uri": "https://localhost:8080/",
          "height": 33
        },
        "outputId": "03f6f84e-e4aa-47f4-d1ab-b1756ca11b6a"
      },
      "source": [
        "kaggle_df.shape"
      ],
<<<<<<< HEAD
      "execution_count": null,
=======
      "execution_count": 49,
>>>>>>> origin/notebook
      "outputs": [
        {
          "output_type": "execute_result",
          "data": {
            "text/plain": [
              "(5000019, 2)"
            ]
          },
          "metadata": {
            "tags": []
          },
          "execution_count": 49
        }
      ]
    },
    {
      "cell_type": "code",
      "metadata": {
        "id": "IrqCZzcKckn5",
        "colab_type": "code",
        "colab": {
          "base_uri": "https://localhost:8080/",
          "height": 191
        },
        "outputId": "452ba6bc-9082-4831-af6b-ab6ea8ca6fd4"
      },
      "source": [
        "kaggle_df.head()"
      ],
<<<<<<< HEAD
      "execution_count": null,
=======
      "execution_count": 50,
>>>>>>> origin/notebook
      "outputs": [
        {
          "output_type": "execute_result",
          "data": {
            "text/plain": [
              "       Id    rating\n",
              "0  1_2011  3.441536\n",
              "1  1_4144  3.940187\n",
              "2  1_5767  4.155973\n",
              "3  1_6711  4.047568\n",
              "4  1_7318  2.399892"
            ],
            "text/html": [
              "<div>\n",
              "<style scoped>\n",
              "    .dataframe tbody tr th:only-of-type {\n",
              "        vertical-align: middle;\n",
              "    }\n",
              "\n",
              "    .dataframe tbody tr th {\n",
              "        vertical-align: top;\n",
              "    }\n",
              "\n",
              "    .dataframe thead th {\n",
              "        text-align: right;\n",
              "    }\n",
              "</style>\n",
              "<table border=\"1\" class=\"dataframe\">\n",
              "  <thead>\n",
              "    <tr style=\"text-align: right;\">\n",
              "      <th></th>\n",
              "      <th>Id</th>\n",
              "      <th>rating</th>\n",
              "    </tr>\n",
              "  </thead>\n",
              "  <tbody>\n",
              "    <tr>\n",
              "      <th>0</th>\n",
              "      <td>1_2011</td>\n",
              "      <td>3.441536</td>\n",
              "    </tr>\n",
              "    <tr>\n",
              "      <th>1</th>\n",
              "      <td>1_4144</td>\n",
              "      <td>3.940187</td>\n",
              "    </tr>\n",
              "    <tr>\n",
              "      <th>2</th>\n",
              "      <td>1_5767</td>\n",
              "      <td>4.155973</td>\n",
              "    </tr>\n",
              "    <tr>\n",
              "      <th>3</th>\n",
              "      <td>1_6711</td>\n",
              "      <td>4.047568</td>\n",
              "    </tr>\n",
              "    <tr>\n",
              "      <th>4</th>\n",
              "      <td>1_7318</td>\n",
              "      <td>2.399892</td>\n",
              "    </tr>\n",
              "  </tbody>\n",
              "</table>\n",
              "</div>"
            ]
          },
          "metadata": {
            "tags": []
          },
          "execution_count": 50
        }
      ]
    },
    {
      "cell_type": "code",
      "metadata": {
        "id": "z6Uh5V7Acn-p",
        "colab_type": "code",
        "colab": {}
      },
      "source": [
        "# Export to csv\n",
        "kaggle_df.to_csv(\"SVD_base.csv\",index=False)"
      ],
<<<<<<< HEAD
      "execution_count": null,
=======
      "execution_count": 51,
>>>>>>> origin/notebook
      "outputs": []
    },
    {
      "cell_type": "markdown",
      "metadata": {
        "id": "negzflf0TUjh",
        "colab_type": "text"
      },
      "source": [
        "## Content based prediction\n",
        "In Content-based Filtering, we seek to make recommendations based on how similar the properties or features of an item are to other items."
      ]
    },
    {
      "cell_type": "code",
      "metadata": {
        "id": "tmIHWuPyTcDe",
        "colab_type": "code",
        "colab": {}
      },
      "source": [
        "column_list=['timestamp','runtime','budget','plot_keywords']\n",
        "df.drop(column_list,axis=1,inplace=True)"
      ],
<<<<<<< HEAD
      "execution_count": null,
=======
      "execution_count": 52,
>>>>>>> origin/notebook
      "outputs": []
    },
    {
      "cell_type": "code",
      "metadata": {
        "id": "j9Qz-kYKUfES",
        "colab_type": "code",
        "colab": {
          "base_uri": "https://localhost:8080/",
          "height": 33
        },
        "outputId": "c206ed8d-eab8-4397-f041-63d6b32c1576"
      },
      "source": [
        "# Check df shape\n",
        "row,column=df.shape\n",
        "print('The dataframe has {} rows and {} columns.'.format(row, column))"
      ],
<<<<<<< HEAD
      "execution_count": null,
=======
      "execution_count": 53,
>>>>>>> origin/notebook
      "outputs": [
        {
          "output_type": "stream",
          "text": [
            "The dataframe has 10000038 rows and 7 columns.\n"
          ],
          "name": "stdout"
        }
      ]
    },
    {
      "cell_type": "code",
      "metadata": {
        "id": "Ha1MTkAyUgxQ",
        "colab_type": "code",
        "colab": {
          "base_uri": "https://localhost:8080/",
          "height": 191
        },
        "outputId": "f9326576-b3a6-4f53-aa56-6e250cc6f50f"
      },
      "source": [
        "df.head(5)"
      ],
<<<<<<< HEAD
      "execution_count": null,
=======
      "execution_count": 54,
>>>>>>> origin/notebook
      "outputs": [
        {
          "output_type": "execute_result",
          "data": {
            "text/plain": [
              "   userId  movieId  rating                                              title  \\\n",
              "0    5163    57669     4.0                                   In Bruges (2008)   \n",
              "1  106343        5     4.5                 Father of the Bride Part II (1995)   \n",
              "2  146790     5459     5.0  Men in Black II (a.k.a. MIIB) (a.k.a. MIB 2) (...   \n",
              "3  106362    32296     2.0     Miss Congeniality 2: Armed and Fabulous (2005)   \n",
              "4    9041      366     3.0  Wes Craven's New Nightmare (Nightmare on Elm S...   \n",
              "\n",
              "                          genres  \\\n",
              "0    Comedy|Crime|Drama|Thriller   \n",
              "1                         Comedy   \n",
              "2           Action|Comedy|Sci-Fi   \n",
              "3         Adventure|Comedy|Crime   \n",
              "4  Drama|Horror|Mystery|Thriller   \n",
              "\n",
              "                                          title_cast           director  \n",
              "0  Elizabeth Berrington|Rudy Blomme|Olivier Bonjo...    Martin McDonagh  \n",
              "1  Steve Martin|Diane Keaton|Martin Short|Kimberl...     Albert Hackett  \n",
              "2  Tommy Lee Jones|Will Smith|Rip Torn|Lara Flynn...  Lowell Cunningham  \n",
              "3  Sandra Bullock|Regina King|Enrique Murciano|Wi...      Marc Lawrence  \n",
              "4  Jeff Davis|Heather Langenkamp|Miko Hughes|Matt...         Wes Craven  "
            ],
            "text/html": [
              "<div>\n",
              "<style scoped>\n",
              "    .dataframe tbody tr th:only-of-type {\n",
              "        vertical-align: middle;\n",
              "    }\n",
              "\n",
              "    .dataframe tbody tr th {\n",
              "        vertical-align: top;\n",
              "    }\n",
              "\n",
              "    .dataframe thead th {\n",
              "        text-align: right;\n",
              "    }\n",
              "</style>\n",
              "<table border=\"1\" class=\"dataframe\">\n",
              "  <thead>\n",
              "    <tr style=\"text-align: right;\">\n",
              "      <th></th>\n",
              "      <th>userId</th>\n",
              "      <th>movieId</th>\n",
              "      <th>rating</th>\n",
              "      <th>title</th>\n",
              "      <th>genres</th>\n",
              "      <th>title_cast</th>\n",
              "      <th>director</th>\n",
              "    </tr>\n",
              "  </thead>\n",
              "  <tbody>\n",
              "    <tr>\n",
              "      <th>0</th>\n",
              "      <td>5163</td>\n",
              "      <td>57669</td>\n",
              "      <td>4.0</td>\n",
              "      <td>In Bruges (2008)</td>\n",
              "      <td>Comedy|Crime|Drama|Thriller</td>\n",
              "      <td>Elizabeth Berrington|Rudy Blomme|Olivier Bonjo...</td>\n",
              "      <td>Martin McDonagh</td>\n",
              "    </tr>\n",
              "    <tr>\n",
              "      <th>1</th>\n",
              "      <td>106343</td>\n",
              "      <td>5</td>\n",
              "      <td>4.5</td>\n",
              "      <td>Father of the Bride Part II (1995)</td>\n",
              "      <td>Comedy</td>\n",
              "      <td>Steve Martin|Diane Keaton|Martin Short|Kimberl...</td>\n",
              "      <td>Albert Hackett</td>\n",
              "    </tr>\n",
              "    <tr>\n",
              "      <th>2</th>\n",
              "      <td>146790</td>\n",
              "      <td>5459</td>\n",
              "      <td>5.0</td>\n",
              "      <td>Men in Black II (a.k.a. MIIB) (a.k.a. MIB 2) (...</td>\n",
              "      <td>Action|Comedy|Sci-Fi</td>\n",
              "      <td>Tommy Lee Jones|Will Smith|Rip Torn|Lara Flynn...</td>\n",
              "      <td>Lowell Cunningham</td>\n",
              "    </tr>\n",
              "    <tr>\n",
              "      <th>3</th>\n",
              "      <td>106362</td>\n",
              "      <td>32296</td>\n",
              "      <td>2.0</td>\n",
              "      <td>Miss Congeniality 2: Armed and Fabulous (2005)</td>\n",
              "      <td>Adventure|Comedy|Crime</td>\n",
              "      <td>Sandra Bullock|Regina King|Enrique Murciano|Wi...</td>\n",
              "      <td>Marc Lawrence</td>\n",
              "    </tr>\n",
              "    <tr>\n",
              "      <th>4</th>\n",
              "      <td>9041</td>\n",
              "      <td>366</td>\n",
              "      <td>3.0</td>\n",
              "      <td>Wes Craven's New Nightmare (Nightmare on Elm S...</td>\n",
              "      <td>Drama|Horror|Mystery|Thriller</td>\n",
              "      <td>Jeff Davis|Heather Langenkamp|Miko Hughes|Matt...</td>\n",
              "      <td>Wes Craven</td>\n",
              "    </tr>\n",
              "  </tbody>\n",
              "</table>\n",
              "</div>"
            ]
          },
          "metadata": {
            "tags": []
          },
          "execution_count": 54
        }
      ]
    },
    {
      "cell_type": "code",
      "metadata": {
        "id": "6P-U_DeIUmnp",
        "colab_type": "code",
        "colab": {}
      },
      "source": [
        "# Function takes in text as input and removes pipe\n",
        "def remove_pipe(text):\n",
        "  text=str (text)\n",
        "  text=text.replace(\"|\",\",\")\n",
        "  return text"
      ],
<<<<<<< HEAD
      "execution_count": null,
=======
      "execution_count": 55,
>>>>>>> origin/notebook
      "outputs": []
    },
    {
      "cell_type": "code",
      "metadata": {
        "id": "uA-MXUagUwOU",
        "colab_type": "code",
        "colab": {
          "base_uri": "https://localhost:8080/",
          "height": 191
        },
        "outputId": "b63f9761-7a5b-418c-9330-b25459037271"
      },
      "source": [
        "# Apply remove_pipe to columns title_cast and genres\n",
        "df['genres']=df['genres'].fillna('') #fill missing values with blanks\n",
        "df['title_cast']=df['title_cast'].fillna('') #fill missing values with blanks\n",
        "\n",
        "df['title_cast']=df['title_cast'].apply(remove_pipe) #apply remove_pipe sunction\n",
        "df['genres']=df['genres'].apply(remove_pipe)\n",
        "df.head()"
      ],
<<<<<<< HEAD
      "execution_count": null,
=======
      "execution_count": 56,
>>>>>>> origin/notebook
      "outputs": [
        {
          "output_type": "execute_result",
          "data": {
            "text/plain": [
              "   userId  movieId  rating                                              title  \\\n",
              "0    5163    57669     4.0                                   In Bruges (2008)   \n",
              "1  106343        5     4.5                 Father of the Bride Part II (1995)   \n",
              "2  146790     5459     5.0  Men in Black II (a.k.a. MIIB) (a.k.a. MIB 2) (...   \n",
              "3  106362    32296     2.0     Miss Congeniality 2: Armed and Fabulous (2005)   \n",
              "4    9041      366     3.0  Wes Craven's New Nightmare (Nightmare on Elm S...   \n",
              "\n",
              "                          genres  \\\n",
              "0    Comedy,Crime,Drama,Thriller   \n",
              "1                         Comedy   \n",
              "2           Action,Comedy,Sci-Fi   \n",
              "3         Adventure,Comedy,Crime   \n",
              "4  Drama,Horror,Mystery,Thriller   \n",
              "\n",
              "                                          title_cast           director  \n",
              "0  Elizabeth Berrington,Rudy Blomme,Olivier Bonjo...    Martin McDonagh  \n",
              "1  Steve Martin,Diane Keaton,Martin Short,Kimberl...     Albert Hackett  \n",
              "2  Tommy Lee Jones,Will Smith,Rip Torn,Lara Flynn...  Lowell Cunningham  \n",
              "3  Sandra Bullock,Regina King,Enrique Murciano,Wi...      Marc Lawrence  \n",
              "4  Jeff Davis,Heather Langenkamp,Miko Hughes,Matt...         Wes Craven  "
            ],
            "text/html": [
              "<div>\n",
              "<style scoped>\n",
              "    .dataframe tbody tr th:only-of-type {\n",
              "        vertical-align: middle;\n",
              "    }\n",
              "\n",
              "    .dataframe tbody tr th {\n",
              "        vertical-align: top;\n",
              "    }\n",
              "\n",
              "    .dataframe thead th {\n",
              "        text-align: right;\n",
              "    }\n",
              "</style>\n",
              "<table border=\"1\" class=\"dataframe\">\n",
              "  <thead>\n",
              "    <tr style=\"text-align: right;\">\n",
              "      <th></th>\n",
              "      <th>userId</th>\n",
              "      <th>movieId</th>\n",
              "      <th>rating</th>\n",
              "      <th>title</th>\n",
              "      <th>genres</th>\n",
              "      <th>title_cast</th>\n",
              "      <th>director</th>\n",
              "    </tr>\n",
              "  </thead>\n",
              "  <tbody>\n",
              "    <tr>\n",
              "      <th>0</th>\n",
              "      <td>5163</td>\n",
              "      <td>57669</td>\n",
              "      <td>4.0</td>\n",
              "      <td>In Bruges (2008)</td>\n",
              "      <td>Comedy,Crime,Drama,Thriller</td>\n",
              "      <td>Elizabeth Berrington,Rudy Blomme,Olivier Bonjo...</td>\n",
              "      <td>Martin McDonagh</td>\n",
              "    </tr>\n",
              "    <tr>\n",
              "      <th>1</th>\n",
              "      <td>106343</td>\n",
              "      <td>5</td>\n",
              "      <td>4.5</td>\n",
              "      <td>Father of the Bride Part II (1995)</td>\n",
              "      <td>Comedy</td>\n",
              "      <td>Steve Martin,Diane Keaton,Martin Short,Kimberl...</td>\n",
              "      <td>Albert Hackett</td>\n",
              "    </tr>\n",
              "    <tr>\n",
              "      <th>2</th>\n",
              "      <td>146790</td>\n",
              "      <td>5459</td>\n",
              "      <td>5.0</td>\n",
              "      <td>Men in Black II (a.k.a. MIIB) (a.k.a. MIB 2) (...</td>\n",
              "      <td>Action,Comedy,Sci-Fi</td>\n",
              "      <td>Tommy Lee Jones,Will Smith,Rip Torn,Lara Flynn...</td>\n",
              "      <td>Lowell Cunningham</td>\n",
              "    </tr>\n",
              "    <tr>\n",
              "      <th>3</th>\n",
              "      <td>106362</td>\n",
              "      <td>32296</td>\n",
              "      <td>2.0</td>\n",
              "      <td>Miss Congeniality 2: Armed and Fabulous (2005)</td>\n",
              "      <td>Adventure,Comedy,Crime</td>\n",
              "      <td>Sandra Bullock,Regina King,Enrique Murciano,Wi...</td>\n",
              "      <td>Marc Lawrence</td>\n",
              "    </tr>\n",
              "    <tr>\n",
              "      <th>4</th>\n",
              "      <td>9041</td>\n",
              "      <td>366</td>\n",
              "      <td>3.0</td>\n",
              "      <td>Wes Craven's New Nightmare (Nightmare on Elm S...</td>\n",
              "      <td>Drama,Horror,Mystery,Thriller</td>\n",
              "      <td>Jeff Davis,Heather Langenkamp,Miko Hughes,Matt...</td>\n",
              "      <td>Wes Craven</td>\n",
              "    </tr>\n",
              "  </tbody>\n",
              "</table>\n",
              "</div>"
            ]
          },
          "metadata": {
            "tags": []
          },
          "execution_count": 56
        }
      ]
    },
    {
      "cell_type": "markdown",
      "metadata": {
        "id": "skxxiIZ_U37n",
        "colab_type": "text"
      },
      "source": [
        "Taking the df dataframe. A filtered dataframe with unique movie titles can be generated to remove duplicate movie titles due to multiple user ratings."
      ]
    },
    {
      "cell_type": "code",
      "metadata": {
        "id": "kd88IeZYVCyJ",
        "colab_type": "code",
        "colab": {
          "base_uri": "https://localhost:8080/",
          "height": 33
        },
        "outputId": "1a5dbe81-1dd7-4145-9a2e-3a2c3f65acbf"
      },
      "source": [
        "# A content column can be generated from the title_cast and genres columns\n",
        "# This column will be used to build the content recommender\n",
        "\n",
        "df['content']=df['title_cast']+' '+ df['genres']\n",
        "df['content'][0]"
      ],
<<<<<<< HEAD
      "execution_count": null,
=======
      "execution_count": 57,
>>>>>>> origin/notebook
      "outputs": [
        {
          "output_type": "execute_result",
          "data": {
            "text/plain": [
              "'Elizabeth Berrington,Rudy Blomme,Olivier Bonjour,Mark Donovan,Ann Elsley,Colin Farrell,Jean-Marc Favorin,Ralph Fiennes,Brendan Gleeson,Eric Godon,Zeljko Ivanek,Sachi Kimura,Anna Madeley,Louis Nummy,Clémence Poésy Comedy,Crime,Drama,Thriller'"
            ]
          },
          "metadata": {
            "tags": []
          },
          "execution_count": 57
        }
      ]
    },
    {
      "cell_type": "code",
      "metadata": {
        "id": "jCZrrQXyVIlJ",
        "colab_type": "code",
        "colab": {
          "base_uri": "https://localhost:8080/",
          "height": 220
        },
        "outputId": "947cef51-b427-42ff-b21f-c44a5ed7fd38"
      },
      "source": [
        "# A ratings dataframe can be generated from uniw\\que movie titles and their average ratings across all users\n",
        "ratings=df.groupby(['title'])['rating'].mean() #group by title and aggregate ratings\n",
        "ratings=pd.DataFrame(ratings)\n",
        "ratings=ratings.fillna(2) # fill missing values with generic score of 2 (40%)\n",
        "ratings['num of ratings']=df.groupby(['title'])['rating'].count() #generate a column witht the total number of ratings\n",
        "ratings.head(5)"
      ],
<<<<<<< HEAD
      "execution_count": null,
=======
      "execution_count": 58,
>>>>>>> origin/notebook
      "outputs": [
        {
          "output_type": "execute_result",
          "data": {
            "text/plain": [
              "                                                      rating  num of ratings\n",
              "title                                                                       \n",
              "\"BLOW THE NIGHT!\" Let's Spend the Night Togethe...  3.000000               1\n",
              "\"Great Performances\" Cats (1998)                    2.753731              67\n",
              "#1 Cheerleader Camp (2010)                          1.900000               5\n",
              "#Female Pleasure (2018)                             4.000000               1\n",
              "#FollowMe (2019)                                    2.400000               5"
            ],
            "text/html": [
              "<div>\n",
              "<style scoped>\n",
              "    .dataframe tbody tr th:only-of-type {\n",
              "        vertical-align: middle;\n",
              "    }\n",
              "\n",
              "    .dataframe tbody tr th {\n",
              "        vertical-align: top;\n",
              "    }\n",
              "\n",
              "    .dataframe thead th {\n",
              "        text-align: right;\n",
              "    }\n",
              "</style>\n",
              "<table border=\"1\" class=\"dataframe\">\n",
              "  <thead>\n",
              "    <tr style=\"text-align: right;\">\n",
              "      <th></th>\n",
              "      <th>rating</th>\n",
              "      <th>num of ratings</th>\n",
              "    </tr>\n",
              "    <tr>\n",
              "      <th>title</th>\n",
              "      <th></th>\n",
              "      <th></th>\n",
              "    </tr>\n",
              "  </thead>\n",
              "  <tbody>\n",
              "    <tr>\n",
              "      <th>\"BLOW THE NIGHT!\" Let's Spend the Night Together (1983)</th>\n",
              "      <td>3.000000</td>\n",
              "      <td>1</td>\n",
              "    </tr>\n",
              "    <tr>\n",
              "      <th>\"Great Performances\" Cats (1998)</th>\n",
              "      <td>2.753731</td>\n",
              "      <td>67</td>\n",
              "    </tr>\n",
              "    <tr>\n",
              "      <th>#1 Cheerleader Camp (2010)</th>\n",
              "      <td>1.900000</td>\n",
              "      <td>5</td>\n",
              "    </tr>\n",
              "    <tr>\n",
              "      <th>#Female Pleasure (2018)</th>\n",
              "      <td>4.000000</td>\n",
              "      <td>1</td>\n",
              "    </tr>\n",
              "    <tr>\n",
              "      <th>#FollowMe (2019)</th>\n",
              "      <td>2.400000</td>\n",
              "      <td>5</td>\n",
              "    </tr>\n",
              "  </tbody>\n",
              "</table>\n",
              "</div>"
            ]
          },
          "metadata": {
            "tags": []
          },
          "execution_count": 58
        }
      ]
    },
    {
      "cell_type": "code",
      "metadata": {
        "id": "hYUyQPPIVPOX",
        "colab_type": "code",
        "colab": {
          "base_uri": "https://localhost:8080/",
          "height": 220
        },
        "outputId": "9924a246-3c4e-4129-8f97-820bb20445fb"
      },
      "source": [
        "content=df.groupby(['title'])['content'].unique() #group by title and display unique values in a list\n",
        "content=pd.DataFrame(content)\n",
        "content.head(5)"
      ],
<<<<<<< HEAD
      "execution_count": null,
=======
      "execution_count": 59,
>>>>>>> origin/notebook
      "outputs": [
        {
          "output_type": "execute_result",
          "data": {
            "text/plain": [
              "                                                                                              content\n",
              "title                                                                                                \n",
              "\"BLOW THE NIGHT!\" Let's Spend the Night Togethe...                               [ Documentary,Drama]\n",
              "\"Great Performances\" Cats (1998)                    [Elaine Paige,John Mills,Ken Page,Rosemarie Fo...\n",
              "#1 Cheerleader Camp (2010)                                                            [ Comedy,Drama]\n",
              "#Female Pleasure (2018)                                                                [ Documentary]\n",
              "#FollowMe (2019)                                                                   [ Horror,Thriller]"
            ],
            "text/html": [
              "<div>\n",
              "<style scoped>\n",
              "    .dataframe tbody tr th:only-of-type {\n",
              "        vertical-align: middle;\n",
              "    }\n",
              "\n",
              "    .dataframe tbody tr th {\n",
              "        vertical-align: top;\n",
              "    }\n",
              "\n",
              "    .dataframe thead th {\n",
              "        text-align: right;\n",
              "    }\n",
              "</style>\n",
              "<table border=\"1\" class=\"dataframe\">\n",
              "  <thead>\n",
              "    <tr style=\"text-align: right;\">\n",
              "      <th></th>\n",
              "      <th>content</th>\n",
              "    </tr>\n",
              "    <tr>\n",
              "      <th>title</th>\n",
              "      <th></th>\n",
              "    </tr>\n",
              "  </thead>\n",
              "  <tbody>\n",
              "    <tr>\n",
              "      <th>\"BLOW THE NIGHT!\" Let's Spend the Night Together (1983)</th>\n",
              "      <td>[ Documentary,Drama]</td>\n",
              "    </tr>\n",
              "    <tr>\n",
              "      <th>\"Great Performances\" Cats (1998)</th>\n",
              "      <td>[Elaine Paige,John Mills,Ken Page,Rosemarie Fo...</td>\n",
              "    </tr>\n",
              "    <tr>\n",
              "      <th>#1 Cheerleader Camp (2010)</th>\n",
              "      <td>[ Comedy,Drama]</td>\n",
              "    </tr>\n",
              "    <tr>\n",
              "      <th>#Female Pleasure (2018)</th>\n",
              "      <td>[ Documentary]</td>\n",
              "    </tr>\n",
              "    <tr>\n",
              "      <th>#FollowMe (2019)</th>\n",
              "      <td>[ Horror,Thriller]</td>\n",
              "    </tr>\n",
              "  </tbody>\n",
              "</table>\n",
              "</div>"
            ]
          },
          "metadata": {
            "tags": []
          },
          "execution_count": 59
        }
      ]
    },
    {
      "cell_type": "code",
      "metadata": {
        "id": "6HePysEtVTSh",
        "colab_type": "code",
        "colab": {
          "base_uri": "https://localhost:8080/",
          "height": 236
        },
        "outputId": "282ad5bb-a4fb-4afb-b186-98d922461ba2"
      },
      "source": [
        "# Generate single dataframe\n",
        "movie_df=pd.merge(ratings,content,on='title') #join on index\n",
        "row,column=movie_df.shape\n",
        "print('The dataframe has {} rows (representing unique movie titles) and {} columns.'.format(row, column))\n",
        "movie_df.head(5)"
      ],
<<<<<<< HEAD
      "execution_count": null,
=======
      "execution_count": 60,
>>>>>>> origin/notebook
      "outputs": [
        {
          "output_type": "stream",
          "text": [
            "The dataframe has 48151 rows (representing unique movie titles) and 3 columns.\n"
          ],
          "name": "stdout"
        },
        {
          "output_type": "execute_result",
          "data": {
            "text/plain": [
              "                                                      rating  num of ratings  \\\n",
              "title                                                                          \n",
              "\"BLOW THE NIGHT!\" Let's Spend the Night Togethe...  3.000000               1   \n",
              "\"Great Performances\" Cats (1998)                    2.753731              67   \n",
              "#1 Cheerleader Camp (2010)                          1.900000               5   \n",
              "#Female Pleasure (2018)                             4.000000               1   \n",
              "#FollowMe (2019)                                    2.400000               5   \n",
              "\n",
              "                                                                                              content  \n",
              "title                                                                                                  \n",
              "\"BLOW THE NIGHT!\" Let's Spend the Night Togethe...                               [ Documentary,Drama]  \n",
              "\"Great Performances\" Cats (1998)                    [Elaine Paige,John Mills,Ken Page,Rosemarie Fo...  \n",
              "#1 Cheerleader Camp (2010)                                                            [ Comedy,Drama]  \n",
              "#Female Pleasure (2018)                                                                [ Documentary]  \n",
              "#FollowMe (2019)                                                                   [ Horror,Thriller]  "
            ],
            "text/html": [
              "<div>\n",
              "<style scoped>\n",
              "    .dataframe tbody tr th:only-of-type {\n",
              "        vertical-align: middle;\n",
              "    }\n",
              "\n",
              "    .dataframe tbody tr th {\n",
              "        vertical-align: top;\n",
              "    }\n",
              "\n",
              "    .dataframe thead th {\n",
              "        text-align: right;\n",
              "    }\n",
              "</style>\n",
              "<table border=\"1\" class=\"dataframe\">\n",
              "  <thead>\n",
              "    <tr style=\"text-align: right;\">\n",
              "      <th></th>\n",
              "      <th>rating</th>\n",
              "      <th>num of ratings</th>\n",
              "      <th>content</th>\n",
              "    </tr>\n",
              "    <tr>\n",
              "      <th>title</th>\n",
              "      <th></th>\n",
              "      <th></th>\n",
              "      <th></th>\n",
              "    </tr>\n",
              "  </thead>\n",
              "  <tbody>\n",
              "    <tr>\n",
              "      <th>\"BLOW THE NIGHT!\" Let's Spend the Night Together (1983)</th>\n",
              "      <td>3.000000</td>\n",
              "      <td>1</td>\n",
              "      <td>[ Documentary,Drama]</td>\n",
              "    </tr>\n",
              "    <tr>\n",
              "      <th>\"Great Performances\" Cats (1998)</th>\n",
              "      <td>2.753731</td>\n",
              "      <td>67</td>\n",
              "      <td>[Elaine Paige,John Mills,Ken Page,Rosemarie Fo...</td>\n",
              "    </tr>\n",
              "    <tr>\n",
              "      <th>#1 Cheerleader Camp (2010)</th>\n",
              "      <td>1.900000</td>\n",
              "      <td>5</td>\n",
              "      <td>[ Comedy,Drama]</td>\n",
              "    </tr>\n",
              "    <tr>\n",
              "      <th>#Female Pleasure (2018)</th>\n",
              "      <td>4.000000</td>\n",
              "      <td>1</td>\n",
              "      <td>[ Documentary]</td>\n",
              "    </tr>\n",
              "    <tr>\n",
              "      <th>#FollowMe (2019)</th>\n",
              "      <td>2.400000</td>\n",
              "      <td>5</td>\n",
              "      <td>[ Horror,Thriller]</td>\n",
              "    </tr>\n",
              "  </tbody>\n",
              "</table>\n",
              "</div>"
            ]
          },
          "metadata": {
            "tags": []
          },
          "execution_count": 60
        }
      ]
    },
    {
      "cell_type": "code",
      "metadata": {
        "id": "NNds6TjdVW8o",
        "colab_type": "code",
        "colab": {
          "base_uri": "https://localhost:8080/",
          "height": 220
        },
        "outputId": "038b01eb-afac-43c1-e404-de65b288ef65"
      },
      "source": [
        "# Sort move_df from highest to lowest num of ratings\n",
        "movie_df=movie_df.sort_values('num of ratings',ascending=False)\n",
        "movie_df.head(5)"
      ],
<<<<<<< HEAD
      "execution_count": null,
=======
      "execution_count": 61,
>>>>>>> origin/notebook
      "outputs": [
        {
          "output_type": "execute_result",
          "data": {
            "text/plain": [
              "                                    rating  num of ratings  \\\n",
              "title                                                        \n",
              "Shawshank Redemption, The (1994)  4.417624           32831   \n",
              "Forrest Gump (1994)               4.047216           32383   \n",
              "Pulp Fiction (1994)               4.195097           31697   \n",
              "Silence of the Lambs, The (1991)  4.144172           29444   \n",
              "Matrix, The (1999)                4.154253           29014   \n",
              "\n",
              "                                                                            content  \n",
              "title                                                                                \n",
              "Shawshank Redemption, The (1994)  [Tim Robbins,Morgan Freeman,Bob Gunton,William...  \n",
              "Forrest Gump (1994)               [Tom Hanks,Rebecca Williams,Sally Field,Michae...  \n",
              "Pulp Fiction (1994)               [Tim Roth,Amanda Plummer,Laura Lovelace,John T...  \n",
              "Silence of the Lambs, The (1991)  [Jodie Foster,Lawrence A. Bonney,Kasi Lemmons,...  \n",
              "Matrix, The (1999)                [Keanu Reeves,Laurence Fishburne,Carrie-Anne M...  "
            ],
            "text/html": [
              "<div>\n",
              "<style scoped>\n",
              "    .dataframe tbody tr th:only-of-type {\n",
              "        vertical-align: middle;\n",
              "    }\n",
              "\n",
              "    .dataframe tbody tr th {\n",
              "        vertical-align: top;\n",
              "    }\n",
              "\n",
              "    .dataframe thead th {\n",
              "        text-align: right;\n",
              "    }\n",
              "</style>\n",
              "<table border=\"1\" class=\"dataframe\">\n",
              "  <thead>\n",
              "    <tr style=\"text-align: right;\">\n",
              "      <th></th>\n",
              "      <th>rating</th>\n",
              "      <th>num of ratings</th>\n",
              "      <th>content</th>\n",
              "    </tr>\n",
              "    <tr>\n",
              "      <th>title</th>\n",
              "      <th></th>\n",
              "      <th></th>\n",
              "      <th></th>\n",
              "    </tr>\n",
              "  </thead>\n",
              "  <tbody>\n",
              "    <tr>\n",
              "      <th>Shawshank Redemption, The (1994)</th>\n",
              "      <td>4.417624</td>\n",
              "      <td>32831</td>\n",
              "      <td>[Tim Robbins,Morgan Freeman,Bob Gunton,William...</td>\n",
              "    </tr>\n",
              "    <tr>\n",
              "      <th>Forrest Gump (1994)</th>\n",
              "      <td>4.047216</td>\n",
              "      <td>32383</td>\n",
              "      <td>[Tom Hanks,Rebecca Williams,Sally Field,Michae...</td>\n",
              "    </tr>\n",
              "    <tr>\n",
              "      <th>Pulp Fiction (1994)</th>\n",
              "      <td>4.195097</td>\n",
              "      <td>31697</td>\n",
              "      <td>[Tim Roth,Amanda Plummer,Laura Lovelace,John T...</td>\n",
              "    </tr>\n",
              "    <tr>\n",
              "      <th>Silence of the Lambs, The (1991)</th>\n",
              "      <td>4.144172</td>\n",
              "      <td>29444</td>\n",
              "      <td>[Jodie Foster,Lawrence A. Bonney,Kasi Lemmons,...</td>\n",
              "    </tr>\n",
              "    <tr>\n",
              "      <th>Matrix, The (1999)</th>\n",
              "      <td>4.154253</td>\n",
              "      <td>29014</td>\n",
              "      <td>[Keanu Reeves,Laurence Fishburne,Carrie-Anne M...</td>\n",
              "    </tr>\n",
              "  </tbody>\n",
              "</table>\n",
              "</div>"
            ]
          },
          "metadata": {
            "tags": []
          },
          "execution_count": 61
        }
      ]
    },
    {
      "cell_type": "code",
      "metadata": {
        "id": "H8hjneC6Vahw",
        "colab_type": "code",
        "colab": {}
      },
      "source": [
        "# Function will remove items from lists into strings\n",
        "def string(input):\n",
        "  string=' '\n",
        "  for i in input:\n",
        "    string=string+str (i)\n",
        "  return string"
      ],
<<<<<<< HEAD
      "execution_count": null,
=======
      "execution_count": 62,
>>>>>>> origin/notebook
      "outputs": []
    },
    {
      "cell_type": "code",
      "metadata": {
        "id": "M9HTuRgwVc_x",
        "colab_type": "code",
        "colab": {
          "base_uri": "https://localhost:8080/",
          "height": 33
        },
        "outputId": "e1612385-a728-4fe0-f9d9-a0275d0ab8de"
      },
      "source": [
        "# Generate strings from lists\n",
        "movie_df['content']=movie_df['content'].apply(string) #generate strings\n",
        "movie_df['content'][1]"
      ],
<<<<<<< HEAD
      "execution_count": null,
=======
      "execution_count": 63,
>>>>>>> origin/notebook
      "outputs": [
        {
          "output_type": "execute_result",
          "data": {
            "text/plain": [
              "' Tom Hanks,Rebecca Williams,Sally Field,Michael Conner Humphreys,Harold G. Herthum,George Kelly,Bob Penny,John Randall,Sam Anderson,Margo Moorer,Ione M. Telech,Christine Seabrook,John Worsham,Peter Dobson,Siobhan Fallon Hogan Comedy,Drama,Romance,War'"
            ]
          },
          "metadata": {
            "tags": []
          },
          "execution_count": 63
        }
      ]
    },
    {
      "cell_type": "markdown",
      "metadata": {
        "id": "JWRiTQZcViNh",
        "colab_type": "text"
      },
      "source": [
        "The movie_df dataframe is the base from which the recommender is built. \n",
        "\n",
        "The content column will be the feature used, which will be vectorized and converted to a similarity matrix mxm"
      ]
    },
    {
      "cell_type": "code",
      "metadata": {
        "id": "lBdaPv0gVhUg",
        "colab_type": "code",
        "colab": {}
      },
      "source": [
        "# A subset of the movies will be used. The greater the subset, the more memory is committed\n",
        "# The cosine similiarity size is proportional to feature size\n",
        "#First 200000 movies are selected\n",
        "feature=movie_df['content'][0:20000]"
      ],
<<<<<<< HEAD
      "execution_count": null,
=======
      "execution_count": 64,
>>>>>>> origin/notebook
      "outputs": []
    },
    {
      "cell_type": "code",
      "metadata": {
        "id": "gGptJYArVrGQ",
        "colab_type": "code",
        "colab": {}
      },
      "source": [
        "# Set up vectorizer\n",
        "vec=TfidfVectorizer(stop_words='english') # term frequency inverse document frequency"
      ],
<<<<<<< HEAD
      "execution_count": null,
=======
      "execution_count": 65,
>>>>>>> origin/notebook
      "outputs": []
    },
    {
      "cell_type": "code",
      "metadata": {
        "id": "SU--z0UkVvIB",
        "colab_type": "code",
        "colab": {
          "base_uri": "https://localhost:8080/",
          "height": 33
        },
        "outputId": "65e1d50a-8dce-405a-c755-1bac03d196b1"
      },
      "source": [
        "# Vectorize combined column\n",
        "feature_vec=vec.fit_transform(feature)\n",
        "shape,column=feature_vec.shape\n",
        "print('feature_vec is a sparse matrix with {} rows (representing unique movie titles) and {} columns.'.format(row, column))"
      ],
<<<<<<< HEAD
      "execution_count": null,
=======
      "execution_count": 66,
>>>>>>> origin/notebook
      "outputs": [
        {
          "output_type": "stream",
          "text": [
            "feature_vec is a sparse matrix with 48151 rows (representing unique movie titles) and 51897 columns.\n"
          ],
          "name": "stdout"
        }
      ]
    },
    {
      "cell_type": "markdown",
      "metadata": {
        "id": "vRfwZFT8VxmH",
        "colab_type": "text"
      },
      "source": [
        "\n",
        "The cosine similarity will be used to determine how similar two entities are based off the angle between their two vectors formed. The closer a value is to 1, to higher the similarity\n",
        "\n",
        "The cosine similarity is formed from the dot product of the feature_vec matrix and its transpose divided by the product of their magniudes."
      ]
    },
    {
      "cell_type": "code",
      "metadata": {
        "id": "Ikn57h7YV2YV",
        "colab_type": "code",
        "colab": {
          "base_uri": "https://localhost:8080/",
          "height": 33
        },
        "outputId": "5c9cc120-8fb0-4cf2-e0c9-28fb210b115f"
      },
      "source": [
        "# Use cosine similarity to get similarity matrix\n",
        "sim_matrix =cosine_similarity(feature_vec,feature_vec)\n",
        "row,column=sim_matrix.shape\n",
        "print('The sim_mat matrix has {} rows and {} columns.'.format(row, column))"
      ],
<<<<<<< HEAD
      "execution_count": null,
=======
      "execution_count": 67,
>>>>>>> origin/notebook
      "outputs": [
        {
          "output_type": "stream",
          "text": [
            "The sim_mat matrix has 20000 rows and 20000 columns.\n"
          ],
          "name": "stdout"
        }
      ]
    },
    {
      "cell_type": "code",
      "metadata": {
        "id": "BQi3blJOV685",
        "colab_type": "code",
        "colab": {}
      },
      "source": [
        "# Double check\n",
        "# Reset the move_df index as it will be used to generate a Series that will map sim_mat\n",
        "movie_df=movie_df.reset_index()\n",
        "movie_df.head(5)del imdb\n",
        "del movies"
      ],
      "execution_count": null,
      "outputs": []
    },
    {
      "cell_type": "code",
      "metadata": {
        "id": "KaY4k-hTV9dA",
        "colab_type": "code",
        "colab": {}
      },
      "source": [
        "# Index mapping\n",
        "index_map = pd.Series(movie_df.index,index = movie_df['title']) # contains a series of the movie titles in movie_df\n",
        "index_map"
      ],
      "execution_count": null,
      "outputs": []
    },
    {
      "cell_type": "code",
      "metadata": {
        "id": "RKe7n9MNWDJZ",
        "colab_type": "code",
        "colab": {}
      },
      "source": [
        "# Function takes in a movie title as an input and returns 10 movie title recommendations\n",
        "\n",
        "def recommendation(title):\n",
        "  index = index_map[title] # returns the index of the argument title in index_map\n",
        "  similarity = list(enumerate(sim_matrix[index])) # returns a list of with index and similarity\n",
        "  similarity = sorted(similarity, key=lambda x: x[1], reverse=True) # sorts list in descending order\n",
        "  similarity = similarity[1:11] # top 10 recommendations\n",
        "  #return movie names using the mapping series\n",
        "  movie_indices = [i[0] for i in similarity] # obtain indices for recommended movies\n",
        "  return (movie_df['title'].iloc[movie_indices]) # filter movie_df for titles"
      ],
      "execution_count": null,
      "outputs": []
    },
    {
      "cell_type": "markdown",
      "metadata": {
        "id": "JXqVR_NZWHo2",
        "colab_type": "text"
      },
      "source": [
        "Using the animated movie Aladin from 1992. The recommender returns viewing options consisting of animated movies such as Moana, Minions and Dragons: Dawn Of The Dragon Racers.\n",
        "\n"
      ]
    },
    {
      "cell_type": "code",
      "metadata": {
        "id": "H7bsVi7CWKTx",
        "colab_type": "code",
        "colab": {}
      },
      "source": [
        "# Lets search for recommendations based off Aladdin\n",
        "recommendations=recommendation('Aladdin (1992)')\n",
        "recommend_list=list(recommendations)\n",
        "recommend_list"
      ],
      "execution_count": null,
      "outputs": []
    },
    {
      "cell_type": "code",
      "metadata": {
        "id": "BlJISFeyXlQy",
        "colab_type": "code",
        "colab": {}
      },
      "source": [
        "# pickle recommendation function\n",
        "model_save_path = \"content_based.pkl\"\n",
        "with open(model_save_path,'wb') as file:\n",
        "  pickle.dump(recommendation,file)"
      ],
      "execution_count": null,
      "outputs": []
    },
    {
      "cell_type": "code",
      "metadata": {
        "id": "YFwz60oLYNFc",
        "colab_type": "code",
        "colab": {}
      },
      "source": [
        "#test content-based predictor\n",
        "print(\"testing content based recommender\")\n",
        "model_load_path = \"content_based.pkl\"\n",
        "with open(model_load_path,'rb') as file:\n",
        "  content_based_predict = pickle.load(file)\n",
        "  print(content_based_predict('Aladdin (1992)'))   "
      ],
      "execution_count": null,
      "outputs": []
    },
    {
      "cell_type": "markdown",
      "metadata": {
        "id": "Ab6Vupk_VDig",
        "colab_type": "text"
      },
      "source": [
        "# Comet version control"
      ]
    },
    {
      "cell_type": "code",
      "metadata": {
        "id": "f_IDTGqC13P3",
        "colab_type": "code",
        "colab": {}
      },
      "source": [
        "# Comet logging\n",
        "\n",
        "params = {\"random_state\": 'none',\n",
        "          \"model_type\": \"SVD\",\n",
        "          \"scaler\": \"none\",\n",
        "          \"param_grid\": str(param_grid)\n",
        "          }\n",
        "metrics = {\"RMSE\": 'none',\n",
        "           \"top n\": 'none',\n",
        "           \"MAE\": 'none'\n",
        "           }\n",
        "\n",
        "# Log parameters and results\n",
        "experiment.log_parameters(params)\n",
        "experiment.log_metrics(metrics)\n",
        "\n",
        "# End Experiment# Create dictionaries for comet\n",
        "\n",
        "params = {\"random_state\": 'none',\n",
        "          \"model_type\": \"SVD\",\n",
        "          \"scaler\": \"none\",\n",
        "          \"param_grid\": str(param_grid)\n",
        "          }\n",
        "metrics = {\"RMSE\": 'none',\n",
        "           \"top n\": 'none',\n",
        "           \"MAE\": 'none'\n",
        "           }\n",
        "\n",
        "# Log parameters and results\n",
        "experiment.log_parameters(params)\n",
        "experiment.log_metrics(metrics)\n",
        "\n",
        "# End Experiment"
      ],
      "execution_count": null,
      "outputs": []
    },
    {
      "cell_type": "code",
      "metadata": {
        "id": "kUobeaHoTX8e",
        "colab_type": "code",
        "colab": {}
      },
      "source": [
        ""
      ],
      "execution_count": null,
      "outputs": []
    }
  ]
}