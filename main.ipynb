{
  "cells": [
    {
      "cell_type": "markdown",
      "metadata": {
        "id": "view-in-github",
        "colab_type": "text"
      },
      "source": [
        "<a href=\"https://colab.research.google.com/github/monicafar147/unsupervised-predict-streamlit-template/blob/eda/main.ipynb\" target=\"_parent\"><img src=\"https://colab.research.google.com/assets/colab-badge.svg\" alt=\"Open In Colab\"/></a>"
      ]
    },
    {
      "cell_type": "markdown",
      "metadata": {
        "id": "n5VmKTRAaSUB",
        "colab_type": "text"
      },
      "source": [
        "# EDSA Movie Recommendation Challenge"
      ]
    },
    {
      "cell_type": "markdown",
      "metadata": {
        "id": "NjRjQUdXLFsq",
        "colab_type": "text"
      },
      "source": [
        "This notebook was created to enter the private kaggle competition of EDSA on creating a movie recommendation predictor.\n",
        "\n",
        "In today’s technology driven world, recommender systems are socially and economically critical for ensuring that individuals can make appropriate choices surrounding the content they engage with on a daily basis.\n",
        "\n",
        "One application where this is especially true surrounds movie content recommendations; where intelligent algorithms can help viewers find great titles from tens of thousands of options.\n",
        "\n",
        "This notebook will construct a recommendation algorithm based on content or collaborative filtering in order to accurately predict how a user will rate a movie they have not yet viewed based on their historical preferences.\n",
        "\n",
        "Providing an accurate and robust solution to this challenge has immense economic potential, with users of the system being exposed to content they would like to view or purchase generating revenue and platform affinity."
      ]
    },
    {
      "cell_type": "markdown",
      "metadata": {
        "id": "7eGRs20waqtn",
        "colab_type": "text"
      },
      "source": [
        "# Imports"
      ]
    },
    {
      "cell_type": "markdown",
      "metadata": {},
      "source": [
        "## Launching Comet Experiment"
      ]
    },
    {
      "cell_type": "code",
      "execution_count": null,
      "metadata": {},
      "outputs": [],
      "source": [
        "# import comet_ml in the top of your file\n",
        "from comet_ml import Experiment\n",
        "    \n",
        "# Add the following code anywhere in your machine learning file\n",
        "experiment = Experiment(api_key=\"cFwBSBV5CDhaL3B3LHdwF7O3M\",\n",
        "                        project_name=\"recommender-systems\", workspace=\"jonnybegreat\")"
      ]
    },
    {
      "cell_type": "markdown",
      "metadata": {
        "id": "wTOSQ0jGaxx5",
        "colab_type": "text"
      },
      "source": [
        "## Importing modules"
      ]
    },
    {
      "cell_type": "code",
      "metadata": {
        "id": "2QWlsf8Tasgq",
        "colab_type": "code",
        "colab": {}
      },
      "source": [
        "# Import essential packages\n",
        "import pandas as pd\n",
        "import numpy as np\n",
        "\n",
        "# Import surprise packages\n",
        "from surprise import BaselineOnly\n",
        "from surprise import Dataset\n",
        "from surprise import Reader\n",
        "from surprise.model_selection import cross_validate\n",
        "\n",
        "# Import models\n",
        "from surprise import NormalPredictor\n",
        "from surprise import KNNBasic\n",
        "from surprise import SVD\n",
        "from surprise.model_selection import GridSearchCV\n",
        "\n",
        "# Import utilities\n",
        "import os"
      ],
      "execution_count": 1,
      "outputs": []
    },
    {
      "cell_type": "markdown",
      "metadata": {
        "id": "8ZT8hjega1z0",
        "colab_type": "text"
      },
      "source": [
        "## Importing the raw data"
      ]
    },
    {
      "cell_type": "code",
      "metadata": {
        "id": "5JoU3UNKZJb9",
        "colab_type": "code",
        "colab": {}
      },
      "source": [
        "imdb = pd.read_csv('imdb_data.csv')\n",
        "train = pd.read_csv('train.csv',error_bad_lines=False)\n",
        "genome_tags = pd.read_csv('genome_tags.csv')\n",
        "movies = pd.read_csv('movies.csv')"
      ],
      "execution_count": null,
      "outputs": []
    },
    {
      "cell_type": "code",
      "metadata": {
        "id": "LjEB_1mAZnih",
        "colab_type": "code",
        "colab": {
          "base_uri": "https://localhost:8080/",
          "height": 204
        },
        "outputId": "f50bf33c-eb6e-4a16-cbc9-686e99a2cede"
      },
      "source": [
        "# Importing train and test datasets\n",
        "ratings_df = pd.read_csv('train.csv').drop(columns=['timestamp'],axis=0)\n",
        "test_df = pd.read_csv('test.csv')\n",
        "ratings_df.head()"
      ],
      "execution_count": 8,
      "outputs": [
        {
          "output_type": "execute_result",
          "data": {
            "text/html": [
              "<div>\n",
              "<style scoped>\n",
              "    .dataframe tbody tr th:only-of-type {\n",
              "        vertical-align: middle;\n",
              "    }\n",
              "\n",
              "    .dataframe tbody tr th {\n",
              "        vertical-align: top;\n",
              "    }\n",
              "\n",
              "    .dataframe thead th {\n",
              "        text-align: right;\n",
              "    }\n",
              "</style>\n",
              "<table border=\"1\" class=\"dataframe\">\n",
              "  <thead>\n",
              "    <tr style=\"text-align: right;\">\n",
              "      <th></th>\n",
              "      <th>userId</th>\n",
              "      <th>movieId</th>\n",
              "      <th>rating</th>\n",
              "    </tr>\n",
              "  </thead>\n",
              "  <tbody>\n",
              "    <tr>\n",
              "      <th>0</th>\n",
              "      <td>5163</td>\n",
              "      <td>57669</td>\n",
              "      <td>4.0</td>\n",
              "    </tr>\n",
              "    <tr>\n",
              "      <th>1</th>\n",
              "      <td>106343</td>\n",
              "      <td>5</td>\n",
              "      <td>4.5</td>\n",
              "    </tr>\n",
              "    <tr>\n",
              "      <th>2</th>\n",
              "      <td>146790</td>\n",
              "      <td>5459</td>\n",
              "      <td>5.0</td>\n",
              "    </tr>\n",
              "    <tr>\n",
              "      <th>3</th>\n",
              "      <td>106362</td>\n",
              "      <td>32296</td>\n",
              "      <td>2.0</td>\n",
              "    </tr>\n",
              "    <tr>\n",
              "      <th>4</th>\n",
              "      <td>9041</td>\n",
              "      <td>366</td>\n",
              "      <td>3.0</td>\n",
              "    </tr>\n",
              "  </tbody>\n",
              "</table>\n",
              "</div>"
            ],
            "text/plain": [
              "   userId  movieId  rating\n",
              "0    5163    57669     4.0\n",
              "1  106343        5     4.5\n",
              "2  146790     5459     5.0\n",
              "3  106362    32296     2.0\n",
              "4    9041      366     3.0"
            ]
          },
          "metadata": {
            "tags": []
          },
          "execution_count": 8
        }
      ]
    },
    {
      "cell_type": "code",
      "metadata": {
        "id": "25zQ4HgIZsl0",
        "colab_type": "code",
        "colab": {
          "base_uri": "https://localhost:8080/",
          "height": 204
        },
        "outputId": "81d45aff-960c-4332-c629-cff26e989396"
      },
      "source": [
        "test_df.head()"
      ],
      "execution_count": 9,
      "outputs": [
        {
          "output_type": "execute_result",
          "data": {
            "text/html": [
              "<div>\n",
              "<style scoped>\n",
              "    .dataframe tbody tr th:only-of-type {\n",
              "        vertical-align: middle;\n",
              "    }\n",
              "\n",
              "    .dataframe tbody tr th {\n",
              "        vertical-align: top;\n",
              "    }\n",
              "\n",
              "    .dataframe thead th {\n",
              "        text-align: right;\n",
              "    }\n",
              "</style>\n",
              "<table border=\"1\" class=\"dataframe\">\n",
              "  <thead>\n",
              "    <tr style=\"text-align: right;\">\n",
              "      <th></th>\n",
              "      <th>userId</th>\n",
              "      <th>movieId</th>\n",
              "    </tr>\n",
              "  </thead>\n",
              "  <tbody>\n",
              "    <tr>\n",
              "      <th>0</th>\n",
              "      <td>1</td>\n",
              "      <td>2011</td>\n",
              "    </tr>\n",
              "    <tr>\n",
              "      <th>1</th>\n",
              "      <td>1</td>\n",
              "      <td>4144</td>\n",
              "    </tr>\n",
              "    <tr>\n",
              "      <th>2</th>\n",
              "      <td>1</td>\n",
              "      <td>5767</td>\n",
              "    </tr>\n",
              "    <tr>\n",
              "      <th>3</th>\n",
              "      <td>1</td>\n",
              "      <td>6711</td>\n",
              "    </tr>\n",
              "    <tr>\n",
              "      <th>4</th>\n",
              "      <td>1</td>\n",
              "      <td>7318</td>\n",
              "    </tr>\n",
              "  </tbody>\n",
              "</table>\n",
              "</div>"
            ],
            "text/plain": [
              "   userId  movieId\n",
              "0       1     2011\n",
              "1       1     4144\n",
              "2       1     5767\n",
              "3       1     6711\n",
              "4       1     7318"
            ]
          },
          "metadata": {
            "tags": []
          },
          "execution_count": 9
        }
      ]
    },
    {
      "cell_type": "markdown",
      "metadata": {
        "id": "LiYey3zfZwDZ",
        "colab_type": "text"
      },
      "source": [
        "Due to the size of the data only a subset of the data was selected."
      ]
    },
    {
      "cell_type": "code",
      "metadata": {
        "id": "zbeB5rN0Z28t",
        "colab_type": "code",
        "colab": {}
      },
      "source": [
        "# Subset of test data\n",
        "test_df_subset = test_df[:1000]"
      ],
      "execution_count": 10,
      "outputs": []
    },
    {
      "cell_type": "markdown",
      "metadata": {
        "id": "Yi8Rj2X9dHG8",
        "colab_type": "text"
      },
      "source": [
        "#EDA"
      ]
    },
    {
      "cell_type": "code",
      "metadata": {
        "id": "bgtgd9MCdeHv",
        "colab_type": "code",
        "colab": {
          "base_uri": "https://localhost:8080/",
          "height": 204
        },
        "outputId": "1a4d063a-0da3-481d-d3eb-46ec04b99aea"
      },
      "source": [
        "data = pd.merge(train, movies, on='movieId')\n",
        "data.head(5)"
      ],
      "execution_count": 5,
      "outputs": [
        {
          "output_type": "execute_result",
          "data": {
            "text/html": [
              "<div>\n",
              "<style scoped>\n",
              "    .dataframe tbody tr th:only-of-type {\n",
              "        vertical-align: middle;\n",
              "    }\n",
              "\n",
              "    .dataframe tbody tr th {\n",
              "        vertical-align: top;\n",
              "    }\n",
              "\n",
              "    .dataframe thead th {\n",
              "        text-align: right;\n",
              "    }\n",
              "</style>\n",
              "<table border=\"1\" class=\"dataframe\">\n",
              "  <thead>\n",
              "    <tr style=\"text-align: right;\">\n",
              "      <th></th>\n",
              "      <th>userId</th>\n",
              "      <th>movieId</th>\n",
              "      <th>rating</th>\n",
              "      <th>timestamp</th>\n",
              "      <th>title</th>\n",
              "      <th>genres</th>\n",
              "    </tr>\n",
              "  </thead>\n",
              "  <tbody>\n",
              "    <tr>\n",
              "      <th>0</th>\n",
              "      <td>5163</td>\n",
              "      <td>57669</td>\n",
              "      <td>4.0</td>\n",
              "      <td>1.518350e+09</td>\n",
              "      <td>In Bruges (2008)</td>\n",
              "      <td>Comedy|Crime|Drama|Thriller</td>\n",
              "    </tr>\n",
              "    <tr>\n",
              "      <th>1</th>\n",
              "      <td>87388</td>\n",
              "      <td>57669</td>\n",
              "      <td>3.5</td>\n",
              "      <td>1.237455e+09</td>\n",
              "      <td>In Bruges (2008)</td>\n",
              "      <td>Comedy|Crime|Drama|Thriller</td>\n",
              "    </tr>\n",
              "    <tr>\n",
              "      <th>2</th>\n",
              "      <td>137050</td>\n",
              "      <td>57669</td>\n",
              "      <td>4.0</td>\n",
              "      <td>1.425632e+09</td>\n",
              "      <td>In Bruges (2008)</td>\n",
              "      <td>Comedy|Crime|Drama|Thriller</td>\n",
              "    </tr>\n",
              "    <tr>\n",
              "      <th>3</th>\n",
              "      <td>120490</td>\n",
              "      <td>57669</td>\n",
              "      <td>4.5</td>\n",
              "      <td>1.408229e+09</td>\n",
              "      <td>In Bruges (2008)</td>\n",
              "      <td>Comedy|Crime|Drama|Thriller</td>\n",
              "    </tr>\n",
              "    <tr>\n",
              "      <th>4</th>\n",
              "      <td>50616</td>\n",
              "      <td>57669</td>\n",
              "      <td>4.5</td>\n",
              "      <td>1.446942e+09</td>\n",
              "      <td>In Bruges (2008)</td>\n",
              "      <td>Comedy|Crime|Drama|Thriller</td>\n",
              "    </tr>\n",
              "  </tbody>\n",
              "</table>\n",
              "</div>"
            ],
            "text/plain": [
              "   userId  movieId  ...             title                       genres\n",
              "0    5163    57669  ...  In Bruges (2008)  Comedy|Crime|Drama|Thriller\n",
              "1   87388    57669  ...  In Bruges (2008)  Comedy|Crime|Drama|Thriller\n",
              "2  137050    57669  ...  In Bruges (2008)  Comedy|Crime|Drama|Thriller\n",
              "3  120490    57669  ...  In Bruges (2008)  Comedy|Crime|Drama|Thriller\n",
              "4   50616    57669  ...  In Bruges (2008)  Comedy|Crime|Drama|Thriller\n",
              "\n",
              "[5 rows x 6 columns]"
            ]
          },
          "metadata": {
            "tags": []
          },
          "execution_count": 5
        }
      ]
    },
    {
      "cell_type": "code",
      "metadata": {
        "id": "JeFqeCQbkziq",
        "colab_type": "code",
        "colab": {
          "base_uri": "https://localhost:8080/",
          "height": 238
        },
        "outputId": "34d6a2d9-93f1-486f-a65f-ed363860d2d0"
      },
      "source": [
        "data.info()"
      ],
      "execution_count": 6,
      "outputs": [
        {
          "output_type": "stream",
          "text": [
            "<class 'pandas.core.frame.DataFrame'>\n",
            "Int64Index: 9550585 entries, 0 to 9550584\n",
            "Data columns (total 6 columns):\n",
            " #   Column     Dtype  \n",
            "---  ------     -----  \n",
            " 0   userId     int64  \n",
            " 1   movieId    int64  \n",
            " 2   rating     float64\n",
            " 3   timestamp  float64\n",
            " 4   title      object \n",
            " 5   genres     object \n",
            "dtypes: float64(2), int64(2), object(2)\n",
            "memory usage: 510.1+ MB\n"
          ],
          "name": "stdout"
        }
      ]
    },
    {
      "cell_type": "code",
      "metadata": {
        "id": "2rJTDZEJk2pN",
        "colab_type": "code",
        "colab": {
          "base_uri": "https://localhost:8080/",
          "height": 136
        },
        "outputId": "5d44a0cb-fc2d-461c-b80e-9e18790fbf2a"
      },
      "source": [
        "best_titles = data.groupby('title')['rating'].mean().sort_values(ascending=False)\n",
        "best_titles.head()"
      ],
      "execution_count": 9,
      "outputs": [
        {
          "output_type": "execute_result",
          "data": {
            "text/plain": [
              "title\n",
              "The Magic Crystal (2011)                                                      5.0\n",
              "Motion Picture ('La sortie des ouvriers de l'usine Lumière à Lyon') (1984)    5.0\n",
              "Muay Thai Fighter (2007)                                                      5.0\n",
              "The Californians (2005)                                                       5.0\n",
              "Brother's Keeper (2013)                                                       5.0\n",
              "Name: rating, dtype: float64"
            ]
          },
          "metadata": {
            "tags": []
          },
          "execution_count": 9
        }
      ]
    },
    {
      "cell_type": "code",
      "metadata": {
        "id": "K3YxkjdJlSok",
        "colab_type": "code",
        "colab": {
          "base_uri": "https://localhost:8080/",
          "height": 136
        },
        "outputId": "fb0bb045-b306-49e7-9479-77e96d99cdd7"
      },
      "source": [
        "most_ratings = data.groupby('title')['rating'].count().sort_values(ascending=False).head()\n",
        "most_ratings.head()"
      ],
      "execution_count": 10,
      "outputs": [
        {
          "output_type": "execute_result",
          "data": {
            "text/plain": [
              "title\n",
              "Shawshank Redemption, The (1994)    31380\n",
              "Forrest Gump (1994)                 30930\n",
              "Pulp Fiction (1994)                 30321\n",
              "Silence of the Lambs, The (1991)    28099\n",
              "Matrix, The (1999)                  27723\n",
              "Name: rating, dtype: int64"
            ]
          },
          "metadata": {
            "tags": []
          },
          "execution_count": 10
        }
      ]
    },
    {
      "cell_type": "code",
      "metadata": {
        "id": "b2IHn1BwmAKM",
        "colab_type": "code",
        "colab": {
          "base_uri": "https://localhost:8080/",
          "height": 235
        },
        "outputId": "29126cb9-d6a3-407c-8b1a-e7fb719c6762"
      },
      "source": [
        "ratings_mean_count = pd.DataFrame(data.groupby('title')['rating'].mean())\n",
        "ratings_mean_count['rating_counts'] = pd.DataFrame(data.groupby('title')['rating'].count())\n",
        "ratings_mean_count.head()"
      ],
      "execution_count": 12,
      "outputs": [
        {
          "output_type": "execute_result",
          "data": {
            "text/html": [
              "<div>\n",
              "<style scoped>\n",
              "    .dataframe tbody tr th:only-of-type {\n",
              "        vertical-align: middle;\n",
              "    }\n",
              "\n",
              "    .dataframe tbody tr th {\n",
              "        vertical-align: top;\n",
              "    }\n",
              "\n",
              "    .dataframe thead th {\n",
              "        text-align: right;\n",
              "    }\n",
              "</style>\n",
              "<table border=\"1\" class=\"dataframe\">\n",
              "  <thead>\n",
              "    <tr style=\"text-align: right;\">\n",
              "      <th></th>\n",
              "      <th>rating</th>\n",
              "      <th>rating_counts</th>\n",
              "    </tr>\n",
              "    <tr>\n",
              "      <th>title</th>\n",
              "      <th></th>\n",
              "      <th></th>\n",
              "    </tr>\n",
              "  </thead>\n",
              "  <tbody>\n",
              "    <tr>\n",
              "      <th>\"BLOW THE NIGHT!\" Let's Spend the Night Together (1983)</th>\n",
              "      <td>3.000000</td>\n",
              "      <td>1</td>\n",
              "    </tr>\n",
              "    <tr>\n",
              "      <th>\"Great Performances\" Cats (1998)</th>\n",
              "      <td>2.741935</td>\n",
              "      <td>62</td>\n",
              "    </tr>\n",
              "    <tr>\n",
              "      <th>#1 Cheerleader Camp (2010)</th>\n",
              "      <td>1.900000</td>\n",
              "      <td>5</td>\n",
              "    </tr>\n",
              "    <tr>\n",
              "      <th>#Female Pleasure (2018)</th>\n",
              "      <td>4.000000</td>\n",
              "      <td>1</td>\n",
              "    </tr>\n",
              "    <tr>\n",
              "      <th>#FollowMe (2019)</th>\n",
              "      <td>2.400000</td>\n",
              "      <td>5</td>\n",
              "    </tr>\n",
              "  </tbody>\n",
              "</table>\n",
              "</div>"
            ],
            "text/plain": [
              "                                                      rating  rating_counts\n",
              "title                                                                      \n",
              "\"BLOW THE NIGHT!\" Let's Spend the Night Togethe...  3.000000              1\n",
              "\"Great Performances\" Cats (1998)                    2.741935             62\n",
              "#1 Cheerleader Camp (2010)                          1.900000              5\n",
              "#Female Pleasure (2018)                             4.000000              1\n",
              "#FollowMe (2019)                                    2.400000              5"
            ]
          },
          "metadata": {
            "tags": []
          },
          "execution_count": 12
        }
      ]
    },
    {
      "cell_type": "code",
      "metadata": {
        "id": "VLJamUwOmLh6",
        "colab_type": "code",
        "colab": {
          "base_uri": "https://localhost:8080/",
          "height": 390
        },
        "outputId": "b8fc3db8-15eb-47c8-e179-9fc42354fcea"
      },
      "source": [
        "# histogram for the number of ratings\n",
        "import matplotlib.pyplot as plt\n",
        "import seaborn as sns\n",
        "sns.set_style('dark')\n",
        "%matplotlib inline\n",
        "\n",
        "plt.figure(figsize=(8,6))\n",
        "plt.rcParams['patch.force_edgecolor'] = True\n",
        "ratings_mean_count['rating_counts'].hist(bins=100)\n",
        "plt.xlim([0,3000])\n",
        "plt.title('The distribution that shows the number of ratings.')\n",
        "plt.ylabel('Counts')\n",
        "plt.show()"
      ],
      "execution_count": 20,
      "outputs": [
        {
          "output_type": "display_data",
          "data": {
            "image/png": "[encoded data removed]",
            "text/plain": [
              "<Figure size 576x432 with 1 Axes>"
            ]
          },
          "metadata": {
            "tags": [],
            "needs_background": "light"
          }
        }
      ]
    },
    {
      "cell_type": "code",
      "metadata": {
        "id": "p0_hNczhnAIJ",
        "colab_type": "code",
        "colab": {
          "base_uri": "https://localhost:8080/",
          "height": 390
        },
        "outputId": "65a8a396-88db-413e-f09b-ab91eae23f8e"
      },
      "source": [
        "# histogram for average ratings\n",
        "plt.figure(figsize=(8,6))\n",
        "plt.rcParams['patch.force_edgecolor'] = True\n",
        "ratings_mean_count['rating'].hist(bins=100)\n",
        "plt.title('The distribution of the average ratings')\n",
        "plt.ylabel('Counts')\n",
        "plt.show()"
      ],
      "execution_count": 19,
      "outputs": [
        {
          "output_type": "display_data",
          "data": {
            "image/png": "[encoded data removed]",
            "text/plain": [
              "<Figure size 576x432 with 1 Axes>"
            ]
          },
          "metadata": {
            "tags": [],
            "needs_background": "light"
          }
        }
      ]
    },
    {
      "cell_type": "code",
      "metadata": {
        "id": "7HrPESE4nYoK",
        "colab_type": "code",
        "colab": {
          "base_uri": "https://localhost:8080/",
          "height": 441
        },
        "outputId": "3421117f-3570-4324-80ab-569d68a73101"
      },
      "source": [
        "# average ratings against the number of ratings\n",
        "plt.rcParams['patch.force_edgecolor'] = True\n",
        "sns.jointplot(x='rating', y='rating_counts', data=ratings_mean_count, alpha=0.4)\n",
        "plt.show()"
      ],
      "execution_count": 23,
      "outputs": [
        {
          "output_type": "display_data",
          "data": {
            "image/png": "[encoded data removed]",
            "text/plain": [
              "<Figure size 432x432 with 3 Axes>"
            ]
          },
          "metadata": {
            "tags": [],
            "needs_background": "light"
          }
        }
      ]
    },
    {
      "cell_type": "code",
      "metadata": {
        "id": "bpLvbNcUnq_4",
        "colab_type": "code",
        "colab": {
          "base_uri": "https://localhost:8080/",
          "height": 85
        },
        "outputId": "4a71bf0d-f2bb-4cc5-a3fb-0f29689172f0"
      },
      "source": [
        "# retrieve movies similar to Shawshank Redemption by finding correlation\n",
        "user_movie_rating = data[:500000].pivot_table(index='userId', columns='title', values='rating')\n",
        "# this movie because it has the highest number of ratings\n",
        "shawshank_ratings = user_movie_rating['Shawshank Redemption, The (1994)']\n",
        "movies_like_shawshank = user_movie_rating.corrwith(shawshank_ratings)"
      ],
      "execution_count": 26,
      "outputs": [
        {
          "output_type": "stream",
          "text": [
            "/usr/local/lib/python3.6/dist-packages/numpy/lib/function_base.py:2526: RuntimeWarning: Degrees of freedom <= 0 for slice\n",
            "  c = cov(x, y, rowvar)\n",
            "/usr/local/lib/python3.6/dist-packages/numpy/lib/function_base.py:2455: RuntimeWarning: divide by zero encountered in true_divide\n",
            "  c *= np.true_divide(1, fact)\n"
          ],
          "name": "stderr"
        }
      ]
    },
    {
      "cell_type": "code",
      "metadata": {
        "id": "mscqhx5MoH3K",
        "colab_type": "code",
        "colab": {
          "base_uri": "https://localhost:8080/",
          "height": 235
        },
        "outputId": "8ed71bcc-c12a-47e4-9eac-2554a93f66b4"
      },
      "source": [
        "corr_shawshank = pd.DataFrame(movies_like_shawshank, columns=['Correlation'])\n",
        "corr_shawshank.dropna(inplace=True)\n",
        "corr_shawshank.head()"
      ],
      "execution_count": 27,
      "outputs": [
        {
          "output_type": "execute_result",
          "data": {
            "text/html": [
              "<div>\n",
              "<style scoped>\n",
              "    .dataframe tbody tr th:only-of-type {\n",
              "        vertical-align: middle;\n",
              "    }\n",
              "\n",
              "    .dataframe tbody tr th {\n",
              "        vertical-align: top;\n",
              "    }\n",
              "\n",
              "    .dataframe thead th {\n",
              "        text-align: right;\n",
              "    }\n",
              "</style>\n",
              "<table border=\"1\" class=\"dataframe\">\n",
              "  <thead>\n",
              "    <tr style=\"text-align: right;\">\n",
              "      <th></th>\n",
              "      <th>Correlation</th>\n",
              "    </tr>\n",
              "    <tr>\n",
              "      <th>title</th>\n",
              "      <th></th>\n",
              "    </tr>\n",
              "  </thead>\n",
              "  <tbody>\n",
              "    <tr>\n",
              "      <th>10 Cloverfield Lane (2016)</th>\n",
              "      <td>0.134415</td>\n",
              "    </tr>\n",
              "    <tr>\n",
              "      <th>102 Dalmatians (2000)</th>\n",
              "      <td>0.047783</td>\n",
              "    </tr>\n",
              "    <tr>\n",
              "      <th>1984 (1956)</th>\n",
              "      <td>0.641586</td>\n",
              "    </tr>\n",
              "    <tr>\n",
              "      <th>Abominable Dr. Phibes, The (1971)</th>\n",
              "      <td>0.172256</td>\n",
              "    </tr>\n",
              "    <tr>\n",
              "      <th>Airplane! (1980)</th>\n",
              "      <td>0.139492</td>\n",
              "    </tr>\n",
              "  </tbody>\n",
              "</table>\n",
              "</div>"
            ],
            "text/plain": [
              "                                   Correlation\n",
              "title                                         \n",
              "10 Cloverfield Lane (2016)            0.134415\n",
              "102 Dalmatians (2000)                 0.047783\n",
              "1984 (1956)                           0.641586\n",
              "Abominable Dr. Phibes, The (1971)     0.172256\n",
              "Airplane! (1980)                      0.139492"
            ]
          },
          "metadata": {
            "tags": []
          },
          "execution_count": 27
        }
      ]
    },
    {
      "cell_type": "code",
      "metadata": {
        "id": "GGTvqh61oqRf",
        "colab_type": "code",
        "colab": {
          "base_uri": "https://localhost:8080/",
          "height": 390
        },
        "outputId": "080db9ba-e75e-42ca-c792-340b36b75db5"
      },
      "source": [
        "# Let's sort the movies in descending order of correlation to see highly correlated movies at the top\n",
        "corr_shawshank.sort_values('Correlation', ascending=False).head(10)"
      ],
      "execution_count": 28,
      "outputs": [
        {
          "output_type": "execute_result",
          "data": {
            "text/html": [
              "<div>\n",
              "<style scoped>\n",
              "    .dataframe tbody tr th:only-of-type {\n",
              "        vertical-align: middle;\n",
              "    }\n",
              "\n",
              "    .dataframe tbody tr th {\n",
              "        vertical-align: top;\n",
              "    }\n",
              "\n",
              "    .dataframe thead th {\n",
              "        text-align: right;\n",
              "    }\n",
              "</style>\n",
              "<table border=\"1\" class=\"dataframe\">\n",
              "  <thead>\n",
              "    <tr style=\"text-align: right;\">\n",
              "      <th></th>\n",
              "      <th>Correlation</th>\n",
              "    </tr>\n",
              "    <tr>\n",
              "      <th>title</th>\n",
              "      <th></th>\n",
              "    </tr>\n",
              "  </thead>\n",
              "  <tbody>\n",
              "    <tr>\n",
              "      <th>Shawshank Redemption, The (1994)</th>\n",
              "      <td>1.000000</td>\n",
              "    </tr>\n",
              "    <tr>\n",
              "      <th>1984 (1956)</th>\n",
              "      <td>0.641586</td>\n",
              "    </tr>\n",
              "    <tr>\n",
              "      <th>Blue Thunder (1983)</th>\n",
              "      <td>0.360691</td>\n",
              "    </tr>\n",
              "    <tr>\n",
              "      <th>Usual Suspects, The (1995)</th>\n",
              "      <td>0.354099</td>\n",
              "    </tr>\n",
              "    <tr>\n",
              "      <th>Toy Story That Time Forgot (2014)</th>\n",
              "      <td>0.341695</td>\n",
              "    </tr>\n",
              "    <tr>\n",
              "      <th>Intouchables (2011)</th>\n",
              "      <td>0.339549</td>\n",
              "    </tr>\n",
              "    <tr>\n",
              "      <th>Pianist, The (2002)</th>\n",
              "      <td>0.302398</td>\n",
              "    </tr>\n",
              "    <tr>\n",
              "      <th>Rock, The (1996)</th>\n",
              "      <td>0.271250</td>\n",
              "    </tr>\n",
              "    <tr>\n",
              "      <th>As Good as It Gets (1997)</th>\n",
              "      <td>0.270459</td>\n",
              "    </tr>\n",
              "    <tr>\n",
              "      <th>Apollo 13 (1995)</th>\n",
              "      <td>0.266501</td>\n",
              "    </tr>\n",
              "  </tbody>\n",
              "</table>\n",
              "</div>"
            ],
            "text/plain": [
              "                                   Correlation\n",
              "title                                         \n",
              "Shawshank Redemption, The (1994)      1.000000\n",
              "1984 (1956)                           0.641586\n",
              "Blue Thunder (1983)                   0.360691\n",
              "Usual Suspects, The (1995)            0.354099\n",
              "Toy Story That Time Forgot (2014)     0.341695\n",
              "Intouchables (2011)                   0.339549\n",
              "Pianist, The (2002)                   0.302398\n",
              "Rock, The (1996)                      0.271250\n",
              "As Good as It Gets (1997)             0.270459\n",
              "Apollo 13 (1995)                      0.266501"
            ]
          },
          "metadata": {
            "tags": []
          },
          "execution_count": 28
        }
      ]
    },
    {
      "cell_type": "code",
      "metadata": {
        "id": "L_V5x9HKovtc",
        "colab_type": "code",
        "colab": {
          "base_uri": "https://localhost:8080/",
          "height": 235
        },
        "outputId": "24b6c0a5-b92f-4a0e-d1af-fe92e082173a"
      },
      "source": [
        "# retrieve only those correlated movies that have at least more than 50 ratings\n",
        "corr_shawshank = corr_shawshank.join(ratings_mean_count['rating_counts'])\n",
        "corr_shawshank.head()"
      ],
      "execution_count": 29,
      "outputs": [
        {
          "output_type": "execute_result",
          "data": {
            "text/html": [
              "<div>\n",
              "<style scoped>\n",
              "    .dataframe tbody tr th:only-of-type {\n",
              "        vertical-align: middle;\n",
              "    }\n",
              "\n",
              "    .dataframe tbody tr th {\n",
              "        vertical-align: top;\n",
              "    }\n",
              "\n",
              "    .dataframe thead th {\n",
              "        text-align: right;\n",
              "    }\n",
              "</style>\n",
              "<table border=\"1\" class=\"dataframe\">\n",
              "  <thead>\n",
              "    <tr style=\"text-align: right;\">\n",
              "      <th></th>\n",
              "      <th>Correlation</th>\n",
              "      <th>rating_counts</th>\n",
              "    </tr>\n",
              "    <tr>\n",
              "      <th>title</th>\n",
              "      <th></th>\n",
              "      <th></th>\n",
              "    </tr>\n",
              "  </thead>\n",
              "  <tbody>\n",
              "    <tr>\n",
              "      <th>10 Cloverfield Lane (2016)</th>\n",
              "      <td>0.134415</td>\n",
              "      <td>1388</td>\n",
              "    </tr>\n",
              "    <tr>\n",
              "      <th>102 Dalmatians (2000)</th>\n",
              "      <td>0.047783</td>\n",
              "      <td>635</td>\n",
              "    </tr>\n",
              "    <tr>\n",
              "      <th>1984 (1956)</th>\n",
              "      <td>0.641586</td>\n",
              "      <td>178</td>\n",
              "    </tr>\n",
              "    <tr>\n",
              "      <th>Abominable Dr. Phibes, The (1971)</th>\n",
              "      <td>0.172256</td>\n",
              "      <td>185</td>\n",
              "    </tr>\n",
              "    <tr>\n",
              "      <th>Airplane! (1980)</th>\n",
              "      <td>0.139492</td>\n",
              "      <td>7766</td>\n",
              "    </tr>\n",
              "  </tbody>\n",
              "</table>\n",
              "</div>"
            ],
            "text/plain": [
              "                                   Correlation  rating_counts\n",
              "title                                                        \n",
              "10 Cloverfield Lane (2016)            0.134415           1388\n",
              "102 Dalmatians (2000)                 0.047783            635\n",
              "1984 (1956)                           0.641586            178\n",
              "Abominable Dr. Phibes, The (1971)     0.172256            185\n",
              "Airplane! (1980)                      0.139492           7766"
            ]
          },
          "metadata": {
            "tags": []
          },
          "execution_count": 29
        }
      ]
    },
    {
      "cell_type": "code",
      "metadata": {
        "id": "2SvVF1qjoz1R",
        "colab_type": "code",
        "colab": {
          "base_uri": "https://localhost:8080/",
          "height": 235
        },
        "outputId": "69abd138-5688-4afc-bca4-d033cc915170"
      },
      "source": [
        "# filter movies correlated to \"Shawshank Redemption, The (1994\", that have more than 50 ratings\n",
        "corr_shawshank[corr_shawshank['rating_counts']>50].sort_values('Correlation', ascending=False).head()"
      ],
      "execution_count": 30,
      "outputs": [
        {
          "output_type": "execute_result",
          "data": {
            "text/html": [
              "<div>\n",
              "<style scoped>\n",
              "    .dataframe tbody tr th:only-of-type {\n",
              "        vertical-align: middle;\n",
              "    }\n",
              "\n",
              "    .dataframe tbody tr th {\n",
              "        vertical-align: top;\n",
              "    }\n",
              "\n",
              "    .dataframe thead th {\n",
              "        text-align: right;\n",
              "    }\n",
              "</style>\n",
              "<table border=\"1\" class=\"dataframe\">\n",
              "  <thead>\n",
              "    <tr style=\"text-align: right;\">\n",
              "      <th></th>\n",
              "      <th>Correlation</th>\n",
              "      <th>rating_counts</th>\n",
              "    </tr>\n",
              "    <tr>\n",
              "      <th>title</th>\n",
              "      <th></th>\n",
              "      <th></th>\n",
              "    </tr>\n",
              "  </thead>\n",
              "  <tbody>\n",
              "    <tr>\n",
              "      <th>Shawshank Redemption, The (1994)</th>\n",
              "      <td>1.000000</td>\n",
              "      <td>31380</td>\n",
              "    </tr>\n",
              "    <tr>\n",
              "      <th>1984 (1956)</th>\n",
              "      <td>0.641586</td>\n",
              "      <td>178</td>\n",
              "    </tr>\n",
              "    <tr>\n",
              "      <th>Blue Thunder (1983)</th>\n",
              "      <td>0.360691</td>\n",
              "      <td>77</td>\n",
              "    </tr>\n",
              "    <tr>\n",
              "      <th>Usual Suspects, The (1995)</th>\n",
              "      <td>0.354099</td>\n",
              "      <td>21023</td>\n",
              "    </tr>\n",
              "    <tr>\n",
              "      <th>Toy Story That Time Forgot (2014)</th>\n",
              "      <td>0.341695</td>\n",
              "      <td>90</td>\n",
              "    </tr>\n",
              "  </tbody>\n",
              "</table>\n",
              "</div>"
            ],
            "text/plain": [
              "                                   Correlation  rating_counts\n",
              "title                                                        \n",
              "Shawshank Redemption, The (1994)      1.000000          31380\n",
              "1984 (1956)                           0.641586            178\n",
              "Blue Thunder (1983)                   0.360691             77\n",
              "Usual Suspects, The (1995)            0.354099          21023\n",
              "Toy Story That Time Forgot (2014)     0.341695             90"
            ]
          },
          "metadata": {
            "tags": []
          },
          "execution_count": 30
        }
      ]
    },
    {
      "cell_type": "markdown",
      "metadata": {
        "id": "1e9lXQ-YaC1Z",
        "colab_type": "text"
      },
      "source": [
        "#Modelling"
      ]
    },
    {
      "cell_type": "markdown",
      "metadata": {
        "id": "lAWnmTs7aKf7",
        "colab_type": "text"
      },
      "source": [
        "A reader is needed in order to input `rating_scale` parameter"
      ]
    },
    {
      "cell_type": "code",
      "metadata": {
        "id": "pZc3Z3okaEPb",
        "colab_type": "code",
        "colab": {}
      },
      "source": [
        "reader = Reader(rating_scale=(1, 5))"
      ],
      "execution_count": 11,
      "outputs": []
    },
    {
      "cell_type": "markdown",
      "metadata": {
        "id": "x78UyrP8aT9M",
        "colab_type": "text"
      },
      "source": [
        " - Load data into format that Surprise understands using Dataset class from surprise\n",
        " - The columns must correspond to user id, item id and ratings (in that order)."
      ]
    },
    {
      "cell_type": "code",
      "metadata": {
        "id": "14BhUr8MaYt4",
        "colab_type": "code",
        "colab": {}
      },
      "source": [
        "data = Dataset.load_from_df(ratings_df[['userId', 'movieId', 'rating']], reader)"
      ],
      "execution_count": 12,
      "outputs": []
    },
    {
      "cell_type": "markdown",
      "metadata": {
        "id": "chKy6J51adwE",
        "colab_type": "text"
      },
      "source": [
        "We can now use this dataset as we please, e.g. calling cross_validate"
      ]
    },
    {
      "cell_type": "code",
      "metadata": {
        "id": "WoIwEuXIa52G",
        "colab_type": "code",
        "colab": {}
      },
      "source": [
        "# we are using the full train dataset to train the model here - should use test and train split in order to evaluate\n",
        "trainset = data.build_full_trainset()"
      ],
      "execution_count": 13,
      "outputs": []
    },
    {
      "cell_type": "markdown",
      "metadata": {
        "id": "3Qbs5AWOa7Ww",
        "colab_type": "text"
      },
      "source": [
        "## SVD model"
      ]
    },
    {
      "cell_type": "code",
      "metadata": {
        "id": "sfGeWr4yafIq",
        "colab_type": "code",
        "colab": {
          "base_uri": "https://localhost:8080/",
          "height": 34
        },
        "outputId": "0894e172-00e5-4bf4-95c4-f2f3bcc16f43"
      },
      "source": [
        "# Build an algorithm, and train it.\n",
        "algo = SVD()\n",
        "algo.fit(trainset)"
      ],
      "execution_count": 14,
      "outputs": [
        {
          "output_type": "execute_result",
          "data": {
            "text/plain": [
              "<surprise.prediction_algorithms.matrix_factorization.SVD at 0x7fc00337fba8>"
            ]
          },
          "metadata": {
            "tags": []
          },
          "execution_count": 14
        }
      ]
    },
    {
      "cell_type": "markdown",
      "metadata": {
        "id": "Qx8spSlAbHvj",
        "colab_type": "text"
      },
      "source": [
        "# Recommender predictions"
      ]
    },
    {
      "cell_type": "markdown",
      "metadata": {
        "id": "6vS8cw_HbVH8",
        "colab_type": "text"
      },
      "source": [
        "Example on how to predict using the SVD algorithm"
      ]
    },
    {
      "cell_type": "code",
      "metadata": {
        "id": "JV1IsBdQbLIk",
        "colab_type": "code",
        "colab": {}
      },
      "source": [
        "# raw user id (as in the ratings file). They are **strings**!\n",
        "uid = str(1)\n",
        "# raw item id (as in the ratings file). They are **strings**!\n",
        "iid = str(2011)"
      ],
      "execution_count": 15,
      "outputs": []
    },
    {
      "cell_type": "markdown",
      "metadata": {
        "id": "-L_dZxmZbqMa",
        "colab_type": "text"
      },
      "source": [
        "Get a prediction for specific users and items."
      ]
    },
    {
      "cell_type": "code",
      "metadata": {
        "id": "nu3P8kaVbt0v",
        "colab_type": "code",
        "colab": {
          "base_uri": "https://localhost:8080/",
          "height": 34
        },
        "outputId": "797cd6e2-b647-42ff-9117-6991924cedc8"
      },
      "source": [
        "pred = algo.predict(uid, iid, r_ui=4, verbose=True)"
      ],
      "execution_count": 16,
      "outputs": [
        {
          "output_type": "stream",
          "text": [
            "user: 1          item: 2011       r_ui = 4.00   est = 3.53   {'was_impossible': False}\n"
          ],
          "name": "stdout"
        }
      ]
    },
    {
      "cell_type": "markdown",
      "metadata": {
        "id": "ORPpFLexb8SD",
        "colab_type": "text"
      },
      "source": [
        "Get a prediction for the test data"
      ]
    },
    {
      "cell_type": "code",
      "metadata": {
        "id": "6EwfDnU-cA9z",
        "colab_type": "code",
        "colab": {}
      },
      "source": [
        "# Predict on our test data\n",
        "predcol = []\n",
        "for _, row in test_df.iterrows():\n",
        "    x = (algo.predict(row.userId, row.movieId))\n",
        "    pred = x[3]\n",
        "    predcol.append(pred)"
      ],
      "execution_count": 17,
      "outputs": []
    },
    {
      "cell_type": "code",
      "metadata": {
        "id": "xNbesfAmcKzD",
        "colab_type": "code",
        "colab": {
          "base_uri": "https://localhost:8080/",
          "height": 34
        },
        "outputId": "b8975622-1e46-418d-e972-6a8a96e6d5b6"
      },
      "source": [
        "# check if the prediction length is the same as input length\n",
        "len(predcol) == len(test_df)"
      ],
      "execution_count": 18,
      "outputs": [
        {
          "output_type": "execute_result",
          "data": {
            "text/plain": [
              "True"
            ]
          },
          "metadata": {
            "tags": []
          },
          "execution_count": 18
        }
      ]
    },
    {
      "cell_type": "code",
      "metadata": {
        "id": "0LpF6liqcP5J",
        "colab_type": "code",
        "colab": {}
      },
      "source": [
        "# Convert columns to string in order to prep for concatenating\n",
        "test_df['userId'] = test_df['userId'].astype(str)\n",
        "test_df['movieId'] = test_df['movieId'].astype(str)"
      ],
      "execution_count": 19,
      "outputs": []
    },
    {
      "cell_type": "code",
      "metadata": {
        "id": "2d1EB6vMcYQv",
        "colab_type": "code",
        "colab": {}
      },
      "source": [
        "# Create submission column ID\n",
        "test_df['Id'] =test_df['userId']+'_'+test_df['movieId']"
      ],
      "execution_count": 20,
      "outputs": []
    },
    {
      "cell_type": "code",
      "metadata": {
        "id": "PeQdUSV4cbrO",
        "colab_type": "code",
        "colab": {}
      },
      "source": [
        "kaggle_df = pd.DataFrame(\n",
        "    {'Id': test_df['Id'],\n",
        "     'rating': predcol\n",
        "    })"
      ],
      "execution_count": 21,
      "outputs": []
    },
    {
      "cell_type": "code",
      "metadata": {
        "id": "Xkc4Y6TSccEd",
        "colab_type": "code",
        "colab": {
          "base_uri": "https://localhost:8080/",
          "height": 34
        },
        "outputId": "da24c52b-298c-484d-b6ec-f9ca872beab6"
      },
      "source": [
        "kaggle_df.shape"
      ],
      "execution_count": 22,
      "outputs": [
        {
          "output_type": "execute_result",
          "data": {
            "text/plain": [
              "(5087010, 2)"
            ]
          },
          "metadata": {
            "tags": []
          },
          "execution_count": 22
        }
      ]
    },
    {
      "cell_type": "code",
      "metadata": {
        "id": "IrqCZzcKckn5",
        "colab_type": "code",
        "colab": {
          "base_uri": "https://localhost:8080/",
          "height": 204
        },
        "outputId": "80ba3d18-eca4-4e52-ea03-c1b92bb6ac15"
      },
      "source": [
        "kaggle_df.head()"
      ],
      "execution_count": 23,
      "outputs": [
        {
          "output_type": "execute_result",
          "data": {
            "text/html": [
              "<div>\n",
              "<style scoped>\n",
              "    .dataframe tbody tr th:only-of-type {\n",
              "        vertical-align: middle;\n",
              "    }\n",
              "\n",
              "    .dataframe tbody tr th {\n",
              "        vertical-align: top;\n",
              "    }\n",
              "\n",
              "    .dataframe thead th {\n",
              "        text-align: right;\n",
              "    }\n",
              "</style>\n",
              "<table border=\"1\" class=\"dataframe\">\n",
              "  <thead>\n",
              "    <tr style=\"text-align: right;\">\n",
              "      <th></th>\n",
              "      <th>Id</th>\n",
              "      <th>rating</th>\n",
              "    </tr>\n",
              "  </thead>\n",
              "  <tbody>\n",
              "    <tr>\n",
              "      <th>0</th>\n",
              "      <td>1_2011</td>\n",
              "      <td>3.522908</td>\n",
              "    </tr>\n",
              "    <tr>\n",
              "      <th>1</th>\n",
              "      <td>1_4144</td>\n",
              "      <td>4.179861</td>\n",
              "    </tr>\n",
              "    <tr>\n",
              "      <th>2</th>\n",
              "      <td>1_5767</td>\n",
              "      <td>3.270738</td>\n",
              "    </tr>\n",
              "    <tr>\n",
              "      <th>3</th>\n",
              "      <td>1_6711</td>\n",
              "      <td>3.794051</td>\n",
              "    </tr>\n",
              "    <tr>\n",
              "      <th>4</th>\n",
              "      <td>1_7318</td>\n",
              "      <td>3.430872</td>\n",
              "    </tr>\n",
              "  </tbody>\n",
              "</table>\n",
              "</div>"
            ],
            "text/plain": [
              "       Id    rating\n",
              "0  1_2011  3.522908\n",
              "1  1_4144  4.179861\n",
              "2  1_5767  3.270738\n",
              "3  1_6711  3.794051\n",
              "4  1_7318  3.430872"
            ]
          },
          "metadata": {
            "tags": []
          },
          "execution_count": 23
        }
      ]
    },
    {
      "cell_type": "code",
      "metadata": {
        "id": "z6Uh5V7Acn-p",
        "colab_type": "code",
        "colab": {}
      },
      "source": [
        "# Export to csv\n",
        "kaggle_df.to_csv(\"recommend_2.csv\",index=False)"
      ],
      "execution_count": 24,
      "outputs": []
    },
    {
      "cell_type": "code",
      "execution_count": null,
      "metadata": {},
      "outputs": [],
      "source": [
        "# Comet logging\n",
        "\n",
        "params = {\"random_state\": 'none',\n",
        "          \"model_type\": \"SVD\",\n",
        "          \"scaler\": \"none\",\n",
        "          \"param_grid\": str(param_grid)\n",
        "          }\n",
        "metrics = {\"RMSE\": 'none',\n",
        "           \"top n\": 'none',\n",
        "           \"MAE\": 'none'\n",
        "           }\n",
        "\n",
        "# Log parameters and results\n",
        "experiment.log_parameters(params)\n",
        "experiment.log_metrics(metrics)\n",
        "\n",
        "# End Experiment# Create dictionaries for comet\n",
        "\n",
        "params = {\"random_state\": 'none',\n",
        "          \"model_type\": \"SVD\",\n",
        "          \"scaler\": \"none\",\n",
        "          \"param_grid\": str(param_grid)\n",
        "          }\n",
        "metrics = {\"RMSE\": 'none',\n",
        "           \"top n\": 'none',\n",
        "           \"MAE\": 'none'\n",
        "           }\n",
        "\n",
        "# Log parameters and results\n",
        "experiment.log_parameters(params)\n",
        "experiment.log_metrics(metrics)\n",
        "\n",
        "# End Experiment"
      ]
    }
  ],
  "metadata": {
    "colab": {
      "name": "main.ipynb",
      "provenance": [],
      "toc_visible": true,
      "include_colab_link": true
    },
    "kernelspec": {
      "name": "python3",
      "display_name": "Python 3"
    }
  },
  "nbformat": 4,
  "nbformat_minor": 0
}