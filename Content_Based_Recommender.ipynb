{
  "nbformat": 4,
  "nbformat_minor": 0,
  "metadata": {
    "colab": {
      "name": "Content Based Recommender",
      "provenance": [],
      "collapsed_sections": [],
      "toc_visible": true
    },
    "kernelspec": {
      "name": "python3",
      "display_name": "Python 3"
    }
  },
  "cells": [
    {
      "cell_type": "markdown",
      "metadata": {
        "id": "X4SWjlPKylNZ",
        "colab_type": "text"
      },
      "source": [
        "#Content Based Recommender"
      ]
    },
    {
      "cell_type": "code",
      "metadata": {
        "id": "U2jnJnqsnmEA",
        "colab_type": "code",
        "colab": {}
      },
      "source": [
        "# Import Libraries\n",
        "\n",
        "import pandas as pd\n",
        "import numpy as np\n",
        "import pandas as pd\n",
        "from sklearn.metrics.pairwise import cosine_similarity\n",
        "from sklearn.feature_extraction.text import TfidfVectorizer"
      ],
      "execution_count": 1,
      "outputs": []
    },
    {
      "cell_type": "code",
      "metadata": {
        "id": "sqJaDa0q_myA",
        "colab_type": "code",
        "colab": {}
      },
      "source": [
        "# Import Datasets\n",
        "\n",
        "imdb=pd.read_csv('imdb_data.csv')\n",
        "movies=pd.read_csv('movies.csv')\n",
        "train=pd.read_csv('train.csv')"
      ],
      "execution_count": 10,
      "outputs": []
    },
    {
      "cell_type": "code",
      "metadata": {
        "id": "rLut-M1Yn6Jl",
        "colab_type": "code",
        "colab": {}
      },
      "source": [
        "# Generate a dataframe df by mergin the train, movies and imdb datsets on movieId\n",
        "\n",
        "df=pd.merge(movies,train,how='outer',on='movieId') # movies and train outer join\n",
        "df=pd.merge(df,imdb,how='left',on='movieId') # movies and train left join"
      ],
      "execution_count": 11,
      "outputs": []
    },
    {
      "cell_type": "code",
      "metadata": {
        "id": "FkdJ6Hvz0Hk3",
        "colab_type": "code",
        "colab": {}
      },
      "source": [
        "# Drop columns not needed\n",
        "\n",
        "column_list=['timestamp','runtime','budget','plot_keywords']\n",
        "df.drop(column_list,axis=1,inplace=True)"
      ],
      "execution_count": 12,
      "outputs": []
    },
    {
      "cell_type": "code",
      "metadata": {
        "id": "6-hKie8jLbQV",
        "colab_type": "code",
        "colab": {
          "base_uri": "https://localhost:8080/",
          "height": 34
        },
        "outputId": "b8bdd9d3-5503-413c-8d03-a22c27c0f756"
      },
      "source": [
        "# Check df shape\n",
        "\n",
        "row,column=df.shape\n",
        "print('The dataframe has {} rows and {} columns.'.format(row, column))"
      ],
      "execution_count": 13,
      "outputs": [
        {
          "output_type": "stream",
          "text": [
            "The dataframe has 10014248 rows and 7 columns.\n"
          ],
          "name": "stdout"
        }
      ]
    },
    {
      "cell_type": "code",
      "metadata": {
        "id": "EVytH2co0AFr",
        "colab_type": "code",
        "colab": {
          "base_uri": "https://localhost:8080/",
          "height": 289
        },
        "outputId": "f55ab986-f1a2-454f-98a0-8903904d0567"
      },
      "source": [
        "# Check df dataframe\n",
        "\n",
        "df.head(5)"
      ],
      "execution_count": 14,
      "outputs": [
        {
          "output_type": "execute_result",
          "data": {
            "text/html": [
              "<div>\n",
              "<style scoped>\n",
              "    .dataframe tbody tr th:only-of-type {\n",
              "        vertical-align: middle;\n",
              "    }\n",
              "\n",
              "    .dataframe tbody tr th {\n",
              "        vertical-align: top;\n",
              "    }\n",
              "\n",
              "    .dataframe thead th {\n",
              "        text-align: right;\n",
              "    }\n",
              "</style>\n",
              "<table border=\"1\" class=\"dataframe\">\n",
              "  <thead>\n",
              "    <tr style=\"text-align: right;\">\n",
              "      <th></th>\n",
              "      <th>movieId</th>\n",
              "      <th>title</th>\n",
              "      <th>genres</th>\n",
              "      <th>userId</th>\n",
              "      <th>rating</th>\n",
              "      <th>title_cast</th>\n",
              "      <th>director</th>\n",
              "    </tr>\n",
              "  </thead>\n",
              "  <tbody>\n",
              "    <tr>\n",
              "      <th>0</th>\n",
              "      <td>1</td>\n",
              "      <td>Toy Story (1995)</td>\n",
              "      <td>Adventure|Animation|Children|Comedy|Fantasy</td>\n",
              "      <td>158849.0</td>\n",
              "      <td>5.0</td>\n",
              "      <td>Tom Hanks|Tim Allen|Don Rickles|Jim Varney|Wal...</td>\n",
              "      <td>John Lasseter</td>\n",
              "    </tr>\n",
              "    <tr>\n",
              "      <th>1</th>\n",
              "      <td>1</td>\n",
              "      <td>Toy Story (1995)</td>\n",
              "      <td>Adventure|Animation|Children|Comedy|Fantasy</td>\n",
              "      <td>97203.0</td>\n",
              "      <td>5.0</td>\n",
              "      <td>Tom Hanks|Tim Allen|Don Rickles|Jim Varney|Wal...</td>\n",
              "      <td>John Lasseter</td>\n",
              "    </tr>\n",
              "    <tr>\n",
              "      <th>2</th>\n",
              "      <td>1</td>\n",
              "      <td>Toy Story (1995)</td>\n",
              "      <td>Adventure|Animation|Children|Comedy|Fantasy</td>\n",
              "      <td>161871.0</td>\n",
              "      <td>3.0</td>\n",
              "      <td>Tom Hanks|Tim Allen|Don Rickles|Jim Varney|Wal...</td>\n",
              "      <td>John Lasseter</td>\n",
              "    </tr>\n",
              "    <tr>\n",
              "      <th>3</th>\n",
              "      <td>1</td>\n",
              "      <td>Toy Story (1995)</td>\n",
              "      <td>Adventure|Animation|Children|Comedy|Fantasy</td>\n",
              "      <td>45117.0</td>\n",
              "      <td>4.0</td>\n",
              "      <td>Tom Hanks|Tim Allen|Don Rickles|Jim Varney|Wal...</td>\n",
              "      <td>John Lasseter</td>\n",
              "    </tr>\n",
              "    <tr>\n",
              "      <th>4</th>\n",
              "      <td>1</td>\n",
              "      <td>Toy Story (1995)</td>\n",
              "      <td>Adventure|Animation|Children|Comedy|Fantasy</td>\n",
              "      <td>27431.0</td>\n",
              "      <td>5.0</td>\n",
              "      <td>Tom Hanks|Tim Allen|Don Rickles|Jim Varney|Wal...</td>\n",
              "      <td>John Lasseter</td>\n",
              "    </tr>\n",
              "  </tbody>\n",
              "</table>\n",
              "</div>"
            ],
            "text/plain": [
              "   movieId  ...       director\n",
              "0        1  ...  John Lasseter\n",
              "1        1  ...  John Lasseter\n",
              "2        1  ...  John Lasseter\n",
              "3        1  ...  John Lasseter\n",
              "4        1  ...  John Lasseter\n",
              "\n",
              "[5 rows x 7 columns]"
            ]
          },
          "metadata": {
            "tags": []
          },
          "execution_count": 14
        }
      ]
    },
    {
      "cell_type": "code",
      "metadata": {
        "id": "ztNFdZ8sN8Um",
        "colab_type": "code",
        "colab": {}
      },
      "source": [
        "# Function takes in aan input and removes pipe\n",
        "\n",
        "def remove_pipe(text):\n",
        "  text=str (text)\n",
        "  text=text.replace(\"|\",\",\")\n",
        "  return text"
      ],
      "execution_count": 15,
      "outputs": []
    },
    {
      "cell_type": "code",
      "metadata": {
        "id": "VKYe54gCPu6v",
        "colab_type": "code",
        "colab": {
          "base_uri": "https://localhost:8080/",
          "height": 145
        },
        "outputId": "f51fa4eb-579c-4b75-864a-e17a2fa3320d"
      },
      "source": [
        "# Apply remove_pipe to columns title_cast and genres\n",
        "\n",
        "df['genres']=df['genres'].fillna('') #fill missing values with blanks\n",
        "df['title_cast']=df['title_cast'].fillna('') #fill missing values with blanks\n",
        "\n",
        "df['title_cast']=df['title_cast'].apply(remove_pipe) #apply remove_pipe sunction\n",
        "df['genres']=df['genres'].apply(remove_pipe)\n",
        "df.head(2)"
      ],
      "execution_count": 16,
      "outputs": [
        {
          "output_type": "execute_result",
          "data": {
            "text/html": [
              "<div>\n",
              "<style scoped>\n",
              "    .dataframe tbody tr th:only-of-type {\n",
              "        vertical-align: middle;\n",
              "    }\n",
              "\n",
              "    .dataframe tbody tr th {\n",
              "        vertical-align: top;\n",
              "    }\n",
              "\n",
              "    .dataframe thead th {\n",
              "        text-align: right;\n",
              "    }\n",
              "</style>\n",
              "<table border=\"1\" class=\"dataframe\">\n",
              "  <thead>\n",
              "    <tr style=\"text-align: right;\">\n",
              "      <th></th>\n",
              "      <th>movieId</th>\n",
              "      <th>title</th>\n",
              "      <th>genres</th>\n",
              "      <th>userId</th>\n",
              "      <th>rating</th>\n",
              "      <th>title_cast</th>\n",
              "      <th>director</th>\n",
              "    </tr>\n",
              "  </thead>\n",
              "  <tbody>\n",
              "    <tr>\n",
              "      <th>0</th>\n",
              "      <td>1</td>\n",
              "      <td>Toy Story (1995)</td>\n",
              "      <td>Adventure,Animation,Children,Comedy,Fantasy</td>\n",
              "      <td>158849.0</td>\n",
              "      <td>5.0</td>\n",
              "      <td>Tom Hanks,Tim Allen,Don Rickles,Jim Varney,Wal...</td>\n",
              "      <td>John Lasseter</td>\n",
              "    </tr>\n",
              "    <tr>\n",
              "      <th>1</th>\n",
              "      <td>1</td>\n",
              "      <td>Toy Story (1995)</td>\n",
              "      <td>Adventure,Animation,Children,Comedy,Fantasy</td>\n",
              "      <td>97203.0</td>\n",
              "      <td>5.0</td>\n",
              "      <td>Tom Hanks,Tim Allen,Don Rickles,Jim Varney,Wal...</td>\n",
              "      <td>John Lasseter</td>\n",
              "    </tr>\n",
              "  </tbody>\n",
              "</table>\n",
              "</div>"
            ],
            "text/plain": [
              "   movieId  ...       director\n",
              "0        1  ...  John Lasseter\n",
              "1        1  ...  John Lasseter\n",
              "\n",
              "[2 rows x 7 columns]"
            ]
          },
          "metadata": {
            "tags": []
          },
          "execution_count": 16
        }
      ]
    },
    {
      "cell_type": "markdown",
      "metadata": {
        "id": "lXnfpXuL1tC-",
        "colab_type": "text"
      },
      "source": [
        "Taking the df dataframe. A filtered dataframe with unique movie titles can be generated to remove duplicate movie titles due to multiple user ratings\n"
      ]
    },
    {
      "cell_type": "code",
      "metadata": {
        "id": "S7Uxij674Xqj",
        "colab_type": "code",
        "colab": {
          "base_uri": "https://localhost:8080/",
          "height": 52
        },
        "outputId": "4e9b66c9-d63b-402f-e7d1-f0e5af1b70b1"
      },
      "source": [
        "# A content column can be generated from the title_cast and genres columns\n",
        "# This column will be used to build the content recommender\n",
        "\n",
        "df['content']=df['title_cast']+' '+ df['genres']\n",
        "df['content'][0]"
      ],
      "execution_count": 17,
      "outputs": [
        {
          "output_type": "execute_result",
          "data": {
            "application/vnd.google.colaboratory.intrinsic": {
              "type": "string"
            },
            "text/plain": [
              "'Tom Hanks,Tim Allen,Don Rickles,Jim Varney,Wallace Shawn,John Ratzenberger,Annie Potts,John Morris,Erik von Detten,Laurie Metcalf,R. Lee Ermey,Sarah Freeman,Penn Jillette,Jack Angel,Spencer Aste Adventure,Animation,Children,Comedy,Fantasy'"
            ]
          },
          "metadata": {
            "tags": []
          },
          "execution_count": 17
        }
      ]
    },
    {
      "cell_type": "code",
      "metadata": {
        "id": "fCYX_wvjhCX7",
        "colab_type": "code",
        "colab": {
          "base_uri": "https://localhost:8080/",
          "height": 235
        },
        "outputId": "c01beb89-d056-48d5-f165-778530b4b59a"
      },
      "source": [
        "# A ratings dataframe can be generated from uniw\\que movie titles and their average ratings across all users\n",
        "\n",
        "ratings=df.groupby(['title'])['rating'].mean() #group by title and aggregate ratings\n",
        "ratings=pd.DataFrame(ratings)\n",
        "ratings=ratings.fillna(2) # fill missing values with generic score of 2 (40%)\n",
        "ratings['num of ratings']=df.groupby(['title'])['rating'].count() #generate a column witht the total number of ratings\n",
        "ratings.head(5)"
      ],
      "execution_count": 18,
      "outputs": [
        {
          "output_type": "execute_result",
          "data": {
            "text/html": [
              "<div>\n",
              "<style scoped>\n",
              "    .dataframe tbody tr th:only-of-type {\n",
              "        vertical-align: middle;\n",
              "    }\n",
              "\n",
              "    .dataframe tbody tr th {\n",
              "        vertical-align: top;\n",
              "    }\n",
              "\n",
              "    .dataframe thead th {\n",
              "        text-align: right;\n",
              "    }\n",
              "</style>\n",
              "<table border=\"1\" class=\"dataframe\">\n",
              "  <thead>\n",
              "    <tr style=\"text-align: right;\">\n",
              "      <th></th>\n",
              "      <th>rating</th>\n",
              "      <th>num of ratings</th>\n",
              "    </tr>\n",
              "    <tr>\n",
              "      <th>title</th>\n",
              "      <th></th>\n",
              "      <th></th>\n",
              "    </tr>\n",
              "  </thead>\n",
              "  <tbody>\n",
              "    <tr>\n",
              "      <th>\"BLOW THE NIGHT!\" Let's Spend the Night Together (1983)</th>\n",
              "      <td>3.000000</td>\n",
              "      <td>1</td>\n",
              "    </tr>\n",
              "    <tr>\n",
              "      <th>\"Great Performances\" Cats (1998)</th>\n",
              "      <td>2.753731</td>\n",
              "      <td>67</td>\n",
              "    </tr>\n",
              "    <tr>\n",
              "      <th>#1 Cheerleader Camp (2010)</th>\n",
              "      <td>1.900000</td>\n",
              "      <td>5</td>\n",
              "    </tr>\n",
              "    <tr>\n",
              "      <th>#Captured (2017)</th>\n",
              "      <td>2.000000</td>\n",
              "      <td>0</td>\n",
              "    </tr>\n",
              "    <tr>\n",
              "      <th>#Female Pleasure (2018)</th>\n",
              "      <td>4.000000</td>\n",
              "      <td>1</td>\n",
              "    </tr>\n",
              "  </tbody>\n",
              "</table>\n",
              "</div>"
            ],
            "text/plain": [
              "                                                      rating  num of ratings\n",
              "title                                                                       \n",
              "\"BLOW THE NIGHT!\" Let's Spend the Night Togethe...  3.000000               1\n",
              "\"Great Performances\" Cats (1998)                    2.753731              67\n",
              "#1 Cheerleader Camp (2010)                          1.900000               5\n",
              "#Captured (2017)                                    2.000000               0\n",
              "#Female Pleasure (2018)                             4.000000               1"
            ]
          },
          "metadata": {
            "tags": []
          },
          "execution_count": 18
        }
      ]
    },
    {
      "cell_type": "code",
      "metadata": {
        "id": "iZGdgtOahPrI",
        "colab_type": "code",
        "colab": {
          "base_uri": "https://localhost:8080/",
          "height": 235
        },
        "outputId": "f92798a4-4f54-4c02-a2bc-a32f5e623c1c"
      },
      "source": [
        "content=df.groupby(['title'])['content'].unique() #group by title and display unique values in a list\n",
        "content=pd.DataFrame(content)\n",
        "content.head(5)"
      ],
      "execution_count": 19,
      "outputs": [
        {
          "output_type": "execute_result",
          "data": {
            "text/html": [
              "<div>\n",
              "<style scoped>\n",
              "    .dataframe tbody tr th:only-of-type {\n",
              "        vertical-align: middle;\n",
              "    }\n",
              "\n",
              "    .dataframe tbody tr th {\n",
              "        vertical-align: top;\n",
              "    }\n",
              "\n",
              "    .dataframe thead th {\n",
              "        text-align: right;\n",
              "    }\n",
              "</style>\n",
              "<table border=\"1\" class=\"dataframe\">\n",
              "  <thead>\n",
              "    <tr style=\"text-align: right;\">\n",
              "      <th></th>\n",
              "      <th>content</th>\n",
              "    </tr>\n",
              "    <tr>\n",
              "      <th>title</th>\n",
              "      <th></th>\n",
              "    </tr>\n",
              "  </thead>\n",
              "  <tbody>\n",
              "    <tr>\n",
              "      <th>\"BLOW THE NIGHT!\" Let's Spend the Night Together (1983)</th>\n",
              "      <td>[ Documentary,Drama]</td>\n",
              "    </tr>\n",
              "    <tr>\n",
              "      <th>\"Great Performances\" Cats (1998)</th>\n",
              "      <td>[Elaine Paige,John Mills,Ken Page,Rosemarie Fo...</td>\n",
              "    </tr>\n",
              "    <tr>\n",
              "      <th>#1 Cheerleader Camp (2010)</th>\n",
              "      <td>[ Comedy,Drama]</td>\n",
              "    </tr>\n",
              "    <tr>\n",
              "      <th>#Captured (2017)</th>\n",
              "      <td>[ Horror]</td>\n",
              "    </tr>\n",
              "    <tr>\n",
              "      <th>#Female Pleasure (2018)</th>\n",
              "      <td>[ Documentary]</td>\n",
              "    </tr>\n",
              "  </tbody>\n",
              "</table>\n",
              "</div>"
            ],
            "text/plain": [
              "                                                                                              content\n",
              "title                                                                                                \n",
              "\"BLOW THE NIGHT!\" Let's Spend the Night Togethe...                               [ Documentary,Drama]\n",
              "\"Great Performances\" Cats (1998)                    [Elaine Paige,John Mills,Ken Page,Rosemarie Fo...\n",
              "#1 Cheerleader Camp (2010)                                                            [ Comedy,Drama]\n",
              "#Captured (2017)                                                                            [ Horror]\n",
              "#Female Pleasure (2018)                                                                [ Documentary]"
            ]
          },
          "metadata": {
            "tags": []
          },
          "execution_count": 19
        }
      ]
    },
    {
      "cell_type": "code",
      "metadata": {
        "id": "6yWdjfzUlJf1",
        "colab_type": "code",
        "colab": {
          "base_uri": "https://localhost:8080/",
          "height": 252
        },
        "outputId": "36773d4a-2c2d-4081-ec64-60dd88727be1"
      },
      "source": [
        "# Generate single dataframe\n",
        "\n",
        "movie_df=pd.merge(ratings,content,on='title') #join on index\n",
        "row,column=movie_df.shape\n",
        "print('The dataframe has {} rows (representing unique movie titles) and {} columns.'.format(row, column))\n",
        "movie_df.head(5)"
      ],
      "execution_count": 20,
      "outputs": [
        {
          "output_type": "stream",
          "text": [
            "The dataframe has 62325 rows (representing unique movie titles) and 3 columns.\n"
          ],
          "name": "stdout"
        },
        {
          "output_type": "execute_result",
          "data": {
            "text/html": [
              "<div>\n",
              "<style scoped>\n",
              "    .dataframe tbody tr th:only-of-type {\n",
              "        vertical-align: middle;\n",
              "    }\n",
              "\n",
              "    .dataframe tbody tr th {\n",
              "        vertical-align: top;\n",
              "    }\n",
              "\n",
              "    .dataframe thead th {\n",
              "        text-align: right;\n",
              "    }\n",
              "</style>\n",
              "<table border=\"1\" class=\"dataframe\">\n",
              "  <thead>\n",
              "    <tr style=\"text-align: right;\">\n",
              "      <th></th>\n",
              "      <th>rating</th>\n",
              "      <th>num of ratings</th>\n",
              "      <th>content</th>\n",
              "    </tr>\n",
              "    <tr>\n",
              "      <th>title</th>\n",
              "      <th></th>\n",
              "      <th></th>\n",
              "      <th></th>\n",
              "    </tr>\n",
              "  </thead>\n",
              "  <tbody>\n",
              "    <tr>\n",
              "      <th>\"BLOW THE NIGHT!\" Let's Spend the Night Together (1983)</th>\n",
              "      <td>3.000000</td>\n",
              "      <td>1</td>\n",
              "      <td>[ Documentary,Drama]</td>\n",
              "    </tr>\n",
              "    <tr>\n",
              "      <th>\"Great Performances\" Cats (1998)</th>\n",
              "      <td>2.753731</td>\n",
              "      <td>67</td>\n",
              "      <td>[Elaine Paige,John Mills,Ken Page,Rosemarie Fo...</td>\n",
              "    </tr>\n",
              "    <tr>\n",
              "      <th>#1 Cheerleader Camp (2010)</th>\n",
              "      <td>1.900000</td>\n",
              "      <td>5</td>\n",
              "      <td>[ Comedy,Drama]</td>\n",
              "    </tr>\n",
              "    <tr>\n",
              "      <th>#Captured (2017)</th>\n",
              "      <td>2.000000</td>\n",
              "      <td>0</td>\n",
              "      <td>[ Horror]</td>\n",
              "    </tr>\n",
              "    <tr>\n",
              "      <th>#Female Pleasure (2018)</th>\n",
              "      <td>4.000000</td>\n",
              "      <td>1</td>\n",
              "      <td>[ Documentary]</td>\n",
              "    </tr>\n",
              "  </tbody>\n",
              "</table>\n",
              "</div>"
            ],
            "text/plain": [
              "                                                      rating  ...                                            content\n",
              "title                                                         ...                                                   \n",
              "\"BLOW THE NIGHT!\" Let's Spend the Night Togethe...  3.000000  ...                               [ Documentary,Drama]\n",
              "\"Great Performances\" Cats (1998)                    2.753731  ...  [Elaine Paige,John Mills,Ken Page,Rosemarie Fo...\n",
              "#1 Cheerleader Camp (2010)                          1.900000  ...                                    [ Comedy,Drama]\n",
              "#Captured (2017)                                    2.000000  ...                                          [ Horror]\n",
              "#Female Pleasure (2018)                             4.000000  ...                                     [ Documentary]\n",
              "\n",
              "[5 rows x 3 columns]"
            ]
          },
          "metadata": {
            "tags": []
          },
          "execution_count": 20
        }
      ]
    },
    {
      "cell_type": "code",
      "metadata": {
        "id": "U0tAWsgAXT-F",
        "colab_type": "code",
        "colab": {
          "base_uri": "https://localhost:8080/",
          "height": 235
        },
        "outputId": "afd35d94-7467-4426-fd30-44224278b972"
      },
      "source": [
        "# Sort move_df from highest to lowest num of ratings\n",
        "\n",
        "movie_df=movie_df.sort_values('num of ratings',ascending=False)\n",
        "movie_df.head(5)"
      ],
      "execution_count": 21,
      "outputs": [
        {
          "output_type": "execute_result",
          "data": {
            "text/html": [
              "<div>\n",
              "<style scoped>\n",
              "    .dataframe tbody tr th:only-of-type {\n",
              "        vertical-align: middle;\n",
              "    }\n",
              "\n",
              "    .dataframe tbody tr th {\n",
              "        vertical-align: top;\n",
              "    }\n",
              "\n",
              "    .dataframe thead th {\n",
              "        text-align: right;\n",
              "    }\n",
              "</style>\n",
              "<table border=\"1\" class=\"dataframe\">\n",
              "  <thead>\n",
              "    <tr style=\"text-align: right;\">\n",
              "      <th></th>\n",
              "      <th>rating</th>\n",
              "      <th>num of ratings</th>\n",
              "      <th>content</th>\n",
              "    </tr>\n",
              "    <tr>\n",
              "      <th>title</th>\n",
              "      <th></th>\n",
              "      <th></th>\n",
              "      <th></th>\n",
              "    </tr>\n",
              "  </thead>\n",
              "  <tbody>\n",
              "    <tr>\n",
              "      <th>Shawshank Redemption, The (1994)</th>\n",
              "      <td>4.417624</td>\n",
              "      <td>32831</td>\n",
              "      <td>[Tim Robbins,Morgan Freeman,Bob Gunton,William...</td>\n",
              "    </tr>\n",
              "    <tr>\n",
              "      <th>Forrest Gump (1994)</th>\n",
              "      <td>4.047216</td>\n",
              "      <td>32383</td>\n",
              "      <td>[Tom Hanks,Rebecca Williams,Sally Field,Michae...</td>\n",
              "    </tr>\n",
              "    <tr>\n",
              "      <th>Pulp Fiction (1994)</th>\n",
              "      <td>4.195097</td>\n",
              "      <td>31697</td>\n",
              "      <td>[Tim Roth,Amanda Plummer,Laura Lovelace,John T...</td>\n",
              "    </tr>\n",
              "    <tr>\n",
              "      <th>Silence of the Lambs, The (1991)</th>\n",
              "      <td>4.144172</td>\n",
              "      <td>29444</td>\n",
              "      <td>[Jodie Foster,Lawrence A. Bonney,Kasi Lemmons,...</td>\n",
              "    </tr>\n",
              "    <tr>\n",
              "      <th>Matrix, The (1999)</th>\n",
              "      <td>4.154253</td>\n",
              "      <td>29014</td>\n",
              "      <td>[Keanu Reeves,Laurence Fishburne,Carrie-Anne M...</td>\n",
              "    </tr>\n",
              "  </tbody>\n",
              "</table>\n",
              "</div>"
            ],
            "text/plain": [
              "                                    rating  ...                                            content\n",
              "title                                       ...                                                   \n",
              "Shawshank Redemption, The (1994)  4.417624  ...  [Tim Robbins,Morgan Freeman,Bob Gunton,William...\n",
              "Forrest Gump (1994)               4.047216  ...  [Tom Hanks,Rebecca Williams,Sally Field,Michae...\n",
              "Pulp Fiction (1994)               4.195097  ...  [Tim Roth,Amanda Plummer,Laura Lovelace,John T...\n",
              "Silence of the Lambs, The (1991)  4.144172  ...  [Jodie Foster,Lawrence A. Bonney,Kasi Lemmons,...\n",
              "Matrix, The (1999)                4.154253  ...  [Keanu Reeves,Laurence Fishburne,Carrie-Anne M...\n",
              "\n",
              "[5 rows x 3 columns]"
            ]
          },
          "metadata": {
            "tags": []
          },
          "execution_count": 21
        }
      ]
    },
    {
      "cell_type": "code",
      "metadata": {
        "id": "zRgNiWJQpk9c",
        "colab_type": "code",
        "colab": {}
      },
      "source": [
        "# Function will remove items from lists into strings\n",
        "\n",
        "def string(input):\n",
        "  string=' '\n",
        "  for i in input:\n",
        "    string=string+str (i)\n",
        "  return string"
      ],
      "execution_count": 22,
      "outputs": []
    },
    {
      "cell_type": "code",
      "metadata": {
        "id": "sWtIanbnqExP",
        "colab_type": "code",
        "colab": {
          "base_uri": "https://localhost:8080/",
          "height": 69
        },
        "outputId": "38cc8af1-14a2-415d-9378-6e3a3bd4fc21"
      },
      "source": [
        "# Generate strings from lists\n",
        "\n",
        "movie_df['content']=movie_df['content'].apply(string) #generate strings\n",
        "movie_df['content'][1]"
      ],
      "execution_count": 23,
      "outputs": [
        {
          "output_type": "execute_result",
          "data": {
            "application/vnd.google.colaboratory.intrinsic": {
              "type": "string"
            },
            "text/plain": [
              "' Tom Hanks,Rebecca Williams,Sally Field,Michael Conner Humphreys,Harold G. Herthum,George Kelly,Bob Penny,John Randall,Sam Anderson,Margo Moorer,Ione M. Telech,Christine Seabrook,John Worsham,Peter Dobson,Siobhan Fallon Hogan Comedy,Drama,Romance,War'"
            ]
          },
          "metadata": {
            "tags": []
          },
          "execution_count": 23
        }
      ]
    },
    {
      "cell_type": "markdown",
      "metadata": {
        "id": "o8-RudeBFJbF",
        "colab_type": "text"
      },
      "source": [
        "The movie_df dataframe is the base from which the recommender is built. The content column will be the feature used, which will be vectorized and converted to a similarity matrix mxm\n"
      ]
    },
    {
      "cell_type": "code",
      "metadata": {
        "id": "V6xXVCn-rqNq",
        "colab_type": "code",
        "colab": {}
      },
      "source": [
        "# A subset of the movies will be used. The greater the subset, the more memory is committed\n",
        "# The cosine similiarity size is proportional to feature size\n",
        "#First 200000 movies are selected\n",
        "\n",
        "feature=movie_df['content'][0:20000]"
      ],
      "execution_count": 24,
      "outputs": []
    },
    {
      "cell_type": "code",
      "metadata": {
        "id": "ethpy3t-fIpw",
        "colab_type": "code",
        "colab": {}
      },
      "source": [
        "# Set up vectorizer\n",
        "\n",
        "vec=TfidfVectorizer(stop_words='english') # term frequency inverse document frequency"
      ],
      "execution_count": 25,
      "outputs": []
    },
    {
      "cell_type": "code",
      "metadata": {
        "id": "gCqQBtkfmVn4",
        "colab_type": "code",
        "colab": {
          "base_uri": "https://localhost:8080/",
          "height": 34
        },
        "outputId": "240db7a4-08c8-4148-a17d-911b6b25ef9b"
      },
      "source": [
        "# Vectorize combined column\n",
        "\n",
        "feature_vec=vec.fit_transform(feature)\n",
        "shape,column=feature_vec.shape\n",
        "print('feature_vec is a sparse matrix with {} rows (representing unique movie titles) and {} columns.'.format(row, column))"
      ],
      "execution_count": 26,
      "outputs": [
        {
          "output_type": "stream",
          "text": [
            "feature_vec is a sparse matrix with 62325 rows (representing unique movie titles) and 51902 columns.\n"
          ],
          "name": "stdout"
        }
      ]
    },
    {
      "cell_type": "markdown",
      "metadata": {
        "id": "D7CeLqS8H2OJ",
        "colab_type": "text"
      },
      "source": [
        "The cosine similarity will be used to determine how similar two entities are based off the angle between their two vectors formed. The closer a value is to 1, to higher the similarity"
      ]
    },
    {
      "cell_type": "markdown",
      "metadata": {
        "id": "OlQFKdAkIyCH",
        "colab_type": "text"
      },
      "source": [
        "The cosine similarity is formed from the dot product of the feature_vec matrix and its transpose divided by the product of their  magniudes."
      ]
    },
    {
      "cell_type": "code",
      "metadata": {
        "id": "KQ1fslSpnGeC",
        "colab_type": "code",
        "colab": {
          "base_uri": "https://localhost:8080/",
          "height": 34
        },
        "outputId": "bdc89db1-997d-4b40-dd87-17b2dd1c77ff"
      },
      "source": [
        "# Use cosine similarity to get similarity matrix\n",
        "\n",
        "sim_matrix =cosine_similarity(feature_vec,feature_vec)\n",
        "row,column=sim_matrix.shape\n",
        "print('The sim_mat matrix has {} rows and {} columns.'.format(row, column))"
      ],
      "execution_count": 27,
      "outputs": [
        {
          "output_type": "stream",
          "text": [
            "The sim_mat matrix has 20000 rows and 20000 columns.\n"
          ],
          "name": "stdout"
        }
      ]
    },
    {
      "cell_type": "code",
      "metadata": {
        "id": "gbLHxmWGsjPx",
        "colab_type": "code",
        "colab": {}
      },
      "source": [
        "del imdb\n",
        "del movies"
      ],
      "execution_count": 28,
      "outputs": []
    },
    {
      "cell_type": "code",
      "metadata": {
        "id": "hKynMG0ywGnK",
        "colab_type": "code",
        "colab": {
          "base_uri": "https://localhost:8080/",
          "height": 204
        },
        "outputId": "38ddb84c-ac97-4680-896a-e13e9f9ee9c7"
      },
      "source": [
        "# Double check\n",
        "# Reset the move_df index as it will be used to generate a Series that will map sim_mat\n",
        "\n",
        "movie_df=movie_df.reset_index()\n",
        "movie_df.head(5)"
      ],
      "execution_count": 29,
      "outputs": [
        {
          "output_type": "execute_result",
          "data": {
            "text/html": [
              "<div>\n",
              "<style scoped>\n",
              "    .dataframe tbody tr th:only-of-type {\n",
              "        vertical-align: middle;\n",
              "    }\n",
              "\n",
              "    .dataframe tbody tr th {\n",
              "        vertical-align: top;\n",
              "    }\n",
              "\n",
              "    .dataframe thead th {\n",
              "        text-align: right;\n",
              "    }\n",
              "</style>\n",
              "<table border=\"1\" class=\"dataframe\">\n",
              "  <thead>\n",
              "    <tr style=\"text-align: right;\">\n",
              "      <th></th>\n",
              "      <th>title</th>\n",
              "      <th>rating</th>\n",
              "      <th>num of ratings</th>\n",
              "      <th>content</th>\n",
              "    </tr>\n",
              "  </thead>\n",
              "  <tbody>\n",
              "    <tr>\n",
              "      <th>0</th>\n",
              "      <td>Shawshank Redemption, The (1994)</td>\n",
              "      <td>4.417624</td>\n",
              "      <td>32831</td>\n",
              "      <td>Tim Robbins,Morgan Freeman,Bob Gunton,William...</td>\n",
              "    </tr>\n",
              "    <tr>\n",
              "      <th>1</th>\n",
              "      <td>Forrest Gump (1994)</td>\n",
              "      <td>4.047216</td>\n",
              "      <td>32383</td>\n",
              "      <td>Tom Hanks,Rebecca Williams,Sally Field,Michae...</td>\n",
              "    </tr>\n",
              "    <tr>\n",
              "      <th>2</th>\n",
              "      <td>Pulp Fiction (1994)</td>\n",
              "      <td>4.195097</td>\n",
              "      <td>31697</td>\n",
              "      <td>Tim Roth,Amanda Plummer,Laura Lovelace,John T...</td>\n",
              "    </tr>\n",
              "    <tr>\n",
              "      <th>3</th>\n",
              "      <td>Silence of the Lambs, The (1991)</td>\n",
              "      <td>4.144172</td>\n",
              "      <td>29444</td>\n",
              "      <td>Jodie Foster,Lawrence A. Bonney,Kasi Lemmons,...</td>\n",
              "    </tr>\n",
              "    <tr>\n",
              "      <th>4</th>\n",
              "      <td>Matrix, The (1999)</td>\n",
              "      <td>4.154253</td>\n",
              "      <td>29014</td>\n",
              "      <td>Keanu Reeves,Laurence Fishburne,Carrie-Anne M...</td>\n",
              "    </tr>\n",
              "  </tbody>\n",
              "</table>\n",
              "</div>"
            ],
            "text/plain": [
              "                              title  ...                                            content\n",
              "0  Shawshank Redemption, The (1994)  ...   Tim Robbins,Morgan Freeman,Bob Gunton,William...\n",
              "1               Forrest Gump (1994)  ...   Tom Hanks,Rebecca Williams,Sally Field,Michae...\n",
              "2               Pulp Fiction (1994)  ...   Tim Roth,Amanda Plummer,Laura Lovelace,John T...\n",
              "3  Silence of the Lambs, The (1991)  ...   Jodie Foster,Lawrence A. Bonney,Kasi Lemmons,...\n",
              "4                Matrix, The (1999)  ...   Keanu Reeves,Laurence Fishburne,Carrie-Anne M...\n",
              "\n",
              "[5 rows x 4 columns]"
            ]
          },
          "metadata": {
            "tags": []
          },
          "execution_count": 29
        }
      ]
    },
    {
      "cell_type": "code",
      "metadata": {
        "id": "iO1DU5fBnbAO",
        "colab_type": "code",
        "colab": {
          "base_uri": "https://localhost:8080/",
          "height": 238
        },
        "outputId": "d34df4e6-203d-4156-96ee-9e5c2e5e4622"
      },
      "source": [
        "# Index mapping\n",
        "\n",
        "index_map = pd.Series(movie_df.index,index = movie_df['title']) # contains a series of the movie titles in movie_df\n",
        "index_map"
      ],
      "execution_count": 30,
      "outputs": [
        {
          "output_type": "execute_result",
          "data": {
            "text/plain": [
              "title\n",
              "Shawshank Redemption, The (1994)        0\n",
              "Forrest Gump (1994)                     1\n",
              "Pulp Fiction (1994)                     2\n",
              "Silence of the Lambs, The (1991)        3\n",
              "Matrix, The (1999)                      4\n",
              "                                    ...  \n",
              "Montana Trap (1976)                 62320\n",
              "The Karate Dog (2004)               62321\n",
              "Monte Cristo (1922)                 62322\n",
              "The Karen Carpenter Story (1989)    62323\n",
              "The Head Of The Family (1967)       62324\n",
              "Length: 62325, dtype: int64"
            ]
          },
          "metadata": {
            "tags": []
          },
          "execution_count": 30
        }
      ]
    },
    {
      "cell_type": "code",
      "metadata": {
        "id": "ADUO2y6_6F9d",
        "colab_type": "code",
        "colab": {}
      },
      "source": [
        "# Function takes in a movie title as an input and returns 10 movie title recommendations\n",
        "\n",
        "def recommendation(title):\n",
        "\n",
        "  index = index_map[title] # returns the index of the argument title in index_map\n",
        "\n",
        "  similarity = list(enumerate(sim_matrix[index])) # returns a list of with index and similarity\n",
        "\n",
        "  similarity = sorted(similarity, key=lambda x: x[1], reverse=True) # sorts list in descending order\n",
        "\n",
        "  similarity = similarity[1:11] # top 10 recommendations\n",
        "\n",
        "  #return movie names using the mapping series\n",
        "\n",
        "  movie_indices = [i[0] for i in similarity] # obtain indices for recommended movies\n",
        "\n",
        "  return (movie_df['title'].iloc[movie_indices]) # filter movie_df for titles"
      ],
      "execution_count": 31,
      "outputs": []
    },
    {
      "cell_type": "markdown",
      "metadata": {
        "id": "MEmfZYR1PVvM",
        "colab_type": "text"
      },
      "source": [
        "Using the animated movie Aladin from 1992. The recommender returns viewing options consisting of animated movies such as  Moana, Minions and Dragons: Dawn Of The Dragon Racers."
      ]
    },
    {
      "cell_type": "code",
      "metadata": {
        "id": "d0ZHtK3a7ClF",
        "colab_type": "code",
        "colab": {
          "base_uri": "https://localhost:8080/",
          "height": 187
        },
        "outputId": "a5113820-a99d-4309-d318-e2ca1b86ac0e"
      },
      "source": [
        "# Lets search for recommendations based off Aladdin\n",
        "\n",
        "recommendations=recommendation('Aladdin (1992)')\n",
        "recommend_list=list(recommendations)\n",
        "recommend_list"
      ],
      "execution_count": 32,
      "outputs": [
        {
          "output_type": "execute_result",
          "data": {
            "text/plain": [
              "['Moana (2016)',\n",
              " 'The Good Dinosaur (2015)',\n",
              " 'DuckTales: The Movie - Treasure of the Lost Lamp (1990)',\n",
              " 'Missing Link (2019)',\n",
              " \"Olaf's Frozen Adventure (2017)\",\n",
              " 'Wonder Park (2019)',\n",
              " 'Dragons: Dawn Of The Dragon Racers (2014)',\n",
              " 'UglyDolls (2019)',\n",
              " 'American Tail, An (1986)',\n",
              " 'Minions (2015)']"
            ]
          },
          "metadata": {
            "tags": []
          },
          "execution_count": 32
        }
      ]
    },
    {
      "cell_type": "markdown",
      "metadata": {
        "id": "3knilGVmQdLw",
        "colab_type": "text"
      },
      "source": [
        "Retrying the recommender with a different genre of movie, this time with the 1995 action classic Bad Boys.This returns the sequel Bad Boys II, Another 48 Hrs and Beverly Hills Cop II which are cop action movies. In addition, the stand up special Martin Lawrence: You So Crazy is recommended since Martin Lawrence starred in Bad Boys"
      ]
    },
    {
      "cell_type": "code",
      "metadata": {
        "id": "GJkUb4vcQbSW",
        "colab_type": "code",
        "colab": {
          "base_uri": "https://localhost:8080/",
          "height": 187
        },
        "outputId": "309678d8-ac60-4120-83bd-464ee3e1fd34"
      },
      "source": [
        "recommendations=recommendation('Bad Boys (1995)')\n",
        "recommend_list=list(recommendations)\n",
        "recommend_list"
      ],
      "execution_count": 33,
      "outputs": [
        {
          "output_type": "execute_result",
          "data": {
            "text/plain": [
              "['Spawn (1997)',\n",
              " 'Martin Lawrence: You So Crazy (1994)',\n",
              " 'Bad Boys II (2003)',\n",
              " 'Another 48 Hrs. (1990)',\n",
              " 'Midnight Run (1988)',\n",
              " 'Beverly Hills Cop II (1987)',\n",
              " 'Kindergarten Cop (1990)',\n",
              " 'Tango & Cash (1989)',\n",
              " \"Ocean's 8 (2018)\",\n",
              " 'Action Jackson (1988)']"
            ]
          },
          "metadata": {
            "tags": []
          },
          "execution_count": 33
        }
      ]
    },
    {
      "cell_type": "markdown",
      "metadata": {
        "id": "RuWhpN-rUjP5",
        "colab_type": "text"
      },
      "source": [
        "In addtion. We could try predict what a user would rate the movie watched based off the movies recommended and their average ratings given by other user/viewers.\n"
      ]
    },
    {
      "cell_type": "code",
      "metadata": {
        "id": "q5SFIIFDyjv3",
        "colab_type": "code",
        "colab": {
          "base_uri": "https://localhost:8080/",
          "height": 235
        },
        "outputId": "61e3b156-05c3-4521-b680-1da950549cff"
      },
      "source": [
        "# Set the title column back to the index for movie_df\n",
        "ave_rating_df=movie_df.copy()\n",
        "ave_rating_df.set_index('title',inplace=True)\n",
        "ave_rating_df.head(5)"
      ],
      "execution_count": 34,
      "outputs": [
        {
          "output_type": "execute_result",
          "data": {
            "text/html": [
              "<div>\n",
              "<style scoped>\n",
              "    .dataframe tbody tr th:only-of-type {\n",
              "        vertical-align: middle;\n",
              "    }\n",
              "\n",
              "    .dataframe tbody tr th {\n",
              "        vertical-align: top;\n",
              "    }\n",
              "\n",
              "    .dataframe thead th {\n",
              "        text-align: right;\n",
              "    }\n",
              "</style>\n",
              "<table border=\"1\" class=\"dataframe\">\n",
              "  <thead>\n",
              "    <tr style=\"text-align: right;\">\n",
              "      <th></th>\n",
              "      <th>rating</th>\n",
              "      <th>num of ratings</th>\n",
              "      <th>content</th>\n",
              "    </tr>\n",
              "    <tr>\n",
              "      <th>title</th>\n",
              "      <th></th>\n",
              "      <th></th>\n",
              "      <th></th>\n",
              "    </tr>\n",
              "  </thead>\n",
              "  <tbody>\n",
              "    <tr>\n",
              "      <th>Shawshank Redemption, The (1994)</th>\n",
              "      <td>4.417624</td>\n",
              "      <td>32831</td>\n",
              "      <td>Tim Robbins,Morgan Freeman,Bob Gunton,William...</td>\n",
              "    </tr>\n",
              "    <tr>\n",
              "      <th>Forrest Gump (1994)</th>\n",
              "      <td>4.047216</td>\n",
              "      <td>32383</td>\n",
              "      <td>Tom Hanks,Rebecca Williams,Sally Field,Michae...</td>\n",
              "    </tr>\n",
              "    <tr>\n",
              "      <th>Pulp Fiction (1994)</th>\n",
              "      <td>4.195097</td>\n",
              "      <td>31697</td>\n",
              "      <td>Tim Roth,Amanda Plummer,Laura Lovelace,John T...</td>\n",
              "    </tr>\n",
              "    <tr>\n",
              "      <th>Silence of the Lambs, The (1991)</th>\n",
              "      <td>4.144172</td>\n",
              "      <td>29444</td>\n",
              "      <td>Jodie Foster,Lawrence A. Bonney,Kasi Lemmons,...</td>\n",
              "    </tr>\n",
              "    <tr>\n",
              "      <th>Matrix, The (1999)</th>\n",
              "      <td>4.154253</td>\n",
              "      <td>29014</td>\n",
              "      <td>Keanu Reeves,Laurence Fishburne,Carrie-Anne M...</td>\n",
              "    </tr>\n",
              "  </tbody>\n",
              "</table>\n",
              "</div>"
            ],
            "text/plain": [
              "                                    rating  ...                                            content\n",
              "title                                       ...                                                   \n",
              "Shawshank Redemption, The (1994)  4.417624  ...   Tim Robbins,Morgan Freeman,Bob Gunton,William...\n",
              "Forrest Gump (1994)               4.047216  ...   Tom Hanks,Rebecca Williams,Sally Field,Michae...\n",
              "Pulp Fiction (1994)               4.195097  ...   Tim Roth,Amanda Plummer,Laura Lovelace,John T...\n",
              "Silence of the Lambs, The (1991)  4.144172  ...   Jodie Foster,Lawrence A. Bonney,Kasi Lemmons,...\n",
              "Matrix, The (1999)                4.154253  ...   Keanu Reeves,Laurence Fishburne,Carrie-Anne M...\n",
              "\n",
              "[5 rows x 3 columns]"
            ]
          },
          "metadata": {
            "tags": []
          },
          "execution_count": 34
        }
      ]
    },
    {
      "cell_type": "code",
      "metadata": {
        "id": "CiqN-2pP9B00",
        "colab_type": "code",
        "colab": {}
      },
      "source": [
        "# Function will take in a list of movies, and return a combined average for all movies\n",
        "\n",
        "def ave_rating(input):\n",
        "  \n",
        "  score=[ave_rating_df.loc[i][0] for i in input]\n",
        "\n",
        "  return round([sum(score)/len(score)  for i in score][0],1)"
      ],
      "execution_count": 35,
      "outputs": []
    },
    {
      "cell_type": "markdown",
      "metadata": {
        "id": "1z0RMGK7VZZ8",
        "colab_type": "text"
      },
      "source": [
        "In the case for the movie Bad Boys. It can be predicted that the user would give a rating close to the outpuit of the ave_rating function"
      ]
    },
    {
      "cell_type": "code",
      "metadata": {
        "id": "p9XZgqEK9dqf",
        "colab_type": "code",
        "colab": {
          "base_uri": "https://localhost:8080/",
          "height": 34
        },
        "outputId": "674c4ff1-d390-41da-812d-7c4aa996635a"
      },
      "source": [
        "ave_rating(recommend_list)"
      ],
      "execution_count": 37,
      "outputs": [
        {
          "output_type": "execute_result",
          "data": {
            "text/plain": [
              "2.9"
            ]
          },
          "metadata": {
            "tags": []
          },
          "execution_count": 37
        }
      ]
    }
  ]
}