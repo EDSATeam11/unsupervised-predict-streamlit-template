{
  "cells": [
    {
      "cell_type": "markdown",
      "metadata": {
        "id": "view-in-github",
        "colab_type": "text"
      },
      "source": [
        "<a href=\"https://colab.research.google.com/github/monicafar147/unsupervised-predict-streamlit-template/blob/eda/main.ipynb\" target=\"_parent\"><img src=\"https://colab.research.google.com/assets/colab-badge.svg\" alt=\"Open In Colab\"/></a>"
      ]
    },
    {
      "cell_type": "markdown",
      "metadata": {
        "id": "n5VmKTRAaSUB",
        "colab_type": "text"
      },
      "source": [
        "# EDSA Movie Recommendation Challenge"
      ]
    },
    {
      "cell_type": "markdown",
      "metadata": {
        "id": "NjRjQUdXLFsq",
        "colab_type": "text"
      },
      "source": [
        "This notebook was created to enter the private kaggle competition of EDSA on creating a movie recommendation predictor.\n",
        "\n",
        "In today’s technology driven world, recommender systems are socially and economically critical for ensuring that individuals can make appropriate choices surrounding the content they engage with on a daily basis.\n",
        "\n",
        "One application where this is especially true surrounds movie content recommendations; where intelligent algorithms can help viewers find great titles from tens of thousands of options.\n",
        "\n",
        "This notebook will construct a recommendation algorithm based on content or collaborative filtering in order to accurately predict how a user will rate a movie they have not yet viewed based on their historical preferences.\n",
        "\n",
        "Providing an accurate and robust solution to this challenge has immense economic potential, with users of the system being exposed to content they would like to view or purchase generating revenue and platform affinity."
      ]
    },
    {
      "cell_type": "markdown",
      "metadata": {
        "id": "7eGRs20waqtn",
        "colab_type": "text"
      },
      "source": [
        "# Imports"
      ]
    },
    {
      "cell_type": "markdown",
      "metadata": {
        "id": "2XQBQron13Op",
        "colab_type": "text"
      },
      "source": [
        "## Launching Comet Experiment"
      ]
    },
    {
      "cell_type": "code",
      "metadata": {
        "id": "nnZCqWpcLVl_",
        "colab_type": "code",
        "colab": {}
      },
      "source": [
        "#pip install comet_ml"
      ],
      "execution_count": null,
      "outputs": []
    },
    {
      "cell_type": "code",
      "metadata": {
        "id": "SBdkuACt13Oq",
        "colab_type": "code",
        "colab": {
          "base_uri": "https://localhost:8080/",
          "height": 52
        },
        "outputId": "a327f8e5-626d-440c-f7ac-11bad712b7ce"
      },
      "source": [
        "# import comet_ml in the top of your file\n",
        "from comet_ml import Experiment\n",
        "    \n",
        "# Add the following code anywhere in your machine learning file\n",
        "experiment = Experiment(api_key=\"cFwBSBV5CDhaL3B3LHdwF7O3M\",\n",
        "                        project_name=\"recommender-systems\", workspace=\"jonnybegreat\")"
      ],
      "execution_count": 4,
      "outputs": [
        {
          "output_type": "stream",
          "text": [
            "COMET INFO: Experiment is live on comet.ml https://www.comet.ml/jonnybegreat/recommender-systems/193f9d063d4c462291106e21f0dc241d\n",
            "\n"
          ],
          "name": "stderr"
        }
      ]
    },
    {
      "cell_type": "markdown",
      "metadata": {
        "id": "wTOSQ0jGaxx5",
        "colab_type": "text"
      },
      "source": [
        "## Importing modules"
      ]
    },
    {
      "cell_type": "code",
      "metadata": {
        "id": "WV2VWFeZLfnu",
        "colab_type": "code",
        "colab": {}
      },
      "source": [
        "#pip install surprise"
      ],
      "execution_count": null,
      "outputs": []
    },
    {
      "cell_type": "code",
      "metadata": {
        "id": "2QWlsf8Tasgq",
        "colab_type": "code",
        "colab": {}
      },
      "source": [
        "# Import essential packages\n",
        "import pandas as pd\n",
        "import numpy as np\n",
        "\n",
        "# Import surprise packages\n",
        "from surprise import BaselineOnly\n",
        "from surprise import Dataset\n",
        "from surprise import Reader\n",
        "from surprise.model_selection import cross_validate\n",
        "\n",
        "# Import models\n",
        "from surprise import NormalPredictor\n",
        "from surprise import KNNBasic\n",
        "from surprise import SVD\n",
        "from surprise.model_selection import GridSearchCV\n",
        "\n",
        "# Import utilities\n",
        "import os"
      ],
      "execution_count": 1,
      "outputs": []
    },
    {
      "cell_type": "markdown",
      "metadata": {
        "id": "8ZT8hjega1z0",
        "colab_type": "text"
      },
      "source": [
        "## Importing the raw data"
      ]
    },
    {
      "cell_type": "code",
      "metadata": {
        "id": "5JoU3UNKZJb9",
        "colab_type": "code",
        "colab": {
          "base_uri": "https://localhost:8080/",
          "height": 34
        },
        "outputId": "ff929642-e330-475d-9845-559584d5f6f7"
      },
      "source": [
        "imdb = pd.read_csv('imdb_data.csv')\n",
        "train = pd.read_csv('train.csv')\n",
        "movies = pd.read_csv('movies.csv')\n",
        "g_tags = pd.read_csv('genome_tags.csv')\n",
        "g_scores = pd.read_csv('genome_scores.csv')\n",
        "tags = pd.read_csv('tags.csv')\n",
        "print('Data Successfully imported!')"
      ],
      "execution_count": 2,
      "outputs": [
        {
          "output_type": "stream",
          "text": [
            "Data Successfully imported!\n"
          ],
          "name": "stdout"
        }
      ]
    },
    {
      "cell_type": "code",
      "metadata": {
        "id": "LjEB_1mAZnih",
        "colab_type": "code",
        "colab": {
          "base_uri": "https://localhost:8080/",
          "height": 202
        },
        "outputId": "f0b2a671-019a-419e-a355-258bea54c78d"
      },
      "source": [
        "# Importing train and test datasets\n",
        "ratings_df = pd.read_csv('train.csv').drop(columns=['timestamp'],axis=0)\n",
        "test_df = pd.read_csv('test.csv')\n",
        "ratings_df.head()"
      ],
      "execution_count": 4,
      "outputs": [
        {
          "output_type": "execute_result",
          "data": {
            "text/html": [
              "<div>\n",
              "<style scoped>\n",
              "    .dataframe tbody tr th:only-of-type {\n",
              "        vertical-align: middle;\n",
              "    }\n",
              "\n",
              "    .dataframe tbody tr th {\n",
              "        vertical-align: top;\n",
              "    }\n",
              "\n",
              "    .dataframe thead th {\n",
              "        text-align: right;\n",
              "    }\n",
              "</style>\n",
              "<table border=\"1\" class=\"dataframe\">\n",
              "  <thead>\n",
              "    <tr style=\"text-align: right;\">\n",
              "      <th></th>\n",
              "      <th>userId</th>\n",
              "      <th>movieId</th>\n",
              "      <th>rating</th>\n",
              "    </tr>\n",
              "  </thead>\n",
              "  <tbody>\n",
              "    <tr>\n",
              "      <th>0</th>\n",
              "      <td>5163</td>\n",
              "      <td>57669.0</td>\n",
              "      <td>4.0</td>\n",
              "    </tr>\n",
              "    <tr>\n",
              "      <th>1</th>\n",
              "      <td>106343</td>\n",
              "      <td>5.0</td>\n",
              "      <td>4.5</td>\n",
              "    </tr>\n",
              "    <tr>\n",
              "      <th>2</th>\n",
              "      <td>146790</td>\n",
              "      <td>5459.0</td>\n",
              "      <td>5.0</td>\n",
              "    </tr>\n",
              "    <tr>\n",
              "      <th>3</th>\n",
              "      <td>106362</td>\n",
              "      <td>32296.0</td>\n",
              "      <td>2.0</td>\n",
              "    </tr>\n",
              "    <tr>\n",
              "      <th>4</th>\n",
              "      <td>9041</td>\n",
              "      <td>366.0</td>\n",
              "      <td>3.0</td>\n",
              "    </tr>\n",
              "  </tbody>\n",
              "</table>\n",
              "</div>"
            ],
            "text/plain": [
              "   userId  movieId  rating\n",
              "0    5163  57669.0     4.0\n",
              "1  106343      5.0     4.5\n",
              "2  146790   5459.0     5.0\n",
              "3  106362  32296.0     2.0\n",
              "4    9041    366.0     3.0"
            ]
          },
          "metadata": {
            "tags": []
          },
          "execution_count": 4
        }
      ]
    },
    {
      "cell_type": "markdown",
      "metadata": {
        "id": "LiYey3zfZwDZ",
        "colab_type": "text"
      },
      "source": [
        "Due to the size of the data only a subset of the data was selected."
      ]
    },
    {
      "cell_type": "code",
      "metadata": {
        "id": "zbeB5rN0Z28t",
        "colab_type": "code",
        "colab": {}
      },
      "source": [
        "# Subset of test data\n",
        "test_df_subset = test_df[:1000]"
      ],
      "execution_count": 5,
      "outputs": []
    },
    {
      "cell_type": "markdown",
      "metadata": {
        "id": "Yi8Rj2X9dHG8",
        "colab_type": "text"
      },
      "source": [
        "#EDA"
      ]
    },
    {
      "cell_type": "markdown",
      "metadata": {
        "id": "Y_jbQsjyD0By",
        "colab_type": "text"
      },
      "source": [
        "##What information is available in the data?\n",
        "The dataset consists of 9 951 829 ratings (5 star based) obtained from users using the online MovieLens movie recommendation service. The MovieLens dataset has long been used by industry and academic researchers to improve the performance of explicitly-based recommender systems.\n",
        "\n",
        "- genome_scores.csv - a score mapping the strength between movies and tag-related properties\n",
        "- genome_tags.csv - user assigned tags for genome-related scores\n",
        "imdb_data.csv - Additional movie metadata scraped from IMDB using the links.csv file.\n",
        "- links.csv - File providing a mapping between a MovieLens ID and associated IMDB and TMDB IDs.\n",
        "- tags.csv - User assigned for the movies within the dataset.\n",
        "- test.csv - The test split of the dataset. Contains user and movie IDs with no rating data.\n",
        "- train.csv - The training split of the dataset. Contains user and movie IDs with associated rating data."
      ]
    },
    {
      "cell_type": "code",
      "metadata": {
        "id": "vu8iXaYxTbC4",
        "colab_type": "code",
        "colab": {
          "base_uri": "https://localhost:8080/",
          "height": 80
        },
        "outputId": "c48ca4d3-6fab-4cff-c9a6-8f000a1f798c"
      },
      "source": [
        "g_scores.head(1)"
      ],
      "execution_count": 3,
      "outputs": [
        {
          "output_type": "execute_result",
          "data": {
            "text/html": [
              "<div>\n",
              "<style scoped>\n",
              "    .dataframe tbody tr th:only-of-type {\n",
              "        vertical-align: middle;\n",
              "    }\n",
              "\n",
              "    .dataframe tbody tr th {\n",
              "        vertical-align: top;\n",
              "    }\n",
              "\n",
              "    .dataframe thead th {\n",
              "        text-align: right;\n",
              "    }\n",
              "</style>\n",
              "<table border=\"1\" class=\"dataframe\">\n",
              "  <thead>\n",
              "    <tr style=\"text-align: right;\">\n",
              "      <th></th>\n",
              "      <th>movieId</th>\n",
              "      <th>tagId</th>\n",
              "      <th>relevance</th>\n",
              "    </tr>\n",
              "  </thead>\n",
              "  <tbody>\n",
              "    <tr>\n",
              "      <th>0</th>\n",
              "      <td>1</td>\n",
              "      <td>1</td>\n",
              "      <td>0.02875</td>\n",
              "    </tr>\n",
              "  </tbody>\n",
              "</table>\n",
              "</div>"
            ],
            "text/plain": [
              "   movieId  tagId  relevance\n",
              "0        1      1    0.02875"
            ]
          },
          "metadata": {
            "tags": []
          },
          "execution_count": 3
        }
      ]
    },
    {
      "cell_type": "code",
      "metadata": {
        "id": "tTPYSm4GTWOL",
        "colab_type": "code",
        "colab": {
          "base_uri": "https://localhost:8080/",
          "height": 80
        },
        "outputId": "c8396e2c-cf65-4e86-e50e-8668fc6af5cd"
      },
      "source": [
        "g_tags.head(1)"
      ],
      "execution_count": 17,
      "outputs": [
        {
          "output_type": "execute_result",
          "data": {
            "text/html": [
              "<div>\n",
              "<style scoped>\n",
              "    .dataframe tbody tr th:only-of-type {\n",
              "        vertical-align: middle;\n",
              "    }\n",
              "\n",
              "    .dataframe tbody tr th {\n",
              "        vertical-align: top;\n",
              "    }\n",
              "\n",
              "    .dataframe thead th {\n",
              "        text-align: right;\n",
              "    }\n",
              "</style>\n",
              "<table border=\"1\" class=\"dataframe\">\n",
              "  <thead>\n",
              "    <tr style=\"text-align: right;\">\n",
              "      <th></th>\n",
              "      <th>tagId</th>\n",
              "      <th>tag</th>\n",
              "    </tr>\n",
              "  </thead>\n",
              "  <tbody>\n",
              "    <tr>\n",
              "      <th>0</th>\n",
              "      <td>1</td>\n",
              "      <td>007</td>\n",
              "    </tr>\n",
              "  </tbody>\n",
              "</table>\n",
              "</div>"
            ],
            "text/plain": [
              "   tagId  tag\n",
              "0      1  007"
            ]
          },
          "metadata": {
            "tags": []
          },
          "execution_count": 17
        }
      ]
    },
    {
      "cell_type": "code",
      "metadata": {
        "id": "vTtMIBmPTnFr",
        "colab_type": "code",
        "colab": {
          "base_uri": "https://localhost:8080/",
          "height": 80
        },
        "outputId": "66ee30fa-3ef4-4be3-a1ee-507d4b420c20"
      },
      "source": [
        "tags.head(1)"
      ],
      "execution_count": 19,
      "outputs": [
        {
          "output_type": "execute_result",
          "data": {
            "text/html": [
              "<div>\n",
              "<style scoped>\n",
              "    .dataframe tbody tr th:only-of-type {\n",
              "        vertical-align: middle;\n",
              "    }\n",
              "\n",
              "    .dataframe tbody tr th {\n",
              "        vertical-align: top;\n",
              "    }\n",
              "\n",
              "    .dataframe thead th {\n",
              "        text-align: right;\n",
              "    }\n",
              "</style>\n",
              "<table border=\"1\" class=\"dataframe\">\n",
              "  <thead>\n",
              "    <tr style=\"text-align: right;\">\n",
              "      <th></th>\n",
              "      <th>userId</th>\n",
              "      <th>movieId</th>\n",
              "      <th>tag</th>\n",
              "      <th>timestamp</th>\n",
              "    </tr>\n",
              "  </thead>\n",
              "  <tbody>\n",
              "    <tr>\n",
              "      <th>0</th>\n",
              "      <td>3</td>\n",
              "      <td>260</td>\n",
              "      <td>classic</td>\n",
              "      <td>1439472355</td>\n",
              "    </tr>\n",
              "  </tbody>\n",
              "</table>\n",
              "</div>"
            ],
            "text/plain": [
              "   userId  movieId      tag   timestamp\n",
              "0       3      260  classic  1439472355"
            ]
          },
          "metadata": {
            "tags": []
          },
          "execution_count": 19
        }
      ]
    },
    {
      "cell_type": "code",
      "metadata": {
        "id": "coXEFL2xTxqk",
        "colab_type": "code",
        "colab": {
          "base_uri": "https://localhost:8080/",
          "height": 80
        },
        "outputId": "75e7a1f6-a119-40d3-a293-ed4f931119a9"
      },
      "source": [
        "movies.head(1)"
      ],
      "execution_count": 21,
      "outputs": [
        {
          "output_type": "execute_result",
          "data": {
            "text/html": [
              "<div>\n",
              "<style scoped>\n",
              "    .dataframe tbody tr th:only-of-type {\n",
              "        vertical-align: middle;\n",
              "    }\n",
              "\n",
              "    .dataframe tbody tr th {\n",
              "        vertical-align: top;\n",
              "    }\n",
              "\n",
              "    .dataframe thead th {\n",
              "        text-align: right;\n",
              "    }\n",
              "</style>\n",
              "<table border=\"1\" class=\"dataframe\">\n",
              "  <thead>\n",
              "    <tr style=\"text-align: right;\">\n",
              "      <th></th>\n",
              "      <th>35</th>\n",
              "      <th>Comedy</th>\n",
              "      <th>5</th>\n",
              "      <th>35.1</th>\n",
              "    </tr>\n",
              "  </thead>\n",
              "  <tbody>\n",
              "    <tr>\n",
              "      <th>0</th>\n",
              "      <td>35</td>\n",
              "      <td>Comedy</td>\n",
              "      <td>13</td>\n",
              "      <td>35</td>\n",
              "    </tr>\n",
              "  </tbody>\n",
              "</table>\n",
              "</div>"
            ],
            "text/plain": [
              "   35  Comedy   5  35.1\n",
              "0  35  Comedy  13    35"
            ]
          },
          "metadata": {
            "tags": []
          },
          "execution_count": 21
        }
      ]
    },
    {
      "cell_type": "code",
      "metadata": {
        "id": "z-69pGr_T5Qo",
        "colab_type": "code",
        "colab": {
          "base_uri": "https://localhost:8080/",
          "height": 80
        },
        "outputId": "c339f77d-0f6e-4758-ffd0-109517d43ca8"
      },
      "source": [
        "imdb.head(1)"
      ],
      "execution_count": 23,
      "outputs": [
        {
          "output_type": "execute_result",
          "data": {
            "text/html": [
              "<div>\n",
              "<style scoped>\n",
              "    .dataframe tbody tr th:only-of-type {\n",
              "        vertical-align: middle;\n",
              "    }\n",
              "\n",
              "    .dataframe tbody tr th {\n",
              "        vertical-align: top;\n",
              "    }\n",
              "\n",
              "    .dataframe thead th {\n",
              "        text-align: right;\n",
              "    }\n",
              "</style>\n",
              "<table border=\"1\" class=\"dataframe\">\n",
              "  <thead>\n",
              "    <tr style=\"text-align: right;\">\n",
              "      <th></th>\n",
              "      <th>movieId</th>\n",
              "      <th>title_cast</th>\n",
              "      <th>director</th>\n",
              "      <th>runtime</th>\n",
              "      <th>budget</th>\n",
              "      <th>plot_keywords</th>\n",
              "    </tr>\n",
              "  </thead>\n",
              "  <tbody>\n",
              "    <tr>\n",
              "      <th>0</th>\n",
              "      <td>1</td>\n",
              "      <td>Tom Hanks|Tim Allen|Don Rickles|Jim Varney|Wal...</td>\n",
              "      <td>John Lasseter</td>\n",
              "      <td>81.0</td>\n",
              "      <td>$30,000,000</td>\n",
              "      <td>toy|rivalry|cowboy|cgi animation</td>\n",
              "    </tr>\n",
              "  </tbody>\n",
              "</table>\n",
              "</div>"
            ],
            "text/plain": [
              "   movieId  ...                     plot_keywords\n",
              "0        1  ...  toy|rivalry|cowboy|cgi animation\n",
              "\n",
              "[1 rows x 6 columns]"
            ]
          },
          "metadata": {
            "tags": []
          },
          "execution_count": 23
        }
      ]
    },
    {
      "cell_type": "markdown",
      "metadata": {
        "id": "uMdcfgYKAf-f",
        "colab_type": "text"
      },
      "source": [
        "## Research Question 1 : Which year has the highest release of movies?"
      ]
    },
    {
      "cell_type": "markdown",
      "metadata": {
        "id": "2yqtWILCAf-i",
        "colab_type": "text"
      },
      "source": [
        "## Research Question 2 : Which Movie Has The Highest Or Lowest Budget?"
      ]
    },
    {
      "cell_type": "markdown",
      "metadata": {
        "id": "BoSXQJg4Af-p",
        "colab_type": "text"
      },
      "source": [
        "## Research Question 3 : Movie with Longest And Shortest Runtime?"
      ]
    },
    {
      "cell_type": "markdown",
      "metadata": {
        "id": "7E3q_9m1Af-u",
        "colab_type": "text"
      },
      "source": [
        "## Research Question 4 : Movie with Highest And Lowest Ratings?"
      ]
    },
    {
      "cell_type": "markdown",
      "metadata": {
        "id": "Cs9tNFogAf-y",
        "colab_type": "text"
      },
      "source": [
        "## Research Question 5: Average Runtime Of Movies From Year To Year?"
      ]
    },
    {
      "cell_type": "markdown",
      "metadata": {
        "id": "HvdNdzLVAf-1",
        "colab_type": "text"
      },
      "source": [
        "## Research Question 6: Which Genre Has The Highest Release Of Movies?"
      ]
    },
    {
      "cell_type": "markdown",
      "metadata": {
        "id": "JqbGqwVBAf-8",
        "colab_type": "text"
      },
      "source": [
        "## Reasearch Question 7: Most Frequent Actor?"
      ]
    },
    {
      "cell_type": "markdown",
      "metadata": {
        "id": "PCYJa1fvAf--",
        "colab_type": "text"
      },
      "source": [
        "## Research Question 8 : Top 20 Director Who Directs Maximum Movies?"
      ]
    },
    {
      "cell_type": "markdown",
      "metadata": {
        "id": "-qynz5iBAf_B",
        "colab_type": "text"
      },
      "source": [
        "## Research Question 9 : Most Popular Keyword?"
      ]
    },
    {
      "cell_type": "markdown",
      "metadata": {
        "id": "1e9lXQ-YaC1Z",
        "colab_type": "text"
      },
      "source": [
        "#Modelling"
      ]
    },
    {
      "cell_type": "markdown",
      "metadata": {
        "id": "lAWnmTs7aKf7",
        "colab_type": "text"
      },
      "source": [
        "A reader is needed in order to input `rating_scale` parameter"
      ]
    },
    {
      "cell_type": "code",
      "metadata": {
        "id": "pZc3Z3okaEPb",
        "colab_type": "code",
        "colab": {}
      },
      "source": [
        "reader = Reader(rating_scale=(1, 5))"
      ],
      "execution_count": null,
      "outputs": []
    },
    {
      "cell_type": "markdown",
      "metadata": {
        "id": "x78UyrP8aT9M",
        "colab_type": "text"
      },
      "source": [
        " - Load data into format that Surprise understands using Dataset class from surprise\n",
        " - The columns must correspond to user id, item id and ratings (in that order)."
      ]
    },
    {
      "cell_type": "code",
      "metadata": {
        "id": "14BhUr8MaYt4",
        "colab_type": "code",
        "colab": {}
      },
      "source": [
        "data = Dataset.load_from_df(ratings_df[['userId', 'movieId', 'rating']], reader)"
      ],
      "execution_count": null,
      "outputs": []
    },
    {
      "cell_type": "markdown",
      "metadata": {
        "id": "chKy6J51adwE",
        "colab_type": "text"
      },
      "source": [
        "We can now use this dataset as we please, e.g. calling cross_validate"
      ]
    },
    {
      "cell_type": "code",
      "metadata": {
        "id": "WoIwEuXIa52G",
        "colab_type": "code",
        "colab": {}
      },
      "source": [
        "# We are using the full train dataset to train the model here - should use test and train split in order to evaluate\n",
        "trainset = data.build_full_trainset()"
      ],
      "execution_count": null,
      "outputs": []
    },
    {
      "cell_type": "markdown",
      "metadata": {
        "id": "3Qbs5AWOa7Ww",
        "colab_type": "text"
      },
      "source": [
        "## SVD model"
      ]
    },
    {
      "cell_type": "code",
      "metadata": {
        "id": "sfGeWr4yafIq",
        "colab_type": "code",
        "colab": {}
      },
      "source": [
        "# Build an algorithm, and train it.\n",
        "algo = SVD()\n",
        "algo.fit(trainset)"
      ],
      "execution_count": null,
      "outputs": []
    },
    {
      "cell_type": "code",
      "execution_count": null,
      "metadata": {},
      "outputs": [],
      "source": [
        "# Pickle model\n",
        "\n",
        "model_save_path = \"SVD_full_dataset.pkl\"\n",
        "with open(model_save_path,'wb') as file:\n",
        "    pickle.dump(algo,file)"
      ]
    },
    {
      "cell_type": "markdown",
      "metadata": {
        "id": "Qx8spSlAbHvj",
        "colab_type": "text"
      },
      "source": [
        "# Recommender predictions"
      ]
    },
    {
      "cell_type": "markdown",
      "metadata": {
        "id": "6vS8cw_HbVH8",
        "colab_type": "text"
      },
      "source": [
        "Example on how to predict using the SVD algorithm"
      ]
    },
    {
      "cell_type": "code",
      "metadata": {
        "id": "JV1IsBdQbLIk",
        "colab_type": "code",
        "colab": {}
      },
      "source": [
        "# raw user id (as in the ratings file). They are **strings**!\n",
        "uid = str(1)\n",
        "# raw item id (as in the ratings file). They are **strings**!\n",
        "iid = str(2011)"
      ],
      "execution_count": null,
      "outputs": []
    },
    {
      "cell_type": "markdown",
      "metadata": {
        "id": "-L_dZxmZbqMa",
        "colab_type": "text"
      },
      "source": [
        "Get a prediction for specific users and items."
      ]
    },
    {
      "cell_type": "code",
      "metadata": {
        "id": "nu3P8kaVbt0v",
        "colab_type": "code",
        "colab": {}
      },
      "source": [
        "pred = algo.predict(uid, iid, r_ui=4, verbose=True)"
      ],
      "execution_count": null,
      "outputs": []
    },
    {
      "cell_type": "markdown",
      "metadata": {
        "id": "ORPpFLexb8SD",
        "colab_type": "text"
      },
      "source": [
        "Get a prediction for the test data"
      ]
    },
    {
      "cell_type": "code",
      "metadata": {
        "id": "6EwfDnU-cA9z",
        "colab_type": "code",
        "colab": {}
      },
      "source": [
        "# Predict on our test data\n",
        "predcol = []\n",
        "for _, row in test_df.iterrows():\n",
        "    x = (algo.predict(row.userId, row.movieId))\n",
        "    pred = x[3]\n",
        "    predcol.append(pred)"
      ],
      "execution_count": null,
      "outputs": []
    },
    {
      "cell_type": "code",
      "metadata": {
        "id": "xNbesfAmcKzD",
        "colab_type": "code",
        "colab": {}
      },
      "source": [
        "# check if the prediction length is the same as input length\n",
        "len(predcol) == len(test_df)"
      ],
      "execution_count": null,
      "outputs": []
    },
    {
      "cell_type": "code",
      "metadata": {
        "id": "0LpF6liqcP5J",
        "colab_type": "code",
        "colab": {}
      },
      "source": [
        "# Convert columns to string in order to prep for concatenating\n",
        "test_df['userId'] = test_df['userId'].astype(str)\n",
        "test_df['movieId'] = test_df['movieId'].astype(str)"
      ],
      "execution_count": null,
      "outputs": []
    },
    {
      "cell_type": "code",
      "metadata": {
        "id": "2d1EB6vMcYQv",
        "colab_type": "code",
        "colab": {}
      },
      "source": [
        "# Create submission column ID\n",
        "test_df['Id'] =test_df['userId']+'_'+test_df['movieId']"
      ],
      "execution_count": null,
      "outputs": []
    },
    {
      "cell_type": "code",
      "metadata": {
        "id": "PeQdUSV4cbrO",
        "colab_type": "code",
        "colab": {}
      },
      "source": [
        "kaggle_df = pd.DataFrame(\n",
        "    {'Id': test_df['Id'],\n",
        "     'rating': predcol\n",
        "    })"
      ],
      "execution_count": null,
      "outputs": []
    },
    {
      "cell_type": "code",
      "metadata": {
        "id": "Xkc4Y6TSccEd",
        "colab_type": "code",
        "colab": {}
      },
      "source": [
        "kaggle_df.shape"
      ],
      "execution_count": null,
      "outputs": []
    },
    {
      "cell_type": "code",
      "metadata": {
        "id": "IrqCZzcKckn5",
        "colab_type": "code",
        "colab": {}
      },
      "source": [
        "kaggle_df.head()"
      ],
      "execution_count": null,
      "outputs": []
    },
    {
      "cell_type": "code",
      "metadata": {
        "id": "z6Uh5V7Acn-p",
        "colab_type": "code",
        "colab": {}
      },
      "source": [
        "# Export to csv\n",
        "kaggle_df.to_csv(\"recommend_2.csv\",index=False)"
      ],
      "execution_count": null,
      "outputs": []
    },
    {
      "cell_type": "code",
      "metadata": {
        "id": "f_IDTGqC13P3",
        "colab_type": "code",
        "colab": {}
      },
      "source": [
        "# Comet logging\n",
        "\n",
        "params = {\"random_state\": 'none',\n",
        "          \"model_type\": \"SVD\",\n",
        "          \"scaler\": \"none\",\n",
        "          \"param_grid\": str(param_grid)\n",
        "          }\n",
        "metrics = {\"RMSE\": 'none',\n",
        "           \"top n\": 'none',\n",
        "           \"MAE\": 'none'\n",
        "           }\n",
        "\n",
        "# Log parameters and results\n",
        "experiment.log_parameters(params)\n",
        "experiment.log_metrics(metrics)\n",
        "\n",
        "# End Experiment# Create dictionaries for comet\n",
        "\n",
        "params = {\"random_state\": 'none',\n",
        "          \"model_type\": \"SVD\",\n",
        "          \"scaler\": \"none\",\n",
        "          \"param_grid\": str(param_grid)\n",
        "          }\n",
        "metrics = {\"RMSE\": 'none',\n",
        "           \"top n\": 'none',\n",
        "           \"MAE\": 'none'\n",
        "           }\n",
        "\n",
        "# Log parameters and results\n",
        "experiment.log_parameters(params)\n",
        "experiment.log_metrics(metrics)\n",
        "\n",
        "# End Experiment"
      ],
      "execution_count": null,
      "outputs": []
    }
  ],
  "metadata": {
    "colab": {
      "name": "main.ipynb",
      "provenance": [],
      "toc_visible": true,
      "include_colab_link": true
    },
    "kernelspec": {
      "name": "python3",
      "display_name": "Python 3"
    },
    "accelerator": "GPU"
  },
  "nbformat": 4,
  "nbformat_minor": 0
}